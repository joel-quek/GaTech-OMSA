{
 "cells": [
  {
   "cell_type": "markdown",
   "id": "a0973952",
   "metadata": {},
   "source": [
    "# ISYE6501x Homework 6\n",
    "Done By: Joel Quek"
   ]
  },
  {
   "cell_type": "markdown",
   "id": "d5728db9",
   "metadata": {},
   "source": [
    "---"
   ]
  },
  {
   "cell_type": "markdown",
   "id": "e206d1e9",
   "metadata": {},
   "source": [
    "## Question 9.1\n",
    "\n",
    "Using the same crime data set uscrime.txt as in Question 8.2, apply Principal Component Analysis and then create a regression model using the first few principal components.  Specify your new model in terms of the original variables (not the principal components), and compare its quality to that of your solution to Question 8.2.  You can use the R function **prcomp** for PCA. (Note that to first scale the data, you can include scale. = TRUE to scale as part of the PCA function. Don’t forget that, to make a prediction for the new city, you’ll need to unscale the coefficients (i.e., do the scaling calculation in reverse)!)\n"
   ]
  },
  {
   "cell_type": "markdown",
   "id": "543d015e",
   "metadata": {},
   "source": [
    "---"
   ]
  },
  {
   "cell_type": "markdown",
   "id": "26d0085d",
   "metadata": {},
   "source": [
    "### Import Dataset and Libraries"
   ]
  },
  {
   "cell_type": "code",
   "execution_count": 13,
   "id": "1b167fab",
   "metadata": {
    "collapsed": true
   },
   "outputs": [
    {
     "name": "stderr",
     "output_type": "stream",
     "text": [
      "Installing package into 'C:/Users/redoc/AppData/Local/R/win-library/4.2'\n",
      "(as 'lib' is unspecified)\n",
      "\n"
     ]
    },
    {
     "name": "stdout",
     "output_type": "stream",
     "text": [
      "package 'pls' successfully unpacked and MD5 sums checked\n",
      "\n",
      "The downloaded binary packages are in\n",
      "\tC:\\Users\\redoc\\AppData\\Local\\Temp\\RtmpMv7nPz\\downloaded_packages\n"
     ]
    }
   ],
   "source": [
    "install.packages(\"pls\")"
   ]
  },
  {
   "cell_type": "code",
   "execution_count": 49,
   "id": "87a3b70f",
   "metadata": {
    "collapsed": true
   },
   "outputs": [
    {
     "name": "stderr",
     "output_type": "stream",
     "text": [
      "Installing package into 'C:/Users/redoc/AppData/Local/R/win-library/4.2'\n",
      "(as 'lib' is unspecified)\n",
      "\n",
      "also installing the dependencies 'TSP', 'qap', 'gclus', 'ca', 'registry', 'seriation'\n",
      "\n",
      "\n"
     ]
    },
    {
     "name": "stdout",
     "output_type": "stream",
     "text": [
      "package 'TSP' successfully unpacked and MD5 sums checked\n",
      "package 'qap' successfully unpacked and MD5 sums checked\n",
      "package 'gclus' successfully unpacked and MD5 sums checked\n",
      "package 'ca' successfully unpacked and MD5 sums checked\n",
      "package 'registry' successfully unpacked and MD5 sums checked\n",
      "package 'seriation' successfully unpacked and MD5 sums checked\n",
      "package 'corrr' successfully unpacked and MD5 sums checked\n",
      "\n",
      "The downloaded binary packages are in\n",
      "\tC:\\Users\\redoc\\AppData\\Local\\Temp\\RtmpMv7nPz\\downloaded_packages\n"
     ]
    }
   ],
   "source": [
    "install.packages(\"corrr\")"
   ]
  },
  {
   "cell_type": "code",
   "execution_count": 50,
   "id": "537e40e4",
   "metadata": {
    "collapsed": true
   },
   "outputs": [
    {
     "name": "stderr",
     "output_type": "stream",
     "text": [
      "Installing package into 'C:/Users/redoc/AppData/Local/R/win-library/4.2'\n",
      "(as 'lib' is unspecified)\n",
      "\n"
     ]
    },
    {
     "name": "stdout",
     "output_type": "stream",
     "text": [
      "package 'ggcorrplot' successfully unpacked and MD5 sums checked\n",
      "\n",
      "The downloaded binary packages are in\n",
      "\tC:\\Users\\redoc\\AppData\\Local\\Temp\\RtmpMv7nPz\\downloaded_packages\n"
     ]
    }
   ],
   "source": [
    "install.packages(\"ggcorrplot\")"
   ]
  },
  {
   "cell_type": "code",
   "execution_count": 57,
   "id": "cdaf4a2b",
   "metadata": {
    "collapsed": true
   },
   "outputs": [
    {
     "name": "stderr",
     "output_type": "stream",
     "text": [
      "Installing package into 'C:/Users/redoc/AppData/Local/R/win-library/4.2'\n",
      "(as 'lib' is unspecified)\n",
      "\n"
     ]
    },
    {
     "name": "stdout",
     "output_type": "stream",
     "text": [
      "package 'devtools' successfully unpacked and MD5 sums checked\n",
      "\n",
      "The downloaded binary packages are in\n",
      "\tC:\\Users\\redoc\\AppData\\Local\\Temp\\RtmpMv7nPz\\downloaded_packages\n"
     ]
    }
   ],
   "source": [
    "install.packages(\"devtools\")"
   ]
  },
  {
   "cell_type": "markdown",
   "id": "b1f6643a",
   "metadata": {},
   "source": [
    "---"
   ]
  },
  {
   "cell_type": "code",
   "execution_count": 1,
   "id": "acf1bf05",
   "metadata": {
    "collapsed": true
   },
   "outputs": [
    {
     "name": "stderr",
     "output_type": "stream",
     "text": [
      "\n",
      "Attaching package: 'pls'\n",
      "\n",
      "\n",
      "The following object is masked from 'package:stats':\n",
      "\n",
      "    loadings\n",
      "\n",
      "\n"
     ]
    }
   ],
   "source": [
    "library(ggplot2)\n",
    "library(pls)\n",
    "library(corrr)\n",
    "library(ggcorrplot)"
   ]
  },
  {
   "cell_type": "code",
   "execution_count": 2,
   "id": "ac23270c",
   "metadata": {},
   "outputs": [],
   "source": [
    "crime <- read.table(\"uscrime.txt\", header=TRUE)"
   ]
  },
  {
   "cell_type": "code",
   "execution_count": 3,
   "id": "4039d176",
   "metadata": {
    "scrolled": true
   },
   "outputs": [
    {
     "data": {
      "text/html": [
       "<table class=\"dataframe\">\n",
       "<caption>A data.frame: 6 × 16</caption>\n",
       "<thead>\n",
       "\t<tr><th></th><th scope=col>M</th><th scope=col>So</th><th scope=col>Ed</th><th scope=col>Po1</th><th scope=col>Po2</th><th scope=col>LF</th><th scope=col>M.F</th><th scope=col>Pop</th><th scope=col>NW</th><th scope=col>U1</th><th scope=col>U2</th><th scope=col>Wealth</th><th scope=col>Ineq</th><th scope=col>Prob</th><th scope=col>Time</th><th scope=col>Crime</th></tr>\n",
       "\t<tr><th></th><th scope=col>&lt;dbl&gt;</th><th scope=col>&lt;int&gt;</th><th scope=col>&lt;dbl&gt;</th><th scope=col>&lt;dbl&gt;</th><th scope=col>&lt;dbl&gt;</th><th scope=col>&lt;dbl&gt;</th><th scope=col>&lt;dbl&gt;</th><th scope=col>&lt;int&gt;</th><th scope=col>&lt;dbl&gt;</th><th scope=col>&lt;dbl&gt;</th><th scope=col>&lt;dbl&gt;</th><th scope=col>&lt;int&gt;</th><th scope=col>&lt;dbl&gt;</th><th scope=col>&lt;dbl&gt;</th><th scope=col>&lt;dbl&gt;</th><th scope=col>&lt;int&gt;</th></tr>\n",
       "</thead>\n",
       "<tbody>\n",
       "\t<tr><th scope=row>1</th><td>15.1</td><td>1</td><td> 9.1</td><td> 5.8</td><td> 5.6</td><td>0.510</td><td> 95.0</td><td> 33</td><td>30.1</td><td>0.108</td><td>4.1</td><td>3940</td><td>26.1</td><td>0.084602</td><td>26.2011</td><td> 791</td></tr>\n",
       "\t<tr><th scope=row>2</th><td>14.3</td><td>0</td><td>11.3</td><td>10.3</td><td> 9.5</td><td>0.583</td><td>101.2</td><td> 13</td><td>10.2</td><td>0.096</td><td>3.6</td><td>5570</td><td>19.4</td><td>0.029599</td><td>25.2999</td><td>1635</td></tr>\n",
       "\t<tr><th scope=row>3</th><td>14.2</td><td>1</td><td> 8.9</td><td> 4.5</td><td> 4.4</td><td>0.533</td><td> 96.9</td><td> 18</td><td>21.9</td><td>0.094</td><td>3.3</td><td>3180</td><td>25.0</td><td>0.083401</td><td>24.3006</td><td> 578</td></tr>\n",
       "\t<tr><th scope=row>4</th><td>13.6</td><td>0</td><td>12.1</td><td>14.9</td><td>14.1</td><td>0.577</td><td> 99.4</td><td>157</td><td> 8.0</td><td>0.102</td><td>3.9</td><td>6730</td><td>16.7</td><td>0.015801</td><td>29.9012</td><td>1969</td></tr>\n",
       "\t<tr><th scope=row>5</th><td>14.1</td><td>0</td><td>12.1</td><td>10.9</td><td>10.1</td><td>0.591</td><td> 98.5</td><td> 18</td><td> 3.0</td><td>0.091</td><td>2.0</td><td>5780</td><td>17.4</td><td>0.041399</td><td>21.2998</td><td>1234</td></tr>\n",
       "\t<tr><th scope=row>6</th><td>12.1</td><td>0</td><td>11.0</td><td>11.8</td><td>11.5</td><td>0.547</td><td> 96.4</td><td> 25</td><td> 4.4</td><td>0.084</td><td>2.9</td><td>6890</td><td>12.6</td><td>0.034201</td><td>20.9995</td><td> 682</td></tr>\n",
       "</tbody>\n",
       "</table>\n"
      ],
      "text/latex": [
       "A data.frame: 6 × 16\n",
       "\\begin{tabular}{r|llllllllllllllll}\n",
       "  & M & So & Ed & Po1 & Po2 & LF & M.F & Pop & NW & U1 & U2 & Wealth & Ineq & Prob & Time & Crime\\\\\n",
       "  & <dbl> & <int> & <dbl> & <dbl> & <dbl> & <dbl> & <dbl> & <int> & <dbl> & <dbl> & <dbl> & <int> & <dbl> & <dbl> & <dbl> & <int>\\\\\n",
       "\\hline\n",
       "\t1 & 15.1 & 1 &  9.1 &  5.8 &  5.6 & 0.510 &  95.0 &  33 & 30.1 & 0.108 & 4.1 & 3940 & 26.1 & 0.084602 & 26.2011 &  791\\\\\n",
       "\t2 & 14.3 & 0 & 11.3 & 10.3 &  9.5 & 0.583 & 101.2 &  13 & 10.2 & 0.096 & 3.6 & 5570 & 19.4 & 0.029599 & 25.2999 & 1635\\\\\n",
       "\t3 & 14.2 & 1 &  8.9 &  4.5 &  4.4 & 0.533 &  96.9 &  18 & 21.9 & 0.094 & 3.3 & 3180 & 25.0 & 0.083401 & 24.3006 &  578\\\\\n",
       "\t4 & 13.6 & 0 & 12.1 & 14.9 & 14.1 & 0.577 &  99.4 & 157 &  8.0 & 0.102 & 3.9 & 6730 & 16.7 & 0.015801 & 29.9012 & 1969\\\\\n",
       "\t5 & 14.1 & 0 & 12.1 & 10.9 & 10.1 & 0.591 &  98.5 &  18 &  3.0 & 0.091 & 2.0 & 5780 & 17.4 & 0.041399 & 21.2998 & 1234\\\\\n",
       "\t6 & 12.1 & 0 & 11.0 & 11.8 & 11.5 & 0.547 &  96.4 &  25 &  4.4 & 0.084 & 2.9 & 6890 & 12.6 & 0.034201 & 20.9995 &  682\\\\\n",
       "\\end{tabular}\n"
      ],
      "text/markdown": [
       "\n",
       "A data.frame: 6 × 16\n",
       "\n",
       "| <!--/--> | M &lt;dbl&gt; | So &lt;int&gt; | Ed &lt;dbl&gt; | Po1 &lt;dbl&gt; | Po2 &lt;dbl&gt; | LF &lt;dbl&gt; | M.F &lt;dbl&gt; | Pop &lt;int&gt; | NW &lt;dbl&gt; | U1 &lt;dbl&gt; | U2 &lt;dbl&gt; | Wealth &lt;int&gt; | Ineq &lt;dbl&gt; | Prob &lt;dbl&gt; | Time &lt;dbl&gt; | Crime &lt;int&gt; |\n",
       "|---|---|---|---|---|---|---|---|---|---|---|---|---|---|---|---|---|\n",
       "| 1 | 15.1 | 1 |  9.1 |  5.8 |  5.6 | 0.510 |  95.0 |  33 | 30.1 | 0.108 | 4.1 | 3940 | 26.1 | 0.084602 | 26.2011 |  791 |\n",
       "| 2 | 14.3 | 0 | 11.3 | 10.3 |  9.5 | 0.583 | 101.2 |  13 | 10.2 | 0.096 | 3.6 | 5570 | 19.4 | 0.029599 | 25.2999 | 1635 |\n",
       "| 3 | 14.2 | 1 |  8.9 |  4.5 |  4.4 | 0.533 |  96.9 |  18 | 21.9 | 0.094 | 3.3 | 3180 | 25.0 | 0.083401 | 24.3006 |  578 |\n",
       "| 4 | 13.6 | 0 | 12.1 | 14.9 | 14.1 | 0.577 |  99.4 | 157 |  8.0 | 0.102 | 3.9 | 6730 | 16.7 | 0.015801 | 29.9012 | 1969 |\n",
       "| 5 | 14.1 | 0 | 12.1 | 10.9 | 10.1 | 0.591 |  98.5 |  18 |  3.0 | 0.091 | 2.0 | 5780 | 17.4 | 0.041399 | 21.2998 | 1234 |\n",
       "| 6 | 12.1 | 0 | 11.0 | 11.8 | 11.5 | 0.547 |  96.4 |  25 |  4.4 | 0.084 | 2.9 | 6890 | 12.6 | 0.034201 | 20.9995 |  682 |\n",
       "\n"
      ],
      "text/plain": [
       "  M    So Ed   Po1  Po2  LF    M.F   Pop NW   U1    U2  Wealth Ineq Prob    \n",
       "1 15.1 1   9.1  5.8  5.6 0.510  95.0  33 30.1 0.108 4.1 3940   26.1 0.084602\n",
       "2 14.3 0  11.3 10.3  9.5 0.583 101.2  13 10.2 0.096 3.6 5570   19.4 0.029599\n",
       "3 14.2 1   8.9  4.5  4.4 0.533  96.9  18 21.9 0.094 3.3 3180   25.0 0.083401\n",
       "4 13.6 0  12.1 14.9 14.1 0.577  99.4 157  8.0 0.102 3.9 6730   16.7 0.015801\n",
       "5 14.1 0  12.1 10.9 10.1 0.591  98.5  18  3.0 0.091 2.0 5780   17.4 0.041399\n",
       "6 12.1 0  11.0 11.8 11.5 0.547  96.4  25  4.4 0.084 2.9 6890   12.6 0.034201\n",
       "  Time    Crime\n",
       "1 26.2011  791 \n",
       "2 25.2999 1635 \n",
       "3 24.3006  578 \n",
       "4 29.9012 1969 \n",
       "5 21.2998 1234 \n",
       "6 20.9995  682 "
      ]
     },
     "metadata": {},
     "output_type": "display_data"
    }
   ],
   "source": [
    "head(crime)"
   ]
  },
  {
   "cell_type": "markdown",
   "id": "7eef895f",
   "metadata": {},
   "source": [
    "---"
   ]
  },
  {
   "cell_type": "markdown",
   "id": "caf466b9",
   "metadata": {},
   "source": [
    "### Principal Component Analysis (PCA)"
   ]
  },
  {
   "cell_type": "markdown",
   "id": "9876de6e",
   "metadata": {},
   "source": [
    "Source 1 (Stat Quest): https://www.youtube.com/watch?v=0Jp4gsfOLMs </br>\n",
    "Source 2 (Categorical Output): https://www.youtube.com/watch?v=xKl4LJAXnEA </br>\n",
    "Source 3 (Principal Component Regression): https://www.youtube.com/watch?v=H45NWCzIDkY </br>\n",
    "I learnt how to perform PCA with R from these videos."
   ]
  },
  {
   "cell_type": "markdown",
   "id": "44d2ebc5",
   "metadata": {},
   "source": [
    "Other Good Sources for Learning\n",
    "\n",
    "https://stats.stackexchange.com/questions/144508/conclusions-from-output-of-a-principal-component-analysis\n",
    "\n",
    "http://www.sthda.com/english/articles/31-principal-component-methods-in-r-practical-guide/118-principal-component-analysis-in-r-prcomp-vs-princomp/"
   ]
  },
  {
   "cell_type": "code",
   "execution_count": 4,
   "id": "b830a1de",
   "metadata": {},
   "outputs": [],
   "source": [
    "# Run PCA on all columns except \"Crime\"\n",
    "pca<-prcomp(crime[,-16],scale=TRUE) "
   ]
  },
  {
   "cell_type": "code",
   "execution_count": 5,
   "id": "a797106b",
   "metadata": {},
   "outputs": [
    {
     "data": {
      "text/plain": [
       "Importance of components:\n",
       "                          PC1    PC2    PC3     PC4     PC5     PC6     PC7\n",
       "Standard deviation     2.4534 1.6739 1.4160 1.07806 0.97893 0.74377 0.56729\n",
       "Proportion of Variance 0.4013 0.1868 0.1337 0.07748 0.06389 0.03688 0.02145\n",
       "Cumulative Proportion  0.4013 0.5880 0.7217 0.79920 0.86308 0.89996 0.92142\n",
       "                           PC8     PC9    PC10    PC11    PC12    PC13   PC14\n",
       "Standard deviation     0.55444 0.48493 0.44708 0.41915 0.35804 0.26333 0.2418\n",
       "Proportion of Variance 0.02049 0.01568 0.01333 0.01171 0.00855 0.00462 0.0039\n",
       "Cumulative Proportion  0.94191 0.95759 0.97091 0.98263 0.99117 0.99579 0.9997\n",
       "                          PC15\n",
       "Standard deviation     0.06793\n",
       "Proportion of Variance 0.00031\n",
       "Cumulative Proportion  1.00000"
      ]
     },
     "metadata": {},
     "output_type": "display_data"
    }
   ],
   "source": [
    "summary(pca)"
   ]
  },
  {
   "cell_type": "markdown",
   "id": "10db13ee",
   "metadata": {},
   "source": [
    "**Note**: From the summary we can see that the **proportion of variance** for PC1, 2 and 3 are very high compared to the rest of the PCs."
   ]
  },
  {
   "cell_type": "code",
   "execution_count": 6,
   "id": "5aa58ea2",
   "metadata": {
    "scrolled": false
   },
   "outputs": [
    {
     "data": {
      "text/plain": [
       "Standard deviations (1, .., p=15):\n",
       " [1] 2.45335539 1.67387187 1.41596057 1.07805742 0.97892746 0.74377006\n",
       " [7] 0.56729065 0.55443780 0.48492813 0.44708045 0.41914843 0.35803646\n",
       "[13] 0.26332811 0.24180109 0.06792764\n",
       "\n",
       "Rotation (n x k) = (15 x 15):\n",
       "               PC1         PC2           PC3         PC4         PC5\n",
       "M      -0.30371194  0.06280357  0.1724199946 -0.02035537 -0.35832737\n",
       "So     -0.33088129 -0.15837219  0.0155433104  0.29247181 -0.12061130\n",
       "Ed      0.33962148  0.21461152  0.0677396249  0.07974375 -0.02442839\n",
       "Po1     0.30863412 -0.26981761  0.0506458161  0.33325059 -0.23527680\n",
       "Po2     0.31099285 -0.26396300  0.0530651173  0.35192809 -0.20473383\n",
       "LF      0.17617757  0.31943042  0.2715301768 -0.14326529 -0.39407588\n",
       "M.F     0.11638221  0.39434428 -0.2031621598  0.01048029 -0.57877443\n",
       "Pop     0.11307836 -0.46723456  0.0770210971 -0.03210513 -0.08317034\n",
       "NW     -0.29358647 -0.22801119  0.0788156621  0.23925971 -0.36079387\n",
       "U1      0.04050137  0.00807439 -0.6590290980 -0.18279096 -0.13136873\n",
       "U2      0.01812228 -0.27971336 -0.5785006293 -0.06889312 -0.13499487\n",
       "Wealth  0.37970331 -0.07718862  0.0100647664  0.11781752  0.01167683\n",
       "Ineq   -0.36579778 -0.02752240 -0.0002944563 -0.08066612 -0.21672823\n",
       "Prob   -0.25888661  0.15831708 -0.1176726436  0.49303389  0.16562829\n",
       "Time   -0.02062867 -0.38014836  0.2235664632 -0.54059002 -0.14764767\n",
       "                PC6         PC7         PC8         PC9        PC10        PC11\n",
       "M      -0.449132706 -0.15707378 -0.55367691  0.15474793 -0.01443093  0.39446657\n",
       "So     -0.100500743  0.19649727  0.22734157 -0.65599872  0.06141452  0.23397868\n",
       "Ed     -0.008571367 -0.23943629 -0.14644678 -0.44326978  0.51887452 -0.11821954\n",
       "Po1    -0.095776709  0.08011735  0.04613156  0.19425472 -0.14320978 -0.13042001\n",
       "Po2    -0.119524780  0.09518288  0.03168720  0.19512072 -0.05929780 -0.13885912\n",
       "LF      0.504234275 -0.15931612  0.25513777  0.14393498  0.03077073  0.38532827\n",
       "M.F    -0.074501901  0.15548197 -0.05507254 -0.24378252 -0.35323357 -0.28029732\n",
       "Pop     0.547098563  0.09046187 -0.59078221 -0.20244830 -0.03970718  0.05849643\n",
       "NW      0.051219538 -0.31154195  0.20432828  0.18984178  0.49201966 -0.20695666\n",
       "U1      0.017385981 -0.17354115 -0.20206312  0.02069349  0.22765278 -0.17857891\n",
       "U2      0.048155286 -0.07526787  0.24369650  0.05576010 -0.04750100  0.47021842\n",
       "Wealth -0.154683104 -0.14859424  0.08630649 -0.23196695 -0.11219383  0.31955631\n",
       "Ineq    0.272027031  0.37483032  0.07184018 -0.02494384 -0.01390576 -0.18278697\n",
       "Prob    0.283535996 -0.56159383 -0.08598908 -0.05306898 -0.42530006 -0.08978385\n",
       "Time   -0.148203050 -0.44199877  0.19507812 -0.23551363 -0.29264326 -0.26363121\n",
       "              PC12        PC13        PC14          PC15\n",
       "M       0.16580189 -0.05142365  0.04901705  0.0051398012\n",
       "So     -0.05753357 -0.29368483 -0.29364512  0.0084369230\n",
       "Ed      0.47786536  0.19441949  0.03964277 -0.0280052040\n",
       "Po1     0.22611207 -0.18592255 -0.09490151 -0.6894155129\n",
       "Po2     0.19088461 -0.13454940 -0.08259642  0.7200270100\n",
       "LF      0.02705134 -0.27742957 -0.15385625  0.0336823193\n",
       "M.F    -0.23925913  0.31624667 -0.04125321  0.0097922075\n",
       "Pop    -0.18350385  0.12651689 -0.05326383  0.0001496323\n",
       "NW     -0.36671707  0.22901695  0.13227774 -0.0370783671\n",
       "U1     -0.09314897 -0.59039450 -0.02335942  0.0111359325\n",
       "U2      0.28440496  0.43292853 -0.03985736  0.0073618948\n",
       "Wealth -0.32172821 -0.14077972  0.70031840 -0.0025685109\n",
       "Ineq    0.43762828 -0.12181090  0.59279037  0.0177570357\n",
       "Prob    0.15567100 -0.03547596  0.04761011  0.0293376260\n",
       "Time    0.13536989 -0.05738113 -0.04488401  0.0376754405"
      ]
     },
     "metadata": {},
     "output_type": "display_data"
    }
   ],
   "source": [
    "pca"
   ]
  },
  {
   "cell_type": "markdown",
   "id": "1018011c",
   "metadata": {},
   "source": [
    "**Question**: What do each line of each PC mean? I think they are the Eigenvalues"
   ]
  },
  {
   "cell_type": "markdown",
   "id": "c5b978f2",
   "metadata": {},
   "source": [
    "---"
   ]
  },
  {
   "cell_type": "markdown",
   "id": "4bcf221d",
   "metadata": {},
   "source": [
    "### Outputs of prcomp()\n",
    "\n",
    "prcomp() returns 3 outputs\n",
    "- sdev\n",
    "- x\n",
    "- rotation (or 'loadings')"
   ]
  },
  {
   "cell_type": "markdown",
   "id": "86ec3aef",
   "metadata": {},
   "source": [
    "#### Output: sdev"
   ]
  },
  {
   "cell_type": "code",
   "execution_count": 19,
   "id": "bccb70e5",
   "metadata": {},
   "outputs": [],
   "source": [
    "pca.var<-pca$sdev^2"
   ]
  },
  {
   "cell_type": "code",
   "execution_count": 20,
   "id": "d1f01670",
   "metadata": {},
   "outputs": [
    {
     "data": {
      "text/html": [
       "<style>\n",
       ".list-inline {list-style: none; margin:0; padding: 0}\n",
       ".list-inline>li {display: inline-block}\n",
       ".list-inline>li:not(:last-child)::after {content: \"\\00b7\"; padding: 0 .5ex}\n",
       "</style>\n",
       "<ol class=list-inline><li>6.01895265650583</li><li>2.801847026483</li><li>2.0049443337507</li><li>1.16220780064104</li><li>0.958298971721856</li><li>0.553193899686551</li><li>0.321818687025562</li><li>0.307401270140503</li><li>0.235155292075271</li><li>0.19988093081482</li><li>0.175685402581489</li><li>0.128190107426395</li><li>0.0693416913365942</li><li>0.058467765048427</li><li>0.00461416476196681</li></ol>\n"
      ],
      "text/latex": [
       "\\begin{enumerate*}\n",
       "\\item 6.01895265650583\n",
       "\\item 2.801847026483\n",
       "\\item 2.0049443337507\n",
       "\\item 1.16220780064104\n",
       "\\item 0.958298971721856\n",
       "\\item 0.553193899686551\n",
       "\\item 0.321818687025562\n",
       "\\item 0.307401270140503\n",
       "\\item 0.235155292075271\n",
       "\\item 0.19988093081482\n",
       "\\item 0.175685402581489\n",
       "\\item 0.128190107426395\n",
       "\\item 0.0693416913365942\n",
       "\\item 0.058467765048427\n",
       "\\item 0.00461416476196681\n",
       "\\end{enumerate*}\n"
      ],
      "text/markdown": [
       "1. 6.01895265650583\n",
       "2. 2.801847026483\n",
       "3. 2.0049443337507\n",
       "4. 1.16220780064104\n",
       "5. 0.958298971721856\n",
       "6. 0.553193899686551\n",
       "7. 0.321818687025562\n",
       "8. 0.307401270140503\n",
       "9. 0.235155292075271\n",
       "10. 0.19988093081482\n",
       "11. 0.175685402581489\n",
       "12. 0.128190107426395\n",
       "13. 0.0693416913365942\n",
       "14. 0.058467765048427\n",
       "15. 0.00461416476196681\n",
       "\n",
       "\n"
      ],
      "text/plain": [
       " [1] 6.018952657 2.801847026 2.004944334 1.162207801 0.958298972 0.553193900\n",
       " [7] 0.321818687 0.307401270 0.235155292 0.199880931 0.175685403 0.128190107\n",
       "[13] 0.069341691 0.058467765 0.004614165"
      ]
     },
     "metadata": {},
     "output_type": "display_data"
    }
   ],
   "source": [
    "pca.var"
   ]
  },
  {
   "cell_type": "code",
   "execution_count": 21,
   "id": "102258a1",
   "metadata": {},
   "outputs": [],
   "source": [
    "# changing the pca variance values to percentages\n",
    "pca.var.per<-round(pca.var/sum(pca.var)*100,1)"
   ]
  },
  {
   "cell_type": "code",
   "execution_count": 22,
   "id": "c64d10be",
   "metadata": {},
   "outputs": [
    {
     "data": {
      "text/html": [
       "<style>\n",
       ".list-inline {list-style: none; margin:0; padding: 0}\n",
       ".list-inline>li {display: inline-block}\n",
       ".list-inline>li:not(:last-child)::after {content: \"\\00b7\"; padding: 0 .5ex}\n",
       "</style>\n",
       "<ol class=list-inline><li>40.1</li><li>18.7</li><li>13.4</li><li>7.7</li><li>6.4</li><li>3.7</li><li>2.1</li><li>2</li><li>1.6</li><li>1.3</li><li>1.2</li><li>0.9</li><li>0.5</li><li>0.4</li><li>0</li></ol>\n"
      ],
      "text/latex": [
       "\\begin{enumerate*}\n",
       "\\item 40.1\n",
       "\\item 18.7\n",
       "\\item 13.4\n",
       "\\item 7.7\n",
       "\\item 6.4\n",
       "\\item 3.7\n",
       "\\item 2.1\n",
       "\\item 2\n",
       "\\item 1.6\n",
       "\\item 1.3\n",
       "\\item 1.2\n",
       "\\item 0.9\n",
       "\\item 0.5\n",
       "\\item 0.4\n",
       "\\item 0\n",
       "\\end{enumerate*}\n"
      ],
      "text/markdown": [
       "1. 40.1\n",
       "2. 18.7\n",
       "3. 13.4\n",
       "4. 7.7\n",
       "5. 6.4\n",
       "6. 3.7\n",
       "7. 2.1\n",
       "8. 2\n",
       "9. 1.6\n",
       "10. 1.3\n",
       "11. 1.2\n",
       "12. 0.9\n",
       "13. 0.5\n",
       "14. 0.4\n",
       "15. 0\n",
       "\n",
       "\n"
      ],
      "text/plain": [
       " [1] 40.1 18.7 13.4  7.7  6.4  3.7  2.1  2.0  1.6  1.3  1.2  0.9  0.5  0.4  0.0"
      ]
     },
     "metadata": {},
     "output_type": "display_data"
    }
   ],
   "source": [
    "pca.var.per"
   ]
  },
  {
   "cell_type": "code",
   "execution_count": 23,
   "id": "bc3be7f0",
   "metadata": {
    "scrolled": false
   },
   "outputs": [
    {
     "data": {
      "image/png": "[encoded data removed]",
      "text/plain": [
       "Plot with title \"Scree Plot\""
      ]
     },
     "metadata": {
      "image/png": {
       "height": 420,
       "width": 420
      }
     },
     "output_type": "display_data"
    }
   ],
   "source": [
    "barplot(pca.var.per, main=\"Scree Plot\", xlab=\"Principal Component\",ylab=\"Percent Variation\")"
   ]
  },
  {
   "cell_type": "markdown",
   "id": "33e28a15",
   "metadata": {},
   "source": [
    "Changing the Scree plot in terms of multiples of variance"
   ]
  },
  {
   "cell_type": "code",
   "execution_count": 9,
   "id": "ba3713d5",
   "metadata": {},
   "outputs": [
    {
     "data": {
      "image/png": "[encoded data removed]",
      "text/plain": [
       "Plot with title \"Scree Plot\""
      ]
     },
     "metadata": {
      "image/png": {
       "height": 420,
       "width": 420
      }
     },
     "output_type": "display_data"
    }
   ],
   "source": [
    "screeplot(pca, main=\"Scree Plot\", type=\"line\")\n",
    "abline(h=1, col=\"red\")"
   ]
  },
  {
   "cell_type": "markdown",
   "id": "e3f32f09",
   "metadata": {},
   "source": [
    "We can see from the variance plot that PC 1 accounts for almost all of the variation in the data.\n",
    "\n",
    "Interpret the above scree plot the same way we interpret an elbow plot. I would choose the first 4 Principal Components of the model."
   ]
  },
  {
   "cell_type": "markdown",
   "id": "19ca6a4a",
   "metadata": {},
   "source": [
    "---"
   ]
  },
  {
   "cell_type": "markdown",
   "id": "d5bfda13",
   "metadata": {},
   "source": [
    "#### Output: X\n",
    "x contains the principal components (PCs) for drawing a graph. The first PC accounts for the most variation in the original data, the 2nd PC accounts for the second most variation and so on."
   ]
  },
  {
   "cell_type": "code",
   "execution_count": 18,
   "id": "8d67b257",
   "metadata": {},
   "outputs": [
    {
     "data": {
      "image/png": "[encoded data removed]",
      "text/plain": [
       "plot without title"
      ]
     },
     "metadata": {
      "image/png": {
       "height": 420,
       "width": 420
      }
     },
     "output_type": "display_data"
    }
   ],
   "source": [
    "plot(pca$x[,1],pca$x[,2])"
   ]
  },
  {
   "cell_type": "code",
   "execution_count": 10,
   "id": "b72d6271",
   "metadata": {
    "scrolled": true
   },
   "outputs": [],
   "source": [
    "# Combine the x values of the first 4 Principal Components with the \"Crime\" column\n",
    "pca_crime <- cbind(pca$x[,1:4],crime[,16])"
   ]
  },
  {
   "cell_type": "code",
   "execution_count": 12,
   "id": "57840754",
   "metadata": {},
   "outputs": [
    {
     "data": {
      "text/html": [
       "<table class=\"dataframe\">\n",
       "<caption>A matrix: 6 × 5 of type dbl</caption>\n",
       "<thead>\n",
       "\t<tr><th scope=col>PC1</th><th scope=col>PC2</th><th scope=col>PC3</th><th scope=col>PC4</th><th scope=col></th></tr>\n",
       "</thead>\n",
       "<tbody>\n",
       "\t<tr><td>-4.199284</td><td>-1.0938312</td><td>-1.11907395</td><td> 0.67178115</td><td> 791</td></tr>\n",
       "\t<tr><td> 1.172663</td><td> 0.6770136</td><td>-0.05244634</td><td>-0.08350709</td><td>1635</td></tr>\n",
       "\t<tr><td>-4.173725</td><td> 0.2767750</td><td>-0.37107658</td><td> 0.37793995</td><td> 578</td></tr>\n",
       "\t<tr><td> 3.834962</td><td>-2.5769060</td><td> 0.22793998</td><td> 0.38262331</td><td>1969</td></tr>\n",
       "\t<tr><td> 1.839300</td><td> 1.3309856</td><td> 1.27882805</td><td> 0.71814305</td><td>1234</td></tr>\n",
       "\t<tr><td> 2.907234</td><td>-0.3305421</td><td> 0.53288181</td><td> 1.22140635</td><td> 682</td></tr>\n",
       "</tbody>\n",
       "</table>\n"
      ],
      "text/latex": [
       "A matrix: 6 × 5 of type dbl\n",
       "\\begin{tabular}{lllll}\n",
       " PC1 & PC2 & PC3 & PC4 & \\\\\n",
       "\\hline\n",
       "\t -4.199284 & -1.0938312 & -1.11907395 &  0.67178115 &  791\\\\\n",
       "\t  1.172663 &  0.6770136 & -0.05244634 & -0.08350709 & 1635\\\\\n",
       "\t -4.173725 &  0.2767750 & -0.37107658 &  0.37793995 &  578\\\\\n",
       "\t  3.834962 & -2.5769060 &  0.22793998 &  0.38262331 & 1969\\\\\n",
       "\t  1.839300 &  1.3309856 &  1.27882805 &  0.71814305 & 1234\\\\\n",
       "\t  2.907234 & -0.3305421 &  0.53288181 &  1.22140635 &  682\\\\\n",
       "\\end{tabular}\n"
      ],
      "text/markdown": [
       "\n",
       "A matrix: 6 × 5 of type dbl\n",
       "\n",
       "| PC1 | PC2 | PC3 | PC4 | <!----> |\n",
       "|---|---|---|---|---|\n",
       "| -4.199284 | -1.0938312 | -1.11907395 |  0.67178115 |  791 |\n",
       "|  1.172663 |  0.6770136 | -0.05244634 | -0.08350709 | 1635 |\n",
       "| -4.173725 |  0.2767750 | -0.37107658 |  0.37793995 |  578 |\n",
       "|  3.834962 | -2.5769060 |  0.22793998 |  0.38262331 | 1969 |\n",
       "|  1.839300 |  1.3309856 |  1.27882805 |  0.71814305 | 1234 |\n",
       "|  2.907234 | -0.3305421 |  0.53288181 |  1.22140635 |  682 |\n",
       "\n"
      ],
      "text/plain": [
       "     PC1       PC2        PC3         PC4             \n",
       "[1,] -4.199284 -1.0938312 -1.11907395  0.67178115  791\n",
       "[2,]  1.172663  0.6770136 -0.05244634 -0.08350709 1635\n",
       "[3,] -4.173725  0.2767750 -0.37107658  0.37793995  578\n",
       "[4,]  3.834962 -2.5769060  0.22793998  0.38262331 1969\n",
       "[5,]  1.839300  1.3309856  1.27882805  0.71814305 1234\n",
       "[6,]  2.907234 -0.3305421  0.53288181  1.22140635  682"
      ]
     },
     "metadata": {},
     "output_type": "display_data"
    }
   ],
   "source": [
    "head(pca_crime)"
   ]
  },
  {
   "cell_type": "code",
   "execution_count": 14,
   "id": "29c3ab1b",
   "metadata": {},
   "outputs": [
    {
     "data": {
      "text/plain": [
       "\n",
       "Call:\n",
       "lm(formula = V5 ~ ., data = as.data.frame(pca_crime))\n",
       "\n",
       "Residuals:\n",
       "    Min      1Q  Median      3Q     Max \n",
       "-557.76 -210.91  -29.08  197.26  810.35 \n",
       "\n",
       "Coefficients:\n",
       "            Estimate Std. Error t value Pr(>|t|)    \n",
       "(Intercept)   905.09      49.07  18.443  < 2e-16 ***\n",
       "PC1            65.22      20.22   3.225  0.00244 ** \n",
       "PC2           -70.08      29.63  -2.365  0.02273 *  \n",
       "PC3            25.19      35.03   0.719  0.47602    \n",
       "PC4            69.45      46.01   1.509  0.13872    \n",
       "---\n",
       "Signif. codes:  0 '***' 0.001 '**' 0.01 '*' 0.05 '.' 0.1 ' ' 1\n",
       "\n",
       "Residual standard error: 336.4 on 42 degrees of freedom\n",
       "Multiple R-squared:  0.3091,\tAdjusted R-squared:  0.2433 \n",
       "F-statistic: 4.698 on 4 and 42 DF,  p-value: 0.003178\n"
      ]
     },
     "metadata": {},
     "output_type": "display_data"
    }
   ],
   "source": [
    "# Now create a Linear Regression model using the x outputs of the PCs with the \"Crime\" columns. Column 5 in \"pca_crime\"\n",
    "model <- lm(V5~., data = as.data.frame(pca_crime))\n",
    "summary(model)"
   ]
  },
  {
   "cell_type": "markdown",
   "id": "5c1da593",
   "metadata": {},
   "source": [
    "---"
   ]
  },
  {
   "cell_type": "markdown",
   "id": "ba050ded",
   "metadata": {},
   "source": [
    "### Prediction 1"
   ]
  },
  {
   "cell_type": "code",
   "execution_count": 15,
   "id": "cd4f6f9a",
   "metadata": {},
   "outputs": [],
   "source": [
    "pred_input <- data.frame(M= 14.0, So = 0, Ed = 10.0, Po1 = 12.0, Po2 = 15.5,\n",
    "                    LF = 0.640, M.F = 94.0, Pop = 150, NW = 1.1, U1 = 0.120, U2 = 3.6, Wealth = 3200, Ineq = 20.1, Prob = 0.040,Time = 39.0)"
   ]
  },
  {
   "cell_type": "code",
   "execution_count": 16,
   "id": "db7d52ac",
   "metadata": {},
   "outputs": [],
   "source": [
    "pred_df <- data.frame(predict(pca, pred_input)) "
   ]
  },
  {
   "cell_type": "code",
   "execution_count": 17,
   "id": "cf59cc4a",
   "metadata": {},
   "outputs": [],
   "source": [
    "pred <- predict(model, pred_df)"
   ]
  },
  {
   "cell_type": "code",
   "execution_count": 18,
   "id": "f1bcd17c",
   "metadata": {},
   "outputs": [
    {
     "data": {
      "text/html": [
       "<strong>1:</strong> 1112.67763659882"
      ],
      "text/latex": [
       "\\textbf{1:} 1112.67763659882"
      ],
      "text/markdown": [
       "**1:** 1112.67763659882"
      ],
      "text/plain": [
       "       1 \n",
       "1112.678 "
      ]
     },
     "metadata": {},
     "output_type": "display_data"
    }
   ],
   "source": [
    "pred"
   ]
  },
  {
   "cell_type": "markdown",
   "id": "54225f85",
   "metadata": {},
   "source": [
    "**My prediction of 1112 using PCA (using 4 PCs) is close to the prediction of 1304 using Linear Regression.**"
   ]
  },
  {
   "cell_type": "markdown",
   "id": "997f6228",
   "metadata": {},
   "source": [
    "---"
   ]
  },
  {
   "cell_type": "markdown",
   "id": "5d844e3f",
   "metadata": {},
   "source": [
    "### Prediction 2\n",
    "\n",
    "With the benefit of hindsight, I am calculating a second prediction using the first 5 Principal Components."
   ]
  },
  {
   "cell_type": "code",
   "execution_count": 22,
   "id": "07665cb9",
   "metadata": {},
   "outputs": [
    {
     "data": {
      "text/plain": [
       "\n",
       "Call:\n",
       "lm(formula = V6 ~ ., data = as.data.frame(pca_crime2))\n",
       "\n",
       "Residuals:\n",
       "    Min      1Q  Median      3Q     Max \n",
       "-420.79 -185.01   12.21  146.24  447.86 \n",
       "\n",
       "Coefficients:\n",
       "            Estimate Std. Error t value Pr(>|t|)    \n",
       "(Intercept)   905.09      35.59  25.428  < 2e-16 ***\n",
       "PC1            65.22      14.67   4.447 6.51e-05 ***\n",
       "PC2           -70.08      21.49  -3.261  0.00224 ** \n",
       "PC3            25.19      25.41   0.992  0.32725    \n",
       "PC4            69.45      33.37   2.081  0.04374 *  \n",
       "PC5          -229.04      36.75  -6.232 2.02e-07 ***\n",
       "---\n",
       "Signif. codes:  0 '***' 0.001 '**' 0.01 '*' 0.05 '.' 0.1 ' ' 1\n",
       "\n",
       "Residual standard error: 244 on 41 degrees of freedom\n",
       "Multiple R-squared:  0.6452,\tAdjusted R-squared:  0.6019 \n",
       "F-statistic: 14.91 on 5 and 41 DF,  p-value: 2.446e-08\n"
      ]
     },
     "metadata": {},
     "output_type": "display_data"
    },
    {
     "data": {
      "text/html": [
       "<strong>1:</strong> 1388.92569475604"
      ],
      "text/latex": [
       "\\textbf{1:} 1388.92569475604"
      ],
      "text/markdown": [
       "**1:** 1388.92569475604"
      ],
      "text/plain": [
       "       1 \n",
       "1388.926 "
      ]
     },
     "metadata": {},
     "output_type": "display_data"
    }
   ],
   "source": [
    "# Combine the x values of the first 4 Principal Components with the \"Crime\" column\n",
    "pca_crime2 <- cbind(pca$x[,1:5],crime[,16])\n",
    "# Now create a Linear Regression model using the x outputs of the PCs with the \"Crime\" columns. Column 5 in \"pca_crime\"\n",
    "model2 <- lm(V6~., data = as.data.frame(pca_crime2))\n",
    "summary(model2)\n",
    "\n",
    "pred_df2 <- data.frame(predict(pca, pred_input)) \n",
    "\n",
    "pred <- predict(model2, pred_df2)\n",
    "\n",
    "pred"
   ]
  },
  {
   "cell_type": "markdown",
   "id": "1032b5f5",
   "metadata": {},
   "source": [
    "**My second prediction of 1388 using PCA (using 5 PCs) is much closer to the prediction of 1304 using Linear Regression.**"
   ]
  },
  {
   "cell_type": "markdown",
   "id": "49056d8e",
   "metadata": {},
   "source": [
    "---"
   ]
  }
 ],
 "metadata": {
  "kernelspec": {
   "display_name": "R",
   "language": "R",
   "name": "ir"
  },
  "language_info": {
   "codemirror_mode": "r",
   "file_extension": ".r",
   "mimetype": "text/x-r-source",
   "name": "R",
   "pygments_lexer": "r",
   "version": "4.2.2"
  }
 },
 "nbformat": 4,
 "nbformat_minor": 5
}
