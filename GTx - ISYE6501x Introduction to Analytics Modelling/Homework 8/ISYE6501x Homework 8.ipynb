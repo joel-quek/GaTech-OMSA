{
 "cells": [
  {
   "cell_type": "markdown",
   "id": "91ed3038",
   "metadata": {},
   "source": [
    "# ISYE6501x Homework 8\n",
    "Done By: Joel Quek\n",
    "\n",
    "## Question 11.1\n",
    "\n",
    "Using the crime data set uscrime.txt from Questions 8.2, 9.1, and 10.1, build a regression model using:\n",
    "1.\tStepwise regression\n",
    "2.\tLasso\n",
    "3.\tElastic net\n",
    "For Parts 2 and 3, remember to scale the data first – otherwise, the regression coefficients will be on different scales and the constraint won’t have the desired effect.\n",
    "\n",
    "For Parts 2 and 3, use the glmnet function in R.  \n",
    "\n",
    "Notes on R:\n",
    "•\tFor the elastic net model, what we called λ in the videos, glmnet calls “alpha”; you can get a range of results by varying alpha from 1 (lasso) to 0 (ridge regression) [and, of course, other values of alpha in between].\n",
    "•\tIn a function call like glmnet(x,y,family=”mgaussian”,alpha=1) the predictors x need to be in R’s matrix format, rather than data frame format.  You can convert a data frame to a matrix using as.matrix – for example, x <- as.matrix(data[,1:n-1])\n",
    "•\tRather than specifying a value of T, glmnet returns models for a variety of values of T. \n"
   ]
  },
  {
   "cell_type": "markdown",
   "id": "4b879101",
   "metadata": {},
   "source": [
    "Source (StatQuest): https://www.youtube.com/watch?v=ctmNq7FgbvI"
   ]
  },
  {
   "cell_type": "code",
   "execution_count": 1,
   "id": "4ca046d8",
   "metadata": {},
   "outputs": [
    {
     "name": "stderr",
     "output_type": "stream",
     "text": [
      "Loading required package: ggplot2\n",
      "\n",
      "Loading required package: lattice\n",
      "\n",
      "Loading required package: Matrix\n",
      "\n",
      "Loaded glmnet 4.1-6\n",
      "\n"
     ]
    }
   ],
   "source": [
    "library(caret)\n",
    "library(glmnet)"
   ]
  },
  {
   "cell_type": "code",
   "execution_count": 2,
   "id": "27d6d9cb",
   "metadata": {},
   "outputs": [],
   "source": [
    "crime <- read.table(\"uscrime.txt\", header=TRUE)"
   ]
  },
  {
   "cell_type": "code",
   "execution_count": 3,
   "id": "9ec1a960",
   "metadata": {},
   "outputs": [
    {
     "data": {
      "text/html": [
       "<table class=\"dataframe\">\n",
       "<caption>A data.frame: 6 × 16</caption>\n",
       "<thead>\n",
       "\t<tr><th></th><th scope=col>M</th><th scope=col>So</th><th scope=col>Ed</th><th scope=col>Po1</th><th scope=col>Po2</th><th scope=col>LF</th><th scope=col>M.F</th><th scope=col>Pop</th><th scope=col>NW</th><th scope=col>U1</th><th scope=col>U2</th><th scope=col>Wealth</th><th scope=col>Ineq</th><th scope=col>Prob</th><th scope=col>Time</th><th scope=col>Crime</th></tr>\n",
       "\t<tr><th></th><th scope=col>&lt;dbl&gt;</th><th scope=col>&lt;int&gt;</th><th scope=col>&lt;dbl&gt;</th><th scope=col>&lt;dbl&gt;</th><th scope=col>&lt;dbl&gt;</th><th scope=col>&lt;dbl&gt;</th><th scope=col>&lt;dbl&gt;</th><th scope=col>&lt;int&gt;</th><th scope=col>&lt;dbl&gt;</th><th scope=col>&lt;dbl&gt;</th><th scope=col>&lt;dbl&gt;</th><th scope=col>&lt;int&gt;</th><th scope=col>&lt;dbl&gt;</th><th scope=col>&lt;dbl&gt;</th><th scope=col>&lt;dbl&gt;</th><th scope=col>&lt;int&gt;</th></tr>\n",
       "</thead>\n",
       "<tbody>\n",
       "\t<tr><th scope=row>1</th><td>15.1</td><td>1</td><td> 9.1</td><td> 5.8</td><td> 5.6</td><td>0.510</td><td> 95.0</td><td> 33</td><td>30.1</td><td>0.108</td><td>4.1</td><td>3940</td><td>26.1</td><td>0.084602</td><td>26.2011</td><td> 791</td></tr>\n",
       "\t<tr><th scope=row>2</th><td>14.3</td><td>0</td><td>11.3</td><td>10.3</td><td> 9.5</td><td>0.583</td><td>101.2</td><td> 13</td><td>10.2</td><td>0.096</td><td>3.6</td><td>5570</td><td>19.4</td><td>0.029599</td><td>25.2999</td><td>1635</td></tr>\n",
       "\t<tr><th scope=row>3</th><td>14.2</td><td>1</td><td> 8.9</td><td> 4.5</td><td> 4.4</td><td>0.533</td><td> 96.9</td><td> 18</td><td>21.9</td><td>0.094</td><td>3.3</td><td>3180</td><td>25.0</td><td>0.083401</td><td>24.3006</td><td> 578</td></tr>\n",
       "\t<tr><th scope=row>4</th><td>13.6</td><td>0</td><td>12.1</td><td>14.9</td><td>14.1</td><td>0.577</td><td> 99.4</td><td>157</td><td> 8.0</td><td>0.102</td><td>3.9</td><td>6730</td><td>16.7</td><td>0.015801</td><td>29.9012</td><td>1969</td></tr>\n",
       "\t<tr><th scope=row>5</th><td>14.1</td><td>0</td><td>12.1</td><td>10.9</td><td>10.1</td><td>0.591</td><td> 98.5</td><td> 18</td><td> 3.0</td><td>0.091</td><td>2.0</td><td>5780</td><td>17.4</td><td>0.041399</td><td>21.2998</td><td>1234</td></tr>\n",
       "\t<tr><th scope=row>6</th><td>12.1</td><td>0</td><td>11.0</td><td>11.8</td><td>11.5</td><td>0.547</td><td> 96.4</td><td> 25</td><td> 4.4</td><td>0.084</td><td>2.9</td><td>6890</td><td>12.6</td><td>0.034201</td><td>20.9995</td><td> 682</td></tr>\n",
       "</tbody>\n",
       "</table>\n"
      ],
      "text/latex": [
       "A data.frame: 6 × 16\n",
       "\\begin{tabular}{r|llllllllllllllll}\n",
       "  & M & So & Ed & Po1 & Po2 & LF & M.F & Pop & NW & U1 & U2 & Wealth & Ineq & Prob & Time & Crime\\\\\n",
       "  & <dbl> & <int> & <dbl> & <dbl> & <dbl> & <dbl> & <dbl> & <int> & <dbl> & <dbl> & <dbl> & <int> & <dbl> & <dbl> & <dbl> & <int>\\\\\n",
       "\\hline\n",
       "\t1 & 15.1 & 1 &  9.1 &  5.8 &  5.6 & 0.510 &  95.0 &  33 & 30.1 & 0.108 & 4.1 & 3940 & 26.1 & 0.084602 & 26.2011 &  791\\\\\n",
       "\t2 & 14.3 & 0 & 11.3 & 10.3 &  9.5 & 0.583 & 101.2 &  13 & 10.2 & 0.096 & 3.6 & 5570 & 19.4 & 0.029599 & 25.2999 & 1635\\\\\n",
       "\t3 & 14.2 & 1 &  8.9 &  4.5 &  4.4 & 0.533 &  96.9 &  18 & 21.9 & 0.094 & 3.3 & 3180 & 25.0 & 0.083401 & 24.3006 &  578\\\\\n",
       "\t4 & 13.6 & 0 & 12.1 & 14.9 & 14.1 & 0.577 &  99.4 & 157 &  8.0 & 0.102 & 3.9 & 6730 & 16.7 & 0.015801 & 29.9012 & 1969\\\\\n",
       "\t5 & 14.1 & 0 & 12.1 & 10.9 & 10.1 & 0.591 &  98.5 &  18 &  3.0 & 0.091 & 2.0 & 5780 & 17.4 & 0.041399 & 21.2998 & 1234\\\\\n",
       "\t6 & 12.1 & 0 & 11.0 & 11.8 & 11.5 & 0.547 &  96.4 &  25 &  4.4 & 0.084 & 2.9 & 6890 & 12.6 & 0.034201 & 20.9995 &  682\\\\\n",
       "\\end{tabular}\n"
      ],
      "text/markdown": [
       "\n",
       "A data.frame: 6 × 16\n",
       "\n",
       "| <!--/--> | M &lt;dbl&gt; | So &lt;int&gt; | Ed &lt;dbl&gt; | Po1 &lt;dbl&gt; | Po2 &lt;dbl&gt; | LF &lt;dbl&gt; | M.F &lt;dbl&gt; | Pop &lt;int&gt; | NW &lt;dbl&gt; | U1 &lt;dbl&gt; | U2 &lt;dbl&gt; | Wealth &lt;int&gt; | Ineq &lt;dbl&gt; | Prob &lt;dbl&gt; | Time &lt;dbl&gt; | Crime &lt;int&gt; |\n",
       "|---|---|---|---|---|---|---|---|---|---|---|---|---|---|---|---|---|\n",
       "| 1 | 15.1 | 1 |  9.1 |  5.8 |  5.6 | 0.510 |  95.0 |  33 | 30.1 | 0.108 | 4.1 | 3940 | 26.1 | 0.084602 | 26.2011 |  791 |\n",
       "| 2 | 14.3 | 0 | 11.3 | 10.3 |  9.5 | 0.583 | 101.2 |  13 | 10.2 | 0.096 | 3.6 | 5570 | 19.4 | 0.029599 | 25.2999 | 1635 |\n",
       "| 3 | 14.2 | 1 |  8.9 |  4.5 |  4.4 | 0.533 |  96.9 |  18 | 21.9 | 0.094 | 3.3 | 3180 | 25.0 | 0.083401 | 24.3006 |  578 |\n",
       "| 4 | 13.6 | 0 | 12.1 | 14.9 | 14.1 | 0.577 |  99.4 | 157 |  8.0 | 0.102 | 3.9 | 6730 | 16.7 | 0.015801 | 29.9012 | 1969 |\n",
       "| 5 | 14.1 | 0 | 12.1 | 10.9 | 10.1 | 0.591 |  98.5 |  18 |  3.0 | 0.091 | 2.0 | 5780 | 17.4 | 0.041399 | 21.2998 | 1234 |\n",
       "| 6 | 12.1 | 0 | 11.0 | 11.8 | 11.5 | 0.547 |  96.4 |  25 |  4.4 | 0.084 | 2.9 | 6890 | 12.6 | 0.034201 | 20.9995 |  682 |\n",
       "\n"
      ],
      "text/plain": [
       "  M    So Ed   Po1  Po2  LF    M.F   Pop NW   U1    U2  Wealth Ineq Prob    \n",
       "1 15.1 1   9.1  5.8  5.6 0.510  95.0  33 30.1 0.108 4.1 3940   26.1 0.084602\n",
       "2 14.3 0  11.3 10.3  9.5 0.583 101.2  13 10.2 0.096 3.6 5570   19.4 0.029599\n",
       "3 14.2 1   8.9  4.5  4.4 0.533  96.9  18 21.9 0.094 3.3 3180   25.0 0.083401\n",
       "4 13.6 0  12.1 14.9 14.1 0.577  99.4 157  8.0 0.102 3.9 6730   16.7 0.015801\n",
       "5 14.1 0  12.1 10.9 10.1 0.591  98.5  18  3.0 0.091 2.0 5780   17.4 0.041399\n",
       "6 12.1 0  11.0 11.8 11.5 0.547  96.4  25  4.4 0.084 2.9 6890   12.6 0.034201\n",
       "  Time    Crime\n",
       "1 26.2011  791 \n",
       "2 25.2999 1635 \n",
       "3 24.3006  578 \n",
       "4 29.9012 1969 \n",
       "5 21.2998 1234 \n",
       "6 20.9995  682 "
      ]
     },
     "metadata": {},
     "output_type": "display_data"
    }
   ],
   "source": [
    "head(crime)"
   ]
  },
  {
   "cell_type": "markdown",
   "id": "b437046e",
   "metadata": {},
   "source": [
    "---"
   ]
  },
  {
   "cell_type": "markdown",
   "id": "0022c527",
   "metadata": {},
   "source": [
    "## Base Model and Step Variable Selection"
   ]
  },
  {
   "cell_type": "markdown",
   "id": "79d65c32",
   "metadata": {},
   "source": [
    "Source: https://www.youtube.com/watch?v=bgJfXMBEfZc"
   ]
  },
  {
   "cell_type": "code",
   "execution_count": 33,
   "id": "a4a6534f",
   "metadata": {},
   "outputs": [
    {
     "data": {
      "text/plain": [
       "\n",
       "Call:\n",
       "lm(formula = Crime ~ ., data = crime)\n",
       "\n",
       "Residuals:\n",
       "    Min      1Q  Median      3Q     Max \n",
       "-395.74  -98.09   -6.69  112.99  512.67 \n",
       "\n",
       "Coefficients:\n",
       "              Estimate Std. Error t value Pr(>|t|)    \n",
       "(Intercept) -5.984e+03  1.628e+03  -3.675 0.000893 ***\n",
       "M            8.783e+01  4.171e+01   2.106 0.043443 *  \n",
       "So          -3.803e+00  1.488e+02  -0.026 0.979765    \n",
       "Ed           1.883e+02  6.209e+01   3.033 0.004861 ** \n",
       "Po1          1.928e+02  1.061e+02   1.817 0.078892 .  \n",
       "Po2         -1.094e+02  1.175e+02  -0.931 0.358830    \n",
       "LF          -6.638e+02  1.470e+03  -0.452 0.654654    \n",
       "M.F          1.741e+01  2.035e+01   0.855 0.398995    \n",
       "Pop         -7.330e-01  1.290e+00  -0.568 0.573845    \n",
       "NW           4.204e+00  6.481e+00   0.649 0.521279    \n",
       "U1          -5.827e+03  4.210e+03  -1.384 0.176238    \n",
       "U2           1.678e+02  8.234e+01   2.038 0.050161 .  \n",
       "Wealth       9.617e-02  1.037e-01   0.928 0.360754    \n",
       "Ineq         7.067e+01  2.272e+01   3.111 0.003983 ** \n",
       "Prob        -4.855e+03  2.272e+03  -2.137 0.040627 *  \n",
       "Time        -3.479e+00  7.165e+00  -0.486 0.630708    \n",
       "---\n",
       "Signif. codes:  0 '***' 0.001 '**' 0.01 '*' 0.05 '.' 0.1 ' ' 1\n",
       "\n",
       "Residual standard error: 209.1 on 31 degrees of freedom\n",
       "Multiple R-squared:  0.8031,\tAdjusted R-squared:  0.7078 \n",
       "F-statistic: 8.429 on 15 and 31 DF,  p-value: 3.539e-07\n"
      ]
     },
     "metadata": {},
     "output_type": "display_data"
    }
   ],
   "source": [
    "linear_model = lm(Crime~., data=crime)\n",
    "summary(linear_model)"
   ]
  },
  {
   "cell_type": "markdown",
   "id": "4a66a13c",
   "metadata": {},
   "source": [
    "Observation\n",
    "- $R^2$ is 0.8031 which is very good\n",
    "- F-statistic has p-value which is very small\n",
    "- This model is a significant model"
   ]
  },
  {
   "cell_type": "markdown",
   "id": "3ee6adfa",
   "metadata": {},
   "source": [
    "Now we want to build a smaller model using Step function."
   ]
  },
  {
   "cell_type": "code",
   "execution_count": 34,
   "id": "c75af46f",
   "metadata": {
    "scrolled": false
   },
   "outputs": [
    {
     "name": "stdout",
     "output_type": "stream",
     "text": [
      "Start:  AIC=514.65\n",
      "Crime ~ M + So + Ed + Po1 + Po2 + LF + M.F + Pop + NW + U1 + \n",
      "    U2 + Wealth + Ineq + Prob + Time\n",
      "\n",
      "         Df Sum of Sq     RSS    AIC\n",
      "- So      1        29 1354974 512.65\n",
      "- LF      1      8917 1363862 512.96\n",
      "- Time    1     10304 1365250 513.00\n",
      "- Pop     1     14122 1369068 513.14\n",
      "- NW      1     18395 1373341 513.28\n",
      "- M.F     1     31967 1386913 513.74\n",
      "- Wealth  1     37613 1392558 513.94\n",
      "- Po2     1     37919 1392865 513.95\n",
      "<none>                1354946 514.65\n",
      "- U1      1     83722 1438668 515.47\n",
      "- Po1     1    144306 1499252 517.41\n",
      "- U2      1    181536 1536482 518.56\n",
      "- M       1    193770 1548716 518.93\n",
      "- Prob    1    199538 1554484 519.11\n",
      "- Ed      1    402117 1757063 524.86\n",
      "- Ineq    1    423031 1777977 525.42\n",
      "\n",
      "Step:  AIC=512.65\n",
      "Crime ~ M + Ed + Po1 + Po2 + LF + M.F + Pop + NW + U1 + U2 + \n",
      "    Wealth + Ineq + Prob + Time\n",
      "\n",
      "         Df Sum of Sq     RSS    AIC\n",
      "- Time    1     10341 1365315 511.01\n",
      "- LF      1     10878 1365852 511.03\n",
      "- Pop     1     14127 1369101 511.14\n",
      "- NW      1     21626 1376600 511.39\n",
      "- M.F     1     32449 1387423 511.76\n",
      "- Po2     1     37954 1392929 511.95\n",
      "- Wealth  1     39223 1394197 511.99\n",
      "<none>                1354974 512.65\n",
      "- U1      1     96420 1451395 513.88\n",
      "- Po1     1    144302 1499277 515.41\n",
      "- U2      1    189859 1544834 516.81\n",
      "- M       1    195084 1550059 516.97\n",
      "- Prob    1    204463 1559437 517.26\n",
      "- Ed      1    403140 1758114 522.89\n",
      "- Ineq    1    488834 1843808 525.13\n",
      "\n",
      "Step:  AIC=511.01\n",
      "Crime ~ M + Ed + Po1 + Po2 + LF + M.F + Pop + NW + U1 + U2 + \n",
      "    Wealth + Ineq + Prob\n",
      "\n",
      "         Df Sum of Sq     RSS    AIC\n",
      "- LF      1     10533 1375848 509.37\n",
      "- NW      1     15482 1380797 509.54\n",
      "- Pop     1     21846 1387161 509.75\n",
      "- Po2     1     28932 1394247 509.99\n",
      "- Wealth  1     36070 1401385 510.23\n",
      "- M.F     1     41784 1407099 510.42\n",
      "<none>                1365315 511.01\n",
      "- U1      1     91420 1456735 512.05\n",
      "- Po1     1    134137 1499452 513.41\n",
      "- U2      1    184143 1549458 514.95\n",
      "- M       1    186110 1551425 515.01\n",
      "- Prob    1    237493 1602808 516.54\n",
      "- Ed      1    409448 1774763 521.33\n",
      "- Ineq    1    502909 1868224 523.75\n",
      "\n",
      "Step:  AIC=509.37\n",
      "Crime ~ M + Ed + Po1 + Po2 + M.F + Pop + NW + U1 + U2 + Wealth + \n",
      "    Ineq + Prob\n",
      "\n",
      "         Df Sum of Sq     RSS    AIC\n",
      "- NW      1     11675 1387523 507.77\n",
      "- Po2     1     21418 1397266 508.09\n",
      "- Pop     1     27803 1403651 508.31\n",
      "- M.F     1     31252 1407100 508.42\n",
      "- Wealth  1     35035 1410883 508.55\n",
      "<none>                1375848 509.37\n",
      "- U1      1     80954 1456802 510.06\n",
      "- Po1     1    123896 1499744 511.42\n",
      "- U2      1    190746 1566594 513.47\n",
      "- M       1    217716 1593564 514.27\n",
      "- Prob    1    226971 1602819 514.54\n",
      "- Ed      1    413254 1789103 519.71\n",
      "- Ineq    1    500944 1876792 521.96\n",
      "\n",
      "Step:  AIC=507.77\n",
      "Crime ~ M + Ed + Po1 + Po2 + M.F + Pop + U1 + U2 + Wealth + Ineq + \n",
      "    Prob\n",
      "\n",
      "         Df Sum of Sq     RSS    AIC\n",
      "- Po2     1     16706 1404229 506.33\n",
      "- Pop     1     25793 1413315 506.63\n",
      "- M.F     1     26785 1414308 506.66\n",
      "- Wealth  1     31551 1419073 506.82\n",
      "<none>                1387523 507.77\n",
      "- U1      1     83881 1471404 508.52\n",
      "- Po1     1    118348 1505871 509.61\n",
      "- U2      1    201453 1588976 512.14\n",
      "- Prob    1    216760 1604282 512.59\n",
      "- M       1    309214 1696737 515.22\n",
      "- Ed      1    402754 1790276 517.74\n",
      "- Ineq    1    589736 1977259 522.41\n",
      "\n",
      "Step:  AIC=506.33\n",
      "Crime ~ M + Ed + Po1 + M.F + Pop + U1 + U2 + Wealth + Ineq + \n",
      "    Prob\n",
      "\n",
      "         Df Sum of Sq     RSS    AIC\n",
      "- Pop     1     22345 1426575 505.07\n",
      "- Wealth  1     32142 1436371 505.39\n",
      "- M.F     1     36808 1441037 505.54\n",
      "<none>                1404229 506.33\n",
      "- U1      1     86373 1490602 507.13\n",
      "- U2      1    205814 1610043 510.76\n",
      "- Prob    1    218607 1622836 511.13\n",
      "- M       1    307001 1711230 513.62\n",
      "- Ed      1    389502 1793731 515.83\n",
      "- Ineq    1    608627 2012856 521.25\n",
      "- Po1     1   1050202 2454432 530.57\n",
      "\n",
      "Step:  AIC=505.07\n",
      "Crime ~ M + Ed + Po1 + M.F + U1 + U2 + Wealth + Ineq + Prob\n",
      "\n",
      "         Df Sum of Sq     RSS    AIC\n",
      "- Wealth  1     26493 1453068 503.93\n",
      "<none>                1426575 505.07\n",
      "- M.F     1     84491 1511065 505.77\n",
      "- U1      1     99463 1526037 506.24\n",
      "- Prob    1    198571 1625145 509.20\n",
      "- U2      1    208880 1635455 509.49\n",
      "- M       1    320926 1747501 512.61\n",
      "- Ed      1    386773 1813348 514.35\n",
      "- Ineq    1    594779 2021354 519.45\n",
      "- Po1     1   1127277 2553852 530.44\n",
      "\n",
      "Step:  AIC=503.93\n",
      "Crime ~ M + Ed + Po1 + M.F + U1 + U2 + Ineq + Prob\n",
      "\n",
      "       Df Sum of Sq     RSS    AIC\n",
      "<none>              1453068 503.93\n",
      "- M.F   1    103159 1556227 505.16\n",
      "- U1    1    127044 1580112 505.87\n",
      "- Prob  1    247978 1701046 509.34\n",
      "- U2    1    255443 1708511 509.55\n",
      "- M     1    296790 1749858 510.67\n",
      "- Ed    1    445788 1898855 514.51\n",
      "- Ineq  1    738244 2191312 521.24\n",
      "- Po1   1   1672038 3125105 537.93\n"
     ]
    }
   ],
   "source": [
    "model.final=step(linear_model)"
   ]
  },
  {
   "cell_type": "markdown",
   "id": "bc77a6dd",
   "metadata": {},
   "source": [
    "We wish to select, from among the candidate models, the model that minimizes the information loss. We look for the model with lower AIC scores to minimize information loss."
   ]
  },
  {
   "cell_type": "code",
   "execution_count": 37,
   "id": "c1f80763",
   "metadata": {},
   "outputs": [
    {
     "data": {
      "text/plain": [
       "\n",
       "Call:\n",
       "lm(formula = Crime ~ M + Ed + Po1 + M.F + U1 + U2 + Ineq + Prob, \n",
       "    data = crime)\n",
       "\n",
       "Residuals:\n",
       "    Min      1Q  Median      3Q     Max \n",
       "-444.70 -111.07    3.03  122.15  483.30 \n",
       "\n",
       "Coefficients:\n",
       "            Estimate Std. Error t value Pr(>|t|)    \n",
       "(Intercept) -6426.10    1194.61  -5.379 4.04e-06 ***\n",
       "M              93.32      33.50   2.786  0.00828 ** \n",
       "Ed            180.12      52.75   3.414  0.00153 ** \n",
       "Po1           102.65      15.52   6.613 8.26e-08 ***\n",
       "M.F            22.34      13.60   1.642  0.10874    \n",
       "U1          -6086.63    3339.27  -1.823  0.07622 .  \n",
       "U2            187.35      72.48   2.585  0.01371 *  \n",
       "Ineq           61.33      13.96   4.394 8.63e-05 ***\n",
       "Prob        -3796.03    1490.65  -2.547  0.01505 *  \n",
       "---\n",
       "Signif. codes:  0 '***' 0.001 '**' 0.01 '*' 0.05 '.' 0.1 ' ' 1\n",
       "\n",
       "Residual standard error: 195.5 on 38 degrees of freedom\n",
       "Multiple R-squared:  0.7888,\tAdjusted R-squared:  0.7444 \n",
       "F-statistic: 17.74 on 8 and 38 DF,  p-value: 1.159e-10\n"
      ]
     },
     "metadata": {},
     "output_type": "display_data"
    }
   ],
   "source": [
    "summary(model.final)"
   ]
  },
  {
   "cell_type": "markdown",
   "id": "77995bc6",
   "metadata": {},
   "source": [
    "Observation\n",
    "- The final model only has 8 predictors as opposed to the original 15\n",
    "- The final model with the lowest AIC score actually ended up having a reduced $R^2$ score\n",
    "- But we observe that all predictors are significant due to the p-values (t test)\n",
    "- The F-statistic is also significant"
   ]
  },
  {
   "cell_type": "markdown",
   "id": "fa03248c",
   "metadata": {},
   "source": [
    "---"
   ]
  },
  {
   "cell_type": "markdown",
   "id": "48a4aacd",
   "metadata": {},
   "source": [
    "## Stepwise Regression"
   ]
  },
  {
   "cell_type": "markdown",
   "id": "fdf61744",
   "metadata": {},
   "source": [
    "Source: https://www.youtube.com/watch?v=vFH--Xdt3Pk\n",
    "trControl Source: https://www.rdocumentation.org/packages/caret/versions/2.27/topics/train"
   ]
  },
  {
   "cell_type": "code",
   "execution_count": 5,
   "id": "fe4b1957",
   "metadata": {},
   "outputs": [
    {
     "data": {
      "text/html": [
       "<table class=\"dataframe\">\n",
       "<caption>A data.frame: 1 × 7</caption>\n",
       "<thead>\n",
       "\t<tr><th></th><th scope=col>parameter</th><th scope=col>RMSE</th><th scope=col>Rsquared</th><th scope=col>MAE</th><th scope=col>RMSESD</th><th scope=col>RsquaredSD</th><th scope=col>MAESD</th></tr>\n",
       "\t<tr><th></th><th scope=col>&lt;chr&gt;</th><th scope=col>&lt;dbl&gt;</th><th scope=col>&lt;dbl&gt;</th><th scope=col>&lt;dbl&gt;</th><th scope=col>&lt;dbl&gt;</th><th scope=col>&lt;dbl&gt;</th><th scope=col>&lt;dbl&gt;</th></tr>\n",
       "</thead>\n",
       "<tbody>\n",
       "\t<tr><th scope=row>1</th><td>none</td><td>253.266</td><td>0.5832771</td><td>216.4972</td><td>90.06367</td><td>0.3322636</td><td>84.15968</td></tr>\n",
       "</tbody>\n",
       "</table>\n"
      ],
      "text/latex": [
       "A data.frame: 1 × 7\n",
       "\\begin{tabular}{r|lllllll}\n",
       "  & parameter & RMSE & Rsquared & MAE & RMSESD & RsquaredSD & MAESD\\\\\n",
       "  & <chr> & <dbl> & <dbl> & <dbl> & <dbl> & <dbl> & <dbl>\\\\\n",
       "\\hline\n",
       "\t1 & none & 253.266 & 0.5832771 & 216.4972 & 90.06367 & 0.3322636 & 84.15968\\\\\n",
       "\\end{tabular}\n"
      ],
      "text/markdown": [
       "\n",
       "A data.frame: 1 × 7\n",
       "\n",
       "| <!--/--> | parameter &lt;chr&gt; | RMSE &lt;dbl&gt; | Rsquared &lt;dbl&gt; | MAE &lt;dbl&gt; | RMSESD &lt;dbl&gt; | RsquaredSD &lt;dbl&gt; | MAESD &lt;dbl&gt; |\n",
       "|---|---|---|---|---|---|---|---|\n",
       "| 1 | none | 253.266 | 0.5832771 | 216.4972 | 90.06367 | 0.3322636 | 84.15968 |\n",
       "\n"
      ],
      "text/plain": [
       "  parameter RMSE    Rsquared  MAE      RMSESD   RsquaredSD MAESD   \n",
       "1 none      253.266 0.5832771 216.4972 90.06367 0.3322636  84.15968"
      ]
     },
     "metadata": {},
     "output_type": "display_data"
    }
   ],
   "source": [
    "set.seed(1)\n",
    "\n",
    "train_rows <- sample(1:nrow(crime),as.integer(0.7*nrow(crime),replace=F))\n",
    "\n",
    "train = crime[train_rows,]\n",
    "\n",
    "test = crime[-train_rows,]\n",
    "\n",
    "train_control <- trainControl(method =\"cv\", number =10)\n",
    "\n",
    "stepwise <- train(Crime ~., data = crime , method =\"lmStepAIC\", trControl = train_control,trace=F)\n",
    "\n",
    "stepwise$results"
   ]
  },
  {
   "cell_type": "code",
   "execution_count": 6,
   "id": "10f440ec",
   "metadata": {},
   "outputs": [
    {
     "data": {
      "text/plain": [
       "\n",
       "Call:\n",
       "lm(formula = .outcome ~ M + Ed + Po1 + M.F + U1 + U2 + Ineq + \n",
       "    Prob, data = dat)\n",
       "\n",
       "Coefficients:\n",
       "(Intercept)            M           Ed          Po1          M.F           U1  \n",
       "   -6426.10        93.32       180.12       102.65        22.34     -6086.63  \n",
       "         U2         Ineq         Prob  \n",
       "     187.35        61.33     -3796.03  \n"
      ]
     },
     "metadata": {},
     "output_type": "display_data"
    }
   ],
   "source": [
    "stepwise$finalModel"
   ]
  },
  {
   "cell_type": "code",
   "execution_count": 7,
   "id": "667a99e9",
   "metadata": {},
   "outputs": [
    {
     "data": {
      "text/plain": [
       "\n",
       "Call:\n",
       "lm(formula = .outcome ~ M + Ed + Po1 + M.F + U1 + U2 + Ineq + \n",
       "    Prob, data = dat)\n",
       "\n",
       "Residuals:\n",
       "    Min      1Q  Median      3Q     Max \n",
       "-444.70 -111.07    3.03  122.15  483.30 \n",
       "\n",
       "Coefficients:\n",
       "            Estimate Std. Error t value Pr(>|t|)    \n",
       "(Intercept) -6426.10    1194.61  -5.379 4.04e-06 ***\n",
       "M              93.32      33.50   2.786  0.00828 ** \n",
       "Ed            180.12      52.75   3.414  0.00153 ** \n",
       "Po1           102.65      15.52   6.613 8.26e-08 ***\n",
       "M.F            22.34      13.60   1.642  0.10874    \n",
       "U1          -6086.63    3339.27  -1.823  0.07622 .  \n",
       "U2            187.35      72.48   2.585  0.01371 *  \n",
       "Ineq           61.33      13.96   4.394 8.63e-05 ***\n",
       "Prob        -3796.03    1490.65  -2.547  0.01505 *  \n",
       "---\n",
       "Signif. codes:  0 '***' 0.001 '**' 0.01 '*' 0.05 '.' 0.1 ' ' 1\n",
       "\n",
       "Residual standard error: 195.5 on 38 degrees of freedom\n",
       "Multiple R-squared:  0.7888,\tAdjusted R-squared:  0.7444 \n",
       "F-statistic: 17.74 on 8 and 38 DF,  p-value: 1.159e-10\n"
      ]
     },
     "metadata": {},
     "output_type": "display_data"
    }
   ],
   "source": [
    "summary(stepwise)"
   ]
  },
  {
   "cell_type": "markdown",
   "id": "3c619cdb",
   "metadata": {},
   "source": [
    "The following line is from StatQuest (https://www.youtube.com/watch?v=ctmNq7FgbvI) 8:56\n",
    "\n",
    "alpha0 represents RIDGE Regression"
   ]
  },
  {
   "cell_type": "code",
   "execution_count": 43,
   "id": "4c1bba4c",
   "metadata": {},
   "outputs": [
    {
     "data": {
      "text/plain": [
       "\n",
       "Call:  cv.glmnet(x = x_train, y = y_train, type.measure = \"mse\", alpha = 0,      family = \"gaussian\") \n",
       "\n",
       "Measure: Mean-Squared Error \n",
       "\n",
       "    Lambda Index Measure     SE Nonzero\n",
       "min 0.1444    90  0.5436 0.1477      15\n",
       "1se 1.2274    67  0.6812 0.2150      15"
      ]
     },
     "metadata": {},
     "output_type": "display_data"
    }
   ],
   "source": [
    "alpha0.fit<-cv.glmnet(x_train,y_train, type.measure=\"mse\", alpha=0, family=\"gaussian\")\n",
    "alpha0.fit"
   ]
  },
  {
   "cell_type": "code",
   "execution_count": 44,
   "id": "c41fbb12",
   "metadata": {},
   "outputs": [],
   "source": [
    "alpha0.predicted<-predict(alpha0.fit, s=alpha0.fit$lambda.1se, newx=x_test)"
   ]
  },
  {
   "cell_type": "code",
   "execution_count": 45,
   "id": "6229c452",
   "metadata": {},
   "outputs": [
    {
     "data": {
      "text/html": [
       "0.420748688472113"
      ],
      "text/latex": [
       "0.420748688472113"
      ],
      "text/markdown": [
       "0.420748688472113"
      ],
      "text/plain": [
       "[1] 0.4207487"
      ]
     },
     "metadata": {},
     "output_type": "display_data"
    }
   ],
   "source": [
    "mean((y_test-alpha0.predicted)^2)"
   ]
  },
  {
   "cell_type": "markdown",
   "id": "288896ef",
   "metadata": {},
   "source": [
    "---"
   ]
  },
  {
   "cell_type": "markdown",
   "id": "a4a452d7",
   "metadata": {},
   "source": [
    "Observation:\n",
    "- this method is the same as what I did in the previous section.\n",
    "- $R^2$ is 0.7888 which is good\n",
    "- 8 significant predictors are selected out of 15\n",
    "- F- statistic is also significant\n",
    "- MSE is 0.420748688472113"
   ]
  },
  {
   "cell_type": "markdown",
   "id": "c845d94b",
   "metadata": {},
   "source": [
    "---"
   ]
  },
  {
   "cell_type": "markdown",
   "id": "2d88a46d",
   "metadata": {},
   "source": [
    "## LASSO"
   ]
  },
  {
   "cell_type": "code",
   "execution_count": 18,
   "id": "a40a01c9",
   "metadata": {},
   "outputs": [
    {
     "data": {
      "image/png": "[encoded data removed]",
      "text/plain": [
       "plot without title"
      ]
     },
     "metadata": {
      "image/png": {
       "height": 420,
       "width": 420
      }
     },
     "output_type": "display_data"
    }
   ],
   "source": [
    "x_train<-scale(as.matrix(train)[,-16], center =TRUE, scale =TRUE)\n",
    "\n",
    "y_train<-scale(as.matrix(train)[,16], center =TRUE, scale =TRUE)\n",
    "\n",
    "lasso_model <- cv.glmnet(x_train, y_train, family=\"gaussian\", alpha=1)\n",
    "plot(lasso_model)"
   ]
  },
  {
   "cell_type": "code",
   "execution_count": 20,
   "id": "7ec441d6",
   "metadata": {},
   "outputs": [
    {
     "data": {
      "text/plain": [
       "16 x 1 sparse Matrix of class \"dgCMatrix\"\n",
       "                       s1\n",
       "(Intercept)  3.403255e-16\n",
       "M            2.245276e-01\n",
       "So           .           \n",
       "Ed           2.054619e-01\n",
       "Po1          6.927334e-01\n",
       "Po2          .           \n",
       "LF           .           \n",
       "M.F          1.415977e-01\n",
       "Pop          5.495775e-02\n",
       "NW           3.017289e-02\n",
       "U1           .           \n",
       "U2           2.965666e-02\n",
       "Wealth       .           \n",
       "Ineq         3.855585e-01\n",
       "Prob        -1.521280e-01\n",
       "Time         .           "
      ]
     },
     "metadata": {},
     "output_type": "display_data"
    }
   ],
   "source": [
    "coef(lasso_model)"
   ]
  },
  {
   "cell_type": "code",
   "execution_count": 21,
   "id": "0079e8ea",
   "metadata": {},
   "outputs": [
    {
     "name": "stdout",
     "output_type": "stream",
     "text": [
      "0.02195409"
     ]
    }
   ],
   "source": [
    "lambda <- lasso_cv$lambda.min\n",
    "cat(lambda)"
   ]
  },
  {
   "cell_type": "code",
   "execution_count": 22,
   "id": "5f4e7846",
   "metadata": {
    "scrolled": true
   },
   "outputs": [
    {
     "data": {
      "text/plain": [
       "16 x 1 sparse Matrix of class \"dgCMatrix\"\n",
       "                       s0\n",
       "(Intercept)  6.048164e-16\n",
       "M            2.305511e-01\n",
       "So           .           \n",
       "Ed           6.425983e-01\n",
       "Po1          7.498446e-01\n",
       "Po2          .           \n",
       "LF          -7.255044e-02\n",
       "M.F          1.227830e-01\n",
       "Pop          5.737205e-02\n",
       "NW           1.713323e-01\n",
       "U1           .           \n",
       "U2           1.077069e-01\n",
       "Wealth       7.695443e-02\n",
       "Ineq         8.017996e-01\n",
       "Prob        -1.899131e-01\n",
       "Time         .           "
      ]
     },
     "metadata": {},
     "output_type": "display_data"
    }
   ],
   "source": [
    "best_lasso = glmnet(xtrain, ytrain, family =\"gaussian\", alpha =1, lambda = lambda)\n",
    "coef(best_lasso)"
   ]
  },
  {
   "cell_type": "code",
   "execution_count": 23,
   "id": "954be58b",
   "metadata": {},
   "outputs": [],
   "source": [
    "# I need R Square\n",
    "x_test<-scale(as.matrix(test)[,-16], center =TRUE, scale =TRUE)\n",
    "\n",
    "y_test<-scale(as.matrix(test)[,16], center =TRUE, scale =TRUE)"
   ]
  },
  {
   "cell_type": "markdown",
   "id": "c058665a",
   "metadata": {},
   "source": [
    "The following line is from StatQuest (https://www.youtube.com/watch?v=ctmNq7FgbvI) 11:59\n",
    "\n",
    "alpha1 represents LASSO Regression"
   ]
  },
  {
   "cell_type": "code",
   "execution_count": 39,
   "id": "d1fa60df",
   "metadata": {},
   "outputs": [
    {
     "data": {
      "text/plain": [
       "\n",
       "Call:  cv.glmnet(x = x_train, y = y_train, type.measure = \"mse\", alpha = 1,      family = \"gaussian\") \n",
       "\n",
       "Measure: Mean-Squared Error \n",
       "\n",
       "     Lambda Index Measure     SE Nonzero\n",
       "min 0.03837    30  0.6380 0.1294      10\n",
       "1se 0.07358    23  0.7535 0.1800       9"
      ]
     },
     "metadata": {},
     "output_type": "display_data"
    }
   ],
   "source": [
    "alpha1.fit <- cv.glmnet(x_train,y_train, type.measure=\"mse\", alpha=1, family=\"gaussian\")\n",
    "alpha1.fit"
   ]
  },
  {
   "cell_type": "code",
   "execution_count": 40,
   "id": "2952e5aa",
   "metadata": {},
   "outputs": [],
   "source": [
    "alpha1.predicted<-predict(alpha1.fit, s=alpha1.fit$lambda.1se, newx=x_test)"
   ]
  },
  {
   "cell_type": "code",
   "execution_count": 41,
   "id": "06b71535",
   "metadata": {},
   "outputs": [
    {
     "data": {
      "text/html": [
       "0.282616991992711"
      ],
      "text/latex": [
       "0.282616991992711"
      ],
      "text/markdown": [
       "0.282616991992711"
      ],
      "text/plain": [
       "[1] 0.282617"
      ]
     },
     "metadata": {},
     "output_type": "display_data"
    }
   ],
   "source": [
    "mean((y_test-alpha1.predicted)^2)"
   ]
  },
  {
   "cell_type": "markdown",
   "id": "3caeb161",
   "metadata": {},
   "source": [
    "Observation:\n",
    "- The best Lambda Value is 0.02195\n",
    "- The MSE for LASSO is 0.282616991992711 (an improvement)"
   ]
  },
  {
   "cell_type": "markdown",
   "id": "a006c1b5",
   "metadata": {},
   "source": [
    "---"
   ]
  },
  {
   "cell_type": "markdown",
   "id": "eb086ded",
   "metadata": {},
   "source": [
    "## Elastic Net"
   ]
  },
  {
   "cell_type": "code",
   "execution_count": 24,
   "id": "fa08d99c",
   "metadata": {},
   "outputs": [
    {
     "name": "stderr",
     "output_type": "stream",
     "text": [
      "Warning message in nominalTrainWorkflow(x = x, y = y, wts = weights, info = trainInfo, :\n",
      "\"There were missing values in resampled performance measures.\"\n"
     ]
    }
   ],
   "source": [
    "train_control <- trainControl(method =\"repeatedcv\", number =10, repeats =5, search =\"random\", verboseIter =F)\n",
    "\n",
    "elastic_model <- train(Crime ~ .,data = as.matrix(scale(train)),method =\"glmnet\",preProcess = c(\"center\",\"scale\"), tuneLength =10,trControl = train_cont)"
   ]
  },
  {
   "cell_type": "code",
   "execution_count": 25,
   "id": "286d0d3c",
   "metadata": {},
   "outputs": [
    {
     "data": {
      "text/html": [
       "<table class=\"dataframe\">\n",
       "<caption>A data.frame: 1 × 2</caption>\n",
       "<thead>\n",
       "\t<tr><th></th><th scope=col>alpha</th><th scope=col>lambda</th></tr>\n",
       "\t<tr><th></th><th scope=col>&lt;dbl&gt;</th><th scope=col>&lt;dbl&gt;</th></tr>\n",
       "</thead>\n",
       "<tbody>\n",
       "\t<tr><th scope=row>5</th><td>0.4507055</td><td>0.04054113</td></tr>\n",
       "</tbody>\n",
       "</table>\n"
      ],
      "text/latex": [
       "A data.frame: 1 × 2\n",
       "\\begin{tabular}{r|ll}\n",
       "  & alpha & lambda\\\\\n",
       "  & <dbl> & <dbl>\\\\\n",
       "\\hline\n",
       "\t5 & 0.4507055 & 0.04054113\\\\\n",
       "\\end{tabular}\n"
      ],
      "text/markdown": [
       "\n",
       "A data.frame: 1 × 2\n",
       "\n",
       "| <!--/--> | alpha &lt;dbl&gt; | lambda &lt;dbl&gt; |\n",
       "|---|---|---|\n",
       "| 5 | 0.4507055 | 0.04054113 |\n",
       "\n"
      ],
      "text/plain": [
       "  alpha     lambda    \n",
       "5 0.4507055 0.04054113"
      ]
     },
     "metadata": {},
     "output_type": "display_data"
    }
   ],
   "source": [
    "elastic_model$bestTune"
   ]
  },
  {
   "cell_type": "markdown",
   "id": "7ad1a3b5",
   "metadata": {},
   "source": [
    "The following line is from StatQuest (https://www.youtube.com/watch?v=ctmNq7FgbvI) 12:59\n",
    "\n",
    "alpha0.5 represents Elastic Net Regression"
   ]
  },
  {
   "cell_type": "code",
   "execution_count": 46,
   "id": "6ec94080",
   "metadata": {},
   "outputs": [],
   "source": [
    "alpha0.5.fit<-cv.glmnet(x_train,y_train,type.measure=\"mse\", alpha=0.5, family=\"gaussian\")"
   ]
  },
  {
   "cell_type": "code",
   "execution_count": 47,
   "id": "ea3ca995",
   "metadata": {},
   "outputs": [],
   "source": [
    "alpha0.5.predicted<-predict(alpha0.5.fit, s=alpha0.5.fit$lambda.1se, newx=x_test)"
   ]
  },
  {
   "cell_type": "code",
   "execution_count": 48,
   "id": "575f7f1e",
   "metadata": {},
   "outputs": [
    {
     "data": {
      "text/html": [
       "0.292458616503691"
      ],
      "text/latex": [
       "0.292458616503691"
      ],
      "text/markdown": [
       "0.292458616503691"
      ],
      "text/plain": [
       "[1] 0.2924586"
      ]
     },
     "metadata": {},
     "output_type": "display_data"
    }
   ],
   "source": [
    "mean((y_test-alpha0.5.predicted)^2)"
   ]
  },
  {
   "cell_type": "markdown",
   "id": "07791e05",
   "metadata": {},
   "source": [
    "Observation:\n",
    "- The best alpha value is 0.4507055\n",
    "- The best Lambda Value is 0.04054\n",
    "- MSE for Elastic Net is 0.292458616503691 (slightly higher than LASSO)\n"
   ]
  },
  {
   "cell_type": "markdown",
   "id": "020b8841",
   "metadata": {},
   "source": [
    "---"
   ]
  },
  {
   "cell_type": "markdown",
   "id": "87010367",
   "metadata": {},
   "source": [
    "## Preliminary Conclusion and Hyperparameter Tuning"
   ]
  },
  {
   "cell_type": "markdown",
   "id": "7ab30803",
   "metadata": {},
   "source": [
    "At this point, LASSO is the best model\n",
    "\n",
    "We still need to try different values of Alpha for Elastic Net\n",
    "\n",
    "Source (StatQuest): https://www.youtube.com/watch?v=ctmNq7FgbvI"
   ]
  },
  {
   "cell_type": "code",
   "execution_count": 50,
   "id": "b4a5b9eb",
   "metadata": {},
   "outputs": [],
   "source": [
    "list.of.fits<-list()\n",
    "for (i in 0:10){\n",
    "    fit.name<-paste0(\"alpha\",i/10)\n",
    "    list.of.fits[[fit.name]]<-\n",
    "    cv.glmnet(x_train,y_train,type.measure=\"mse\", alpha=i/10,\n",
    "             family=\"gaussian\")\n",
    "}\n"
   ]
  },
  {
   "cell_type": "markdown",
   "id": "d61c3747",
   "metadata": {},
   "source": [
    "- When i=0, then alpha will be 0 and result in Ridge Regression\n",
    "- When i=1, then alpha will be 0.1\n",
    "- etc\n",
    "- When i=10, then alpha=1, which results in Lasso Regression"
   ]
  },
  {
   "cell_type": "code",
   "execution_count": 53,
   "id": "477e7a60",
   "metadata": {},
   "outputs": [],
   "source": [
    "results<-data.frame()\n",
    "for (i in 0:10){\n",
    "    fit.name<-paste0(\"alpha\", i/10)\n",
    "    predicted<-\n",
    "    predict(list.of.fits[[fit.name]],\n",
    "           s=list.of.fits[[fit.name]]$lambda.1se,newx=x_test)\n",
    "    mse<-mean((y_test-predicted)^2)\n",
    "    temp<-data.frame(alpha=i/10,mse=mse,fit.name=fit.name)\n",
    "    results<-rbind(results,temp)\n",
    "}"
   ]
  },
  {
   "cell_type": "code",
   "execution_count": 54,
   "id": "8eed998c",
   "metadata": {},
   "outputs": [
    {
     "data": {
      "text/html": [
       "<table class=\"dataframe\">\n",
       "<caption>A data.frame: 11 × 3</caption>\n",
       "<thead>\n",
       "\t<tr><th scope=col>alpha</th><th scope=col>mse</th><th scope=col>fit.name</th></tr>\n",
       "\t<tr><th scope=col>&lt;dbl&gt;</th><th scope=col>&lt;dbl&gt;</th><th scope=col>&lt;chr&gt;</th></tr>\n",
       "</thead>\n",
       "<tbody>\n",
       "\t<tr><td>0.0</td><td>0.5048315</td><td>alpha0  </td></tr>\n",
       "\t<tr><td>0.1</td><td>0.5991401</td><td>alpha0.1</td></tr>\n",
       "\t<tr><td>0.2</td><td>0.4128985</td><td>alpha0.2</td></tr>\n",
       "\t<tr><td>0.3</td><td>0.2759187</td><td>alpha0.3</td></tr>\n",
       "\t<tr><td>0.4</td><td>0.3342465</td><td>alpha0.4</td></tr>\n",
       "\t<tr><td>0.5</td><td>0.3073987</td><td>alpha0.5</td></tr>\n",
       "\t<tr><td>0.6</td><td>0.4251754</td><td>alpha0.6</td></tr>\n",
       "\t<tr><td>0.7</td><td>0.3090506</td><td>alpha0.7</td></tr>\n",
       "\t<tr><td>0.8</td><td>0.3025588</td><td>alpha0.8</td></tr>\n",
       "\t<tr><td>0.9</td><td>0.2676959</td><td>alpha0.9</td></tr>\n",
       "\t<tr><td>1.0</td><td>0.2826170</td><td>alpha1  </td></tr>\n",
       "</tbody>\n",
       "</table>\n"
      ],
      "text/latex": [
       "A data.frame: 11 × 3\n",
       "\\begin{tabular}{lll}\n",
       " alpha & mse & fit.name\\\\\n",
       " <dbl> & <dbl> & <chr>\\\\\n",
       "\\hline\n",
       "\t 0.0 & 0.5048315 & alpha0  \\\\\n",
       "\t 0.1 & 0.5991401 & alpha0.1\\\\\n",
       "\t 0.2 & 0.4128985 & alpha0.2\\\\\n",
       "\t 0.3 & 0.2759187 & alpha0.3\\\\\n",
       "\t 0.4 & 0.3342465 & alpha0.4\\\\\n",
       "\t 0.5 & 0.3073987 & alpha0.5\\\\\n",
       "\t 0.6 & 0.4251754 & alpha0.6\\\\\n",
       "\t 0.7 & 0.3090506 & alpha0.7\\\\\n",
       "\t 0.8 & 0.3025588 & alpha0.8\\\\\n",
       "\t 0.9 & 0.2676959 & alpha0.9\\\\\n",
       "\t 1.0 & 0.2826170 & alpha1  \\\\\n",
       "\\end{tabular}\n"
      ],
      "text/markdown": [
       "\n",
       "A data.frame: 11 × 3\n",
       "\n",
       "| alpha &lt;dbl&gt; | mse &lt;dbl&gt; | fit.name &lt;chr&gt; |\n",
       "|---|---|---|\n",
       "| 0.0 | 0.5048315 | alpha0   |\n",
       "| 0.1 | 0.5991401 | alpha0.1 |\n",
       "| 0.2 | 0.4128985 | alpha0.2 |\n",
       "| 0.3 | 0.2759187 | alpha0.3 |\n",
       "| 0.4 | 0.3342465 | alpha0.4 |\n",
       "| 0.5 | 0.3073987 | alpha0.5 |\n",
       "| 0.6 | 0.4251754 | alpha0.6 |\n",
       "| 0.7 | 0.3090506 | alpha0.7 |\n",
       "| 0.8 | 0.3025588 | alpha0.8 |\n",
       "| 0.9 | 0.2676959 | alpha0.9 |\n",
       "| 1.0 | 0.2826170 | alpha1   |\n",
       "\n"
      ],
      "text/plain": [
       "   alpha mse       fit.name\n",
       "1  0.0   0.5048315 alpha0  \n",
       "2  0.1   0.5991401 alpha0.1\n",
       "3  0.2   0.4128985 alpha0.2\n",
       "4  0.3   0.2759187 alpha0.3\n",
       "5  0.4   0.3342465 alpha0.4\n",
       "6  0.5   0.3073987 alpha0.5\n",
       "7  0.6   0.4251754 alpha0.6\n",
       "8  0.7   0.3090506 alpha0.7\n",
       "9  0.8   0.3025588 alpha0.8\n",
       "10 0.9   0.2676959 alpha0.9\n",
       "11 1.0   0.2826170 alpha1  "
      ]
     },
     "metadata": {},
     "output_type": "display_data"
    }
   ],
   "source": [
    "results"
   ]
  },
  {
   "cell_type": "markdown",
   "id": "72e8201f",
   "metadata": {},
   "source": [
    "The best fit is when $\\alpha = 0.9$ where the MSE is 0.2676959"
   ]
  },
  {
   "cell_type": "markdown",
   "id": "9a89c5f8",
   "metadata": {},
   "source": [
    "---"
   ]
  }
 ],
 "metadata": {
  "kernelspec": {
   "display_name": "R",
   "language": "R",
   "name": "ir"
  },
  "language_info": {
   "codemirror_mode": "r",
   "file_extension": ".r",
   "mimetype": "text/x-r-source",
   "name": "R",
   "pygments_lexer": "r",
   "version": "4.2.2"
  }
 },
 "nbformat": 4,
 "nbformat_minor": 5
}
