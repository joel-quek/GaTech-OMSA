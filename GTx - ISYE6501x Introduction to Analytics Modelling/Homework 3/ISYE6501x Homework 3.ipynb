{
 "cells": [
  {
   "cell_type": "markdown",
   "id": "10bde85f",
   "metadata": {},
   "source": [
    "# ISYE6501x Homework 3 - Joel Quek"
   ]
  },
  {
   "cell_type": "markdown",
   "id": "f1fa59e6",
   "metadata": {},
   "source": [
    "---"
   ]
  },
  {
   "cell_type": "markdown",
   "id": "ea9022d7",
   "metadata": {},
   "source": [
    "## Question 5.1\n",
    "\n",
    "Using crime data from the file uscrime.txt (http://www.statsci.org/data/general/uscrime.txt, description at http://www.statsci.org/data/general/uscrime.html), test to see whether there are any outliers in the last column (number of crimes per 100,000 people).  Use the grubbs.test function in the outliers package in R."
   ]
  },
  {
   "cell_type": "markdown",
   "id": "405160e6",
   "metadata": {},
   "source": [
    "### Install Libraries"
   ]
  },
  {
   "cell_type": "code",
   "execution_count": 19,
   "id": "55e22209",
   "metadata": {
    "collapsed": true
   },
   "outputs": [
    {
     "name": "stdout",
     "output_type": "stream",
     "text": [
      "\n",
      "  There is a binary version available but the source version is later:\n",
      "         binary source needs_compilation\n",
      "outliers   0.14   0.15             FALSE\n",
      "\n"
     ]
    },
    {
     "name": "stderr",
     "output_type": "stream",
     "text": [
      "installing the source package 'outliers'\n",
      "\n"
     ]
    }
   ],
   "source": [
    "install.packages(\"outliers\")"
   ]
  },
  {
   "cell_type": "code",
   "execution_count": 20,
   "id": "bba725aa",
   "metadata": {},
   "outputs": [],
   "source": [
    "library(outliers)"
   ]
  },
  {
   "cell_type": "markdown",
   "id": "bc21f4bc",
   "metadata": {},
   "source": [
    "### Open Data as Data Frame"
   ]
  },
  {
   "cell_type": "code",
   "execution_count": 6,
   "id": "5b27e5c8",
   "metadata": {},
   "outputs": [],
   "source": [
    "uscrime <- read.table(\"C:\\\\Users\\\\redoc\\\\OneDrive\\\\Desktop\\\\GTx Masters OMSA\\\\GTx - ISYE6501x Introduction to Analytics Modelling\\\\Week 3\\\\HW3\\\\Data\\\\uscrime.txt\", header=TRUE)"
   ]
  },
  {
   "cell_type": "markdown",
   "id": "660f1a4d",
   "metadata": {},
   "source": [
    "  |Variable\t| \tDescription|\n",
    "    |---|---|\n",
    "|M\t    |\tpercentage of males aged 14–24 in total state population|\n",
    "|So\t    |\tindicator variable for a southern state|\n",
    "|Ed\t    |\tmean years of schooling of the population aged 25 years or over|\n",
    "|Po1    |\t\tper capita expenditure on police protection in 1960|\n",
    "|Po2    |\t\tper capita expenditure on police protection in 1959|\n",
    "|LF\t    |\tlabour force participation rate of civilian urban males in the age-group 14-24|\n",
    "|M.F    |\t\tnumber of males per 100 females|\n",
    "|Pop    |\t\tstate population in 1960 in hundred thousands|\n",
    "|NW\t    |\tpercentage of nonwhites in the population|\n",
    "|U1\t    |\tunemployment rate of urban males 14–24|\n",
    "|U2\t    |\tunemployment rate of urban males 35–39|\n",
    "|Wealth\t|\twealth: median value of transferable assets or family income|\n",
    "|Ineq\t|\tincome inequality: percentage of families earning below half the median income|\n",
    "|Prob\t|\tprobability of imprisonment: ratio of number of commitments to number of offenses|\n",
    "|Time\t|\taverage time in months served by offenders in state prisons before their first release|\n",
    "|Crime\t|\tcrime rate: number of offenses per 100,000 population in 1960|\n"
   ]
  },
  {
   "cell_type": "code",
   "execution_count": 7,
   "id": "814867ab",
   "metadata": {},
   "outputs": [
    {
     "data": {
      "text/html": [
       "<table>\n",
       "<thead><tr><th scope=col>M</th><th scope=col>So</th><th scope=col>Ed</th><th scope=col>Po1</th><th scope=col>Po2</th><th scope=col>LF</th><th scope=col>M.F</th><th scope=col>Pop</th><th scope=col>NW</th><th scope=col>U1</th><th scope=col>U2</th><th scope=col>Wealth</th><th scope=col>Ineq</th><th scope=col>Prob</th><th scope=col>Time</th><th scope=col>Crime</th></tr></thead>\n",
       "<tbody>\n",
       "\t<tr><td>15.1    </td><td>1       </td><td> 9.1    </td><td> 5.8    </td><td> 5.6    </td><td>0.510   </td><td> 95.0   </td><td> 33     </td><td>30.1    </td><td>0.108   </td><td>4.1     </td><td>3940    </td><td>26.1    </td><td>0.084602</td><td>26.2011 </td><td> 791    </td></tr>\n",
       "\t<tr><td>14.3    </td><td>0       </td><td>11.3    </td><td>10.3    </td><td> 9.5    </td><td>0.583   </td><td>101.2   </td><td> 13     </td><td>10.2    </td><td>0.096   </td><td>3.6     </td><td>5570    </td><td>19.4    </td><td>0.029599</td><td>25.2999 </td><td>1635    </td></tr>\n",
       "\t<tr><td>14.2    </td><td>1       </td><td> 8.9    </td><td> 4.5    </td><td> 4.4    </td><td>0.533   </td><td> 96.9   </td><td> 18     </td><td>21.9    </td><td>0.094   </td><td>3.3     </td><td>3180    </td><td>25.0    </td><td>0.083401</td><td>24.3006 </td><td> 578    </td></tr>\n",
       "\t<tr><td>13.6    </td><td>0       </td><td>12.1    </td><td>14.9    </td><td>14.1    </td><td>0.577   </td><td> 99.4   </td><td>157     </td><td> 8.0    </td><td>0.102   </td><td>3.9     </td><td>6730    </td><td>16.7    </td><td>0.015801</td><td>29.9012 </td><td>1969    </td></tr>\n",
       "\t<tr><td>14.1    </td><td>0       </td><td>12.1    </td><td>10.9    </td><td>10.1    </td><td>0.591   </td><td> 98.5   </td><td> 18     </td><td> 3.0    </td><td>0.091   </td><td>2.0     </td><td>5780    </td><td>17.4    </td><td>0.041399</td><td>21.2998 </td><td>1234    </td></tr>\n",
       "\t<tr><td>12.1    </td><td>0       </td><td>11.0    </td><td>11.8    </td><td>11.5    </td><td>0.547   </td><td> 96.4   </td><td> 25     </td><td> 4.4    </td><td>0.084   </td><td>2.9     </td><td>6890    </td><td>12.6    </td><td>0.034201</td><td>20.9995 </td><td> 682    </td></tr>\n",
       "</tbody>\n",
       "</table>\n"
      ],
      "text/latex": [
       "\\begin{tabular}{r|llllllllllllllll}\n",
       " M & So & Ed & Po1 & Po2 & LF & M.F & Pop & NW & U1 & U2 & Wealth & Ineq & Prob & Time & Crime\\\\\n",
       "\\hline\n",
       "\t 15.1     & 1        &  9.1     &  5.8     &  5.6     & 0.510    &  95.0    &  33      & 30.1     & 0.108    & 4.1      & 3940     & 26.1     & 0.084602 & 26.2011  &  791    \\\\\n",
       "\t 14.3     & 0        & 11.3     & 10.3     &  9.5     & 0.583    & 101.2    &  13      & 10.2     & 0.096    & 3.6      & 5570     & 19.4     & 0.029599 & 25.2999  & 1635    \\\\\n",
       "\t 14.2     & 1        &  8.9     &  4.5     &  4.4     & 0.533    &  96.9    &  18      & 21.9     & 0.094    & 3.3      & 3180     & 25.0     & 0.083401 & 24.3006  &  578    \\\\\n",
       "\t 13.6     & 0        & 12.1     & 14.9     & 14.1     & 0.577    &  99.4    & 157      &  8.0     & 0.102    & 3.9      & 6730     & 16.7     & 0.015801 & 29.9012  & 1969    \\\\\n",
       "\t 14.1     & 0        & 12.1     & 10.9     & 10.1     & 0.591    &  98.5    &  18      &  3.0     & 0.091    & 2.0      & 5780     & 17.4     & 0.041399 & 21.2998  & 1234    \\\\\n",
       "\t 12.1     & 0        & 11.0     & 11.8     & 11.5     & 0.547    &  96.4    &  25      &  4.4     & 0.084    & 2.9      & 6890     & 12.6     & 0.034201 & 20.9995  &  682    \\\\\n",
       "\\end{tabular}\n"
      ],
      "text/markdown": [
       "\n",
       "| M | So | Ed | Po1 | Po2 | LF | M.F | Pop | NW | U1 | U2 | Wealth | Ineq | Prob | Time | Crime |\n",
       "|---|---|---|---|---|---|---|---|---|---|---|---|---|---|---|---|\n",
       "| 15.1     | 1        |  9.1     |  5.8     |  5.6     | 0.510    |  95.0    |  33      | 30.1     | 0.108    | 4.1      | 3940     | 26.1     | 0.084602 | 26.2011  |  791     |\n",
       "| 14.3     | 0        | 11.3     | 10.3     |  9.5     | 0.583    | 101.2    |  13      | 10.2     | 0.096    | 3.6      | 5570     | 19.4     | 0.029599 | 25.2999  | 1635     |\n",
       "| 14.2     | 1        |  8.9     |  4.5     |  4.4     | 0.533    |  96.9    |  18      | 21.9     | 0.094    | 3.3      | 3180     | 25.0     | 0.083401 | 24.3006  |  578     |\n",
       "| 13.6     | 0        | 12.1     | 14.9     | 14.1     | 0.577    |  99.4    | 157      |  8.0     | 0.102    | 3.9      | 6730     | 16.7     | 0.015801 | 29.9012  | 1969     |\n",
       "| 14.1     | 0        | 12.1     | 10.9     | 10.1     | 0.591    |  98.5    |  18      |  3.0     | 0.091    | 2.0      | 5780     | 17.4     | 0.041399 | 21.2998  | 1234     |\n",
       "| 12.1     | 0        | 11.0     | 11.8     | 11.5     | 0.547    |  96.4    |  25      |  4.4     | 0.084    | 2.9      | 6890     | 12.6     | 0.034201 | 20.9995  |  682     |\n",
       "\n"
      ],
      "text/plain": [
       "  M    So Ed   Po1  Po2  LF    M.F   Pop NW   U1    U2  Wealth Ineq Prob    \n",
       "1 15.1 1   9.1  5.8  5.6 0.510  95.0  33 30.1 0.108 4.1 3940   26.1 0.084602\n",
       "2 14.3 0  11.3 10.3  9.5 0.583 101.2  13 10.2 0.096 3.6 5570   19.4 0.029599\n",
       "3 14.2 1   8.9  4.5  4.4 0.533  96.9  18 21.9 0.094 3.3 3180   25.0 0.083401\n",
       "4 13.6 0  12.1 14.9 14.1 0.577  99.4 157  8.0 0.102 3.9 6730   16.7 0.015801\n",
       "5 14.1 0  12.1 10.9 10.1 0.591  98.5  18  3.0 0.091 2.0 5780   17.4 0.041399\n",
       "6 12.1 0  11.0 11.8 11.5 0.547  96.4  25  4.4 0.084 2.9 6890   12.6 0.034201\n",
       "  Time    Crime\n",
       "1 26.2011  791 \n",
       "2 25.2999 1635 \n",
       "3 24.3006  578 \n",
       "4 29.9012 1969 \n",
       "5 21.2998 1234 \n",
       "6 20.9995  682 "
      ]
     },
     "metadata": {},
     "output_type": "display_data"
    }
   ],
   "source": [
    "head(uscrime)"
   ]
  },
  {
   "cell_type": "code",
   "execution_count": 8,
   "id": "af250965",
   "metadata": {},
   "outputs": [
    {
     "data": {
      "text/html": [
       "<ol class=list-inline>\n",
       "\t<li>47</li>\n",
       "\t<li>16</li>\n",
       "</ol>\n"
      ],
      "text/latex": [
       "\\begin{enumerate*}\n",
       "\\item 47\n",
       "\\item 16\n",
       "\\end{enumerate*}\n"
      ],
      "text/markdown": [
       "1. 47\n",
       "2. 16\n",
       "\n",
       "\n"
      ],
      "text/plain": [
       "[1] 47 16"
      ]
     },
     "metadata": {},
     "output_type": "display_data"
    }
   ],
   "source": [
    "dim(uscrime)"
   ]
  },
  {
   "cell_type": "markdown",
   "id": "c5f42969",
   "metadata": {},
   "source": [
    "There are 47 rows in the dataframe"
   ]
  },
  {
   "cell_type": "markdown",
   "id": "7abc5ac9",
   "metadata": {},
   "source": [
    "### Visualisation of \"Crime\" Column"
   ]
  },
  {
   "cell_type": "code",
   "execution_count": 25,
   "id": "244d4064",
   "metadata": {},
   "outputs": [
    {
     "data": {
      "text/html": [
       "1993"
      ],
      "text/latex": [
       "1993"
      ],
      "text/markdown": [
       "1993"
      ],
      "text/plain": [
       "[1] 1993"
      ]
     },
     "metadata": {},
     "output_type": "display_data"
    }
   ],
   "source": [
    "max(uscrime$Crime)"
   ]
  },
  {
   "cell_type": "code",
   "execution_count": 30,
   "id": "a2c49240",
   "metadata": {},
   "outputs": [
    {
     "data": {
      "image/png": "[encoded data removed]",
      "text/plain": [
       "Plot with title \" Histogram of Crime\""
      ]
     },
     "metadata": {},
     "output_type": "display_data"
    }
   ],
   "source": [
    "hist(uscrime$Crime, col= 'skyblue', breaks = 100, main = \" Histogram of Crime\", xlab = \"Crime\")"
   ]
  },
  {
   "cell_type": "code",
   "execution_count": 47,
   "id": "ed9b962e",
   "metadata": {},
   "outputs": [],
   "source": [
    "uscrime<-uscrime[order(uscrime$Crime,decreasing=TRUE),]"
   ]
  },
  {
   "cell_type": "code",
   "execution_count": 48,
   "id": "37f165ba",
   "metadata": {},
   "outputs": [
    {
     "data": {
      "text/html": [
       "<table>\n",
       "<thead><tr><th></th><th scope=col>M</th><th scope=col>So</th><th scope=col>Ed</th><th scope=col>Po1</th><th scope=col>Po2</th><th scope=col>LF</th><th scope=col>M.F</th><th scope=col>Pop</th><th scope=col>NW</th><th scope=col>U1</th><th scope=col>U2</th><th scope=col>Wealth</th><th scope=col>Ineq</th><th scope=col>Prob</th><th scope=col>Time</th><th scope=col>Crime</th></tr></thead>\n",
       "<tbody>\n",
       "\t<tr><th scope=row>26</th><td>13.1    </td><td>0       </td><td>12.1    </td><td>16.0    </td><td>14.3    </td><td>0.631   </td><td>107.1   </td><td>  3     </td><td> 7.7    </td><td>0.102   </td><td>4.1     </td><td>6740    </td><td>15.2    </td><td>0.041698</td><td>22.1005 </td><td>1993    </td></tr>\n",
       "\t<tr><th scope=row>4</th><td>13.6    </td><td>0       </td><td>12.1    </td><td>14.9    </td><td>14.1    </td><td>0.577   </td><td> 99.4   </td><td>157     </td><td> 8.0    </td><td>0.102   </td><td>3.9     </td><td>6730    </td><td>16.7    </td><td>0.015801</td><td>29.9012 </td><td>1969    </td></tr>\n",
       "\t<tr><th scope=row>11</th><td>12.4    </td><td>0       </td><td>10.5    </td><td>12.1    </td><td>11.6    </td><td>0.580   </td><td> 96.6   </td><td>101     </td><td>10.6    </td><td>0.077   </td><td>3.5     </td><td>6570    </td><td>17.0    </td><td>0.016201</td><td>41.6000 </td><td>1674    </td></tr>\n",
       "\t<tr><th scope=row>2</th><td>14.3    </td><td>0       </td><td>11.3    </td><td>10.3    </td><td> 9.5    </td><td>0.583   </td><td>101.2   </td><td> 13     </td><td>10.2    </td><td>0.096   </td><td>3.6     </td><td>5570    </td><td>19.4    </td><td>0.029599</td><td>25.2999 </td><td>1635    </td></tr>\n",
       "\t<tr><th scope=row>8</th><td>13.1    </td><td>1       </td><td>10.9    </td><td>11.5    </td><td>10.9    </td><td>0.542   </td><td> 96.9   </td><td> 50     </td><td>17.9    </td><td>0.079   </td><td>3.5     </td><td>4720    </td><td>20.6    </td><td>0.040099</td><td>24.5988 </td><td>1555    </td></tr>\n",
       "\t<tr><th scope=row>36</th><td>15.0    </td><td>0       </td><td>10.0    </td><td>10.9    </td><td> 9.8    </td><td>0.531   </td><td> 96.4   </td><td>  9     </td><td> 2.4    </td><td>0.087   </td><td>3.8     </td><td>5590    </td><td>15.3    </td><td>0.006900</td><td>44.0004 </td><td>1272    </td></tr>\n",
       "</tbody>\n",
       "</table>\n"
      ],
      "text/latex": [
       "\\begin{tabular}{r|llllllllllllllll}\n",
       "  & M & So & Ed & Po1 & Po2 & LF & M.F & Pop & NW & U1 & U2 & Wealth & Ineq & Prob & Time & Crime\\\\\n",
       "\\hline\n",
       "\t26 & 13.1     & 0        & 12.1     & 16.0     & 14.3     & 0.631    & 107.1    &   3      &  7.7     & 0.102    & 4.1      & 6740     & 15.2     & 0.041698 & 22.1005  & 1993    \\\\\n",
       "\t4 & 13.6     & 0        & 12.1     & 14.9     & 14.1     & 0.577    &  99.4    & 157      &  8.0     & 0.102    & 3.9      & 6730     & 16.7     & 0.015801 & 29.9012  & 1969    \\\\\n",
       "\t11 & 12.4     & 0        & 10.5     & 12.1     & 11.6     & 0.580    &  96.6    & 101      & 10.6     & 0.077    & 3.5      & 6570     & 17.0     & 0.016201 & 41.6000  & 1674    \\\\\n",
       "\t2 & 14.3     & 0        & 11.3     & 10.3     &  9.5     & 0.583    & 101.2    &  13      & 10.2     & 0.096    & 3.6      & 5570     & 19.4     & 0.029599 & 25.2999  & 1635    \\\\\n",
       "\t8 & 13.1     & 1        & 10.9     & 11.5     & 10.9     & 0.542    &  96.9    &  50      & 17.9     & 0.079    & 3.5      & 4720     & 20.6     & 0.040099 & 24.5988  & 1555    \\\\\n",
       "\t36 & 15.0     & 0        & 10.0     & 10.9     &  9.8     & 0.531    &  96.4    &   9      &  2.4     & 0.087    & 3.8      & 5590     & 15.3     & 0.006900 & 44.0004  & 1272    \\\\\n",
       "\\end{tabular}\n"
      ],
      "text/markdown": [
       "\n",
       "| <!--/--> | M | So | Ed | Po1 | Po2 | LF | M.F | Pop | NW | U1 | U2 | Wealth | Ineq | Prob | Time | Crime |\n",
       "|---|---|---|---|---|---|---|---|---|---|---|---|---|---|---|---|---|\n",
       "| 26 | 13.1     | 0        | 12.1     | 16.0     | 14.3     | 0.631    | 107.1    |   3      |  7.7     | 0.102    | 4.1      | 6740     | 15.2     | 0.041698 | 22.1005  | 1993     |\n",
       "| 4 | 13.6     | 0        | 12.1     | 14.9     | 14.1     | 0.577    |  99.4    | 157      |  8.0     | 0.102    | 3.9      | 6730     | 16.7     | 0.015801 | 29.9012  | 1969     |\n",
       "| 11 | 12.4     | 0        | 10.5     | 12.1     | 11.6     | 0.580    |  96.6    | 101      | 10.6     | 0.077    | 3.5      | 6570     | 17.0     | 0.016201 | 41.6000  | 1674     |\n",
       "| 2 | 14.3     | 0        | 11.3     | 10.3     |  9.5     | 0.583    | 101.2    |  13      | 10.2     | 0.096    | 3.6      | 5570     | 19.4     | 0.029599 | 25.2999  | 1635     |\n",
       "| 8 | 13.1     | 1        | 10.9     | 11.5     | 10.9     | 0.542    |  96.9    |  50      | 17.9     | 0.079    | 3.5      | 4720     | 20.6     | 0.040099 | 24.5988  | 1555     |\n",
       "| 36 | 15.0     | 0        | 10.0     | 10.9     |  9.8     | 0.531    |  96.4    |   9      |  2.4     | 0.087    | 3.8      | 5590     | 15.3     | 0.006900 | 44.0004  | 1272     |\n",
       "\n"
      ],
      "text/plain": [
       "   M    So Ed   Po1  Po2  LF    M.F   Pop NW   U1    U2  Wealth Ineq Prob    \n",
       "26 13.1 0  12.1 16.0 14.3 0.631 107.1   3  7.7 0.102 4.1 6740   15.2 0.041698\n",
       "4  13.6 0  12.1 14.9 14.1 0.577  99.4 157  8.0 0.102 3.9 6730   16.7 0.015801\n",
       "11 12.4 0  10.5 12.1 11.6 0.580  96.6 101 10.6 0.077 3.5 6570   17.0 0.016201\n",
       "2  14.3 0  11.3 10.3  9.5 0.583 101.2  13 10.2 0.096 3.6 5570   19.4 0.029599\n",
       "8  13.1 1  10.9 11.5 10.9 0.542  96.9  50 17.9 0.079 3.5 4720   20.6 0.040099\n",
       "36 15.0 0  10.0 10.9  9.8 0.531  96.4   9  2.4 0.087 3.8 5590   15.3 0.006900\n",
       "   Time    Crime\n",
       "26 22.1005 1993 \n",
       "4  29.9012 1969 \n",
       "11 41.6000 1674 \n",
       "2  25.2999 1635 \n",
       "8  24.5988 1555 \n",
       "36 44.0004 1272 "
      ]
     },
     "metadata": {},
     "output_type": "display_data"
    }
   ],
   "source": [
    "head(uscrime)"
   ]
  },
  {
   "cell_type": "markdown",
   "id": "969d0f3e",
   "metadata": {},
   "source": [
    "Visually there appears to be 2 outliers. \n",
    "\n",
    "And based on the sorted dataframe, they appear to be 1993 and 1969\n",
    "\n",
    "We have to check using Grubbs Outlier Test"
   ]
  },
  {
   "cell_type": "markdown",
   "id": "ae7db279",
   "metadata": {},
   "source": [
    "### Grubbs Outlier Test"
   ]
  },
  {
   "cell_type": "markdown",
   "id": "04c2cacd",
   "metadata": {},
   "source": [
    "Source: https://www.youtube.com/watch?v=rcYN89Trt4Y"
   ]
  },
  {
   "cell_type": "markdown",
   "id": "266ef991",
   "metadata": {},
   "source": [
    "#### Two Tailed Test (One Outlier)"
   ]
  },
  {
   "cell_type": "code",
   "execution_count": 32,
   "id": "9bd03f62",
   "metadata": {},
   "outputs": [
    {
     "data": {
      "text/plain": [
       "\n",
       "\tGrubbs test for one outlier\n",
       "\n",
       "data:  uscrime$Crime\n",
       "G = 2.81287, U = 0.82426, p-value = 0.1577\n",
       "alternative hypothesis: highest value 1993 is an outlier\n"
      ]
     },
     "metadata": {},
     "output_type": "display_data"
    }
   ],
   "source": [
    "grubbs.test(uscrime$Crime, two.sided=TRUE)"
   ]
  },
  {
   "cell_type": "markdown",
   "id": "1d34f0f7",
   "metadata": {},
   "source": [
    "#### Two Tailed Test (One Outlier)"
   ]
  },
  {
   "cell_type": "code",
   "execution_count": 34,
   "id": "49303703",
   "metadata": {},
   "outputs": [
    {
     "data": {
      "text/plain": [
       "\n",
       "\tGrubbs test for one outlier\n",
       "\n",
       "data:  uscrime$Crime\n",
       "G = 2.81287, U = 0.82426, p-value = 0.07887\n",
       "alternative hypothesis: highest value 1993 is an outlier\n"
      ]
     },
     "metadata": {},
     "output_type": "display_data"
    }
   ],
   "source": [
    "grubbs.test(uscrime$Crime)"
   ]
  },
  {
   "cell_type": "markdown",
   "id": "682076e2",
   "metadata": {},
   "source": [
    "#### Check Lowest Value (One Outlier)"
   ]
  },
  {
   "cell_type": "markdown",
   "id": "6c59457a",
   "metadata": {},
   "source": [
    "**Type 10** is a test for one outlier\n",
    "\n",
    "**opposite=TRUE** checks for outliers on the other end of the dataset"
   ]
  },
  {
   "cell_type": "code",
   "execution_count": 51,
   "id": "9ef6115b",
   "metadata": {},
   "outputs": [
    {
     "data": {
      "text/plain": [
       "\n",
       "\tGrubbs test for one outlier\n",
       "\n",
       "data:  uscrime$Crime\n",
       "G = 1.45589, U = 0.95292, p-value = 1\n",
       "alternative hypothesis: lowest value 342 is an outlier\n"
      ]
     },
     "metadata": {},
     "output_type": "display_data"
    }
   ],
   "source": [
    "grubbs.test(uscrime$Crime, type=10, opposite=TRUE)"
   ]
  },
  {
   "cell_type": "markdown",
   "id": "a8fbf46f",
   "metadata": {},
   "source": [
    "#### Test for two Outliers"
   ]
  },
  {
   "cell_type": "markdown",
   "id": "c5f0b929",
   "metadata": {},
   "source": [
    "Type 11 is a test for two outliers on opposite tails\n",
    "\n",
    "This portion is just for extra practice"
   ]
  },
  {
   "cell_type": "code",
   "execution_count": 57,
   "id": "eb7b8cb0",
   "metadata": {},
   "outputs": [
    {
     "data": {
      "text/plain": [
       "\n",
       "\tGrubbs test for two opposite outliers\n",
       "\n",
       "data:  uscrime$Crime\n",
       "G = 4.26877, U = 0.78103, p-value = 1\n",
       "alternative hypothesis: 342 and 1993 are outliers\n"
      ]
     },
     "metadata": {},
     "output_type": "display_data"
    }
   ],
   "source": [
    "grubbs.test(uscrime$Crime, type=11)"
   ]
  },
  {
   "cell_type": "markdown",
   "id": "b8cd96a7",
   "metadata": {},
   "source": [
    "#### Conclusion\n",
    "At a 0.05 Level of Significance ($\\alpha$), we can see that in ALL CASES, the **p-value > $\\alpha$**, hence we cannot reject the null hypothesis. \n",
    "\n",
    "Since the extreme values are not outliers, we don't have to test for the second largest/smallest values.\n",
    "\n",
    "**There are no outliers.**"
   ]
  },
  {
   "cell_type": "markdown",
   "id": "96968c40",
   "metadata": {},
   "source": [
    "---"
   ]
  },
  {
   "cell_type": "markdown",
   "id": "cbffbcf8",
   "metadata": {},
   "source": [
    "## Question 6.1\n",
    "\n",
    "Describe a situation or problem from your job, everyday life, current events, etc., for which a Change Detection model would be appropriate. Applying the CUSUM technique, how would you choose the critical value and the threshold?"
   ]
  },
  {
   "cell_type": "markdown",
   "id": "edcd093d",
   "metadata": {},
   "source": [
    "### Response\n",
    "\n",
    "I am an educator but also a recreational trader managing my own funds. \n",
    "\n",
    "When analysing chart patterns, I am applying time-series analysis on the price movements on a particular ETF/Stock over time. \n",
    "\n",
    "The **CUSUM** approach is especially appropriate during preiods of **price consolidation**. \n",
    "CUSUM would not work during trending markets as there is no oscillatory price action.\n",
    "\n",
    "Setting an appropriate threshold to detect if price movements are too extreme will allow me to make an educated guess as to whether the price movement will **breakout** in the near future."
   ]
  },
  {
   "attachments": {
    "Square-consolidation-1536x858.png": {
     "image/png": "[encoded data removed]"
    }
   },
   "cell_type": "markdown",
   "id": "c427cbd2",
   "metadata": {},
   "source": [
    "![Square-consolidation-1536x858.png](attachment:Square-consolidation-1536x858.png)\n",
    "\n",
    "Source: https://tokenist.com/investing/stock-consolidation/"
   ]
  },
  {
   "cell_type": "markdown",
   "id": "b2875eff",
   "metadata": {},
   "source": [
    "### CUSUM Formula (Detecting Increase)\n",
    "\n",
    "$S_t = max{\\{0, S_{t-1} + (x_t - \\mu - C)\\}}$\n",
    "\n",
    "Is $S_t \\geq T$ ?"
   ]
  },
  {
   "cell_type": "markdown",
   "id": "c78218a8",
   "metadata": {},
   "source": [
    "### Choice of Parameters\n",
    "\n",
    "|Parameter|Choice|\n",
    "|---|---|\n",
    "|$\\mu$ |Midpoint between upper and lower bound of consolidation zone|\n",
    "|Critical Value (C) |Can be Zero. Because there is no cost for a highly-sensitive model.|\n",
    "|Threshold (T) |Half distance between upper and lower bound of consolidation zone <br/> **MULTIPLIED** by 1.5 of the Average True Range of the recent prices.|"
   ]
  },
  {
   "cell_type": "markdown",
   "id": "b70113c9",
   "metadata": {},
   "source": [
    "---"
   ]
  },
  {
   "cell_type": "markdown",
   "id": "4b19d1ca",
   "metadata": {},
   "source": [
    "## Question 6.2\n",
    "\n",
    "1.\tUsing July through October daily-high-temperature data for Atlanta for 1996 through 2015, use a CUSUM approach to identify when unofficial summer ends (i.e., when the weather starts cooling off) each year.  You can get the data that you need from the file temps.txt or online, for example at http://www.iweathernet.com/atlanta-weather-records  or https://www.wunderground.com/history/airport/KFTY/2015/7/1/CustomHistory.html .  You can use R if you’d like, but it’s straightforward enough that an Excel spreadsheet can easily do the job too.\n",
    "\n",
    "2.\tUse a CUSUM approach to make a judgment of whether Atlanta’s summer climate has gotten warmer in that time (and if so, when)."
   ]
  },
  {
   "cell_type": "markdown",
   "id": "f6a07102",
   "metadata": {},
   "source": [
    "### 6.2.1"
   ]
  },
  {
   "cell_type": "code",
   "execution_count": 10,
   "id": "2702cb41",
   "metadata": {},
   "outputs": [],
   "source": [
    "temps<-read.table(\"C:\\\\Users\\\\redoc\\\\OneDrive\\\\Desktop\\\\GTx Masters OMSA\\\\GTx - ISYE6501x Introduction to Analytics Modelling\\\\Week 3\\\\HW3\\\\Data\\\\temps.txt\", header=TRUE)"
   ]
  },
  {
   "cell_type": "code",
   "execution_count": 11,
   "id": "61e3e803",
   "metadata": {},
   "outputs": [
    {
     "data": {
      "text/html": [
       "<table>\n",
       "<thead><tr><th scope=col>DAY</th><th scope=col>X1996</th><th scope=col>X1997</th><th scope=col>X1998</th><th scope=col>X1999</th><th scope=col>X2000</th><th scope=col>X2001</th><th scope=col>X2002</th><th scope=col>X2003</th><th scope=col>X2004</th><th scope=col>...</th><th scope=col>X2006</th><th scope=col>X2007</th><th scope=col>X2008</th><th scope=col>X2009</th><th scope=col>X2010</th><th scope=col>X2011</th><th scope=col>X2012</th><th scope=col>X2013</th><th scope=col>X2014</th><th scope=col>X2015</th></tr></thead>\n",
       "<tbody>\n",
       "\t<tr><td>1-Jul </td><td>98    </td><td>86    </td><td>91    </td><td>84    </td><td>89    </td><td>84    </td><td>90    </td><td>73    </td><td>82    </td><td>...   </td><td>93    </td><td>95    </td><td>85    </td><td>95    </td><td>87    </td><td>92    </td><td>105   </td><td>82    </td><td>90    </td><td>85    </td></tr>\n",
       "\t<tr><td>2-Jul </td><td>97    </td><td>90    </td><td>88    </td><td>82    </td><td>91    </td><td>87    </td><td>90    </td><td>81    </td><td>81    </td><td>...   </td><td>93    </td><td>85    </td><td>87    </td><td>90    </td><td>84    </td><td>94    </td><td> 93   </td><td>85    </td><td>93    </td><td>87    </td></tr>\n",
       "\t<tr><td>3-Jul </td><td>97    </td><td>93    </td><td>91    </td><td>87    </td><td>93    </td><td>87    </td><td>87    </td><td>87    </td><td>86    </td><td>...   </td><td>93    </td><td>82    </td><td>91    </td><td>89    </td><td>83    </td><td>95    </td><td> 99   </td><td>76    </td><td>87    </td><td>79    </td></tr>\n",
       "\t<tr><td>4-Jul </td><td>90    </td><td>91    </td><td>91    </td><td>88    </td><td>95    </td><td>84    </td><td>89    </td><td>86    </td><td>88    </td><td>...   </td><td>91    </td><td>86    </td><td>90    </td><td>91    </td><td>85    </td><td>92    </td><td> 98   </td><td>77    </td><td>84    </td><td>85    </td></tr>\n",
       "\t<tr><td>5-Jul </td><td>89    </td><td>84    </td><td>91    </td><td>90    </td><td>96    </td><td>86    </td><td>93    </td><td>80    </td><td>90    </td><td>...   </td><td>90    </td><td>88    </td><td>88    </td><td>80    </td><td>88    </td><td>90    </td><td>100   </td><td>83    </td><td>86    </td><td>84    </td></tr>\n",
       "\t<tr><td>6-Jul </td><td>93    </td><td>84    </td><td>89    </td><td>91    </td><td>96    </td><td>87    </td><td>93    </td><td>84    </td><td>90    </td><td>...   </td><td>81    </td><td>87    </td><td>82    </td><td>87    </td><td>89    </td><td>90    </td><td> 98   </td><td>83    </td><td>87    </td><td>84    </td></tr>\n",
       "\t<tr><td>7-Jul </td><td>93    </td><td>75    </td><td>93    </td><td>82    </td><td>96    </td><td>87    </td><td>89    </td><td>87    </td><td>89    </td><td>...   </td><td>80    </td><td>82    </td><td>88    </td><td>86    </td><td>94    </td><td>94    </td><td> 93   </td><td>79    </td><td>89    </td><td>90    </td></tr>\n",
       "\t<tr><td>8-Jul </td><td>91    </td><td>87    </td><td>95    </td><td>86    </td><td>91    </td><td>89    </td><td>89    </td><td>90    </td><td>87    </td><td>...   </td><td>82    </td><td>82    </td><td>90    </td><td>82    </td><td>97    </td><td>94    </td><td> 95   </td><td>88    </td><td>90    </td><td>90    </td></tr>\n",
       "\t<tr><td>9-Jul </td><td>93    </td><td>84    </td><td>95    </td><td>87    </td><td>96    </td><td>91    </td><td>90    </td><td>89    </td><td>88    </td><td>...   </td><td>84    </td><td>89    </td><td>89    </td><td>84    </td><td>96    </td><td>91    </td><td> 97   </td><td>88    </td><td>90    </td><td>91    </td></tr>\n",
       "\t<tr><td>10-Jul</td><td>93    </td><td>87    </td><td>91    </td><td>87    </td><td>99    </td><td>87    </td><td>91    </td><td>84    </td><td>89    </td><td>...   </td><td>84    </td><td>86    </td><td>87    </td><td>84    </td><td>90    </td><td>92    </td><td> 95   </td><td>87    </td><td>87    </td><td>93    </td></tr>\n",
       "</tbody>\n",
       "</table>\n"
      ],
      "text/latex": [
       "\\begin{tabular}{r|lllllllllllllllllllll}\n",
       " DAY & X1996 & X1997 & X1998 & X1999 & X2000 & X2001 & X2002 & X2003 & X2004 & ... & X2006 & X2007 & X2008 & X2009 & X2010 & X2011 & X2012 & X2013 & X2014 & X2015\\\\\n",
       "\\hline\n",
       "\t 1-Jul  & 98     & 86     & 91     & 84     & 89     & 84     & 90     & 73     & 82     & ...    & 93     & 95     & 85     & 95     & 87     & 92     & 105    & 82     & 90     & 85    \\\\\n",
       "\t 2-Jul  & 97     & 90     & 88     & 82     & 91     & 87     & 90     & 81     & 81     & ...    & 93     & 85     & 87     & 90     & 84     & 94     &  93    & 85     & 93     & 87    \\\\\n",
       "\t 3-Jul  & 97     & 93     & 91     & 87     & 93     & 87     & 87     & 87     & 86     & ...    & 93     & 82     & 91     & 89     & 83     & 95     &  99    & 76     & 87     & 79    \\\\\n",
       "\t 4-Jul  & 90     & 91     & 91     & 88     & 95     & 84     & 89     & 86     & 88     & ...    & 91     & 86     & 90     & 91     & 85     & 92     &  98    & 77     & 84     & 85    \\\\\n",
       "\t 5-Jul  & 89     & 84     & 91     & 90     & 96     & 86     & 93     & 80     & 90     & ...    & 90     & 88     & 88     & 80     & 88     & 90     & 100    & 83     & 86     & 84    \\\\\n",
       "\t 6-Jul  & 93     & 84     & 89     & 91     & 96     & 87     & 93     & 84     & 90     & ...    & 81     & 87     & 82     & 87     & 89     & 90     &  98    & 83     & 87     & 84    \\\\\n",
       "\t 7-Jul  & 93     & 75     & 93     & 82     & 96     & 87     & 89     & 87     & 89     & ...    & 80     & 82     & 88     & 86     & 94     & 94     &  93    & 79     & 89     & 90    \\\\\n",
       "\t 8-Jul  & 91     & 87     & 95     & 86     & 91     & 89     & 89     & 90     & 87     & ...    & 82     & 82     & 90     & 82     & 97     & 94     &  95    & 88     & 90     & 90    \\\\\n",
       "\t 9-Jul  & 93     & 84     & 95     & 87     & 96     & 91     & 90     & 89     & 88     & ...    & 84     & 89     & 89     & 84     & 96     & 91     &  97    & 88     & 90     & 91    \\\\\n",
       "\t 10-Jul & 93     & 87     & 91     & 87     & 99     & 87     & 91     & 84     & 89     & ...    & 84     & 86     & 87     & 84     & 90     & 92     &  95    & 87     & 87     & 93    \\\\\n",
       "\\end{tabular}\n"
      ],
      "text/markdown": [
       "\n",
       "| DAY | X1996 | X1997 | X1998 | X1999 | X2000 | X2001 | X2002 | X2003 | X2004 | ... | X2006 | X2007 | X2008 | X2009 | X2010 | X2011 | X2012 | X2013 | X2014 | X2015 |\n",
       "|---|---|---|---|---|---|---|---|---|---|---|---|---|---|---|---|---|---|---|---|---|\n",
       "| 1-Jul  | 98     | 86     | 91     | 84     | 89     | 84     | 90     | 73     | 82     | ...    | 93     | 95     | 85     | 95     | 87     | 92     | 105    | 82     | 90     | 85     |\n",
       "| 2-Jul  | 97     | 90     | 88     | 82     | 91     | 87     | 90     | 81     | 81     | ...    | 93     | 85     | 87     | 90     | 84     | 94     |  93    | 85     | 93     | 87     |\n",
       "| 3-Jul  | 97     | 93     | 91     | 87     | 93     | 87     | 87     | 87     | 86     | ...    | 93     | 82     | 91     | 89     | 83     | 95     |  99    | 76     | 87     | 79     |\n",
       "| 4-Jul  | 90     | 91     | 91     | 88     | 95     | 84     | 89     | 86     | 88     | ...    | 91     | 86     | 90     | 91     | 85     | 92     |  98    | 77     | 84     | 85     |\n",
       "| 5-Jul  | 89     | 84     | 91     | 90     | 96     | 86     | 93     | 80     | 90     | ...    | 90     | 88     | 88     | 80     | 88     | 90     | 100    | 83     | 86     | 84     |\n",
       "| 6-Jul  | 93     | 84     | 89     | 91     | 96     | 87     | 93     | 84     | 90     | ...    | 81     | 87     | 82     | 87     | 89     | 90     |  98    | 83     | 87     | 84     |\n",
       "| 7-Jul  | 93     | 75     | 93     | 82     | 96     | 87     | 89     | 87     | 89     | ...    | 80     | 82     | 88     | 86     | 94     | 94     |  93    | 79     | 89     | 90     |\n",
       "| 8-Jul  | 91     | 87     | 95     | 86     | 91     | 89     | 89     | 90     | 87     | ...    | 82     | 82     | 90     | 82     | 97     | 94     |  95    | 88     | 90     | 90     |\n",
       "| 9-Jul  | 93     | 84     | 95     | 87     | 96     | 91     | 90     | 89     | 88     | ...    | 84     | 89     | 89     | 84     | 96     | 91     |  97    | 88     | 90     | 91     |\n",
       "| 10-Jul | 93     | 87     | 91     | 87     | 99     | 87     | 91     | 84     | 89     | ...    | 84     | 86     | 87     | 84     | 90     | 92     |  95    | 87     | 87     | 93     |\n",
       "\n"
      ],
      "text/plain": [
       "   DAY    X1996 X1997 X1998 X1999 X2000 X2001 X2002 X2003 X2004 ... X2006 X2007\n",
       "1  1-Jul  98    86    91    84    89    84    90    73    82    ... 93    95   \n",
       "2  2-Jul  97    90    88    82    91    87    90    81    81    ... 93    85   \n",
       "3  3-Jul  97    93    91    87    93    87    87    87    86    ... 93    82   \n",
       "4  4-Jul  90    91    91    88    95    84    89    86    88    ... 91    86   \n",
       "5  5-Jul  89    84    91    90    96    86    93    80    90    ... 90    88   \n",
       "6  6-Jul  93    84    89    91    96    87    93    84    90    ... 81    87   \n",
       "7  7-Jul  93    75    93    82    96    87    89    87    89    ... 80    82   \n",
       "8  8-Jul  91    87    95    86    91    89    89    90    87    ... 82    82   \n",
       "9  9-Jul  93    84    95    87    96    91    90    89    88    ... 84    89   \n",
       "10 10-Jul 93    87    91    87    99    87    91    84    89    ... 84    86   \n",
       "   X2008 X2009 X2010 X2011 X2012 X2013 X2014 X2015\n",
       "1  85    95    87    92    105   82    90    85   \n",
       "2  87    90    84    94     93   85    93    87   \n",
       "3  91    89    83    95     99   76    87    79   \n",
       "4  90    91    85    92     98   77    84    85   \n",
       "5  88    80    88    90    100   83    86    84   \n",
       "6  82    87    89    90     98   83    87    84   \n",
       "7  88    86    94    94     93   79    89    90   \n",
       "8  90    82    97    94     95   88    90    90   \n",
       "9  89    84    96    91     97   88    90    91   \n",
       "10 87    84    90    92     95   87    87    93   "
      ]
     },
     "metadata": {},
     "output_type": "display_data"
    }
   ],
   "source": [
    "head(temps, 10)"
   ]
  },
  {
   "cell_type": "code",
   "execution_count": 28,
   "id": "0917d6ce",
   "metadata": {},
   "outputs": [
    {
     "data": {
      "text/html": [
       "<table>\n",
       "<thead><tr><th scope=col>X1996</th><th scope=col>X1997</th><th scope=col>X1998</th><th scope=col>X1999</th><th scope=col>X2000</th><th scope=col>X2001</th><th scope=col>X2002</th><th scope=col>X2003</th><th scope=col>X2004</th><th scope=col>X2005</th><th scope=col>X2006</th><th scope=col>X2007</th><th scope=col>X2008</th><th scope=col>X2009</th><th scope=col>X2010</th><th scope=col>X2011</th><th scope=col>X2012</th><th scope=col>X2013</th><th scope=col>X2014</th><th scope=col>X2015</th></tr></thead>\n",
       "<tbody>\n",
       "\t<tr><td>98 </td><td>86 </td><td>91 </td><td>84 </td><td>89 </td><td>84 </td><td>90 </td><td>73 </td><td>82 </td><td>91 </td><td>93 </td><td>95 </td><td>85 </td><td>95 </td><td>87 </td><td>92 </td><td>105</td><td>82 </td><td>90 </td><td>85 </td></tr>\n",
       "\t<tr><td>97 </td><td>90 </td><td>88 </td><td>82 </td><td>91 </td><td>87 </td><td>90 </td><td>81 </td><td>81 </td><td>89 </td><td>93 </td><td>85 </td><td>87 </td><td>90 </td><td>84 </td><td>94 </td><td> 93</td><td>85 </td><td>93 </td><td>87 </td></tr>\n",
       "\t<tr><td>97 </td><td>93 </td><td>91 </td><td>87 </td><td>93 </td><td>87 </td><td>87 </td><td>87 </td><td>86 </td><td>86 </td><td>93 </td><td>82 </td><td>91 </td><td>89 </td><td>83 </td><td>95 </td><td> 99</td><td>76 </td><td>87 </td><td>79 </td></tr>\n",
       "\t<tr><td>90 </td><td>91 </td><td>91 </td><td>88 </td><td>95 </td><td>84 </td><td>89 </td><td>86 </td><td>88 </td><td>86 </td><td>91 </td><td>86 </td><td>90 </td><td>91 </td><td>85 </td><td>92 </td><td> 98</td><td>77 </td><td>84 </td><td>85 </td></tr>\n",
       "\t<tr><td>89 </td><td>84 </td><td>91 </td><td>90 </td><td>96 </td><td>86 </td><td>93 </td><td>80 </td><td>90 </td><td>89 </td><td>90 </td><td>88 </td><td>88 </td><td>80 </td><td>88 </td><td>90 </td><td>100</td><td>83 </td><td>86 </td><td>84 </td></tr>\n",
       "\t<tr><td>93 </td><td>84 </td><td>89 </td><td>91 </td><td>96 </td><td>87 </td><td>93 </td><td>84 </td><td>90 </td><td>82 </td><td>81 </td><td>87 </td><td>82 </td><td>87 </td><td>89 </td><td>90 </td><td> 98</td><td>83 </td><td>87 </td><td>84 </td></tr>\n",
       "</tbody>\n",
       "</table>\n"
      ],
      "text/latex": [
       "\\begin{tabular}{r|llllllllllllllllllll}\n",
       " X1996 & X1997 & X1998 & X1999 & X2000 & X2001 & X2002 & X2003 & X2004 & X2005 & X2006 & X2007 & X2008 & X2009 & X2010 & X2011 & X2012 & X2013 & X2014 & X2015\\\\\n",
       "\\hline\n",
       "\t 98  & 86  & 91  & 84  & 89  & 84  & 90  & 73  & 82  & 91  & 93  & 95  & 85  & 95  & 87  & 92  & 105 & 82  & 90  & 85 \\\\\n",
       "\t 97  & 90  & 88  & 82  & 91  & 87  & 90  & 81  & 81  & 89  & 93  & 85  & 87  & 90  & 84  & 94  &  93 & 85  & 93  & 87 \\\\\n",
       "\t 97  & 93  & 91  & 87  & 93  & 87  & 87  & 87  & 86  & 86  & 93  & 82  & 91  & 89  & 83  & 95  &  99 & 76  & 87  & 79 \\\\\n",
       "\t 90  & 91  & 91  & 88  & 95  & 84  & 89  & 86  & 88  & 86  & 91  & 86  & 90  & 91  & 85  & 92  &  98 & 77  & 84  & 85 \\\\\n",
       "\t 89  & 84  & 91  & 90  & 96  & 86  & 93  & 80  & 90  & 89  & 90  & 88  & 88  & 80  & 88  & 90  & 100 & 83  & 86  & 84 \\\\\n",
       "\t 93  & 84  & 89  & 91  & 96  & 87  & 93  & 84  & 90  & 82  & 81  & 87  & 82  & 87  & 89  & 90  &  98 & 83  & 87  & 84 \\\\\n",
       "\\end{tabular}\n"
      ],
      "text/markdown": [
       "\n",
       "| X1996 | X1997 | X1998 | X1999 | X2000 | X2001 | X2002 | X2003 | X2004 | X2005 | X2006 | X2007 | X2008 | X2009 | X2010 | X2011 | X2012 | X2013 | X2014 | X2015 |\n",
       "|---|---|---|---|---|---|---|---|---|---|---|---|---|---|---|---|---|---|---|---|\n",
       "| 98  | 86  | 91  | 84  | 89  | 84  | 90  | 73  | 82  | 91  | 93  | 95  | 85  | 95  | 87  | 92  | 105 | 82  | 90  | 85  |\n",
       "| 97  | 90  | 88  | 82  | 91  | 87  | 90  | 81  | 81  | 89  | 93  | 85  | 87  | 90  | 84  | 94  |  93 | 85  | 93  | 87  |\n",
       "| 97  | 93  | 91  | 87  | 93  | 87  | 87  | 87  | 86  | 86  | 93  | 82  | 91  | 89  | 83  | 95  |  99 | 76  | 87  | 79  |\n",
       "| 90  | 91  | 91  | 88  | 95  | 84  | 89  | 86  | 88  | 86  | 91  | 86  | 90  | 91  | 85  | 92  |  98 | 77  | 84  | 85  |\n",
       "| 89  | 84  | 91  | 90  | 96  | 86  | 93  | 80  | 90  | 89  | 90  | 88  | 88  | 80  | 88  | 90  | 100 | 83  | 86  | 84  |\n",
       "| 93  | 84  | 89  | 91  | 96  | 87  | 93  | 84  | 90  | 82  | 81  | 87  | 82  | 87  | 89  | 90  |  98 | 83  | 87  | 84  |\n",
       "\n"
      ],
      "text/plain": [
       "  X1996 X1997 X1998 X1999 X2000 X2001 X2002 X2003 X2004 X2005 X2006 X2007 X2008\n",
       "1 98    86    91    84    89    84    90    73    82    91    93    95    85   \n",
       "2 97    90    88    82    91    87    90    81    81    89    93    85    87   \n",
       "3 97    93    91    87    93    87    87    87    86    86    93    82    91   \n",
       "4 90    91    91    88    95    84    89    86    88    86    91    86    90   \n",
       "5 89    84    91    90    96    86    93    80    90    89    90    88    88   \n",
       "6 93    84    89    91    96    87    93    84    90    82    81    87    82   \n",
       "  X2009 X2010 X2011 X2012 X2013 X2014 X2015\n",
       "1 95    87    92    105   82    90    85   \n",
       "2 90    84    94     93   85    93    87   \n",
       "3 89    83    95     99   76    87    79   \n",
       "4 91    85    92     98   77    84    85   \n",
       "5 80    88    90    100   83    86    84   \n",
       "6 87    89    90     98   83    87    84   "
      ]
     },
     "metadata": {},
     "output_type": "display_data"
    }
   ],
   "source": [
    "head(temps[,-1])"
   ]
  },
  {
   "cell_type": "markdown",
   "id": "1637fb6c",
   "metadata": {},
   "source": [
    "### Feature Engineering\n",
    "\n",
    "#### Part 1 - Average across all years\n",
    "I will add a new column which averages the daily-high temperature for each day across **all years**. "
   ]
  },
  {
   "cell_type": "code",
   "execution_count": 29,
   "id": "534db6ac",
   "metadata": {},
   "outputs": [],
   "source": [
    "temps$Mean <- rowMeans(temps[,-1]) # temps[,-1] picks all columns except for the first column"
   ]
  },
  {
   "cell_type": "code",
   "execution_count": 30,
   "id": "e415c3a4",
   "metadata": {},
   "outputs": [
    {
     "data": {
      "text/html": [
       "<table>\n",
       "<thead><tr><th scope=col>DAY</th><th scope=col>X1996</th><th scope=col>X1997</th><th scope=col>X1998</th><th scope=col>X1999</th><th scope=col>X2000</th><th scope=col>X2001</th><th scope=col>X2002</th><th scope=col>X2003</th><th scope=col>X2004</th><th scope=col>...</th><th scope=col>X2007</th><th scope=col>X2008</th><th scope=col>X2009</th><th scope=col>X2010</th><th scope=col>X2011</th><th scope=col>X2012</th><th scope=col>X2013</th><th scope=col>X2014</th><th scope=col>X2015</th><th scope=col>Mean</th></tr></thead>\n",
       "<tbody>\n",
       "\t<tr><td>1-Jul</td><td>98   </td><td>86   </td><td>91   </td><td>84   </td><td>89   </td><td>84   </td><td>90   </td><td>73   </td><td>82   </td><td>...  </td><td>95   </td><td>85   </td><td>95   </td><td>87   </td><td>92   </td><td>105  </td><td>82   </td><td>90   </td><td>85   </td><td>88.85</td></tr>\n",
       "\t<tr><td>2-Jul</td><td>97   </td><td>90   </td><td>88   </td><td>82   </td><td>91   </td><td>87   </td><td>90   </td><td>81   </td><td>81   </td><td>...  </td><td>85   </td><td>87   </td><td>90   </td><td>84   </td><td>94   </td><td> 93  </td><td>85   </td><td>93   </td><td>87   </td><td>88.35</td></tr>\n",
       "\t<tr><td>3-Jul</td><td>97   </td><td>93   </td><td>91   </td><td>87   </td><td>93   </td><td>87   </td><td>87   </td><td>87   </td><td>86   </td><td>...  </td><td>82   </td><td>91   </td><td>89   </td><td>83   </td><td>95   </td><td> 99  </td><td>76   </td><td>87   </td><td>79   </td><td>88.40</td></tr>\n",
       "\t<tr><td>4-Jul</td><td>90   </td><td>91   </td><td>91   </td><td>88   </td><td>95   </td><td>84   </td><td>89   </td><td>86   </td><td>88   </td><td>...  </td><td>86   </td><td>90   </td><td>91   </td><td>85   </td><td>92   </td><td> 98  </td><td>77   </td><td>84   </td><td>85   </td><td>88.35</td></tr>\n",
       "\t<tr><td>5-Jul</td><td>89   </td><td>84   </td><td>91   </td><td>90   </td><td>96   </td><td>86   </td><td>93   </td><td>80   </td><td>90   </td><td>...  </td><td>88   </td><td>88   </td><td>80   </td><td>88   </td><td>90   </td><td>100  </td><td>83   </td><td>86   </td><td>84   </td><td>88.25</td></tr>\n",
       "\t<tr><td>6-Jul</td><td>93   </td><td>84   </td><td>89   </td><td>91   </td><td>96   </td><td>87   </td><td>93   </td><td>84   </td><td>90   </td><td>...  </td><td>87   </td><td>82   </td><td>87   </td><td>89   </td><td>90   </td><td> 98  </td><td>83   </td><td>87   </td><td>84   </td><td>87.85</td></tr>\n",
       "</tbody>\n",
       "</table>\n"
      ],
      "text/latex": [
       "\\begin{tabular}{r|llllllllllllllllllllll}\n",
       " DAY & X1996 & X1997 & X1998 & X1999 & X2000 & X2001 & X2002 & X2003 & X2004 & ... & X2007 & X2008 & X2009 & X2010 & X2011 & X2012 & X2013 & X2014 & X2015 & Mean\\\\\n",
       "\\hline\n",
       "\t 1-Jul & 98    & 86    & 91    & 84    & 89    & 84    & 90    & 73    & 82    & ...   & 95    & 85    & 95    & 87    & 92    & 105   & 82    & 90    & 85    & 88.85\\\\\n",
       "\t 2-Jul & 97    & 90    & 88    & 82    & 91    & 87    & 90    & 81    & 81    & ...   & 85    & 87    & 90    & 84    & 94    &  93   & 85    & 93    & 87    & 88.35\\\\\n",
       "\t 3-Jul & 97    & 93    & 91    & 87    & 93    & 87    & 87    & 87    & 86    & ...   & 82    & 91    & 89    & 83    & 95    &  99   & 76    & 87    & 79    & 88.40\\\\\n",
       "\t 4-Jul & 90    & 91    & 91    & 88    & 95    & 84    & 89    & 86    & 88    & ...   & 86    & 90    & 91    & 85    & 92    &  98   & 77    & 84    & 85    & 88.35\\\\\n",
       "\t 5-Jul & 89    & 84    & 91    & 90    & 96    & 86    & 93    & 80    & 90    & ...   & 88    & 88    & 80    & 88    & 90    & 100   & 83    & 86    & 84    & 88.25\\\\\n",
       "\t 6-Jul & 93    & 84    & 89    & 91    & 96    & 87    & 93    & 84    & 90    & ...   & 87    & 82    & 87    & 89    & 90    &  98   & 83    & 87    & 84    & 87.85\\\\\n",
       "\\end{tabular}\n"
      ],
      "text/markdown": [
       "\n",
       "| DAY | X1996 | X1997 | X1998 | X1999 | X2000 | X2001 | X2002 | X2003 | X2004 | ... | X2007 | X2008 | X2009 | X2010 | X2011 | X2012 | X2013 | X2014 | X2015 | Mean |\n",
       "|---|---|---|---|---|---|---|---|---|---|---|---|---|---|---|---|---|---|---|---|---|\n",
       "| 1-Jul | 98    | 86    | 91    | 84    | 89    | 84    | 90    | 73    | 82    | ...   | 95    | 85    | 95    | 87    | 92    | 105   | 82    | 90    | 85    | 88.85 |\n",
       "| 2-Jul | 97    | 90    | 88    | 82    | 91    | 87    | 90    | 81    | 81    | ...   | 85    | 87    | 90    | 84    | 94    |  93   | 85    | 93    | 87    | 88.35 |\n",
       "| 3-Jul | 97    | 93    | 91    | 87    | 93    | 87    | 87    | 87    | 86    | ...   | 82    | 91    | 89    | 83    | 95    |  99   | 76    | 87    | 79    | 88.40 |\n",
       "| 4-Jul | 90    | 91    | 91    | 88    | 95    | 84    | 89    | 86    | 88    | ...   | 86    | 90    | 91    | 85    | 92    |  98   | 77    | 84    | 85    | 88.35 |\n",
       "| 5-Jul | 89    | 84    | 91    | 90    | 96    | 86    | 93    | 80    | 90    | ...   | 88    | 88    | 80    | 88    | 90    | 100   | 83    | 86    | 84    | 88.25 |\n",
       "| 6-Jul | 93    | 84    | 89    | 91    | 96    | 87    | 93    | 84    | 90    | ...   | 87    | 82    | 87    | 89    | 90    |  98   | 83    | 87    | 84    | 87.85 |\n",
       "\n"
      ],
      "text/plain": [
       "  DAY   X1996 X1997 X1998 X1999 X2000 X2001 X2002 X2003 X2004 ... X2007 X2008\n",
       "1 1-Jul 98    86    91    84    89    84    90    73    82    ... 95    85   \n",
       "2 2-Jul 97    90    88    82    91    87    90    81    81    ... 85    87   \n",
       "3 3-Jul 97    93    91    87    93    87    87    87    86    ... 82    91   \n",
       "4 4-Jul 90    91    91    88    95    84    89    86    88    ... 86    90   \n",
       "5 5-Jul 89    84    91    90    96    86    93    80    90    ... 88    88   \n",
       "6 6-Jul 93    84    89    91    96    87    93    84    90    ... 87    82   \n",
       "  X2009 X2010 X2011 X2012 X2013 X2014 X2015 Mean \n",
       "1 95    87    92    105   82    90    85    88.85\n",
       "2 90    84    94     93   85    93    87    88.35\n",
       "3 89    83    95     99   76    87    79    88.40\n",
       "4 91    85    92     98   77    84    85    88.35\n",
       "5 80    88    90    100   83    86    84    88.25\n",
       "6 87    89    90     98   83    87    84    87.85"
      ]
     },
     "metadata": {},
     "output_type": "display_data"
    }
   ],
   "source": [
    "head(temps)"
   ]
  },
  {
   "cell_type": "markdown",
   "id": "dd8d3669",
   "metadata": {},
   "source": [
    "#### Part 2 - Average Temp of all Days ($\\mu$)\n",
    "\n",
    "Now I will compute the mean temperature across all days. This is the value $\\mu$."
   ]
  },
  {
   "cell_type": "code",
   "execution_count": 35,
   "id": "8ada2c95",
   "metadata": {},
   "outputs": [],
   "source": [
    "temps$Mu <- mean(temps$Mean)"
   ]
  },
  {
   "cell_type": "code",
   "execution_count": 41,
   "id": "4051a7a1",
   "metadata": {},
   "outputs": [
    {
     "data": {
      "text/html": [
       "<table>\n",
       "<thead><tr><th scope=col>DAY</th><th scope=col>X1996</th><th scope=col>X1997</th><th scope=col>X1998</th><th scope=col>X1999</th><th scope=col>X2000</th><th scope=col>X2001</th><th scope=col>X2002</th><th scope=col>X2003</th><th scope=col>X2004</th><th scope=col>...</th><th scope=col>X2008</th><th scope=col>X2009</th><th scope=col>X2010</th><th scope=col>X2011</th><th scope=col>X2012</th><th scope=col>X2013</th><th scope=col>X2014</th><th scope=col>X2015</th><th scope=col>Mean</th><th scope=col>Mu</th></tr></thead>\n",
       "<tbody>\n",
       "\t<tr><td>1-Jul   </td><td>98      </td><td>86      </td><td>91      </td><td>84      </td><td>89      </td><td>84      </td><td>90      </td><td>73      </td><td>82      </td><td>...     </td><td>85      </td><td>95      </td><td>87      </td><td>92      </td><td>105     </td><td>82      </td><td>90      </td><td>85      </td><td>88.85   </td><td>83.33902</td></tr>\n",
       "\t<tr><td>2-Jul   </td><td>97      </td><td>90      </td><td>88      </td><td>82      </td><td>91      </td><td>87      </td><td>90      </td><td>81      </td><td>81      </td><td>...     </td><td>87      </td><td>90      </td><td>84      </td><td>94      </td><td> 93     </td><td>85      </td><td>93      </td><td>87      </td><td>88.35   </td><td>83.33902</td></tr>\n",
       "\t<tr><td>3-Jul   </td><td>97      </td><td>93      </td><td>91      </td><td>87      </td><td>93      </td><td>87      </td><td>87      </td><td>87      </td><td>86      </td><td>...     </td><td>91      </td><td>89      </td><td>83      </td><td>95      </td><td> 99     </td><td>76      </td><td>87      </td><td>79      </td><td>88.40   </td><td>83.33902</td></tr>\n",
       "\t<tr><td>4-Jul   </td><td>90      </td><td>91      </td><td>91      </td><td>88      </td><td>95      </td><td>84      </td><td>89      </td><td>86      </td><td>88      </td><td>...     </td><td>90      </td><td>91      </td><td>85      </td><td>92      </td><td> 98     </td><td>77      </td><td>84      </td><td>85      </td><td>88.35   </td><td>83.33902</td></tr>\n",
       "\t<tr><td>5-Jul   </td><td>89      </td><td>84      </td><td>91      </td><td>90      </td><td>96      </td><td>86      </td><td>93      </td><td>80      </td><td>90      </td><td>...     </td><td>88      </td><td>80      </td><td>88      </td><td>90      </td><td>100     </td><td>83      </td><td>86      </td><td>84      </td><td>88.25   </td><td>83.33902</td></tr>\n",
       "\t<tr><td>6-Jul   </td><td>93      </td><td>84      </td><td>89      </td><td>91      </td><td>96      </td><td>87      </td><td>93      </td><td>84      </td><td>90      </td><td>...     </td><td>82      </td><td>87      </td><td>89      </td><td>90      </td><td> 98     </td><td>83      </td><td>87      </td><td>84      </td><td>87.85   </td><td>83.33902</td></tr>\n",
       "</tbody>\n",
       "</table>\n"
      ],
      "text/latex": [
       "\\begin{tabular}{r|lllllllllllllllllllllll}\n",
       " DAY & X1996 & X1997 & X1998 & X1999 & X2000 & X2001 & X2002 & X2003 & X2004 & ... & X2008 & X2009 & X2010 & X2011 & X2012 & X2013 & X2014 & X2015 & Mean & Mu\\\\\n",
       "\\hline\n",
       "\t 1-Jul    & 98       & 86       & 91       & 84       & 89       & 84       & 90       & 73       & 82       & ...      & 85       & 95       & 87       & 92       & 105      & 82       & 90       & 85       & 88.85    & 83.33902\\\\\n",
       "\t 2-Jul    & 97       & 90       & 88       & 82       & 91       & 87       & 90       & 81       & 81       & ...      & 87       & 90       & 84       & 94       &  93      & 85       & 93       & 87       & 88.35    & 83.33902\\\\\n",
       "\t 3-Jul    & 97       & 93       & 91       & 87       & 93       & 87       & 87       & 87       & 86       & ...      & 91       & 89       & 83       & 95       &  99      & 76       & 87       & 79       & 88.40    & 83.33902\\\\\n",
       "\t 4-Jul    & 90       & 91       & 91       & 88       & 95       & 84       & 89       & 86       & 88       & ...      & 90       & 91       & 85       & 92       &  98      & 77       & 84       & 85       & 88.35    & 83.33902\\\\\n",
       "\t 5-Jul    & 89       & 84       & 91       & 90       & 96       & 86       & 93       & 80       & 90       & ...      & 88       & 80       & 88       & 90       & 100      & 83       & 86       & 84       & 88.25    & 83.33902\\\\\n",
       "\t 6-Jul    & 93       & 84       & 89       & 91       & 96       & 87       & 93       & 84       & 90       & ...      & 82       & 87       & 89       & 90       &  98      & 83       & 87       & 84       & 87.85    & 83.33902\\\\\n",
       "\\end{tabular}\n"
      ],
      "text/markdown": [
       "\n",
       "| DAY | X1996 | X1997 | X1998 | X1999 | X2000 | X2001 | X2002 | X2003 | X2004 | ... | X2008 | X2009 | X2010 | X2011 | X2012 | X2013 | X2014 | X2015 | Mean | Mu |\n",
       "|---|---|---|---|---|---|---|---|---|---|---|---|---|---|---|---|---|---|---|---|---|\n",
       "| 1-Jul    | 98       | 86       | 91       | 84       | 89       | 84       | 90       | 73       | 82       | ...      | 85       | 95       | 87       | 92       | 105      | 82       | 90       | 85       | 88.85    | 83.33902 |\n",
       "| 2-Jul    | 97       | 90       | 88       | 82       | 91       | 87       | 90       | 81       | 81       | ...      | 87       | 90       | 84       | 94       |  93      | 85       | 93       | 87       | 88.35    | 83.33902 |\n",
       "| 3-Jul    | 97       | 93       | 91       | 87       | 93       | 87       | 87       | 87       | 86       | ...      | 91       | 89       | 83       | 95       |  99      | 76       | 87       | 79       | 88.40    | 83.33902 |\n",
       "| 4-Jul    | 90       | 91       | 91       | 88       | 95       | 84       | 89       | 86       | 88       | ...      | 90       | 91       | 85       | 92       |  98      | 77       | 84       | 85       | 88.35    | 83.33902 |\n",
       "| 5-Jul    | 89       | 84       | 91       | 90       | 96       | 86       | 93       | 80       | 90       | ...      | 88       | 80       | 88       | 90       | 100      | 83       | 86       | 84       | 88.25    | 83.33902 |\n",
       "| 6-Jul    | 93       | 84       | 89       | 91       | 96       | 87       | 93       | 84       | 90       | ...      | 82       | 87       | 89       | 90       |  98      | 83       | 87       | 84       | 87.85    | 83.33902 |\n",
       "\n"
      ],
      "text/plain": [
       "  DAY   X1996 X1997 X1998 X1999 X2000 X2001 X2002 X2003 X2004 ... X2008 X2009\n",
       "1 1-Jul 98    86    91    84    89    84    90    73    82    ... 85    95   \n",
       "2 2-Jul 97    90    88    82    91    87    90    81    81    ... 87    90   \n",
       "3 3-Jul 97    93    91    87    93    87    87    87    86    ... 91    89   \n",
       "4 4-Jul 90    91    91    88    95    84    89    86    88    ... 90    91   \n",
       "5 5-Jul 89    84    91    90    96    86    93    80    90    ... 88    80   \n",
       "6 6-Jul 93    84    89    91    96    87    93    84    90    ... 82    87   \n",
       "  X2010 X2011 X2012 X2013 X2014 X2015 Mean  Mu      \n",
       "1 87    92    105   82    90    85    88.85 83.33902\n",
       "2 84    94     93   85    93    87    88.35 83.33902\n",
       "3 83    95     99   76    87    79    88.40 83.33902\n",
       "4 85    92     98   77    84    85    88.35 83.33902\n",
       "5 88    90    100   83    86    84    88.25 83.33902\n",
       "6 89    90     98   83    87    84    87.85 83.33902"
      ]
     },
     "metadata": {},
     "output_type": "display_data"
    }
   ],
   "source": [
    "head(temps)"
   ]
  },
  {
   "cell_type": "markdown",
   "id": "6798bdc2",
   "metadata": {},
   "source": [
    "#### Part 3 - Residue Column\n",
    "\n",
    "This column contains the difference between Mean Temp across all years and the value of $\\mu$"
   ]
  },
  {
   "cell_type": "code",
   "execution_count": 42,
   "id": "0eef2178",
   "metadata": {},
   "outputs": [],
   "source": [
    "temps$residue <- temps$Mean - temps$Mu"
   ]
  },
  {
   "cell_type": "code",
   "execution_count": 43,
   "id": "a638888e",
   "metadata": {},
   "outputs": [
    {
     "data": {
      "text/html": [
       "<table>\n",
       "<thead><tr><th scope=col>DAY</th><th scope=col>X1996</th><th scope=col>X1997</th><th scope=col>X1998</th><th scope=col>X1999</th><th scope=col>X2000</th><th scope=col>X2001</th><th scope=col>X2002</th><th scope=col>X2003</th><th scope=col>X2004</th><th scope=col>...</th><th scope=col>X2009</th><th scope=col>X2010</th><th scope=col>X2011</th><th scope=col>X2012</th><th scope=col>X2013</th><th scope=col>X2014</th><th scope=col>X2015</th><th scope=col>Mean</th><th scope=col>Mu</th><th scope=col>residue</th></tr></thead>\n",
       "<tbody>\n",
       "\t<tr><td>1-Jul   </td><td>98      </td><td>86      </td><td>91      </td><td>84      </td><td>89      </td><td>84      </td><td>90      </td><td>73      </td><td>82      </td><td>...     </td><td>95      </td><td>87      </td><td>92      </td><td>105     </td><td>82      </td><td>90      </td><td>85      </td><td>88.85   </td><td>83.33902</td><td>5.510976</td></tr>\n",
       "\t<tr><td>2-Jul   </td><td>97      </td><td>90      </td><td>88      </td><td>82      </td><td>91      </td><td>87      </td><td>90      </td><td>81      </td><td>81      </td><td>...     </td><td>90      </td><td>84      </td><td>94      </td><td> 93     </td><td>85      </td><td>93      </td><td>87      </td><td>88.35   </td><td>83.33902</td><td>5.010976</td></tr>\n",
       "\t<tr><td>3-Jul   </td><td>97      </td><td>93      </td><td>91      </td><td>87      </td><td>93      </td><td>87      </td><td>87      </td><td>87      </td><td>86      </td><td>...     </td><td>89      </td><td>83      </td><td>95      </td><td> 99     </td><td>76      </td><td>87      </td><td>79      </td><td>88.40   </td><td>83.33902</td><td>5.060976</td></tr>\n",
       "\t<tr><td>4-Jul   </td><td>90      </td><td>91      </td><td>91      </td><td>88      </td><td>95      </td><td>84      </td><td>89      </td><td>86      </td><td>88      </td><td>...     </td><td>91      </td><td>85      </td><td>92      </td><td> 98     </td><td>77      </td><td>84      </td><td>85      </td><td>88.35   </td><td>83.33902</td><td>5.010976</td></tr>\n",
       "\t<tr><td>5-Jul   </td><td>89      </td><td>84      </td><td>91      </td><td>90      </td><td>96      </td><td>86      </td><td>93      </td><td>80      </td><td>90      </td><td>...     </td><td>80      </td><td>88      </td><td>90      </td><td>100     </td><td>83      </td><td>86      </td><td>84      </td><td>88.25   </td><td>83.33902</td><td>4.910976</td></tr>\n",
       "\t<tr><td>6-Jul   </td><td>93      </td><td>84      </td><td>89      </td><td>91      </td><td>96      </td><td>87      </td><td>93      </td><td>84      </td><td>90      </td><td>...     </td><td>87      </td><td>89      </td><td>90      </td><td> 98     </td><td>83      </td><td>87      </td><td>84      </td><td>87.85   </td><td>83.33902</td><td>4.510976</td></tr>\n",
       "</tbody>\n",
       "</table>\n"
      ],
      "text/latex": [
       "\\begin{tabular}{r|llllllllllllllllllllllll}\n",
       " DAY & X1996 & X1997 & X1998 & X1999 & X2000 & X2001 & X2002 & X2003 & X2004 & ... & X2009 & X2010 & X2011 & X2012 & X2013 & X2014 & X2015 & Mean & Mu & residue\\\\\n",
       "\\hline\n",
       "\t 1-Jul    & 98       & 86       & 91       & 84       & 89       & 84       & 90       & 73       & 82       & ...      & 95       & 87       & 92       & 105      & 82       & 90       & 85       & 88.85    & 83.33902 & 5.510976\\\\\n",
       "\t 2-Jul    & 97       & 90       & 88       & 82       & 91       & 87       & 90       & 81       & 81       & ...      & 90       & 84       & 94       &  93      & 85       & 93       & 87       & 88.35    & 83.33902 & 5.010976\\\\\n",
       "\t 3-Jul    & 97       & 93       & 91       & 87       & 93       & 87       & 87       & 87       & 86       & ...      & 89       & 83       & 95       &  99      & 76       & 87       & 79       & 88.40    & 83.33902 & 5.060976\\\\\n",
       "\t 4-Jul    & 90       & 91       & 91       & 88       & 95       & 84       & 89       & 86       & 88       & ...      & 91       & 85       & 92       &  98      & 77       & 84       & 85       & 88.35    & 83.33902 & 5.010976\\\\\n",
       "\t 5-Jul    & 89       & 84       & 91       & 90       & 96       & 86       & 93       & 80       & 90       & ...      & 80       & 88       & 90       & 100      & 83       & 86       & 84       & 88.25    & 83.33902 & 4.910976\\\\\n",
       "\t 6-Jul    & 93       & 84       & 89       & 91       & 96       & 87       & 93       & 84       & 90       & ...      & 87       & 89       & 90       &  98      & 83       & 87       & 84       & 87.85    & 83.33902 & 4.510976\\\\\n",
       "\\end{tabular}\n"
      ],
      "text/markdown": [
       "\n",
       "| DAY | X1996 | X1997 | X1998 | X1999 | X2000 | X2001 | X2002 | X2003 | X2004 | ... | X2009 | X2010 | X2011 | X2012 | X2013 | X2014 | X2015 | Mean | Mu | residue |\n",
       "|---|---|---|---|---|---|---|---|---|---|---|---|---|---|---|---|---|---|---|---|---|\n",
       "| 1-Jul    | 98       | 86       | 91       | 84       | 89       | 84       | 90       | 73       | 82       | ...      | 95       | 87       | 92       | 105      | 82       | 90       | 85       | 88.85    | 83.33902 | 5.510976 |\n",
       "| 2-Jul    | 97       | 90       | 88       | 82       | 91       | 87       | 90       | 81       | 81       | ...      | 90       | 84       | 94       |  93      | 85       | 93       | 87       | 88.35    | 83.33902 | 5.010976 |\n",
       "| 3-Jul    | 97       | 93       | 91       | 87       | 93       | 87       | 87       | 87       | 86       | ...      | 89       | 83       | 95       |  99      | 76       | 87       | 79       | 88.40    | 83.33902 | 5.060976 |\n",
       "| 4-Jul    | 90       | 91       | 91       | 88       | 95       | 84       | 89       | 86       | 88       | ...      | 91       | 85       | 92       |  98      | 77       | 84       | 85       | 88.35    | 83.33902 | 5.010976 |\n",
       "| 5-Jul    | 89       | 84       | 91       | 90       | 96       | 86       | 93       | 80       | 90       | ...      | 80       | 88       | 90       | 100      | 83       | 86       | 84       | 88.25    | 83.33902 | 4.910976 |\n",
       "| 6-Jul    | 93       | 84       | 89       | 91       | 96       | 87       | 93       | 84       | 90       | ...      | 87       | 89       | 90       |  98      | 83       | 87       | 84       | 87.85    | 83.33902 | 4.510976 |\n",
       "\n"
      ],
      "text/plain": [
       "  DAY   X1996 X1997 X1998 X1999 X2000 X2001 X2002 X2003 X2004 ... X2009 X2010\n",
       "1 1-Jul 98    86    91    84    89    84    90    73    82    ... 95    87   \n",
       "2 2-Jul 97    90    88    82    91    87    90    81    81    ... 90    84   \n",
       "3 3-Jul 97    93    91    87    93    87    87    87    86    ... 89    83   \n",
       "4 4-Jul 90    91    91    88    95    84    89    86    88    ... 91    85   \n",
       "5 5-Jul 89    84    91    90    96    86    93    80    90    ... 80    88   \n",
       "6 6-Jul 93    84    89    91    96    87    93    84    90    ... 87    89   \n",
       "  X2011 X2012 X2013 X2014 X2015 Mean  Mu       residue \n",
       "1 92    105   82    90    85    88.85 83.33902 5.510976\n",
       "2 94     93   85    93    87    88.35 83.33902 5.010976\n",
       "3 95     99   76    87    79    88.40 83.33902 5.060976\n",
       "4 92     98   77    84    85    88.35 83.33902 5.010976\n",
       "5 90    100   83    86    84    88.25 83.33902 4.910976\n",
       "6 90     98   83    87    84    87.85 83.33902 4.510976"
      ]
     },
     "metadata": {},
     "output_type": "display_data"
    }
   ],
   "source": [
    "head(temps)"
   ]
  },
  {
   "cell_type": "markdown",
   "id": "4cec98b6",
   "metadata": {},
   "source": [
    "### Time Series Plot "
   ]
  },
  {
   "cell_type": "markdown",
   "id": "dbb10487",
   "metadata": {},
   "source": [
    "#### Installing Libraries"
   ]
  },
  {
   "cell_type": "code",
   "execution_count": 4,
   "id": "9ea94725",
   "metadata": {
    "collapsed": true
   },
   "outputs": [
    {
     "name": "stderr",
     "output_type": "stream",
     "text": [
      "also installing the dependencies 'cli', 'lifecycle', 'rlang', 'scales', 'vctrs'\n",
      "\n"
     ]
    },
    {
     "name": "stdout",
     "output_type": "stream",
     "text": [
      "\n",
      "  There are binary versions available but the source versions are later:\n",
      "          binary source needs_compilation\n",
      "cli        2.5.0  3.6.0              TRUE\n",
      "lifecycle  1.0.0  1.0.3             FALSE\n",
      "rlang     0.4.11  1.0.6              TRUE\n",
      "scales     1.1.1  1.2.1             FALSE\n",
      "vctrs      0.3.8  0.5.2              TRUE\n",
      "ggplot2    3.3.3  3.4.0             FALSE\n",
      "\n",
      "  Binaries will be installed\n",
      "package 'cli' successfully unpacked and MD5 sums checked\n",
      "package 'rlang' successfully unpacked and MD5 sums checked\n"
     ]
    },
    {
     "name": "stderr",
     "output_type": "stream",
     "text": [
      "Warning message:\n",
      "\"cannot remove prior installation of package 'rlang'\"Warning message in file.copy(savedcopy, lib, recursive = TRUE):\n",
      "\"problem copying C:\\Users\\redoc\\anaconda3\\Lib\\R\\library\\00LOCK\\rlang\\libs\\x64\\rlang.dll to C:\\Users\\redoc\\anaconda3\\Lib\\R\\library\\rlang\\libs\\x64\\rlang.dll: Permission denied\"Warning message:\n",
      "\"restored 'rlang'\""
     ]
    },
    {
     "name": "stdout",
     "output_type": "stream",
     "text": [
      "package 'vctrs' successfully unpacked and MD5 sums checked\n",
      "\n",
      "The downloaded binary packages are in\n",
      "\tC:\\Users\\redoc\\AppData\\Local\\Temp\\Rtmp0kCY3L\\downloaded_packages\n"
     ]
    },
    {
     "name": "stderr",
     "output_type": "stream",
     "text": [
      "installing the source packages 'lifecycle', 'scales', 'ggplot2'\n",
      "\n",
      "Warning message in install.packages(\"ggplot2\"):\n",
      "\"installation of package 'lifecycle' had non-zero exit status\"Warning message in install.packages(\"ggplot2\"):\n",
      "\"installation of package 'scales' had non-zero exit status\"Warning message in install.packages(\"ggplot2\"):\n",
      "\"installation of package 'ggplot2' had non-zero exit status\""
     ]
    }
   ],
   "source": [
    "install.packages(\"TSstudio\")\n",
    "install.packages(\"ggplot2\")"
   ]
  },
  {
   "cell_type": "code",
   "execution_count": 5,
   "id": "3beed950",
   "metadata": {
    "collapsed": true
   },
   "outputs": [
    {
     "ename": "ERROR",
     "evalue": "Error in library(ggplot2): there is no package called 'ggplot2'\n",
     "output_type": "error",
     "traceback": [
      "Error in library(ggplot2): there is no package called 'ggplot2'\nTraceback:\n",
      "1. library(ggplot2)"
     ]
    }
   ],
   "source": [
    "library(TSstudio)\n",
    "library(ggplot2)"
   ]
  },
  {
   "cell_type": "code",
   "execution_count": 96,
   "id": "afb129c9",
   "metadata": {},
   "outputs": [
    {
     "data": {
      "image/png": "[encoded data removed]",
      "text/plain": [
       "Plot with title \"Mean Daily High Temperature (1996-2015)\""
      ]
     },
     "metadata": {},
     "output_type": "display_data"
    }
   ],
   "source": [
    "plot(temps$Mean,type = \"l\",col = \"red\", xlab = \"Day (July-Oct)\", ylab = \"Mean Daily Temperature from 1996-2015 (F)\", main=\"Mean Daily High Temperature (1996-2015)\")\n",
    "\n",
    "abline(h=temps$Mu, col=\"blue\")\n",
    "\n",
    "abline(v=85,col=\"red\")\n",
    "       \n",
    "# lines(temps$X1997,col = \"blue\")"
   ]
  },
  {
   "cell_type": "markdown",
   "id": "305ff50a",
   "metadata": {},
   "source": [
    "In the graph above, there appears to be a sharp drop in temperature after the **85th day** (vertical red line) in the time-series. I the number 85 as the value for T."
   ]
  },
  {
   "cell_type": "markdown",
   "id": "e50ddb0f",
   "metadata": {},
   "source": [
    "#### Residue Plot (CUSUM)"
   ]
  },
  {
   "cell_type": "markdown",
   "id": "5b59c0f7",
   "metadata": {},
   "source": [
    "Recall the CUSUM Formula \n",
    "\n",
    "$S_t = max{\\{0, S_{t-1} + (x_t - \\mu - C)\\}}$\n",
    "\n",
    "Detect if $S_t \\geq T$ "
   ]
  },
  {
   "cell_type": "markdown",
   "id": "cfc00897",
   "metadata": {},
   "source": [
    "Let C = 0"
   ]
  },
  {
   "cell_type": "code",
   "execution_count": 84,
   "id": "5797c2f0",
   "metadata": {},
   "outputs": [],
   "source": [
    "C <- 0"
   ]
  },
  {
   "cell_type": "code",
   "execution_count": 85,
   "id": "f41b64c6",
   "metadata": {},
   "outputs": [],
   "source": [
    "temps$residueMinusC <- temps$residue-C"
   ]
  },
  {
   "cell_type": "code",
   "execution_count": 86,
   "id": "0e254fa6",
   "metadata": {
    "scrolled": false
   },
   "outputs": [
    {
     "data": {
      "text/html": [
       "<table>\n",
       "<thead><tr><th scope=col>DAY</th><th scope=col>X1996</th><th scope=col>X1997</th><th scope=col>X1998</th><th scope=col>X1999</th><th scope=col>X2000</th><th scope=col>X2001</th><th scope=col>X2002</th><th scope=col>X2003</th><th scope=col>X2004</th><th scope=col>...</th><th scope=col>X2010</th><th scope=col>X2011</th><th scope=col>X2012</th><th scope=col>X2013</th><th scope=col>X2014</th><th scope=col>X2015</th><th scope=col>Mean</th><th scope=col>Mu</th><th scope=col>residue</th><th scope=col>residueMinusC</th></tr></thead>\n",
       "<tbody>\n",
       "\t<tr><td>1-Jul   </td><td>98      </td><td>86      </td><td>91      </td><td>84      </td><td>89      </td><td>84      </td><td>90      </td><td>73      </td><td>82      </td><td>...     </td><td>87      </td><td>92      </td><td>105     </td><td>82      </td><td>90      </td><td>85      </td><td>88.85   </td><td>83.33902</td><td>5.510976</td><td>5.510976</td></tr>\n",
       "\t<tr><td>2-Jul   </td><td>97      </td><td>90      </td><td>88      </td><td>82      </td><td>91      </td><td>87      </td><td>90      </td><td>81      </td><td>81      </td><td>...     </td><td>84      </td><td>94      </td><td> 93     </td><td>85      </td><td>93      </td><td>87      </td><td>88.35   </td><td>83.33902</td><td>5.010976</td><td>5.010976</td></tr>\n",
       "</tbody>\n",
       "</table>\n"
      ],
      "text/latex": [
       "\\begin{tabular}{r|lllllllllllllllllllllllll}\n",
       " DAY & X1996 & X1997 & X1998 & X1999 & X2000 & X2001 & X2002 & X2003 & X2004 & ... & X2010 & X2011 & X2012 & X2013 & X2014 & X2015 & Mean & Mu & residue & residueMinusC\\\\\n",
       "\\hline\n",
       "\t 1-Jul    & 98       & 86       & 91       & 84       & 89       & 84       & 90       & 73       & 82       & ...      & 87       & 92       & 105      & 82       & 90       & 85       & 88.85    & 83.33902 & 5.510976 & 5.510976\\\\\n",
       "\t 2-Jul    & 97       & 90       & 88       & 82       & 91       & 87       & 90       & 81       & 81       & ...      & 84       & 94       &  93      & 85       & 93       & 87       & 88.35    & 83.33902 & 5.010976 & 5.010976\\\\\n",
       "\\end{tabular}\n"
      ],
      "text/markdown": [
       "\n",
       "| DAY | X1996 | X1997 | X1998 | X1999 | X2000 | X2001 | X2002 | X2003 | X2004 | ... | X2010 | X2011 | X2012 | X2013 | X2014 | X2015 | Mean | Mu | residue | residueMinusC |\n",
       "|---|---|---|---|---|---|---|---|---|---|---|---|---|---|---|---|---|---|---|---|---|\n",
       "| 1-Jul    | 98       | 86       | 91       | 84       | 89       | 84       | 90       | 73       | 82       | ...      | 87       | 92       | 105      | 82       | 90       | 85       | 88.85    | 83.33902 | 5.510976 | 5.510976 |\n",
       "| 2-Jul    | 97       | 90       | 88       | 82       | 91       | 87       | 90       | 81       | 81       | ...      | 84       | 94       |  93      | 85       | 93       | 87       | 88.35    | 83.33902 | 5.010976 | 5.010976 |\n",
       "\n"
      ],
      "text/plain": [
       "  DAY   X1996 X1997 X1998 X1999 X2000 X2001 X2002 X2003 X2004 ... X2010 X2011\n",
       "1 1-Jul 98    86    91    84    89    84    90    73    82    ... 87    92   \n",
       "2 2-Jul 97    90    88    82    91    87    90    81    81    ... 84    94   \n",
       "  X2012 X2013 X2014 X2015 Mean  Mu       residue  residueMinusC\n",
       "1 105   82    90    85    88.85 83.33902 5.510976 5.510976     \n",
       "2  93   85    93    87    88.35 83.33902 5.010976 5.010976     "
      ]
     },
     "metadata": {},
     "output_type": "display_data"
    }
   ],
   "source": [
    "head(temps,2)"
   ]
  },
  {
   "cell_type": "code",
   "execution_count": 87,
   "id": "0b2d8945",
   "metadata": {},
   "outputs": [],
   "source": [
    "cusum<-c(0) # create cusum list which ignores index 0 as we will start at index 1 in the for loop below"
   ]
  },
  {
   "cell_type": "code",
   "execution_count": 88,
   "id": "b650593b",
   "metadata": {},
   "outputs": [
    {
     "data": {
      "text/html": [
       "0"
      ],
      "text/latex": [
       "0"
      ],
      "text/markdown": [
       "0"
      ],
      "text/plain": [
       "[1] 0"
      ]
     },
     "metadata": {},
     "output_type": "display_data"
    }
   ],
   "source": [
    "cusum[1]"
   ]
  },
  {
   "cell_type": "code",
   "execution_count": 89,
   "id": "fa664186",
   "metadata": {},
   "outputs": [
    {
     "data": {
      "text/html": [
       "TRUE"
      ],
      "text/latex": [
       "TRUE"
      ],
      "text/markdown": [
       "TRUE"
      ],
      "text/plain": [
       "[1] TRUE"
      ]
     },
     "metadata": {},
     "output_type": "display_data"
    }
   ],
   "source": [
    "is.numeric(cusum[1])"
   ]
  },
  {
   "cell_type": "code",
   "execution_count": 90,
   "id": "6ab683d7",
   "metadata": {},
   "outputs": [
    {
     "data": {
      "text/html": [
       "5.01097560975609"
      ],
      "text/latex": [
       "5.01097560975609"
      ],
      "text/markdown": [
       "5.01097560975609"
      ],
      "text/plain": [
       "[1] 5.010976"
      ]
     },
     "metadata": {},
     "output_type": "display_data"
    }
   ],
   "source": [
    "temps$residueMinusC[2]"
   ]
  },
  {
   "cell_type": "code",
   "execution_count": 91,
   "id": "a89e3700",
   "metadata": {},
   "outputs": [],
   "source": [
    "for (i in 1:length(temps$residue))\n",
    "    {\n",
    "    check<-cusum[i]+temps$residueMinusC[i]\n",
    "    \n",
    "    ifelse(check >0, cusum[i+1]<-check, cusum[i+1]<-0)\n",
    "}"
   ]
  },
  {
   "cell_type": "code",
   "execution_count": 97,
   "id": "e2573f3f",
   "metadata": {},
   "outputs": [
    {
     "data": {
      "image/png": "[encoded data removed]",
      "text/plain": [
       "plot without title"
      ]
     },
     "metadata": {},
     "output_type": "display_data"
    }
   ],
   "source": [
    "plot(cusum)\n",
    "\n",
    "abline(v=85,col=\"red\")\n"
   ]
  },
  {
   "cell_type": "markdown",
   "id": "9771e194",
   "metadata": {},
   "source": [
    "In the plot above, the change is not detected."
   ]
  },
  {
   "cell_type": "markdown",
   "id": "a72ad78f",
   "metadata": {},
   "source": [
    "#### Termination Conditions\n",
    "\n",
    "The formula $S_t = max{\\{0, S_{t-1} + (x_t - \\mu - C)\\}}$\n",
    "\n",
    "is for detecting increase. So in the case of finding out when Summer Ends, we can check the termination of the function ie when it hits **zero**.\n",
    "\n",
    "I will adjust the C value through trial-and-error."
   ]
  },
  {
   "cell_type": "code",
   "execution_count": 98,
   "id": "8e299308",
   "metadata": {},
   "outputs": [
    {
     "data": {
      "image/png": "[encoded data removed]",
      "text/plain": [
       "plot without title"
      ]
     },
     "metadata": {},
     "output_type": "display_data"
    }
   ],
   "source": [
    "C <- 1\n",
    "\n",
    "temps$residueMinusC <- temps$residue-C\n",
    "\n",
    "cusum<-c(0) # create cusum list which ignores index 0 as we will start at index 1 in the for loop below\n",
    "\n",
    "for (i in 1:length(temps$residue))\n",
    "    {\n",
    "    check<-cusum[i]+temps$residueMinusC[i]\n",
    "    \n",
    "    ifelse(check >0, cusum[i+1]<-check, cusum[i+1]<-0)\n",
    "}\n",
    "\n",
    "plot(cusum)\n",
    "\n",
    "abline(v=85,col=\"red\")\n"
   ]
  },
  {
   "cell_type": "code",
   "execution_count": 99,
   "id": "bef07ead",
   "metadata": {},
   "outputs": [
    {
     "data": {
      "image/png": "[encoded data removed]",
      "text/plain": [
       "plot without title"
      ]
     },
     "metadata": {},
     "output_type": "display_data"
    }
   ],
   "source": [
    "C <- 2\n",
    "\n",
    "temps$residueMinusC <- temps$residue-C\n",
    "\n",
    "cusum<-c(0) # create cusum list which ignores index 0 as we will start at index 1 in the for loop below\n",
    "\n",
    "for (i in 1:length(temps$residue))\n",
    "    {\n",
    "    check<-cusum[i]+temps$residueMinusC[i]\n",
    "    \n",
    "    ifelse(check >0, cusum[i+1]<-check, cusum[i+1]<-0)\n",
    "}\n",
    "\n",
    "plot(cusum)\n",
    "\n",
    "abline(v=85,col=\"red\")"
   ]
  },
  {
   "cell_type": "code",
   "execution_count": 100,
   "id": "1893c484",
   "metadata": {},
   "outputs": [
    {
     "data": {
      "image/png": "[encoded data removed]",
      "text/plain": [
       "plot without title"
      ]
     },
     "metadata": {},
     "output_type": "display_data"
    }
   ],
   "source": [
    "C <- 4\n",
    "\n",
    "temps$residueMinusC <- temps$residue-C\n",
    "\n",
    "cusum<-c(0) # create cusum list which ignores index 0 as we will start at index 1 in the for loop below\n",
    "\n",
    "for (i in 1:length(temps$residue))\n",
    "    {\n",
    "    check<-cusum[i]+temps$residueMinusC[i]\n",
    "    \n",
    "    ifelse(check >0, cusum[i+1]<-check, cusum[i+1]<-0)\n",
    "}\n",
    "\n",
    "plot(cusum)\n",
    "\n",
    "abline(v=85,col=\"red\")"
   ]
  },
  {
   "cell_type": "markdown",
   "id": "4dded88d",
   "metadata": {},
   "source": [
    "In the last graph we can see that the CUSUM hits zero after the 85th day, indicating that the temperature no longer increases and that a new season is approaching.\n",
    "\n",
    "The parameters of choice are:<br>\n",
    "$C = 4$ <br>\n",
    "$T = 85$"
   ]
  },
  {
   "cell_type": "markdown",
   "id": "5eb8864a",
   "metadata": {},
   "source": [
    "### 6.2.2"
   ]
  },
  {
   "cell_type": "markdown",
   "id": "5d06ffd3",
   "metadata": {},
   "source": [
    "Prior to the CUSUM levelling at the Zero value, the temperature peaks on the 60th day in the time-series. Moreover, we can observe from the spread of data points after the peak that the drop in temperature in occuring at an increasing rate, leading up to the change in seasons."
   ]
  },
  {
   "cell_type": "markdown",
   "id": "0dba0821",
   "metadata": {},
   "source": [
    "---"
   ]
  },
  {
   "cell_type": "markdown",
   "id": "e68406cd",
   "metadata": {},
   "source": [
    "---"
   ]
  }
 ],
 "metadata": {
  "kernelspec": {
   "display_name": "R",
   "language": "R",
   "name": "ir"
  },
  "language_info": {
   "codemirror_mode": "r",
   "file_extension": ".r",
   "mimetype": "text/x-r-source",
   "name": "R",
   "pygments_lexer": "r",
   "version": "3.6.1"
  }
 },
 "nbformat": 4,
 "nbformat_minor": 5
}
