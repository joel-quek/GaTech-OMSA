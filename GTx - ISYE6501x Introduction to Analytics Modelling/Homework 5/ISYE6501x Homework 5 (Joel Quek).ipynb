{
 "cells": [
  {
   "cell_type": "markdown",
   "id": "ce02782d",
   "metadata": {},
   "source": [
    "# ISYE6501x Homework 5\n",
    "\n",
    "Done By: Joel Quek"
   ]
  },
  {
   "cell_type": "markdown",
   "id": "057ac06f",
   "metadata": {},
   "source": [
    "---"
   ]
  },
  {
   "cell_type": "markdown",
   "id": "3f3b966c",
   "metadata": {},
   "source": [
    "## Question 8.1\n",
    "\n",
    "Describe a situation or problem from your job, everyday life, current events, etc., for which a linear regression model would be appropriate. List some (up to 5) predictors that you might use."
   ]
  },
  {
   "cell_type": "markdown",
   "id": "15d9a1f7",
   "metadata": {},
   "source": [
    "I dabble in trading once in a while, and personally enjoy selling Bull Put Option Spreads on US Equities. My measure of success is when the options contracts expire Out Of The Money, which means I made the full premium as profit. When selling these Option Spreads there are many considerations, which I could use as predictors for my model. For example:\n",
    "1. The Implied Volatility Percentile\n",
    "2. The Delta Value of the Short Put Option\n",
    "3. The Number of Days/Weeks to Expiration (A function of the Theta Value)\n",
    "4. The overall trend of the market - Bullish, Bearish or Indiferrent (Dummy variables would need to be used)\n",
    "5. The Probability of being Out-Of-The-Money (Using Black-Scholes Formula)"
   ]
  },
  {
   "cell_type": "markdown",
   "id": "35462d39",
   "metadata": {},
   "source": [
    "---"
   ]
  },
  {
   "cell_type": "markdown",
   "id": "15741070",
   "metadata": {},
   "source": [
    "## Question 8.2\n",
    "\n",
    "Using crime data from http://www.statsci.org/data/general/uscrime.txt  (file uscrime.txt, description at http://www.statsci.org/data/general/uscrime.html ), use regression (a useful R function is lm or glm) to predict the observed crime rate in a city with the following data:\n",
    "\n",
    "M = 14.0\n",
    "So = 0\n",
    "Ed = 10.0\n",
    "Po1 = 12.0\n",
    "Po2 = 15.5\n",
    "LF = 0.640\n",
    "M.F = 94.0\n",
    "Pop = 150\n",
    "NW = 1.1\n",
    "U1 = 0.120\n",
    "U2 = 3.6\n",
    "Wealth = 3200\n",
    "Ineq = 20.1\n",
    "Prob = 0.04\n",
    "Time = 39.0\n",
    "\n",
    "Show your model (factors used and their coefficients), the software output, and the quality of fit. \n",
    "\n",
    "Note that because there are only 47 data points and 15 predictors, you’ll probably notice some overfitting.  We’ll see ways of dealing with this sort of problem later in the course."
   ]
  },
  {
   "cell_type": "markdown",
   "id": "ca1890b7",
   "metadata": {},
   "source": [
    "### 1. Importing Dataset and Libraries"
   ]
  },
  {
   "cell_type": "code",
   "execution_count": 1,
   "id": "3a566534",
   "metadata": {},
   "outputs": [],
   "source": [
    "library(stats)"
   ]
  },
  {
   "cell_type": "code",
   "execution_count": 26,
   "id": "dda4eef9",
   "metadata": {
    "collapsed": true
   },
   "outputs": [
    {
     "name": "stderr",
     "output_type": "stream",
     "text": [
      "\n",
      "Attaching package: 'dplyr'\n",
      "\n",
      "\n",
      "The following objects are masked from 'package:stats':\n",
      "\n",
      "    filter, lag\n",
      "\n",
      "\n",
      "The following objects are masked from 'package:base':\n",
      "\n",
      "    intersect, setdiff, setequal, union\n",
      "\n",
      "\n"
     ]
    }
   ],
   "source": [
    "library(dplyr)"
   ]
  },
  {
   "cell_type": "code",
   "execution_count": 2,
   "id": "30b9474d",
   "metadata": {},
   "outputs": [],
   "source": [
    "crime <- read.table(\"uscrime.txt\", header=TRUE)"
   ]
  },
  {
   "cell_type": "code",
   "execution_count": 3,
   "id": "68b71d49",
   "metadata": {},
   "outputs": [
    {
     "data": {
      "text/html": [
       "<table class=\"dataframe\">\n",
       "<caption>A data.frame: 6 × 16</caption>\n",
       "<thead>\n",
       "\t<tr><th></th><th scope=col>M</th><th scope=col>So</th><th scope=col>Ed</th><th scope=col>Po1</th><th scope=col>Po2</th><th scope=col>LF</th><th scope=col>M.F</th><th scope=col>Pop</th><th scope=col>NW</th><th scope=col>U1</th><th scope=col>U2</th><th scope=col>Wealth</th><th scope=col>Ineq</th><th scope=col>Prob</th><th scope=col>Time</th><th scope=col>Crime</th></tr>\n",
       "\t<tr><th></th><th scope=col>&lt;dbl&gt;</th><th scope=col>&lt;int&gt;</th><th scope=col>&lt;dbl&gt;</th><th scope=col>&lt;dbl&gt;</th><th scope=col>&lt;dbl&gt;</th><th scope=col>&lt;dbl&gt;</th><th scope=col>&lt;dbl&gt;</th><th scope=col>&lt;int&gt;</th><th scope=col>&lt;dbl&gt;</th><th scope=col>&lt;dbl&gt;</th><th scope=col>&lt;dbl&gt;</th><th scope=col>&lt;int&gt;</th><th scope=col>&lt;dbl&gt;</th><th scope=col>&lt;dbl&gt;</th><th scope=col>&lt;dbl&gt;</th><th scope=col>&lt;int&gt;</th></tr>\n",
       "</thead>\n",
       "<tbody>\n",
       "\t<tr><th scope=row>1</th><td>15.1</td><td>1</td><td> 9.1</td><td> 5.8</td><td> 5.6</td><td>0.510</td><td> 95.0</td><td> 33</td><td>30.1</td><td>0.108</td><td>4.1</td><td>3940</td><td>26.1</td><td>0.084602</td><td>26.2011</td><td> 791</td></tr>\n",
       "\t<tr><th scope=row>2</th><td>14.3</td><td>0</td><td>11.3</td><td>10.3</td><td> 9.5</td><td>0.583</td><td>101.2</td><td> 13</td><td>10.2</td><td>0.096</td><td>3.6</td><td>5570</td><td>19.4</td><td>0.029599</td><td>25.2999</td><td>1635</td></tr>\n",
       "\t<tr><th scope=row>3</th><td>14.2</td><td>1</td><td> 8.9</td><td> 4.5</td><td> 4.4</td><td>0.533</td><td> 96.9</td><td> 18</td><td>21.9</td><td>0.094</td><td>3.3</td><td>3180</td><td>25.0</td><td>0.083401</td><td>24.3006</td><td> 578</td></tr>\n",
       "\t<tr><th scope=row>4</th><td>13.6</td><td>0</td><td>12.1</td><td>14.9</td><td>14.1</td><td>0.577</td><td> 99.4</td><td>157</td><td> 8.0</td><td>0.102</td><td>3.9</td><td>6730</td><td>16.7</td><td>0.015801</td><td>29.9012</td><td>1969</td></tr>\n",
       "\t<tr><th scope=row>5</th><td>14.1</td><td>0</td><td>12.1</td><td>10.9</td><td>10.1</td><td>0.591</td><td> 98.5</td><td> 18</td><td> 3.0</td><td>0.091</td><td>2.0</td><td>5780</td><td>17.4</td><td>0.041399</td><td>21.2998</td><td>1234</td></tr>\n",
       "\t<tr><th scope=row>6</th><td>12.1</td><td>0</td><td>11.0</td><td>11.8</td><td>11.5</td><td>0.547</td><td> 96.4</td><td> 25</td><td> 4.4</td><td>0.084</td><td>2.9</td><td>6890</td><td>12.6</td><td>0.034201</td><td>20.9995</td><td> 682</td></tr>\n",
       "</tbody>\n",
       "</table>\n"
      ],
      "text/latex": [
       "A data.frame: 6 × 16\n",
       "\\begin{tabular}{r|llllllllllllllll}\n",
       "  & M & So & Ed & Po1 & Po2 & LF & M.F & Pop & NW & U1 & U2 & Wealth & Ineq & Prob & Time & Crime\\\\\n",
       "  & <dbl> & <int> & <dbl> & <dbl> & <dbl> & <dbl> & <dbl> & <int> & <dbl> & <dbl> & <dbl> & <int> & <dbl> & <dbl> & <dbl> & <int>\\\\\n",
       "\\hline\n",
       "\t1 & 15.1 & 1 &  9.1 &  5.8 &  5.6 & 0.510 &  95.0 &  33 & 30.1 & 0.108 & 4.1 & 3940 & 26.1 & 0.084602 & 26.2011 &  791\\\\\n",
       "\t2 & 14.3 & 0 & 11.3 & 10.3 &  9.5 & 0.583 & 101.2 &  13 & 10.2 & 0.096 & 3.6 & 5570 & 19.4 & 0.029599 & 25.2999 & 1635\\\\\n",
       "\t3 & 14.2 & 1 &  8.9 &  4.5 &  4.4 & 0.533 &  96.9 &  18 & 21.9 & 0.094 & 3.3 & 3180 & 25.0 & 0.083401 & 24.3006 &  578\\\\\n",
       "\t4 & 13.6 & 0 & 12.1 & 14.9 & 14.1 & 0.577 &  99.4 & 157 &  8.0 & 0.102 & 3.9 & 6730 & 16.7 & 0.015801 & 29.9012 & 1969\\\\\n",
       "\t5 & 14.1 & 0 & 12.1 & 10.9 & 10.1 & 0.591 &  98.5 &  18 &  3.0 & 0.091 & 2.0 & 5780 & 17.4 & 0.041399 & 21.2998 & 1234\\\\\n",
       "\t6 & 12.1 & 0 & 11.0 & 11.8 & 11.5 & 0.547 &  96.4 &  25 &  4.4 & 0.084 & 2.9 & 6890 & 12.6 & 0.034201 & 20.9995 &  682\\\\\n",
       "\\end{tabular}\n"
      ],
      "text/markdown": [
       "\n",
       "A data.frame: 6 × 16\n",
       "\n",
       "| <!--/--> | M &lt;dbl&gt; | So &lt;int&gt; | Ed &lt;dbl&gt; | Po1 &lt;dbl&gt; | Po2 &lt;dbl&gt; | LF &lt;dbl&gt; | M.F &lt;dbl&gt; | Pop &lt;int&gt; | NW &lt;dbl&gt; | U1 &lt;dbl&gt; | U2 &lt;dbl&gt; | Wealth &lt;int&gt; | Ineq &lt;dbl&gt; | Prob &lt;dbl&gt; | Time &lt;dbl&gt; | Crime &lt;int&gt; |\n",
       "|---|---|---|---|---|---|---|---|---|---|---|---|---|---|---|---|---|\n",
       "| 1 | 15.1 | 1 |  9.1 |  5.8 |  5.6 | 0.510 |  95.0 |  33 | 30.1 | 0.108 | 4.1 | 3940 | 26.1 | 0.084602 | 26.2011 |  791 |\n",
       "| 2 | 14.3 | 0 | 11.3 | 10.3 |  9.5 | 0.583 | 101.2 |  13 | 10.2 | 0.096 | 3.6 | 5570 | 19.4 | 0.029599 | 25.2999 | 1635 |\n",
       "| 3 | 14.2 | 1 |  8.9 |  4.5 |  4.4 | 0.533 |  96.9 |  18 | 21.9 | 0.094 | 3.3 | 3180 | 25.0 | 0.083401 | 24.3006 |  578 |\n",
       "| 4 | 13.6 | 0 | 12.1 | 14.9 | 14.1 | 0.577 |  99.4 | 157 |  8.0 | 0.102 | 3.9 | 6730 | 16.7 | 0.015801 | 29.9012 | 1969 |\n",
       "| 5 | 14.1 | 0 | 12.1 | 10.9 | 10.1 | 0.591 |  98.5 |  18 |  3.0 | 0.091 | 2.0 | 5780 | 17.4 | 0.041399 | 21.2998 | 1234 |\n",
       "| 6 | 12.1 | 0 | 11.0 | 11.8 | 11.5 | 0.547 |  96.4 |  25 |  4.4 | 0.084 | 2.9 | 6890 | 12.6 | 0.034201 | 20.9995 |  682 |\n",
       "\n"
      ],
      "text/plain": [
       "  M    So Ed   Po1  Po2  LF    M.F   Pop NW   U1    U2  Wealth Ineq Prob    \n",
       "1 15.1 1   9.1  5.8  5.6 0.510  95.0  33 30.1 0.108 4.1 3940   26.1 0.084602\n",
       "2 14.3 0  11.3 10.3  9.5 0.583 101.2  13 10.2 0.096 3.6 5570   19.4 0.029599\n",
       "3 14.2 1   8.9  4.5  4.4 0.533  96.9  18 21.9 0.094 3.3 3180   25.0 0.083401\n",
       "4 13.6 0  12.1 14.9 14.1 0.577  99.4 157  8.0 0.102 3.9 6730   16.7 0.015801\n",
       "5 14.1 0  12.1 10.9 10.1 0.591  98.5  18  3.0 0.091 2.0 5780   17.4 0.041399\n",
       "6 12.1 0  11.0 11.8 11.5 0.547  96.4  25  4.4 0.084 2.9 6890   12.6 0.034201\n",
       "  Time    Crime\n",
       "1 26.2011  791 \n",
       "2 25.2999 1635 \n",
       "3 24.3006  578 \n",
       "4 29.9012 1969 \n",
       "5 21.2998 1234 \n",
       "6 20.9995  682 "
      ]
     },
     "metadata": {},
     "output_type": "display_data"
    }
   ],
   "source": [
    "head(crime)"
   ]
  },
  {
   "cell_type": "code",
   "execution_count": 4,
   "id": "3edf0286",
   "metadata": {},
   "outputs": [
    {
     "data": {
      "text/plain": [
       "       M               So               Ed             Po1       \n",
       " Min.   :11.90   Min.   :0.0000   Min.   : 8.70   Min.   : 4.50  \n",
       " 1st Qu.:13.00   1st Qu.:0.0000   1st Qu.: 9.75   1st Qu.: 6.25  \n",
       " Median :13.60   Median :0.0000   Median :10.80   Median : 7.80  \n",
       " Mean   :13.86   Mean   :0.3404   Mean   :10.56   Mean   : 8.50  \n",
       " 3rd Qu.:14.60   3rd Qu.:1.0000   3rd Qu.:11.45   3rd Qu.:10.45  \n",
       " Max.   :17.70   Max.   :1.0000   Max.   :12.20   Max.   :16.60  \n",
       "      Po2               LF              M.F              Pop        \n",
       " Min.   : 4.100   Min.   :0.4800   Min.   : 93.40   Min.   :  3.00  \n",
       " 1st Qu.: 5.850   1st Qu.:0.5305   1st Qu.: 96.45   1st Qu.: 10.00  \n",
       " Median : 7.300   Median :0.5600   Median : 97.70   Median : 25.00  \n",
       " Mean   : 8.023   Mean   :0.5612   Mean   : 98.30   Mean   : 36.62  \n",
       " 3rd Qu.: 9.700   3rd Qu.:0.5930   3rd Qu.: 99.20   3rd Qu.: 41.50  \n",
       " Max.   :15.700   Max.   :0.6410   Max.   :107.10   Max.   :168.00  \n",
       "       NW              U1                U2            Wealth    \n",
       " Min.   : 0.20   Min.   :0.07000   Min.   :2.000   Min.   :2880  \n",
       " 1st Qu.: 2.40   1st Qu.:0.08050   1st Qu.:2.750   1st Qu.:4595  \n",
       " Median : 7.60   Median :0.09200   Median :3.400   Median :5370  \n",
       " Mean   :10.11   Mean   :0.09547   Mean   :3.398   Mean   :5254  \n",
       " 3rd Qu.:13.25   3rd Qu.:0.10400   3rd Qu.:3.850   3rd Qu.:5915  \n",
       " Max.   :42.30   Max.   :0.14200   Max.   :5.800   Max.   :6890  \n",
       "      Ineq            Prob              Time           Crime       \n",
       " Min.   :12.60   Min.   :0.00690   Min.   :12.20   Min.   : 342.0  \n",
       " 1st Qu.:16.55   1st Qu.:0.03270   1st Qu.:21.60   1st Qu.: 658.5  \n",
       " Median :17.60   Median :0.04210   Median :25.80   Median : 831.0  \n",
       " Mean   :19.40   Mean   :0.04709   Mean   :26.60   Mean   : 905.1  \n",
       " 3rd Qu.:22.75   3rd Qu.:0.05445   3rd Qu.:30.45   3rd Qu.:1057.5  \n",
       " Max.   :27.60   Max.   :0.11980   Max.   :44.00   Max.   :1993.0  "
      ]
     },
     "metadata": {},
     "output_type": "display_data"
    }
   ],
   "source": [
    "summary(crime)"
   ]
  },
  {
   "cell_type": "code",
   "execution_count": 5,
   "id": "b5dca277",
   "metadata": {
    "scrolled": true
   },
   "outputs": [
    {
     "data": {
      "text/html": [
       "<style>\n",
       ".list-inline {list-style: none; margin:0; padding: 0}\n",
       ".list-inline>li {display: inline-block}\n",
       ".list-inline>li:not(:last-child)::after {content: \"\\00b7\"; padding: 0 .5ex}\n",
       "</style>\n",
       "<ol class=list-inline><li>'M'</li><li>'So'</li><li>'Ed'</li><li>'Po1'</li><li>'Po2'</li><li>'LF'</li><li>'M.F'</li><li>'Pop'</li><li>'NW'</li><li>'U1'</li><li>'U2'</li><li>'Wealth'</li><li>'Ineq'</li><li>'Prob'</li><li>'Time'</li><li>'Crime'</li></ol>\n"
      ],
      "text/latex": [
       "\\begin{enumerate*}\n",
       "\\item 'M'\n",
       "\\item 'So'\n",
       "\\item 'Ed'\n",
       "\\item 'Po1'\n",
       "\\item 'Po2'\n",
       "\\item 'LF'\n",
       "\\item 'M.F'\n",
       "\\item 'Pop'\n",
       "\\item 'NW'\n",
       "\\item 'U1'\n",
       "\\item 'U2'\n",
       "\\item 'Wealth'\n",
       "\\item 'Ineq'\n",
       "\\item 'Prob'\n",
       "\\item 'Time'\n",
       "\\item 'Crime'\n",
       "\\end{enumerate*}\n"
      ],
      "text/markdown": [
       "1. 'M'\n",
       "2. 'So'\n",
       "3. 'Ed'\n",
       "4. 'Po1'\n",
       "5. 'Po2'\n",
       "6. 'LF'\n",
       "7. 'M.F'\n",
       "8. 'Pop'\n",
       "9. 'NW'\n",
       "10. 'U1'\n",
       "11. 'U2'\n",
       "12. 'Wealth'\n",
       "13. 'Ineq'\n",
       "14. 'Prob'\n",
       "15. 'Time'\n",
       "16. 'Crime'\n",
       "\n",
       "\n"
      ],
      "text/plain": [
       " [1] \"M\"      \"So\"     \"Ed\"     \"Po1\"    \"Po2\"    \"LF\"     \"M.F\"    \"Pop\"   \n",
       " [9] \"NW\"     \"U1\"     \"U2\"     \"Wealth\" \"Ineq\"   \"Prob\"   \"Time\"   \"Crime\" "
      ]
     },
     "metadata": {},
     "output_type": "display_data"
    }
   ],
   "source": [
    "names(crime)"
   ]
  },
  {
   "cell_type": "markdown",
   "id": "f85e81c8",
   "metadata": {},
   "source": [
    "### 2. Linear Regression Model 1 (Unscaled Data)"
   ]
  },
  {
   "cell_type": "code",
   "execution_count": 6,
   "id": "95769f4a",
   "metadata": {},
   "outputs": [],
   "source": [
    "model <- lm(Crime ~ M+So+Ed+Po1+Po2+LF+M.F+Pop+NW+U1+U2+Wealth+Ineq+Prob+Time, data=crime)"
   ]
  },
  {
   "cell_type": "code",
   "execution_count": 7,
   "id": "0ed1b388",
   "metadata": {},
   "outputs": [
    {
     "data": {
      "text/plain": [
       "\n",
       "Call:\n",
       "lm(formula = Crime ~ M + So + Ed + Po1 + Po2 + LF + M.F + Pop + \n",
       "    NW + U1 + U2 + Wealth + Ineq + Prob + Time, data = crime)\n",
       "\n",
       "Coefficients:\n",
       "(Intercept)            M           So           Ed          Po1          Po2  \n",
       " -5.984e+03    8.783e+01   -3.803e+00    1.883e+02    1.928e+02   -1.094e+02  \n",
       "         LF          M.F          Pop           NW           U1           U2  \n",
       " -6.638e+02    1.741e+01   -7.330e-01    4.204e+00   -5.827e+03    1.678e+02  \n",
       "     Wealth         Ineq         Prob         Time  \n",
       "  9.617e-02    7.067e+01   -4.855e+03   -3.479e+00  \n"
      ]
     },
     "metadata": {},
     "output_type": "display_data"
    }
   ],
   "source": [
    "model"
   ]
  },
  {
   "cell_type": "markdown",
   "id": "82535c2b",
   "metadata": {},
   "source": [
    "### 3. Linear Regression Model 2 (Scaled Data)"
   ]
  },
  {
   "cell_type": "code",
   "execution_count": 8,
   "id": "7b1a1043",
   "metadata": {},
   "outputs": [],
   "source": [
    "crime_scaled <- scale(crime[,1:15])"
   ]
  },
  {
   "cell_type": "code",
   "execution_count": 9,
   "id": "d251c91e",
   "metadata": {},
   "outputs": [
    {
     "data": {
      "text/html": [
       "<table class=\"dataframe\">\n",
       "<caption>A matrix: 6 × 15 of type dbl</caption>\n",
       "<thead>\n",
       "\t<tr><th scope=col>M</th><th scope=col>So</th><th scope=col>Ed</th><th scope=col>Po1</th><th scope=col>Po2</th><th scope=col>LF</th><th scope=col>M.F</th><th scope=col>Pop</th><th scope=col>NW</th><th scope=col>U1</th><th scope=col>U2</th><th scope=col>Wealth</th><th scope=col>Ineq</th><th scope=col>Prob</th><th scope=col>Time</th></tr>\n",
       "</thead>\n",
       "<tbody>\n",
       "\t<tr><td> 0.9886930</td><td> 1.3770536</td><td>-1.3085099</td><td>-0.9085105</td><td>-0.8666988</td><td>-1.2667456</td><td>-1.12060499</td><td>-0.09500679</td><td> 1.943738564</td><td> 0.69510600</td><td> 0.8313680</td><td>-1.3616094</td><td> 1.6793638</td><td> 1.6497631</td><td>-0.05599367</td></tr>\n",
       "\t<tr><td> 0.3521372</td><td>-0.7107373</td><td> 0.6580587</td><td> 0.6056737</td><td> 0.5280852</td><td> 0.5396568</td><td> 0.98341752</td><td>-0.62033844</td><td> 0.008483424</td><td> 0.02950365</td><td> 0.2393332</td><td> 0.3276683</td><td> 0.0000000</td><td>-0.7693365</td><td>-0.18315796</td></tr>\n",
       "\t<tr><td> 0.2725678</td><td> 1.3770536</td><td>-1.4872888</td><td>-1.3459415</td><td>-1.2958632</td><td>-0.6976051</td><td>-0.47582390</td><td>-0.48900552</td><td> 1.146296747</td><td>-0.08143007</td><td>-0.1158877</td><td>-2.1492481</td><td> 1.4036474</td><td> 1.5969416</td><td>-0.32416470</td></tr>\n",
       "\t<tr><td>-0.2048491</td><td>-0.7107373</td><td> 1.3731746</td><td> 2.1535064</td><td> 2.1732150</td><td> 0.3911854</td><td> 0.37257228</td><td> 3.16204944</td><td>-0.205464381</td><td> 0.36230482</td><td> 0.5945541</td><td> 1.5298536</td><td>-0.6767585</td><td>-1.3761895</td><td> 0.46611085</td></tr>\n",
       "\t<tr><td> 0.1929983</td><td>-0.7107373</td><td> 1.3731746</td><td> 0.8075649</td><td> 0.7426673</td><td> 0.7376187</td><td> 0.06714965</td><td>-0.48900552</td><td>-0.691709391</td><td>-0.24783066</td><td>-1.6551781</td><td> 0.5453053</td><td>-0.5013026</td><td>-0.2503580</td><td>-0.74759413</td></tr>\n",
       "\t<tr><td>-1.3983912</td><td>-0.7107373</td><td> 0.3898903</td><td> 1.1104017</td><td> 1.2433590</td><td>-0.3511718</td><td>-0.64550313</td><td>-0.30513945</td><td>-0.555560788</td><td>-0.63609870</td><td>-0.5895155</td><td> 1.6956723</td><td>-1.7044289</td><td>-0.5669349</td><td>-0.78996812</td></tr>\n",
       "</tbody>\n",
       "</table>\n"
      ],
      "text/latex": [
       "A matrix: 6 × 15 of type dbl\n",
       "\\begin{tabular}{lllllllllllllll}\n",
       " M & So & Ed & Po1 & Po2 & LF & M.F & Pop & NW & U1 & U2 & Wealth & Ineq & Prob & Time\\\\\n",
       "\\hline\n",
       "\t  0.9886930 &  1.3770536 & -1.3085099 & -0.9085105 & -0.8666988 & -1.2667456 & -1.12060499 & -0.09500679 &  1.943738564 &  0.69510600 &  0.8313680 & -1.3616094 &  1.6793638 &  1.6497631 & -0.05599367\\\\\n",
       "\t  0.3521372 & -0.7107373 &  0.6580587 &  0.6056737 &  0.5280852 &  0.5396568 &  0.98341752 & -0.62033844 &  0.008483424 &  0.02950365 &  0.2393332 &  0.3276683 &  0.0000000 & -0.7693365 & -0.18315796\\\\\n",
       "\t  0.2725678 &  1.3770536 & -1.4872888 & -1.3459415 & -1.2958632 & -0.6976051 & -0.47582390 & -0.48900552 &  1.146296747 & -0.08143007 & -0.1158877 & -2.1492481 &  1.4036474 &  1.5969416 & -0.32416470\\\\\n",
       "\t -0.2048491 & -0.7107373 &  1.3731746 &  2.1535064 &  2.1732150 &  0.3911854 &  0.37257228 &  3.16204944 & -0.205464381 &  0.36230482 &  0.5945541 &  1.5298536 & -0.6767585 & -1.3761895 &  0.46611085\\\\\n",
       "\t  0.1929983 & -0.7107373 &  1.3731746 &  0.8075649 &  0.7426673 &  0.7376187 &  0.06714965 & -0.48900552 & -0.691709391 & -0.24783066 & -1.6551781 &  0.5453053 & -0.5013026 & -0.2503580 & -0.74759413\\\\\n",
       "\t -1.3983912 & -0.7107373 &  0.3898903 &  1.1104017 &  1.2433590 & -0.3511718 & -0.64550313 & -0.30513945 & -0.555560788 & -0.63609870 & -0.5895155 &  1.6956723 & -1.7044289 & -0.5669349 & -0.78996812\\\\\n",
       "\\end{tabular}\n"
      ],
      "text/markdown": [
       "\n",
       "A matrix: 6 × 15 of type dbl\n",
       "\n",
       "| M | So | Ed | Po1 | Po2 | LF | M.F | Pop | NW | U1 | U2 | Wealth | Ineq | Prob | Time |\n",
       "|---|---|---|---|---|---|---|---|---|---|---|---|---|---|---|\n",
       "|  0.9886930 |  1.3770536 | -1.3085099 | -0.9085105 | -0.8666988 | -1.2667456 | -1.12060499 | -0.09500679 |  1.943738564 |  0.69510600 |  0.8313680 | -1.3616094 |  1.6793638 |  1.6497631 | -0.05599367 |\n",
       "|  0.3521372 | -0.7107373 |  0.6580587 |  0.6056737 |  0.5280852 |  0.5396568 |  0.98341752 | -0.62033844 |  0.008483424 |  0.02950365 |  0.2393332 |  0.3276683 |  0.0000000 | -0.7693365 | -0.18315796 |\n",
       "|  0.2725678 |  1.3770536 | -1.4872888 | -1.3459415 | -1.2958632 | -0.6976051 | -0.47582390 | -0.48900552 |  1.146296747 | -0.08143007 | -0.1158877 | -2.1492481 |  1.4036474 |  1.5969416 | -0.32416470 |\n",
       "| -0.2048491 | -0.7107373 |  1.3731746 |  2.1535064 |  2.1732150 |  0.3911854 |  0.37257228 |  3.16204944 | -0.205464381 |  0.36230482 |  0.5945541 |  1.5298536 | -0.6767585 | -1.3761895 |  0.46611085 |\n",
       "|  0.1929983 | -0.7107373 |  1.3731746 |  0.8075649 |  0.7426673 |  0.7376187 |  0.06714965 | -0.48900552 | -0.691709391 | -0.24783066 | -1.6551781 |  0.5453053 | -0.5013026 | -0.2503580 | -0.74759413 |\n",
       "| -1.3983912 | -0.7107373 |  0.3898903 |  1.1104017 |  1.2433590 | -0.3511718 | -0.64550313 | -0.30513945 | -0.555560788 | -0.63609870 | -0.5895155 |  1.6956723 | -1.7044289 | -0.5669349 | -0.78996812 |\n",
       "\n"
      ],
      "text/plain": [
       "     M          So         Ed         Po1        Po2        LF        \n",
       "[1,]  0.9886930  1.3770536 -1.3085099 -0.9085105 -0.8666988 -1.2667456\n",
       "[2,]  0.3521372 -0.7107373  0.6580587  0.6056737  0.5280852  0.5396568\n",
       "[3,]  0.2725678  1.3770536 -1.4872888 -1.3459415 -1.2958632 -0.6976051\n",
       "[4,] -0.2048491 -0.7107373  1.3731746  2.1535064  2.1732150  0.3911854\n",
       "[5,]  0.1929983 -0.7107373  1.3731746  0.8075649  0.7426673  0.7376187\n",
       "[6,] -1.3983912 -0.7107373  0.3898903  1.1104017  1.2433590 -0.3511718\n",
       "     M.F         Pop         NW           U1          U2         Wealth    \n",
       "[1,] -1.12060499 -0.09500679  1.943738564  0.69510600  0.8313680 -1.3616094\n",
       "[2,]  0.98341752 -0.62033844  0.008483424  0.02950365  0.2393332  0.3276683\n",
       "[3,] -0.47582390 -0.48900552  1.146296747 -0.08143007 -0.1158877 -2.1492481\n",
       "[4,]  0.37257228  3.16204944 -0.205464381  0.36230482  0.5945541  1.5298536\n",
       "[5,]  0.06714965 -0.48900552 -0.691709391 -0.24783066 -1.6551781  0.5453053\n",
       "[6,] -0.64550313 -0.30513945 -0.555560788 -0.63609870 -0.5895155  1.6956723\n",
       "     Ineq       Prob       Time       \n",
       "[1,]  1.6793638  1.6497631 -0.05599367\n",
       "[2,]  0.0000000 -0.7693365 -0.18315796\n",
       "[3,]  1.4036474  1.5969416 -0.32416470\n",
       "[4,] -0.6767585 -1.3761895  0.46611085\n",
       "[5,] -0.5013026 -0.2503580 -0.74759413\n",
       "[6,] -1.7044289 -0.5669349 -0.78996812"
      ]
     },
     "metadata": {},
     "output_type": "display_data"
    }
   ],
   "source": [
    "head(crime_scaled)"
   ]
  },
  {
   "cell_type": "code",
   "execution_count": 10,
   "id": "2a0cd18b",
   "metadata": {},
   "outputs": [],
   "source": [
    "crime_scaled <- data.frame(crime_scaled)"
   ]
  },
  {
   "cell_type": "code",
   "execution_count": 11,
   "id": "68b1c690",
   "metadata": {},
   "outputs": [
    {
     "data": {
      "text/html": [
       "<table class=\"dataframe\">\n",
       "<caption>A data.frame: 6 × 15</caption>\n",
       "<thead>\n",
       "\t<tr><th></th><th scope=col>M</th><th scope=col>So</th><th scope=col>Ed</th><th scope=col>Po1</th><th scope=col>Po2</th><th scope=col>LF</th><th scope=col>M.F</th><th scope=col>Pop</th><th scope=col>NW</th><th scope=col>U1</th><th scope=col>U2</th><th scope=col>Wealth</th><th scope=col>Ineq</th><th scope=col>Prob</th><th scope=col>Time</th></tr>\n",
       "\t<tr><th></th><th scope=col>&lt;dbl&gt;</th><th scope=col>&lt;dbl&gt;</th><th scope=col>&lt;dbl&gt;</th><th scope=col>&lt;dbl&gt;</th><th scope=col>&lt;dbl&gt;</th><th scope=col>&lt;dbl&gt;</th><th scope=col>&lt;dbl&gt;</th><th scope=col>&lt;dbl&gt;</th><th scope=col>&lt;dbl&gt;</th><th scope=col>&lt;dbl&gt;</th><th scope=col>&lt;dbl&gt;</th><th scope=col>&lt;dbl&gt;</th><th scope=col>&lt;dbl&gt;</th><th scope=col>&lt;dbl&gt;</th><th scope=col>&lt;dbl&gt;</th></tr>\n",
       "</thead>\n",
       "<tbody>\n",
       "\t<tr><th scope=row>1</th><td> 0.9886930</td><td> 1.3770536</td><td>-1.3085099</td><td>-0.9085105</td><td>-0.8666988</td><td>-1.2667456</td><td>-1.12060499</td><td>-0.09500679</td><td> 1.943738564</td><td> 0.69510600</td><td> 0.8313680</td><td>-1.3616094</td><td> 1.6793638</td><td> 1.6497631</td><td>-0.05599367</td></tr>\n",
       "\t<tr><th scope=row>2</th><td> 0.3521372</td><td>-0.7107373</td><td> 0.6580587</td><td> 0.6056737</td><td> 0.5280852</td><td> 0.5396568</td><td> 0.98341752</td><td>-0.62033844</td><td> 0.008483424</td><td> 0.02950365</td><td> 0.2393332</td><td> 0.3276683</td><td> 0.0000000</td><td>-0.7693365</td><td>-0.18315796</td></tr>\n",
       "\t<tr><th scope=row>3</th><td> 0.2725678</td><td> 1.3770536</td><td>-1.4872888</td><td>-1.3459415</td><td>-1.2958632</td><td>-0.6976051</td><td>-0.47582390</td><td>-0.48900552</td><td> 1.146296747</td><td>-0.08143007</td><td>-0.1158877</td><td>-2.1492481</td><td> 1.4036474</td><td> 1.5969416</td><td>-0.32416470</td></tr>\n",
       "\t<tr><th scope=row>4</th><td>-0.2048491</td><td>-0.7107373</td><td> 1.3731746</td><td> 2.1535064</td><td> 2.1732150</td><td> 0.3911854</td><td> 0.37257228</td><td> 3.16204944</td><td>-0.205464381</td><td> 0.36230482</td><td> 0.5945541</td><td> 1.5298536</td><td>-0.6767585</td><td>-1.3761895</td><td> 0.46611085</td></tr>\n",
       "\t<tr><th scope=row>5</th><td> 0.1929983</td><td>-0.7107373</td><td> 1.3731746</td><td> 0.8075649</td><td> 0.7426673</td><td> 0.7376187</td><td> 0.06714965</td><td>-0.48900552</td><td>-0.691709391</td><td>-0.24783066</td><td>-1.6551781</td><td> 0.5453053</td><td>-0.5013026</td><td>-0.2503580</td><td>-0.74759413</td></tr>\n",
       "\t<tr><th scope=row>6</th><td>-1.3983912</td><td>-0.7107373</td><td> 0.3898903</td><td> 1.1104017</td><td> 1.2433590</td><td>-0.3511718</td><td>-0.64550313</td><td>-0.30513945</td><td>-0.555560788</td><td>-0.63609870</td><td>-0.5895155</td><td> 1.6956723</td><td>-1.7044289</td><td>-0.5669349</td><td>-0.78996812</td></tr>\n",
       "</tbody>\n",
       "</table>\n"
      ],
      "text/latex": [
       "A data.frame: 6 × 15\n",
       "\\begin{tabular}{r|lllllllllllllll}\n",
       "  & M & So & Ed & Po1 & Po2 & LF & M.F & Pop & NW & U1 & U2 & Wealth & Ineq & Prob & Time\\\\\n",
       "  & <dbl> & <dbl> & <dbl> & <dbl> & <dbl> & <dbl> & <dbl> & <dbl> & <dbl> & <dbl> & <dbl> & <dbl> & <dbl> & <dbl> & <dbl>\\\\\n",
       "\\hline\n",
       "\t1 &  0.9886930 &  1.3770536 & -1.3085099 & -0.9085105 & -0.8666988 & -1.2667456 & -1.12060499 & -0.09500679 &  1.943738564 &  0.69510600 &  0.8313680 & -1.3616094 &  1.6793638 &  1.6497631 & -0.05599367\\\\\n",
       "\t2 &  0.3521372 & -0.7107373 &  0.6580587 &  0.6056737 &  0.5280852 &  0.5396568 &  0.98341752 & -0.62033844 &  0.008483424 &  0.02950365 &  0.2393332 &  0.3276683 &  0.0000000 & -0.7693365 & -0.18315796\\\\\n",
       "\t3 &  0.2725678 &  1.3770536 & -1.4872888 & -1.3459415 & -1.2958632 & -0.6976051 & -0.47582390 & -0.48900552 &  1.146296747 & -0.08143007 & -0.1158877 & -2.1492481 &  1.4036474 &  1.5969416 & -0.32416470\\\\\n",
       "\t4 & -0.2048491 & -0.7107373 &  1.3731746 &  2.1535064 &  2.1732150 &  0.3911854 &  0.37257228 &  3.16204944 & -0.205464381 &  0.36230482 &  0.5945541 &  1.5298536 & -0.6767585 & -1.3761895 &  0.46611085\\\\\n",
       "\t5 &  0.1929983 & -0.7107373 &  1.3731746 &  0.8075649 &  0.7426673 &  0.7376187 &  0.06714965 & -0.48900552 & -0.691709391 & -0.24783066 & -1.6551781 &  0.5453053 & -0.5013026 & -0.2503580 & -0.74759413\\\\\n",
       "\t6 & -1.3983912 & -0.7107373 &  0.3898903 &  1.1104017 &  1.2433590 & -0.3511718 & -0.64550313 & -0.30513945 & -0.555560788 & -0.63609870 & -0.5895155 &  1.6956723 & -1.7044289 & -0.5669349 & -0.78996812\\\\\n",
       "\\end{tabular}\n"
      ],
      "text/markdown": [
       "\n",
       "A data.frame: 6 × 15\n",
       "\n",
       "| <!--/--> | M &lt;dbl&gt; | So &lt;dbl&gt; | Ed &lt;dbl&gt; | Po1 &lt;dbl&gt; | Po2 &lt;dbl&gt; | LF &lt;dbl&gt; | M.F &lt;dbl&gt; | Pop &lt;dbl&gt; | NW &lt;dbl&gt; | U1 &lt;dbl&gt; | U2 &lt;dbl&gt; | Wealth &lt;dbl&gt; | Ineq &lt;dbl&gt; | Prob &lt;dbl&gt; | Time &lt;dbl&gt; |\n",
       "|---|---|---|---|---|---|---|---|---|---|---|---|---|---|---|---|\n",
       "| 1 |  0.9886930 |  1.3770536 | -1.3085099 | -0.9085105 | -0.8666988 | -1.2667456 | -1.12060499 | -0.09500679 |  1.943738564 |  0.69510600 |  0.8313680 | -1.3616094 |  1.6793638 |  1.6497631 | -0.05599367 |\n",
       "| 2 |  0.3521372 | -0.7107373 |  0.6580587 |  0.6056737 |  0.5280852 |  0.5396568 |  0.98341752 | -0.62033844 |  0.008483424 |  0.02950365 |  0.2393332 |  0.3276683 |  0.0000000 | -0.7693365 | -0.18315796 |\n",
       "| 3 |  0.2725678 |  1.3770536 | -1.4872888 | -1.3459415 | -1.2958632 | -0.6976051 | -0.47582390 | -0.48900552 |  1.146296747 | -0.08143007 | -0.1158877 | -2.1492481 |  1.4036474 |  1.5969416 | -0.32416470 |\n",
       "| 4 | -0.2048491 | -0.7107373 |  1.3731746 |  2.1535064 |  2.1732150 |  0.3911854 |  0.37257228 |  3.16204944 | -0.205464381 |  0.36230482 |  0.5945541 |  1.5298536 | -0.6767585 | -1.3761895 |  0.46611085 |\n",
       "| 5 |  0.1929983 | -0.7107373 |  1.3731746 |  0.8075649 |  0.7426673 |  0.7376187 |  0.06714965 | -0.48900552 | -0.691709391 | -0.24783066 | -1.6551781 |  0.5453053 | -0.5013026 | -0.2503580 | -0.74759413 |\n",
       "| 6 | -1.3983912 | -0.7107373 |  0.3898903 |  1.1104017 |  1.2433590 | -0.3511718 | -0.64550313 | -0.30513945 | -0.555560788 | -0.63609870 | -0.5895155 |  1.6956723 | -1.7044289 | -0.5669349 | -0.78996812 |\n",
       "\n"
      ],
      "text/plain": [
       "  M          So         Ed         Po1        Po2        LF         M.F        \n",
       "1  0.9886930  1.3770536 -1.3085099 -0.9085105 -0.8666988 -1.2667456 -1.12060499\n",
       "2  0.3521372 -0.7107373  0.6580587  0.6056737  0.5280852  0.5396568  0.98341752\n",
       "3  0.2725678  1.3770536 -1.4872888 -1.3459415 -1.2958632 -0.6976051 -0.47582390\n",
       "4 -0.2048491 -0.7107373  1.3731746  2.1535064  2.1732150  0.3911854  0.37257228\n",
       "5  0.1929983 -0.7107373  1.3731746  0.8075649  0.7426673  0.7376187  0.06714965\n",
       "6 -1.3983912 -0.7107373  0.3898903  1.1104017  1.2433590 -0.3511718 -0.64550313\n",
       "  Pop         NW           U1          U2         Wealth     Ineq      \n",
       "1 -0.09500679  1.943738564  0.69510600  0.8313680 -1.3616094  1.6793638\n",
       "2 -0.62033844  0.008483424  0.02950365  0.2393332  0.3276683  0.0000000\n",
       "3 -0.48900552  1.146296747 -0.08143007 -0.1158877 -2.1492481  1.4036474\n",
       "4  3.16204944 -0.205464381  0.36230482  0.5945541  1.5298536 -0.6767585\n",
       "5 -0.48900552 -0.691709391 -0.24783066 -1.6551781  0.5453053 -0.5013026\n",
       "6 -0.30513945 -0.555560788 -0.63609870 -0.5895155  1.6956723 -1.7044289\n",
       "  Prob       Time       \n",
       "1  1.6497631 -0.05599367\n",
       "2 -0.7693365 -0.18315796\n",
       "3  1.5969416 -0.32416470\n",
       "4 -1.3761895  0.46611085\n",
       "5 -0.2503580 -0.74759413\n",
       "6 -0.5669349 -0.78996812"
      ]
     },
     "metadata": {},
     "output_type": "display_data"
    }
   ],
   "source": [
    "head(crime_scaled)"
   ]
  },
  {
   "cell_type": "code",
   "execution_count": 12,
   "id": "628fc7ab",
   "metadata": {},
   "outputs": [],
   "source": [
    "model2 <- lm(crime$Crime ~., data=crime_scaled)"
   ]
  },
  {
   "cell_type": "code",
   "execution_count": 13,
   "id": "1312df7a",
   "metadata": {},
   "outputs": [
    {
     "data": {
      "text/plain": [
       "\n",
       "Call:\n",
       "lm(formula = crime$Crime ~ ., data = crime_scaled)\n",
       "\n",
       "Coefficients:\n",
       "(Intercept)            M           So           Ed          Po1          Po2  \n",
       "    905.085      110.382       -1.822      210.678      572.995     -305.958  \n",
       "         LF          M.F          Pop           NW           U1           U2  \n",
       "    -26.826       51.293      -27.906       43.234     -105.056      141.714  \n",
       "     Wealth         Ineq         Prob         Time  \n",
       "     92.792      281.954     -110.394      -24.655  \n"
      ]
     },
     "metadata": {},
     "output_type": "display_data"
    }
   ],
   "source": [
    "model2"
   ]
  },
  {
   "cell_type": "code",
   "execution_count": 27,
   "id": "27ae65ef",
   "metadata": {},
   "outputs": [
    {
     "data": {
      "text/plain": [
       "\n",
       "Call:\n",
       "lm(formula = crime$Crime ~ ., data = crime_scaled)\n",
       "\n",
       "Residuals:\n",
       "    Min      1Q  Median      3Q     Max \n",
       "-395.74  -98.09   -6.69  112.99  512.67 \n",
       "\n",
       "Coefficients:\n",
       "            Estimate Std. Error t value Pr(>|t|)    \n",
       "(Intercept)  905.085     30.495  29.680  < 2e-16 ***\n",
       "M            110.382     52.424   2.106  0.04344 *  \n",
       "So            -1.822     71.250  -0.026  0.97977    \n",
       "Ed           210.678     69.458   3.033  0.00486 ** \n",
       "Po1          572.995    315.347   1.817  0.07889 .  \n",
       "Po2         -305.958    328.483  -0.931  0.35883    \n",
       "LF           -26.826     59.394  -0.452  0.65465    \n",
       "M.F           51.293     59.977   0.855  0.39900    \n",
       "Pop          -27.906     49.095  -0.568  0.57385    \n",
       "NW            43.234     66.642   0.649  0.52128    \n",
       "U1          -105.056     75.906  -1.384  0.17624    \n",
       "U2           141.714     69.536   2.038  0.05016 .  \n",
       "Wealth        92.792    100.028   0.928  0.36075    \n",
       "Ineq         281.954     90.630   3.111  0.00398 ** \n",
       "Prob        -110.394     51.667  -2.137  0.04063 *  \n",
       "Time         -24.655     50.780  -0.486  0.63071    \n",
       "---\n",
       "Signif. codes:  0 '***' 0.001 '**' 0.01 '*' 0.05 '.' 0.1 ' ' 1\n",
       "\n",
       "Residual standard error: 209.1 on 31 degrees of freedom\n",
       "Multiple R-squared:  0.8031,\tAdjusted R-squared:  0.7078 \n",
       "F-statistic: 8.429 on 15 and 31 DF,  p-value: 3.539e-07\n"
      ]
     },
     "metadata": {},
     "output_type": "display_data"
    }
   ],
   "source": [
    "summary(model2)"
   ]
  },
  {
   "cell_type": "markdown",
   "id": "6838a205",
   "metadata": {},
   "source": [
    "### 4. Evaluation of Models"
   ]
  },
  {
   "cell_type": "markdown",
   "id": "1923641e",
   "metadata": {},
   "source": [
    "#### P-Values of Coefficients\n",
    "\n",
    "A low P-value (< 0.05) means that the coefficient is likely not to equal zero. A high P-value (> 0.05) means that we cannot conclude that the explanatory variable affects the dependent variable\n",
    "\n",
    "Source: https://feliperego.github.io/blog/2015/10/23/Interpreting-Model-Output-In-R"
   ]
  },
  {
   "cell_type": "markdown",
   "id": "fa6bbec7",
   "metadata": {},
   "source": [
    "I will remove coefficients with P-Value greater than 0.05 later\n",
    "- so\n",
    "- po1\n",
    "- po2\n",
    "- LF\n",
    "- M.F.\n",
    "- Pop\n",
    "- NW\n",
    "- U1\n",
    "- U2\n",
    "- wealth\n",
    "- time"
   ]
  },
  {
   "cell_type": "markdown",
   "id": "85446517",
   "metadata": {},
   "source": [
    "#### Train-Test Split Accuracy Test"
   ]
  },
  {
   "cell_type": "markdown",
   "id": "5cc0a47f",
   "metadata": {},
   "source": [
    "Source: http://www.sthda.com/english/articles/40-regression-analysis/165-linear-regression-essentials-in-r/\n",
    "\n",
    "Source: https://www.statology.org/train-test-split-r/"
   ]
  },
  {
   "cell_type": "markdown",
   "id": "fc714764",
   "metadata": {},
   "source": [
    "##### Test on Model 1 (Unscaled Data)"
   ]
  },
  {
   "cell_type": "code",
   "execution_count": 15,
   "id": "90ede70f",
   "metadata": {},
   "outputs": [],
   "source": [
    "library(caTools)"
   ]
  },
  {
   "cell_type": "code",
   "execution_count": 31,
   "id": "c01caf19",
   "metadata": {},
   "outputs": [
    {
     "data": {
      "text/html": [
       "<table class=\"dataframe\">\n",
       "<caption>A data.frame: 6 × 16</caption>\n",
       "<thead>\n",
       "\t<tr><th></th><th scope=col>M</th><th scope=col>So</th><th scope=col>Ed</th><th scope=col>Po1</th><th scope=col>Po2</th><th scope=col>LF</th><th scope=col>M.F</th><th scope=col>Pop</th><th scope=col>NW</th><th scope=col>U1</th><th scope=col>U2</th><th scope=col>Wealth</th><th scope=col>Ineq</th><th scope=col>Prob</th><th scope=col>Time</th><th scope=col>Crime</th></tr>\n",
       "\t<tr><th></th><th scope=col>&lt;dbl&gt;</th><th scope=col>&lt;int&gt;</th><th scope=col>&lt;dbl&gt;</th><th scope=col>&lt;dbl&gt;</th><th scope=col>&lt;dbl&gt;</th><th scope=col>&lt;dbl&gt;</th><th scope=col>&lt;dbl&gt;</th><th scope=col>&lt;int&gt;</th><th scope=col>&lt;dbl&gt;</th><th scope=col>&lt;dbl&gt;</th><th scope=col>&lt;dbl&gt;</th><th scope=col>&lt;int&gt;</th><th scope=col>&lt;dbl&gt;</th><th scope=col>&lt;dbl&gt;</th><th scope=col>&lt;dbl&gt;</th><th scope=col>&lt;int&gt;</th></tr>\n",
       "</thead>\n",
       "<tbody>\n",
       "\t<tr><th scope=row>1</th><td>15.1</td><td>1</td><td> 9.1</td><td> 5.8</td><td> 5.6</td><td>0.510</td><td> 95.0</td><td> 33</td><td>30.1</td><td>0.108</td><td>4.1</td><td>3940</td><td>26.1</td><td>0.084602</td><td>26.2011</td><td> 791</td></tr>\n",
       "\t<tr><th scope=row>2</th><td>14.3</td><td>0</td><td>11.3</td><td>10.3</td><td> 9.5</td><td>0.583</td><td>101.2</td><td> 13</td><td>10.2</td><td>0.096</td><td>3.6</td><td>5570</td><td>19.4</td><td>0.029599</td><td>25.2999</td><td>1635</td></tr>\n",
       "\t<tr><th scope=row>3</th><td>14.2</td><td>1</td><td> 8.9</td><td> 4.5</td><td> 4.4</td><td>0.533</td><td> 96.9</td><td> 18</td><td>21.9</td><td>0.094</td><td>3.3</td><td>3180</td><td>25.0</td><td>0.083401</td><td>24.3006</td><td> 578</td></tr>\n",
       "\t<tr><th scope=row>4</th><td>13.6</td><td>0</td><td>12.1</td><td>14.9</td><td>14.1</td><td>0.577</td><td> 99.4</td><td>157</td><td> 8.0</td><td>0.102</td><td>3.9</td><td>6730</td><td>16.7</td><td>0.015801</td><td>29.9012</td><td>1969</td></tr>\n",
       "\t<tr><th scope=row>5</th><td>14.1</td><td>0</td><td>12.1</td><td>10.9</td><td>10.1</td><td>0.591</td><td> 98.5</td><td> 18</td><td> 3.0</td><td>0.091</td><td>2.0</td><td>5780</td><td>17.4</td><td>0.041399</td><td>21.2998</td><td>1234</td></tr>\n",
       "\t<tr><th scope=row>6</th><td>12.1</td><td>0</td><td>11.0</td><td>11.8</td><td>11.5</td><td>0.547</td><td> 96.4</td><td> 25</td><td> 4.4</td><td>0.084</td><td>2.9</td><td>6890</td><td>12.6</td><td>0.034201</td><td>20.9995</td><td> 682</td></tr>\n",
       "</tbody>\n",
       "</table>\n"
      ],
      "text/latex": [
       "A data.frame: 6 × 16\n",
       "\\begin{tabular}{r|llllllllllllllll}\n",
       "  & M & So & Ed & Po1 & Po2 & LF & M.F & Pop & NW & U1 & U2 & Wealth & Ineq & Prob & Time & Crime\\\\\n",
       "  & <dbl> & <int> & <dbl> & <dbl> & <dbl> & <dbl> & <dbl> & <int> & <dbl> & <dbl> & <dbl> & <int> & <dbl> & <dbl> & <dbl> & <int>\\\\\n",
       "\\hline\n",
       "\t1 & 15.1 & 1 &  9.1 &  5.8 &  5.6 & 0.510 &  95.0 &  33 & 30.1 & 0.108 & 4.1 & 3940 & 26.1 & 0.084602 & 26.2011 &  791\\\\\n",
       "\t2 & 14.3 & 0 & 11.3 & 10.3 &  9.5 & 0.583 & 101.2 &  13 & 10.2 & 0.096 & 3.6 & 5570 & 19.4 & 0.029599 & 25.2999 & 1635\\\\\n",
       "\t3 & 14.2 & 1 &  8.9 &  4.5 &  4.4 & 0.533 &  96.9 &  18 & 21.9 & 0.094 & 3.3 & 3180 & 25.0 & 0.083401 & 24.3006 &  578\\\\\n",
       "\t4 & 13.6 & 0 & 12.1 & 14.9 & 14.1 & 0.577 &  99.4 & 157 &  8.0 & 0.102 & 3.9 & 6730 & 16.7 & 0.015801 & 29.9012 & 1969\\\\\n",
       "\t5 & 14.1 & 0 & 12.1 & 10.9 & 10.1 & 0.591 &  98.5 &  18 &  3.0 & 0.091 & 2.0 & 5780 & 17.4 & 0.041399 & 21.2998 & 1234\\\\\n",
       "\t6 & 12.1 & 0 & 11.0 & 11.8 & 11.5 & 0.547 &  96.4 &  25 &  4.4 & 0.084 & 2.9 & 6890 & 12.6 & 0.034201 & 20.9995 &  682\\\\\n",
       "\\end{tabular}\n"
      ],
      "text/markdown": [
       "\n",
       "A data.frame: 6 × 16\n",
       "\n",
       "| <!--/--> | M &lt;dbl&gt; | So &lt;int&gt; | Ed &lt;dbl&gt; | Po1 &lt;dbl&gt; | Po2 &lt;dbl&gt; | LF &lt;dbl&gt; | M.F &lt;dbl&gt; | Pop &lt;int&gt; | NW &lt;dbl&gt; | U1 &lt;dbl&gt; | U2 &lt;dbl&gt; | Wealth &lt;int&gt; | Ineq &lt;dbl&gt; | Prob &lt;dbl&gt; | Time &lt;dbl&gt; | Crime &lt;int&gt; |\n",
       "|---|---|---|---|---|---|---|---|---|---|---|---|---|---|---|---|---|\n",
       "| 1 | 15.1 | 1 |  9.1 |  5.8 |  5.6 | 0.510 |  95.0 |  33 | 30.1 | 0.108 | 4.1 | 3940 | 26.1 | 0.084602 | 26.2011 |  791 |\n",
       "| 2 | 14.3 | 0 | 11.3 | 10.3 |  9.5 | 0.583 | 101.2 |  13 | 10.2 | 0.096 | 3.6 | 5570 | 19.4 | 0.029599 | 25.2999 | 1635 |\n",
       "| 3 | 14.2 | 1 |  8.9 |  4.5 |  4.4 | 0.533 |  96.9 |  18 | 21.9 | 0.094 | 3.3 | 3180 | 25.0 | 0.083401 | 24.3006 |  578 |\n",
       "| 4 | 13.6 | 0 | 12.1 | 14.9 | 14.1 | 0.577 |  99.4 | 157 |  8.0 | 0.102 | 3.9 | 6730 | 16.7 | 0.015801 | 29.9012 | 1969 |\n",
       "| 5 | 14.1 | 0 | 12.1 | 10.9 | 10.1 | 0.591 |  98.5 |  18 |  3.0 | 0.091 | 2.0 | 5780 | 17.4 | 0.041399 | 21.2998 | 1234 |\n",
       "| 6 | 12.1 | 0 | 11.0 | 11.8 | 11.5 | 0.547 |  96.4 |  25 |  4.4 | 0.084 | 2.9 | 6890 | 12.6 | 0.034201 | 20.9995 |  682 |\n",
       "\n"
      ],
      "text/plain": [
       "  M    So Ed   Po1  Po2  LF    M.F   Pop NW   U1    U2  Wealth Ineq Prob    \n",
       "1 15.1 1   9.1  5.8  5.6 0.510  95.0  33 30.1 0.108 4.1 3940   26.1 0.084602\n",
       "2 14.3 0  11.3 10.3  9.5 0.583 101.2  13 10.2 0.096 3.6 5570   19.4 0.029599\n",
       "3 14.2 1   8.9  4.5  4.4 0.533  96.9  18 21.9 0.094 3.3 3180   25.0 0.083401\n",
       "4 13.6 0  12.1 14.9 14.1 0.577  99.4 157  8.0 0.102 3.9 6730   16.7 0.015801\n",
       "5 14.1 0  12.1 10.9 10.1 0.591  98.5  18  3.0 0.091 2.0 5780   17.4 0.041399\n",
       "6 12.1 0  11.0 11.8 11.5 0.547  96.4  25  4.4 0.084 2.9 6890   12.6 0.034201\n",
       "  Time    Crime\n",
       "1 26.2011  791 \n",
       "2 25.2999 1635 \n",
       "3 24.3006  578 \n",
       "4 29.9012 1969 \n",
       "5 21.2998 1234 \n",
       "6 20.9995  682 "
      ]
     },
     "metadata": {},
     "output_type": "display_data"
    }
   ],
   "source": [
    "head(crime)"
   ]
  },
  {
   "cell_type": "code",
   "execution_count": 17,
   "id": "63fd6eb8",
   "metadata": {},
   "outputs": [],
   "source": [
    "set.seed(123)\n",
    "#use 70% of dataset as training set and 30% as test set\n",
    "split = sample.split(crime$Crime, SplitRatio = 0.7)\n",
    "train  = subset(crime, split == TRUE)\n",
    "test   = subset(crime, split == FALSE)"
   ]
  },
  {
   "cell_type": "code",
   "execution_count": 32,
   "id": "66fe0126",
   "metadata": {},
   "outputs": [
    {
     "data": {
      "text/html": [
       "<table class=\"dataframe\">\n",
       "<caption>A data.frame: 6 × 16</caption>\n",
       "<thead>\n",
       "\t<tr><th></th><th scope=col>M</th><th scope=col>So</th><th scope=col>Ed</th><th scope=col>Po1</th><th scope=col>Po2</th><th scope=col>LF</th><th scope=col>M.F</th><th scope=col>Pop</th><th scope=col>NW</th><th scope=col>U1</th><th scope=col>U2</th><th scope=col>Wealth</th><th scope=col>Ineq</th><th scope=col>Prob</th><th scope=col>Time</th><th scope=col>Crime</th></tr>\n",
       "\t<tr><th></th><th scope=col>&lt;dbl&gt;</th><th scope=col>&lt;int&gt;</th><th scope=col>&lt;dbl&gt;</th><th scope=col>&lt;dbl&gt;</th><th scope=col>&lt;dbl&gt;</th><th scope=col>&lt;dbl&gt;</th><th scope=col>&lt;dbl&gt;</th><th scope=col>&lt;int&gt;</th><th scope=col>&lt;dbl&gt;</th><th scope=col>&lt;dbl&gt;</th><th scope=col>&lt;dbl&gt;</th><th scope=col>&lt;int&gt;</th><th scope=col>&lt;dbl&gt;</th><th scope=col>&lt;dbl&gt;</th><th scope=col>&lt;dbl&gt;</th><th scope=col>&lt;int&gt;</th></tr>\n",
       "</thead>\n",
       "<tbody>\n",
       "\t<tr><th scope=row>1</th><td>15.1</td><td>1</td><td> 9.1</td><td> 5.8</td><td> 5.6</td><td>0.510</td><td> 95.0</td><td>33</td><td>30.1</td><td>0.108</td><td>4.1</td><td>3940</td><td>26.1</td><td>0.084602</td><td>26.2011</td><td>791</td></tr>\n",
       "\t<tr><th scope=row>3</th><td>14.2</td><td>1</td><td> 8.9</td><td> 4.5</td><td> 4.4</td><td>0.533</td><td> 96.9</td><td>18</td><td>21.9</td><td>0.094</td><td>3.3</td><td>3180</td><td>25.0</td><td>0.083401</td><td>24.3006</td><td>578</td></tr>\n",
       "\t<tr><th scope=row>6</th><td>12.1</td><td>0</td><td>11.0</td><td>11.8</td><td>11.5</td><td>0.547</td><td> 96.4</td><td>25</td><td> 4.4</td><td>0.084</td><td>2.9</td><td>6890</td><td>12.6</td><td>0.034201</td><td>20.9995</td><td>682</td></tr>\n",
       "\t<tr><th scope=row>7</th><td>12.7</td><td>1</td><td>11.1</td><td> 8.2</td><td> 7.9</td><td>0.519</td><td> 98.2</td><td> 4</td><td>13.9</td><td>0.097</td><td>3.8</td><td>6200</td><td>16.8</td><td>0.042100</td><td>20.6993</td><td>963</td></tr>\n",
       "\t<tr><th scope=row>9</th><td>15.7</td><td>1</td><td> 9.0</td><td> 6.5</td><td> 6.2</td><td>0.553</td><td> 95.5</td><td>39</td><td>28.6</td><td>0.081</td><td>2.8</td><td>4210</td><td>23.9</td><td>0.071697</td><td>29.4001</td><td>856</td></tr>\n",
       "\t<tr><th scope=row>10</th><td>14.0</td><td>0</td><td>11.8</td><td> 7.1</td><td> 6.8</td><td>0.632</td><td>102.9</td><td> 7</td><td> 1.5</td><td>0.100</td><td>2.4</td><td>5260</td><td>17.4</td><td>0.044498</td><td>19.5994</td><td>705</td></tr>\n",
       "</tbody>\n",
       "</table>\n"
      ],
      "text/latex": [
       "A data.frame: 6 × 16\n",
       "\\begin{tabular}{r|llllllllllllllll}\n",
       "  & M & So & Ed & Po1 & Po2 & LF & M.F & Pop & NW & U1 & U2 & Wealth & Ineq & Prob & Time & Crime\\\\\n",
       "  & <dbl> & <int> & <dbl> & <dbl> & <dbl> & <dbl> & <dbl> & <int> & <dbl> & <dbl> & <dbl> & <int> & <dbl> & <dbl> & <dbl> & <int>\\\\\n",
       "\\hline\n",
       "\t1 & 15.1 & 1 &  9.1 &  5.8 &  5.6 & 0.510 &  95.0 & 33 & 30.1 & 0.108 & 4.1 & 3940 & 26.1 & 0.084602 & 26.2011 & 791\\\\\n",
       "\t3 & 14.2 & 1 &  8.9 &  4.5 &  4.4 & 0.533 &  96.9 & 18 & 21.9 & 0.094 & 3.3 & 3180 & 25.0 & 0.083401 & 24.3006 & 578\\\\\n",
       "\t6 & 12.1 & 0 & 11.0 & 11.8 & 11.5 & 0.547 &  96.4 & 25 &  4.4 & 0.084 & 2.9 & 6890 & 12.6 & 0.034201 & 20.9995 & 682\\\\\n",
       "\t7 & 12.7 & 1 & 11.1 &  8.2 &  7.9 & 0.519 &  98.2 &  4 & 13.9 & 0.097 & 3.8 & 6200 & 16.8 & 0.042100 & 20.6993 & 963\\\\\n",
       "\t9 & 15.7 & 1 &  9.0 &  6.5 &  6.2 & 0.553 &  95.5 & 39 & 28.6 & 0.081 & 2.8 & 4210 & 23.9 & 0.071697 & 29.4001 & 856\\\\\n",
       "\t10 & 14.0 & 0 & 11.8 &  7.1 &  6.8 & 0.632 & 102.9 &  7 &  1.5 & 0.100 & 2.4 & 5260 & 17.4 & 0.044498 & 19.5994 & 705\\\\\n",
       "\\end{tabular}\n"
      ],
      "text/markdown": [
       "\n",
       "A data.frame: 6 × 16\n",
       "\n",
       "| <!--/--> | M &lt;dbl&gt; | So &lt;int&gt; | Ed &lt;dbl&gt; | Po1 &lt;dbl&gt; | Po2 &lt;dbl&gt; | LF &lt;dbl&gt; | M.F &lt;dbl&gt; | Pop &lt;int&gt; | NW &lt;dbl&gt; | U1 &lt;dbl&gt; | U2 &lt;dbl&gt; | Wealth &lt;int&gt; | Ineq &lt;dbl&gt; | Prob &lt;dbl&gt; | Time &lt;dbl&gt; | Crime &lt;int&gt; |\n",
       "|---|---|---|---|---|---|---|---|---|---|---|---|---|---|---|---|---|\n",
       "| 1 | 15.1 | 1 |  9.1 |  5.8 |  5.6 | 0.510 |  95.0 | 33 | 30.1 | 0.108 | 4.1 | 3940 | 26.1 | 0.084602 | 26.2011 | 791 |\n",
       "| 3 | 14.2 | 1 |  8.9 |  4.5 |  4.4 | 0.533 |  96.9 | 18 | 21.9 | 0.094 | 3.3 | 3180 | 25.0 | 0.083401 | 24.3006 | 578 |\n",
       "| 6 | 12.1 | 0 | 11.0 | 11.8 | 11.5 | 0.547 |  96.4 | 25 |  4.4 | 0.084 | 2.9 | 6890 | 12.6 | 0.034201 | 20.9995 | 682 |\n",
       "| 7 | 12.7 | 1 | 11.1 |  8.2 |  7.9 | 0.519 |  98.2 |  4 | 13.9 | 0.097 | 3.8 | 6200 | 16.8 | 0.042100 | 20.6993 | 963 |\n",
       "| 9 | 15.7 | 1 |  9.0 |  6.5 |  6.2 | 0.553 |  95.5 | 39 | 28.6 | 0.081 | 2.8 | 4210 | 23.9 | 0.071697 | 29.4001 | 856 |\n",
       "| 10 | 14.0 | 0 | 11.8 |  7.1 |  6.8 | 0.632 | 102.9 |  7 |  1.5 | 0.100 | 2.4 | 5260 | 17.4 | 0.044498 | 19.5994 | 705 |\n",
       "\n"
      ],
      "text/plain": [
       "   M    So Ed   Po1  Po2  LF    M.F   Pop NW   U1    U2  Wealth Ineq Prob    \n",
       "1  15.1 1   9.1  5.8  5.6 0.510  95.0 33  30.1 0.108 4.1 3940   26.1 0.084602\n",
       "3  14.2 1   8.9  4.5  4.4 0.533  96.9 18  21.9 0.094 3.3 3180   25.0 0.083401\n",
       "6  12.1 0  11.0 11.8 11.5 0.547  96.4 25   4.4 0.084 2.9 6890   12.6 0.034201\n",
       "7  12.7 1  11.1  8.2  7.9 0.519  98.2  4  13.9 0.097 3.8 6200   16.8 0.042100\n",
       "9  15.7 1   9.0  6.5  6.2 0.553  95.5 39  28.6 0.081 2.8 4210   23.9 0.071697\n",
       "10 14.0 0  11.8  7.1  6.8 0.632 102.9  7   1.5 0.100 2.4 5260   17.4 0.044498\n",
       "   Time    Crime\n",
       "1  26.2011 791  \n",
       "3  24.3006 578  \n",
       "6  20.9995 682  \n",
       "7  20.6993 963  \n",
       "9  29.4001 856  \n",
       "10 19.5994 705  "
      ]
     },
     "metadata": {},
     "output_type": "display_data"
    }
   ],
   "source": [
    "head(train)"
   ]
  },
  {
   "cell_type": "code",
   "execution_count": 19,
   "id": "f497b691",
   "metadata": {},
   "outputs": [
    {
     "data": {
      "text/html": [
       "<style>\n",
       ".list-inline {list-style: none; margin:0; padding: 0}\n",
       ".list-inline>li {display: inline-block}\n",
       ".list-inline>li:not(:last-child)::after {content: \"\\00b7\"; padding: 0 .5ex}\n",
       "</style>\n",
       "<ol class=list-inline><li>'M'</li><li>'So'</li><li>'Ed'</li><li>'Po1'</li><li>'Po2'</li><li>'LF'</li><li>'M.F'</li><li>'Pop'</li><li>'NW'</li><li>'U1'</li><li>'U2'</li><li>'Wealth'</li><li>'Ineq'</li><li>'Prob'</li><li>'Time'</li><li>'Crime'</li></ol>\n"
      ],
      "text/latex": [
       "\\begin{enumerate*}\n",
       "\\item 'M'\n",
       "\\item 'So'\n",
       "\\item 'Ed'\n",
       "\\item 'Po1'\n",
       "\\item 'Po2'\n",
       "\\item 'LF'\n",
       "\\item 'M.F'\n",
       "\\item 'Pop'\n",
       "\\item 'NW'\n",
       "\\item 'U1'\n",
       "\\item 'U2'\n",
       "\\item 'Wealth'\n",
       "\\item 'Ineq'\n",
       "\\item 'Prob'\n",
       "\\item 'Time'\n",
       "\\item 'Crime'\n",
       "\\end{enumerate*}\n"
      ],
      "text/markdown": [
       "1. 'M'\n",
       "2. 'So'\n",
       "3. 'Ed'\n",
       "4. 'Po1'\n",
       "5. 'Po2'\n",
       "6. 'LF'\n",
       "7. 'M.F'\n",
       "8. 'Pop'\n",
       "9. 'NW'\n",
       "10. 'U1'\n",
       "11. 'U2'\n",
       "12. 'Wealth'\n",
       "13. 'Ineq'\n",
       "14. 'Prob'\n",
       "15. 'Time'\n",
       "16. 'Crime'\n",
       "\n",
       "\n"
      ],
      "text/plain": [
       " [1] \"M\"      \"So\"     \"Ed\"     \"Po1\"    \"Po2\"    \"LF\"     \"M.F\"    \"Pop\"   \n",
       " [9] \"NW\"     \"U1\"     \"U2\"     \"Wealth\" \"Ineq\"   \"Prob\"   \"Time\"   \"Crime\" "
      ]
     },
     "metadata": {},
     "output_type": "display_data"
    }
   ],
   "source": [
    "names(train)"
   ]
  },
  {
   "cell_type": "code",
   "execution_count": 33,
   "id": "c396a134",
   "metadata": {},
   "outputs": [
    {
     "data": {
      "text/html": [
       "<table class=\"dataframe\">\n",
       "<caption>A data.frame: 6 × 16</caption>\n",
       "<thead>\n",
       "\t<tr><th></th><th scope=col>M</th><th scope=col>So</th><th scope=col>Ed</th><th scope=col>Po1</th><th scope=col>Po2</th><th scope=col>LF</th><th scope=col>M.F</th><th scope=col>Pop</th><th scope=col>NW</th><th scope=col>U1</th><th scope=col>U2</th><th scope=col>Wealth</th><th scope=col>Ineq</th><th scope=col>Prob</th><th scope=col>Time</th><th scope=col>Crime</th></tr>\n",
       "\t<tr><th></th><th scope=col>&lt;dbl&gt;</th><th scope=col>&lt;int&gt;</th><th scope=col>&lt;dbl&gt;</th><th scope=col>&lt;dbl&gt;</th><th scope=col>&lt;dbl&gt;</th><th scope=col>&lt;dbl&gt;</th><th scope=col>&lt;dbl&gt;</th><th scope=col>&lt;int&gt;</th><th scope=col>&lt;dbl&gt;</th><th scope=col>&lt;dbl&gt;</th><th scope=col>&lt;dbl&gt;</th><th scope=col>&lt;int&gt;</th><th scope=col>&lt;dbl&gt;</th><th scope=col>&lt;dbl&gt;</th><th scope=col>&lt;dbl&gt;</th><th scope=col>&lt;int&gt;</th></tr>\n",
       "</thead>\n",
       "<tbody>\n",
       "\t<tr><th scope=row>2</th><td>14.3</td><td>0</td><td>11.3</td><td>10.3</td><td> 9.5</td><td>0.583</td><td>101.2</td><td> 13</td><td>10.2</td><td>0.096</td><td>3.6</td><td>5570</td><td>19.4</td><td>0.029599</td><td>25.2999</td><td>1635</td></tr>\n",
       "\t<tr><th scope=row>4</th><td>13.6</td><td>0</td><td>12.1</td><td>14.9</td><td>14.1</td><td>0.577</td><td> 99.4</td><td>157</td><td> 8.0</td><td>0.102</td><td>3.9</td><td>6730</td><td>16.7</td><td>0.015801</td><td>29.9012</td><td>1969</td></tr>\n",
       "\t<tr><th scope=row>5</th><td>14.1</td><td>0</td><td>12.1</td><td>10.9</td><td>10.1</td><td>0.591</td><td> 98.5</td><td> 18</td><td> 3.0</td><td>0.091</td><td>2.0</td><td>5780</td><td>17.4</td><td>0.041399</td><td>21.2998</td><td>1234</td></tr>\n",
       "\t<tr><th scope=row>8</th><td>13.1</td><td>1</td><td>10.9</td><td>11.5</td><td>10.9</td><td>0.542</td><td> 96.9</td><td> 50</td><td>17.9</td><td>0.079</td><td>3.5</td><td>4720</td><td>20.6</td><td>0.040099</td><td>24.5988</td><td>1555</td></tr>\n",
       "\t<tr><th scope=row>11</th><td>12.4</td><td>0</td><td>10.5</td><td>12.1</td><td>11.6</td><td>0.580</td><td> 96.6</td><td>101</td><td>10.6</td><td>0.077</td><td>3.5</td><td>6570</td><td>17.0</td><td>0.016201</td><td>41.6000</td><td>1674</td></tr>\n",
       "\t<tr><th scope=row>16</th><td>14.2</td><td>1</td><td> 8.8</td><td> 8.1</td><td> 7.7</td><td>0.497</td><td> 95.6</td><td> 33</td><td>32.1</td><td>0.116</td><td>4.7</td><td>4270</td><td>24.7</td><td>0.052099</td><td>26.0991</td><td> 946</td></tr>\n",
       "</tbody>\n",
       "</table>\n"
      ],
      "text/latex": [
       "A data.frame: 6 × 16\n",
       "\\begin{tabular}{r|llllllllllllllll}\n",
       "  & M & So & Ed & Po1 & Po2 & LF & M.F & Pop & NW & U1 & U2 & Wealth & Ineq & Prob & Time & Crime\\\\\n",
       "  & <dbl> & <int> & <dbl> & <dbl> & <dbl> & <dbl> & <dbl> & <int> & <dbl> & <dbl> & <dbl> & <int> & <dbl> & <dbl> & <dbl> & <int>\\\\\n",
       "\\hline\n",
       "\t2 & 14.3 & 0 & 11.3 & 10.3 &  9.5 & 0.583 & 101.2 &  13 & 10.2 & 0.096 & 3.6 & 5570 & 19.4 & 0.029599 & 25.2999 & 1635\\\\\n",
       "\t4 & 13.6 & 0 & 12.1 & 14.9 & 14.1 & 0.577 &  99.4 & 157 &  8.0 & 0.102 & 3.9 & 6730 & 16.7 & 0.015801 & 29.9012 & 1969\\\\\n",
       "\t5 & 14.1 & 0 & 12.1 & 10.9 & 10.1 & 0.591 &  98.5 &  18 &  3.0 & 0.091 & 2.0 & 5780 & 17.4 & 0.041399 & 21.2998 & 1234\\\\\n",
       "\t8 & 13.1 & 1 & 10.9 & 11.5 & 10.9 & 0.542 &  96.9 &  50 & 17.9 & 0.079 & 3.5 & 4720 & 20.6 & 0.040099 & 24.5988 & 1555\\\\\n",
       "\t11 & 12.4 & 0 & 10.5 & 12.1 & 11.6 & 0.580 &  96.6 & 101 & 10.6 & 0.077 & 3.5 & 6570 & 17.0 & 0.016201 & 41.6000 & 1674\\\\\n",
       "\t16 & 14.2 & 1 &  8.8 &  8.1 &  7.7 & 0.497 &  95.6 &  33 & 32.1 & 0.116 & 4.7 & 4270 & 24.7 & 0.052099 & 26.0991 &  946\\\\\n",
       "\\end{tabular}\n"
      ],
      "text/markdown": [
       "\n",
       "A data.frame: 6 × 16\n",
       "\n",
       "| <!--/--> | M &lt;dbl&gt; | So &lt;int&gt; | Ed &lt;dbl&gt; | Po1 &lt;dbl&gt; | Po2 &lt;dbl&gt; | LF &lt;dbl&gt; | M.F &lt;dbl&gt; | Pop &lt;int&gt; | NW &lt;dbl&gt; | U1 &lt;dbl&gt; | U2 &lt;dbl&gt; | Wealth &lt;int&gt; | Ineq &lt;dbl&gt; | Prob &lt;dbl&gt; | Time &lt;dbl&gt; | Crime &lt;int&gt; |\n",
       "|---|---|---|---|---|---|---|---|---|---|---|---|---|---|---|---|---|\n",
       "| 2 | 14.3 | 0 | 11.3 | 10.3 |  9.5 | 0.583 | 101.2 |  13 | 10.2 | 0.096 | 3.6 | 5570 | 19.4 | 0.029599 | 25.2999 | 1635 |\n",
       "| 4 | 13.6 | 0 | 12.1 | 14.9 | 14.1 | 0.577 |  99.4 | 157 |  8.0 | 0.102 | 3.9 | 6730 | 16.7 | 0.015801 | 29.9012 | 1969 |\n",
       "| 5 | 14.1 | 0 | 12.1 | 10.9 | 10.1 | 0.591 |  98.5 |  18 |  3.0 | 0.091 | 2.0 | 5780 | 17.4 | 0.041399 | 21.2998 | 1234 |\n",
       "| 8 | 13.1 | 1 | 10.9 | 11.5 | 10.9 | 0.542 |  96.9 |  50 | 17.9 | 0.079 | 3.5 | 4720 | 20.6 | 0.040099 | 24.5988 | 1555 |\n",
       "| 11 | 12.4 | 0 | 10.5 | 12.1 | 11.6 | 0.580 |  96.6 | 101 | 10.6 | 0.077 | 3.5 | 6570 | 17.0 | 0.016201 | 41.6000 | 1674 |\n",
       "| 16 | 14.2 | 1 |  8.8 |  8.1 |  7.7 | 0.497 |  95.6 |  33 | 32.1 | 0.116 | 4.7 | 4270 | 24.7 | 0.052099 | 26.0991 |  946 |\n",
       "\n"
      ],
      "text/plain": [
       "   M    So Ed   Po1  Po2  LF    M.F   Pop NW   U1    U2  Wealth Ineq Prob    \n",
       "2  14.3 0  11.3 10.3  9.5 0.583 101.2  13 10.2 0.096 3.6 5570   19.4 0.029599\n",
       "4  13.6 0  12.1 14.9 14.1 0.577  99.4 157  8.0 0.102 3.9 6730   16.7 0.015801\n",
       "5  14.1 0  12.1 10.9 10.1 0.591  98.5  18  3.0 0.091 2.0 5780   17.4 0.041399\n",
       "8  13.1 1  10.9 11.5 10.9 0.542  96.9  50 17.9 0.079 3.5 4720   20.6 0.040099\n",
       "11 12.4 0  10.5 12.1 11.6 0.580  96.6 101 10.6 0.077 3.5 6570   17.0 0.016201\n",
       "16 14.2 1   8.8  8.1  7.7 0.497  95.6  33 32.1 0.116 4.7 4270   24.7 0.052099\n",
       "   Time    Crime\n",
       "2  25.2999 1635 \n",
       "4  29.9012 1969 \n",
       "5  21.2998 1234 \n",
       "8  24.5988 1555 \n",
       "11 41.6000 1674 \n",
       "16 26.0991  946 "
      ]
     },
     "metadata": {},
     "output_type": "display_data"
    }
   ],
   "source": [
    "head(test)"
   ]
  },
  {
   "cell_type": "code",
   "execution_count": 21,
   "id": "e5e44083",
   "metadata": {},
   "outputs": [
    {
     "data": {
      "text/html": [
       "<style>\n",
       ".list-inline {list-style: none; margin:0; padding: 0}\n",
       ".list-inline>li {display: inline-block}\n",
       ".list-inline>li:not(:last-child)::after {content: \"\\00b7\"; padding: 0 .5ex}\n",
       "</style>\n",
       "<ol class=list-inline><li>'M'</li><li>'So'</li><li>'Ed'</li><li>'Po1'</li><li>'Po2'</li><li>'LF'</li><li>'M.F'</li><li>'Pop'</li><li>'NW'</li><li>'U1'</li><li>'U2'</li><li>'Wealth'</li><li>'Ineq'</li><li>'Prob'</li><li>'Time'</li><li>'Crime'</li></ol>\n"
      ],
      "text/latex": [
       "\\begin{enumerate*}\n",
       "\\item 'M'\n",
       "\\item 'So'\n",
       "\\item 'Ed'\n",
       "\\item 'Po1'\n",
       "\\item 'Po2'\n",
       "\\item 'LF'\n",
       "\\item 'M.F'\n",
       "\\item 'Pop'\n",
       "\\item 'NW'\n",
       "\\item 'U1'\n",
       "\\item 'U2'\n",
       "\\item 'Wealth'\n",
       "\\item 'Ineq'\n",
       "\\item 'Prob'\n",
       "\\item 'Time'\n",
       "\\item 'Crime'\n",
       "\\end{enumerate*}\n"
      ],
      "text/markdown": [
       "1. 'M'\n",
       "2. 'So'\n",
       "3. 'Ed'\n",
       "4. 'Po1'\n",
       "5. 'Po2'\n",
       "6. 'LF'\n",
       "7. 'M.F'\n",
       "8. 'Pop'\n",
       "9. 'NW'\n",
       "10. 'U1'\n",
       "11. 'U2'\n",
       "12. 'Wealth'\n",
       "13. 'Ineq'\n",
       "14. 'Prob'\n",
       "15. 'Time'\n",
       "16. 'Crime'\n",
       "\n",
       "\n"
      ],
      "text/plain": [
       " [1] \"M\"      \"So\"     \"Ed\"     \"Po1\"    \"Po2\"    \"LF\"     \"M.F\"    \"Pop\"   \n",
       " [9] \"NW\"     \"U1\"     \"U2\"     \"Wealth\" \"Ineq\"   \"Prob\"   \"Time\"   \"Crime\" "
      ]
     },
     "metadata": {},
     "output_type": "display_data"
    }
   ],
   "source": [
    "names(test)"
   ]
  },
  {
   "cell_type": "code",
   "execution_count": 34,
   "id": "20011294",
   "metadata": {},
   "outputs": [],
   "source": [
    "# Train Model using Unscaled Data\n",
    "model <- lm(Crime ~ M+So+Ed+Po1+Po2+LF+M.F+Pop+NW+U1+U2+Wealth+Ineq+Prob+Time, data=train)"
   ]
  },
  {
   "cell_type": "code",
   "execution_count": 35,
   "id": "2bec6ada",
   "metadata": {},
   "outputs": [
    {
     "data": {
      "text/plain": [
       "\n",
       "Call:\n",
       "lm(formula = Crime ~ M + So + Ed + Po1 + Po2 + LF + M.F + Pop + \n",
       "    NW + U1 + U2 + Wealth + Ineq + Prob + Time, data = train)\n",
       "\n",
       "Coefficients:\n",
       "(Intercept)            M           So           Ed          Po1          Po2  \n",
       " -3.094e+03    1.218e+02    6.252e+01    1.158e+02    1.505e+02   -7.226e+01  \n",
       "         LF          M.F          Pop           NW           U1           U2  \n",
       "  1.427e+03   -1.846e+01   -2.043e+00    6.782e+00    1.492e+03    6.862e+01  \n",
       "     Wealth         Ineq         Prob         Time  \n",
       "  7.033e-02    4.973e+01   -4.958e+03   -4.693e+00  \n"
      ]
     },
     "metadata": {},
     "output_type": "display_data"
    }
   ],
   "source": [
    "model"
   ]
  },
  {
   "cell_type": "code",
   "execution_count": 36,
   "id": "4f1a9123",
   "metadata": {},
   "outputs": [
    {
     "data": {
      "text/plain": [
       "\n",
       "Call:\n",
       "lm(formula = Crime ~ M + So + Ed + Po1 + Po2 + LF + M.F + Pop + \n",
       "    NW + U1 + U2 + Wealth + Ineq + Prob + Time, data = train)\n",
       "\n",
       "Residuals:\n",
       "     Min       1Q   Median       3Q      Max \n",
       "-287.128  -65.042   -4.796  103.893  298.405 \n",
       "\n",
       "Coefficients:\n",
       "              Estimate Std. Error t value Pr(>|t|)  \n",
       "(Intercept) -3.094e+03  1.892e+03  -1.636   0.1214  \n",
       "M            1.218e+02  5.851e+01   2.082   0.0538 .\n",
       "So           6.252e+01  1.670e+02   0.374   0.7131  \n",
       "Ed           1.158e+02  9.058e+01   1.278   0.2193  \n",
       "Po1          1.505e+02  1.359e+02   1.107   0.2845  \n",
       "Po2         -7.226e+01  1.376e+02  -0.525   0.6068  \n",
       "LF           1.427e+03  2.346e+03   0.608   0.5515  \n",
       "M.F         -1.846e+01  2.848e+01  -0.648   0.5260  \n",
       "Pop         -2.043e+00  1.748e+00  -1.169   0.2595  \n",
       "NW           6.782e+00  8.065e+00   0.841   0.4128  \n",
       "U1           1.492e+03  5.299e+03   0.282   0.7819  \n",
       "U2           6.862e+01  1.052e+02   0.652   0.5235  \n",
       "Wealth       7.033e-02  1.300e-01   0.541   0.5958  \n",
       "Ineq         4.973e+01  2.408e+01   2.065   0.0555 .\n",
       "Prob        -4.958e+03  2.484e+03  -1.996   0.0632 .\n",
       "Time        -4.694e+00  8.425e+00  -0.557   0.5852  \n",
       "---\n",
       "Signif. codes:  0 '***' 0.001 '**' 0.01 '*' 0.05 '.' 0.1 ' ' 1\n",
       "\n",
       "Residual standard error: 186.3 on 16 degrees of freedom\n",
       "Multiple R-squared:  0.6955,\tAdjusted R-squared:   0.41 \n",
       "F-statistic: 2.436 on 15 and 16 DF,  p-value: 0.04361\n"
      ]
     },
     "metadata": {},
     "output_type": "display_data"
    }
   ],
   "source": [
    "summary(model)"
   ]
  },
  {
   "cell_type": "code",
   "execution_count": 44,
   "id": "110c2168",
   "metadata": {
    "scrolled": true
   },
   "outputs": [],
   "source": [
    "pred <- predict(model, test)"
   ]
  },
  {
   "cell_type": "code",
   "execution_count": 45,
   "id": "11b9fbf9",
   "metadata": {},
   "outputs": [
    {
     "data": {
      "text/html": [
       "<style>\n",
       ".dl-inline {width: auto; margin:0; padding: 0}\n",
       ".dl-inline>dt, .dl-inline>dd {float: none; width: auto; display: inline-block}\n",
       ".dl-inline>dt::after {content: \":\\0020\"; padding-right: .5ex}\n",
       ".dl-inline>dt:not(:first-of-type) {padding-left: .5ex}\n",
       "</style><dl class=dl-inline><dt>2</dt><dd>1307.43637908047</dd><dt>4</dt><dd>1413.86347241968</dd><dt>5</dt><dd>1183.18623573892</dd><dt>8</dt><dd>1173.29695832952</dd><dt>11</dt><dd>911.744484497506</dd><dt>16</dt><dd>1117.75858148835</dd><dt>20</dt><dd>1077.31969386968</dd><dt>21</dt><dd>752.574620263444</dd><dt>22</dt><dd>832.68523190931</dd><dt>24</dt><dd>870.408783693826</dd><dt>26</dt><dd>1599.58579046693</dd><dt>31</dt><dd>439.77242807706</dd><dt>32</dt><dd>713.3862501965</dd><dt>34</dt><dd>817.194137524441</dd><dt>37</dt><dd>1364.52664269435</dd></dl>\n"
      ],
      "text/latex": [
       "\\begin{description*}\n",
       "\\item[2] 1307.43637908047\n",
       "\\item[4] 1413.86347241968\n",
       "\\item[5] 1183.18623573892\n",
       "\\item[8] 1173.29695832952\n",
       "\\item[11] 911.744484497506\n",
       "\\item[16] 1117.75858148835\n",
       "\\item[20] 1077.31969386968\n",
       "\\item[21] 752.574620263444\n",
       "\\item[22] 832.68523190931\n",
       "\\item[24] 870.408783693826\n",
       "\\item[26] 1599.58579046693\n",
       "\\item[31] 439.77242807706\n",
       "\\item[32] 713.3862501965\n",
       "\\item[34] 817.194137524441\n",
       "\\item[37] 1364.52664269435\n",
       "\\end{description*}\n"
      ],
      "text/markdown": [
       "2\n",
       ":   1307.436379080474\n",
       ":   1413.863472419685\n",
       ":   1183.186235738928\n",
       ":   1173.2969583295211\n",
       ":   911.74448449750616\n",
       ":   1117.7585814883520\n",
       ":   1077.3196938696821\n",
       ":   752.57462026344422\n",
       ":   832.6852319093124\n",
       ":   870.40878369382626\n",
       ":   1599.5857904669331\n",
       ":   439.7724280770632\n",
       ":   713.386250196534\n",
       ":   817.19413752444137\n",
       ":   1364.52664269435\n",
       "\n"
      ],
      "text/plain": [
       "        2         4         5         8        11        16        20        21 \n",
       "1307.4364 1413.8635 1183.1862 1173.2970  911.7445 1117.7586 1077.3197  752.5746 \n",
       "       22        24        26        31        32        34        37 \n",
       " 832.6852  870.4088 1599.5858  439.7724  713.3863  817.1941 1364.5266 "
      ]
     },
     "metadata": {},
     "output_type": "display_data"
    }
   ],
   "source": [
    "pred"
   ]
  },
  {
   "cell_type": "code",
   "execution_count": 46,
   "id": "c3fea16a",
   "metadata": {},
   "outputs": [
    {
     "data": {
      "text/html": [
       "<style>\n",
       ".dl-inline {width: auto; margin:0; padding: 0}\n",
       ".dl-inline>dt, .dl-inline>dd {float: none; width: auto; display: inline-block}\n",
       ".dl-inline>dt::after {content: \":\\0020\"; padding-right: .5ex}\n",
       ".dl-inline>dt:not(:first-of-type) {padding-left: .5ex}\n",
       "</style><dl class=dl-inline><dt>2</dt><dd>1307.43637908047</dd><dt>4</dt><dd>1413.86347241968</dd><dt>5</dt><dd>1183.18623573892</dd><dt>8</dt><dd>1173.29695832952</dd><dt>11</dt><dd>911.744484497506</dd><dt>16</dt><dd>1117.75858148835</dd><dt>20</dt><dd>1077.31969386968</dd><dt>21</dt><dd>752.574620263444</dd><dt>22</dt><dd>832.68523190931</dd><dt>24</dt><dd>870.408783693826</dd><dt>26</dt><dd>1599.58579046693</dd><dt>31</dt><dd>439.77242807706</dd><dt>32</dt><dd>713.3862501965</dd><dt>34</dt><dd>817.194137524441</dd><dt>37</dt><dd>1364.52664269435</dd></dl>\n"
      ],
      "text/latex": [
       "\\begin{description*}\n",
       "\\item[2] 1307.43637908047\n",
       "\\item[4] 1413.86347241968\n",
       "\\item[5] 1183.18623573892\n",
       "\\item[8] 1173.29695832952\n",
       "\\item[11] 911.744484497506\n",
       "\\item[16] 1117.75858148835\n",
       "\\item[20] 1077.31969386968\n",
       "\\item[21] 752.574620263444\n",
       "\\item[22] 832.68523190931\n",
       "\\item[24] 870.408783693826\n",
       "\\item[26] 1599.58579046693\n",
       "\\item[31] 439.77242807706\n",
       "\\item[32] 713.3862501965\n",
       "\\item[34] 817.194137524441\n",
       "\\item[37] 1364.52664269435\n",
       "\\end{description*}\n"
      ],
      "text/markdown": [
       "2\n",
       ":   1307.436379080474\n",
       ":   1413.863472419685\n",
       ":   1183.186235738928\n",
       ":   1173.2969583295211\n",
       ":   911.74448449750616\n",
       ":   1117.7585814883520\n",
       ":   1077.3196938696821\n",
       ":   752.57462026344422\n",
       ":   832.6852319093124\n",
       ":   870.40878369382626\n",
       ":   1599.5857904669331\n",
       ":   439.7724280770632\n",
       ":   713.386250196534\n",
       ":   817.19413752444137\n",
       ":   1364.52664269435\n",
       "\n"
      ],
      "text/plain": [
       "        2         4         5         8        11        16        20        21 \n",
       "1307.4364 1413.8635 1183.1862 1173.2970  911.7445 1117.7586 1077.3197  752.5746 \n",
       "       22        24        26        31        32        34        37 \n",
       " 832.6852  870.4088 1599.5858  439.7724  713.3863  817.1941 1364.5266 "
      ]
     },
     "metadata": {},
     "output_type": "display_data"
    }
   ],
   "source": [
    "model %>% predict(test)"
   ]
  },
  {
   "cell_type": "markdown",
   "id": "1584e190",
   "metadata": {},
   "source": [
    "https://www.statology.org/error-in-evalpredvars-data-env-object-not-found/#:~:text=This%20error%20occurs%20when%20you,used%20to%20fit%20the%20model."
   ]
  },
  {
   "cell_type": "code",
   "execution_count": 47,
   "id": "e3cfce8f",
   "metadata": {},
   "outputs": [
    {
     "data": {
      "text/html": [
       "0"
      ],
      "text/latex": [
       "0"
      ],
      "text/markdown": [
       "0"
      ],
      "text/plain": [
       "[1] 0"
      ]
     },
     "metadata": {},
     "output_type": "display_data"
    }
   ],
   "source": [
    "sum(pred == test[,16]) / nrow(test) # Incorrect to use this as it is not a classification model"
   ]
  },
  {
   "cell_type": "code",
   "execution_count": 49,
   "id": "32052095",
   "metadata": {},
   "outputs": [
    {
     "data": {
      "text/html": [
       "1817449.95771349"
      ],
      "text/latex": [
       "1817449.95771349"
      ],
      "text/markdown": [
       "1817449.95771349"
      ],
      "text/plain": [
       "[1] 1817450"
      ]
     },
     "metadata": {},
     "output_type": "display_data"
    }
   ],
   "source": [
    "# Calculate Sum of Squared Error For Predictions\n",
    "sum((pred-test[,16])^2)"
   ]
  },
  {
   "cell_type": "code",
   "execution_count": 84,
   "id": "71abc85e",
   "metadata": {},
   "outputs": [
    {
     "data": {
      "text/html": [
       "348.085234553597"
      ],
      "text/latex": [
       "348.085234553597"
      ],
      "text/markdown": [
       "348.085234553597"
      ],
      "text/plain": [
       "[1] 348.0852"
      ]
     },
     "metadata": {},
     "output_type": "display_data"
    }
   ],
   "source": [
    "# Calculate Root Mean Squared Error For Predictions\n",
    "sqrt((sum((pred-test[,16])^2)/nrow(test)))"
   ]
  },
  {
   "cell_type": "markdown",
   "id": "a4dca725",
   "metadata": {},
   "source": [
    "##### Test on Model 2 (Scaled Data)"
   ]
  },
  {
   "cell_type": "code",
   "execution_count": 56,
   "id": "1d80e4dc",
   "metadata": {},
   "outputs": [],
   "source": [
    "crime_scaled <- crime"
   ]
  },
  {
   "cell_type": "code",
   "execution_count": 57,
   "id": "2878ffd8",
   "metadata": {},
   "outputs": [],
   "source": [
    "crime_scaled[,1:15]<-scale(crime_scaled[,1:15])"
   ]
  },
  {
   "cell_type": "code",
   "execution_count": 58,
   "id": "83874483",
   "metadata": {},
   "outputs": [
    {
     "data": {
      "text/html": [
       "<table class=\"dataframe\">\n",
       "<caption>A data.frame: 6 × 16</caption>\n",
       "<thead>\n",
       "\t<tr><th></th><th scope=col>M</th><th scope=col>So</th><th scope=col>Ed</th><th scope=col>Po1</th><th scope=col>Po2</th><th scope=col>LF</th><th scope=col>M.F</th><th scope=col>Pop</th><th scope=col>NW</th><th scope=col>U1</th><th scope=col>U2</th><th scope=col>Wealth</th><th scope=col>Ineq</th><th scope=col>Prob</th><th scope=col>Time</th><th scope=col>Crime</th></tr>\n",
       "\t<tr><th></th><th scope=col>&lt;dbl&gt;</th><th scope=col>&lt;dbl&gt;</th><th scope=col>&lt;dbl&gt;</th><th scope=col>&lt;dbl&gt;</th><th scope=col>&lt;dbl&gt;</th><th scope=col>&lt;dbl&gt;</th><th scope=col>&lt;dbl&gt;</th><th scope=col>&lt;dbl&gt;</th><th scope=col>&lt;dbl&gt;</th><th scope=col>&lt;dbl&gt;</th><th scope=col>&lt;dbl&gt;</th><th scope=col>&lt;dbl&gt;</th><th scope=col>&lt;dbl&gt;</th><th scope=col>&lt;dbl&gt;</th><th scope=col>&lt;dbl&gt;</th><th scope=col>&lt;int&gt;</th></tr>\n",
       "</thead>\n",
       "<tbody>\n",
       "\t<tr><th scope=row>1</th><td> 0.9886930</td><td> 1.3770536</td><td>-1.3085099</td><td>-0.9085105</td><td>-0.8666988</td><td>-1.2667456</td><td>-1.12060499</td><td>-0.09500679</td><td> 1.943738564</td><td> 0.69510600</td><td> 0.8313680</td><td>-1.3616094</td><td> 1.6793638</td><td> 1.6497631</td><td>-0.05599367</td><td> 791</td></tr>\n",
       "\t<tr><th scope=row>2</th><td> 0.3521372</td><td>-0.7107373</td><td> 0.6580587</td><td> 0.6056737</td><td> 0.5280852</td><td> 0.5396568</td><td> 0.98341752</td><td>-0.62033844</td><td> 0.008483424</td><td> 0.02950365</td><td> 0.2393332</td><td> 0.3276683</td><td> 0.0000000</td><td>-0.7693365</td><td>-0.18315796</td><td>1635</td></tr>\n",
       "\t<tr><th scope=row>3</th><td> 0.2725678</td><td> 1.3770536</td><td>-1.4872888</td><td>-1.3459415</td><td>-1.2958632</td><td>-0.6976051</td><td>-0.47582390</td><td>-0.48900552</td><td> 1.146296747</td><td>-0.08143007</td><td>-0.1158877</td><td>-2.1492481</td><td> 1.4036474</td><td> 1.5969416</td><td>-0.32416470</td><td> 578</td></tr>\n",
       "\t<tr><th scope=row>4</th><td>-0.2048491</td><td>-0.7107373</td><td> 1.3731746</td><td> 2.1535064</td><td> 2.1732150</td><td> 0.3911854</td><td> 0.37257228</td><td> 3.16204944</td><td>-0.205464381</td><td> 0.36230482</td><td> 0.5945541</td><td> 1.5298536</td><td>-0.6767585</td><td>-1.3761895</td><td> 0.46611085</td><td>1969</td></tr>\n",
       "\t<tr><th scope=row>5</th><td> 0.1929983</td><td>-0.7107373</td><td> 1.3731746</td><td> 0.8075649</td><td> 0.7426673</td><td> 0.7376187</td><td> 0.06714965</td><td>-0.48900552</td><td>-0.691709391</td><td>-0.24783066</td><td>-1.6551781</td><td> 0.5453053</td><td>-0.5013026</td><td>-0.2503580</td><td>-0.74759413</td><td>1234</td></tr>\n",
       "\t<tr><th scope=row>6</th><td>-1.3983912</td><td>-0.7107373</td><td> 0.3898903</td><td> 1.1104017</td><td> 1.2433590</td><td>-0.3511718</td><td>-0.64550313</td><td>-0.30513945</td><td>-0.555560788</td><td>-0.63609870</td><td>-0.5895155</td><td> 1.6956723</td><td>-1.7044289</td><td>-0.5669349</td><td>-0.78996812</td><td> 682</td></tr>\n",
       "</tbody>\n",
       "</table>\n"
      ],
      "text/latex": [
       "A data.frame: 6 × 16\n",
       "\\begin{tabular}{r|llllllllllllllll}\n",
       "  & M & So & Ed & Po1 & Po2 & LF & M.F & Pop & NW & U1 & U2 & Wealth & Ineq & Prob & Time & Crime\\\\\n",
       "  & <dbl> & <dbl> & <dbl> & <dbl> & <dbl> & <dbl> & <dbl> & <dbl> & <dbl> & <dbl> & <dbl> & <dbl> & <dbl> & <dbl> & <dbl> & <int>\\\\\n",
       "\\hline\n",
       "\t1 &  0.9886930 &  1.3770536 & -1.3085099 & -0.9085105 & -0.8666988 & -1.2667456 & -1.12060499 & -0.09500679 &  1.943738564 &  0.69510600 &  0.8313680 & -1.3616094 &  1.6793638 &  1.6497631 & -0.05599367 &  791\\\\\n",
       "\t2 &  0.3521372 & -0.7107373 &  0.6580587 &  0.6056737 &  0.5280852 &  0.5396568 &  0.98341752 & -0.62033844 &  0.008483424 &  0.02950365 &  0.2393332 &  0.3276683 &  0.0000000 & -0.7693365 & -0.18315796 & 1635\\\\\n",
       "\t3 &  0.2725678 &  1.3770536 & -1.4872888 & -1.3459415 & -1.2958632 & -0.6976051 & -0.47582390 & -0.48900552 &  1.146296747 & -0.08143007 & -0.1158877 & -2.1492481 &  1.4036474 &  1.5969416 & -0.32416470 &  578\\\\\n",
       "\t4 & -0.2048491 & -0.7107373 &  1.3731746 &  2.1535064 &  2.1732150 &  0.3911854 &  0.37257228 &  3.16204944 & -0.205464381 &  0.36230482 &  0.5945541 &  1.5298536 & -0.6767585 & -1.3761895 &  0.46611085 & 1969\\\\\n",
       "\t5 &  0.1929983 & -0.7107373 &  1.3731746 &  0.8075649 &  0.7426673 &  0.7376187 &  0.06714965 & -0.48900552 & -0.691709391 & -0.24783066 & -1.6551781 &  0.5453053 & -0.5013026 & -0.2503580 & -0.74759413 & 1234\\\\\n",
       "\t6 & -1.3983912 & -0.7107373 &  0.3898903 &  1.1104017 &  1.2433590 & -0.3511718 & -0.64550313 & -0.30513945 & -0.555560788 & -0.63609870 & -0.5895155 &  1.6956723 & -1.7044289 & -0.5669349 & -0.78996812 &  682\\\\\n",
       "\\end{tabular}\n"
      ],
      "text/markdown": [
       "\n",
       "A data.frame: 6 × 16\n",
       "\n",
       "| <!--/--> | M &lt;dbl&gt; | So &lt;dbl&gt; | Ed &lt;dbl&gt; | Po1 &lt;dbl&gt; | Po2 &lt;dbl&gt; | LF &lt;dbl&gt; | M.F &lt;dbl&gt; | Pop &lt;dbl&gt; | NW &lt;dbl&gt; | U1 &lt;dbl&gt; | U2 &lt;dbl&gt; | Wealth &lt;dbl&gt; | Ineq &lt;dbl&gt; | Prob &lt;dbl&gt; | Time &lt;dbl&gt; | Crime &lt;int&gt; |\n",
       "|---|---|---|---|---|---|---|---|---|---|---|---|---|---|---|---|---|\n",
       "| 1 |  0.9886930 |  1.3770536 | -1.3085099 | -0.9085105 | -0.8666988 | -1.2667456 | -1.12060499 | -0.09500679 |  1.943738564 |  0.69510600 |  0.8313680 | -1.3616094 |  1.6793638 |  1.6497631 | -0.05599367 |  791 |\n",
       "| 2 |  0.3521372 | -0.7107373 |  0.6580587 |  0.6056737 |  0.5280852 |  0.5396568 |  0.98341752 | -0.62033844 |  0.008483424 |  0.02950365 |  0.2393332 |  0.3276683 |  0.0000000 | -0.7693365 | -0.18315796 | 1635 |\n",
       "| 3 |  0.2725678 |  1.3770536 | -1.4872888 | -1.3459415 | -1.2958632 | -0.6976051 | -0.47582390 | -0.48900552 |  1.146296747 | -0.08143007 | -0.1158877 | -2.1492481 |  1.4036474 |  1.5969416 | -0.32416470 |  578 |\n",
       "| 4 | -0.2048491 | -0.7107373 |  1.3731746 |  2.1535064 |  2.1732150 |  0.3911854 |  0.37257228 |  3.16204944 | -0.205464381 |  0.36230482 |  0.5945541 |  1.5298536 | -0.6767585 | -1.3761895 |  0.46611085 | 1969 |\n",
       "| 5 |  0.1929983 | -0.7107373 |  1.3731746 |  0.8075649 |  0.7426673 |  0.7376187 |  0.06714965 | -0.48900552 | -0.691709391 | -0.24783066 | -1.6551781 |  0.5453053 | -0.5013026 | -0.2503580 | -0.74759413 | 1234 |\n",
       "| 6 | -1.3983912 | -0.7107373 |  0.3898903 |  1.1104017 |  1.2433590 | -0.3511718 | -0.64550313 | -0.30513945 | -0.555560788 | -0.63609870 | -0.5895155 |  1.6956723 | -1.7044289 | -0.5669349 | -0.78996812 |  682 |\n",
       "\n"
      ],
      "text/plain": [
       "  M          So         Ed         Po1        Po2        LF         M.F        \n",
       "1  0.9886930  1.3770536 -1.3085099 -0.9085105 -0.8666988 -1.2667456 -1.12060499\n",
       "2  0.3521372 -0.7107373  0.6580587  0.6056737  0.5280852  0.5396568  0.98341752\n",
       "3  0.2725678  1.3770536 -1.4872888 -1.3459415 -1.2958632 -0.6976051 -0.47582390\n",
       "4 -0.2048491 -0.7107373  1.3731746  2.1535064  2.1732150  0.3911854  0.37257228\n",
       "5  0.1929983 -0.7107373  1.3731746  0.8075649  0.7426673  0.7376187  0.06714965\n",
       "6 -1.3983912 -0.7107373  0.3898903  1.1104017  1.2433590 -0.3511718 -0.64550313\n",
       "  Pop         NW           U1          U2         Wealth     Ineq      \n",
       "1 -0.09500679  1.943738564  0.69510600  0.8313680 -1.3616094  1.6793638\n",
       "2 -0.62033844  0.008483424  0.02950365  0.2393332  0.3276683  0.0000000\n",
       "3 -0.48900552  1.146296747 -0.08143007 -0.1158877 -2.1492481  1.4036474\n",
       "4  3.16204944 -0.205464381  0.36230482  0.5945541  1.5298536 -0.6767585\n",
       "5 -0.48900552 -0.691709391 -0.24783066 -1.6551781  0.5453053 -0.5013026\n",
       "6 -0.30513945 -0.555560788 -0.63609870 -0.5895155  1.6956723 -1.7044289\n",
       "  Prob       Time        Crime\n",
       "1  1.6497631 -0.05599367  791 \n",
       "2 -0.7693365 -0.18315796 1635 \n",
       "3  1.5969416 -0.32416470  578 \n",
       "4 -1.3761895  0.46611085 1969 \n",
       "5 -0.2503580 -0.74759413 1234 \n",
       "6 -0.5669349 -0.78996812  682 "
      ]
     },
     "metadata": {},
     "output_type": "display_data"
    }
   ],
   "source": [
    "head(crime_scaled)"
   ]
  },
  {
   "cell_type": "code",
   "execution_count": 59,
   "id": "b01dabd3",
   "metadata": {},
   "outputs": [],
   "source": [
    "set.seed(123)\n",
    "#use 70% of dataset as training set and 30% as test set\n",
    "scale_split = sample.split(crime_scaled$Crime, SplitRatio = 0.7)\n",
    "scale_train  = subset(crime_scaled, split == TRUE)\n",
    "scale_test   = subset(crime_scaled, split == FALSE)"
   ]
  },
  {
   "cell_type": "code",
   "execution_count": 61,
   "id": "40936b55",
   "metadata": {},
   "outputs": [
    {
     "data": {
      "text/html": [
       "<table class=\"dataframe\">\n",
       "<caption>A data.frame: 6 × 16</caption>\n",
       "<thead>\n",
       "\t<tr><th></th><th scope=col>M</th><th scope=col>So</th><th scope=col>Ed</th><th scope=col>Po1</th><th scope=col>Po2</th><th scope=col>LF</th><th scope=col>M.F</th><th scope=col>Pop</th><th scope=col>NW</th><th scope=col>U1</th><th scope=col>U2</th><th scope=col>Wealth</th><th scope=col>Ineq</th><th scope=col>Prob</th><th scope=col>Time</th><th scope=col>Crime</th></tr>\n",
       "\t<tr><th></th><th scope=col>&lt;dbl&gt;</th><th scope=col>&lt;dbl&gt;</th><th scope=col>&lt;dbl&gt;</th><th scope=col>&lt;dbl&gt;</th><th scope=col>&lt;dbl&gt;</th><th scope=col>&lt;dbl&gt;</th><th scope=col>&lt;dbl&gt;</th><th scope=col>&lt;dbl&gt;</th><th scope=col>&lt;dbl&gt;</th><th scope=col>&lt;dbl&gt;</th><th scope=col>&lt;dbl&gt;</th><th scope=col>&lt;dbl&gt;</th><th scope=col>&lt;dbl&gt;</th><th scope=col>&lt;dbl&gt;</th><th scope=col>&lt;dbl&gt;</th><th scope=col>&lt;int&gt;</th></tr>\n",
       "</thead>\n",
       "<tbody>\n",
       "\t<tr><th scope=row>1</th><td> 0.9886930</td><td> 1.3770536</td><td>-1.3085099</td><td>-0.9085105</td><td>-0.86669885</td><td>-1.2667456</td><td>-1.12060499</td><td>-0.09500679</td><td> 1.9437386</td><td> 0.69510600</td><td> 0.8313680</td><td>-1.361609422</td><td> 1.6793638</td><td> 1.6497631</td><td>-0.05599367</td><td>791</td></tr>\n",
       "\t<tr><th scope=row>3</th><td> 0.2725678</td><td> 1.3770536</td><td>-1.4872888</td><td>-1.3459415</td><td>-1.29586316</td><td>-0.6976051</td><td>-0.47582390</td><td>-0.48900552</td><td> 1.1462967</td><td>-0.08143007</td><td>-0.1158877</td><td>-2.149248102</td><td> 1.4036474</td><td> 1.5969416</td><td>-0.32416470</td><td>578</td></tr>\n",
       "\t<tr><th scope=row>6</th><td>-1.3983912</td><td>-0.7107373</td><td> 0.3898903</td><td> 1.1104017</td><td> 1.24335901</td><td>-0.3511718</td><td>-0.64550313</td><td>-0.30513945</td><td>-0.5555608</td><td>-0.63609870</td><td>-0.5895155</td><td> 1.695672300</td><td>-1.7044289</td><td>-0.5669349</td><td>-0.78996812</td><td>682</td></tr>\n",
       "\t<tr><th scope=row>7</th><td>-0.9209743</td><td> 1.3770536</td><td> 0.4792798</td><td>-0.1009456</td><td>-0.04413392</td><td>-1.0440385</td><td>-0.03465789</td><td>-0.85673768</td><td> 0.3683047</td><td> 0.08497051</td><td> 0.4761471</td><td> 0.980579287</td><td>-0.6516934</td><td>-0.2195272</td><td>-0.83232800</td><td>963</td></tr>\n",
       "\t<tr><th scope=row>9</th><td> 1.4661099</td><td> 1.3770536</td><td>-1.3978993</td><td>-0.6729708</td><td>-0.65211669</td><td>-0.2027004</td><td>-0.95092575</td><td> 0.06259271</td><td> 1.7978651</td><td>-0.80249928</td><td>-0.7079224</td><td>-1.081790417</td><td> 1.1279309</td><td> 1.0821853</td><td> 0.39540287</td><td>856</td></tr>\n",
       "\t<tr><th scope=row>10</th><td> 0.1134288</td><td>-0.7107373</td><td> 1.1050061</td><td>-0.4710795</td><td>-0.43753454</td><td> 1.7521735</td><td> 1.56032692</td><td>-0.77793793</td><td>-0.8375829</td><td> 0.25137110</td><td>-1.1815502</td><td> 0.006394603</td><td>-0.5013026</td><td>-0.1140602</td><td>-0.98752995</td><td>705</td></tr>\n",
       "</tbody>\n",
       "</table>\n"
      ],
      "text/latex": [
       "A data.frame: 6 × 16\n",
       "\\begin{tabular}{r|llllllllllllllll}\n",
       "  & M & So & Ed & Po1 & Po2 & LF & M.F & Pop & NW & U1 & U2 & Wealth & Ineq & Prob & Time & Crime\\\\\n",
       "  & <dbl> & <dbl> & <dbl> & <dbl> & <dbl> & <dbl> & <dbl> & <dbl> & <dbl> & <dbl> & <dbl> & <dbl> & <dbl> & <dbl> & <dbl> & <int>\\\\\n",
       "\\hline\n",
       "\t1 &  0.9886930 &  1.3770536 & -1.3085099 & -0.9085105 & -0.86669885 & -1.2667456 & -1.12060499 & -0.09500679 &  1.9437386 &  0.69510600 &  0.8313680 & -1.361609422 &  1.6793638 &  1.6497631 & -0.05599367 & 791\\\\\n",
       "\t3 &  0.2725678 &  1.3770536 & -1.4872888 & -1.3459415 & -1.29586316 & -0.6976051 & -0.47582390 & -0.48900552 &  1.1462967 & -0.08143007 & -0.1158877 & -2.149248102 &  1.4036474 &  1.5969416 & -0.32416470 & 578\\\\\n",
       "\t6 & -1.3983912 & -0.7107373 &  0.3898903 &  1.1104017 &  1.24335901 & -0.3511718 & -0.64550313 & -0.30513945 & -0.5555608 & -0.63609870 & -0.5895155 &  1.695672300 & -1.7044289 & -0.5669349 & -0.78996812 & 682\\\\\n",
       "\t7 & -0.9209743 &  1.3770536 &  0.4792798 & -0.1009456 & -0.04413392 & -1.0440385 & -0.03465789 & -0.85673768 &  0.3683047 &  0.08497051 &  0.4761471 &  0.980579287 & -0.6516934 & -0.2195272 & -0.83232800 & 963\\\\\n",
       "\t9 &  1.4661099 &  1.3770536 & -1.3978993 & -0.6729708 & -0.65211669 & -0.2027004 & -0.95092575 &  0.06259271 &  1.7978651 & -0.80249928 & -0.7079224 & -1.081790417 &  1.1279309 &  1.0821853 &  0.39540287 & 856\\\\\n",
       "\t10 &  0.1134288 & -0.7107373 &  1.1050061 & -0.4710795 & -0.43753454 &  1.7521735 &  1.56032692 & -0.77793793 & -0.8375829 &  0.25137110 & -1.1815502 &  0.006394603 & -0.5013026 & -0.1140602 & -0.98752995 & 705\\\\\n",
       "\\end{tabular}\n"
      ],
      "text/markdown": [
       "\n",
       "A data.frame: 6 × 16\n",
       "\n",
       "| <!--/--> | M &lt;dbl&gt; | So &lt;dbl&gt; | Ed &lt;dbl&gt; | Po1 &lt;dbl&gt; | Po2 &lt;dbl&gt; | LF &lt;dbl&gt; | M.F &lt;dbl&gt; | Pop &lt;dbl&gt; | NW &lt;dbl&gt; | U1 &lt;dbl&gt; | U2 &lt;dbl&gt; | Wealth &lt;dbl&gt; | Ineq &lt;dbl&gt; | Prob &lt;dbl&gt; | Time &lt;dbl&gt; | Crime &lt;int&gt; |\n",
       "|---|---|---|---|---|---|---|---|---|---|---|---|---|---|---|---|---|\n",
       "| 1 |  0.9886930 |  1.3770536 | -1.3085099 | -0.9085105 | -0.86669885 | -1.2667456 | -1.12060499 | -0.09500679 |  1.9437386 |  0.69510600 |  0.8313680 | -1.361609422 |  1.6793638 |  1.6497631 | -0.05599367 | 791 |\n",
       "| 3 |  0.2725678 |  1.3770536 | -1.4872888 | -1.3459415 | -1.29586316 | -0.6976051 | -0.47582390 | -0.48900552 |  1.1462967 | -0.08143007 | -0.1158877 | -2.149248102 |  1.4036474 |  1.5969416 | -0.32416470 | 578 |\n",
       "| 6 | -1.3983912 | -0.7107373 |  0.3898903 |  1.1104017 |  1.24335901 | -0.3511718 | -0.64550313 | -0.30513945 | -0.5555608 | -0.63609870 | -0.5895155 |  1.695672300 | -1.7044289 | -0.5669349 | -0.78996812 | 682 |\n",
       "| 7 | -0.9209743 |  1.3770536 |  0.4792798 | -0.1009456 | -0.04413392 | -1.0440385 | -0.03465789 | -0.85673768 |  0.3683047 |  0.08497051 |  0.4761471 |  0.980579287 | -0.6516934 | -0.2195272 | -0.83232800 | 963 |\n",
       "| 9 |  1.4661099 |  1.3770536 | -1.3978993 | -0.6729708 | -0.65211669 | -0.2027004 | -0.95092575 |  0.06259271 |  1.7978651 | -0.80249928 | -0.7079224 | -1.081790417 |  1.1279309 |  1.0821853 |  0.39540287 | 856 |\n",
       "| 10 |  0.1134288 | -0.7107373 |  1.1050061 | -0.4710795 | -0.43753454 |  1.7521735 |  1.56032692 | -0.77793793 | -0.8375829 |  0.25137110 | -1.1815502 |  0.006394603 | -0.5013026 | -0.1140602 | -0.98752995 | 705 |\n",
       "\n"
      ],
      "text/plain": [
       "   M          So         Ed         Po1        Po2         LF        \n",
       "1   0.9886930  1.3770536 -1.3085099 -0.9085105 -0.86669885 -1.2667456\n",
       "3   0.2725678  1.3770536 -1.4872888 -1.3459415 -1.29586316 -0.6976051\n",
       "6  -1.3983912 -0.7107373  0.3898903  1.1104017  1.24335901 -0.3511718\n",
       "7  -0.9209743  1.3770536  0.4792798 -0.1009456 -0.04413392 -1.0440385\n",
       "9   1.4661099  1.3770536 -1.3978993 -0.6729708 -0.65211669 -0.2027004\n",
       "10  0.1134288 -0.7107373  1.1050061 -0.4710795 -0.43753454  1.7521735\n",
       "   M.F         Pop         NW         U1          U2         Wealth      \n",
       "1  -1.12060499 -0.09500679  1.9437386  0.69510600  0.8313680 -1.361609422\n",
       "3  -0.47582390 -0.48900552  1.1462967 -0.08143007 -0.1158877 -2.149248102\n",
       "6  -0.64550313 -0.30513945 -0.5555608 -0.63609870 -0.5895155  1.695672300\n",
       "7  -0.03465789 -0.85673768  0.3683047  0.08497051  0.4761471  0.980579287\n",
       "9  -0.95092575  0.06259271  1.7978651 -0.80249928 -0.7079224 -1.081790417\n",
       "10  1.56032692 -0.77793793 -0.8375829  0.25137110 -1.1815502  0.006394603\n",
       "   Ineq       Prob       Time        Crime\n",
       "1   1.6793638  1.6497631 -0.05599367 791  \n",
       "3   1.4036474  1.5969416 -0.32416470 578  \n",
       "6  -1.7044289 -0.5669349 -0.78996812 682  \n",
       "7  -0.6516934 -0.2195272 -0.83232800 963  \n",
       "9   1.1279309  1.0821853  0.39540287 856  \n",
       "10 -0.5013026 -0.1140602 -0.98752995 705  "
      ]
     },
     "metadata": {},
     "output_type": "display_data"
    }
   ],
   "source": [
    "head(scale_train)"
   ]
  },
  {
   "cell_type": "code",
   "execution_count": 62,
   "id": "cb97c7d1",
   "metadata": {},
   "outputs": [
    {
     "data": {
      "text/html": [
       "<table class=\"dataframe\">\n",
       "<caption>A data.frame: 6 × 16</caption>\n",
       "<thead>\n",
       "\t<tr><th></th><th scope=col>M</th><th scope=col>So</th><th scope=col>Ed</th><th scope=col>Po1</th><th scope=col>Po2</th><th scope=col>LF</th><th scope=col>M.F</th><th scope=col>Pop</th><th scope=col>NW</th><th scope=col>U1</th><th scope=col>U2</th><th scope=col>Wealth</th><th scope=col>Ineq</th><th scope=col>Prob</th><th scope=col>Time</th><th scope=col>Crime</th></tr>\n",
       "\t<tr><th></th><th scope=col>&lt;dbl&gt;</th><th scope=col>&lt;dbl&gt;</th><th scope=col>&lt;dbl&gt;</th><th scope=col>&lt;dbl&gt;</th><th scope=col>&lt;dbl&gt;</th><th scope=col>&lt;dbl&gt;</th><th scope=col>&lt;dbl&gt;</th><th scope=col>&lt;dbl&gt;</th><th scope=col>&lt;dbl&gt;</th><th scope=col>&lt;dbl&gt;</th><th scope=col>&lt;dbl&gt;</th><th scope=col>&lt;dbl&gt;</th><th scope=col>&lt;dbl&gt;</th><th scope=col>&lt;dbl&gt;</th><th scope=col>&lt;dbl&gt;</th><th scope=col>&lt;int&gt;</th></tr>\n",
       "</thead>\n",
       "<tbody>\n",
       "\t<tr><th scope=row>2</th><td> 0.3521372</td><td>-0.7107373</td><td> 0.65805874</td><td> 0.6056737</td><td> 0.5280852</td><td> 0.5396568</td><td> 0.98341752</td><td>-0.62033844</td><td> 0.008483424</td><td> 0.02950365</td><td> 0.2393332</td><td> 0.3276683</td><td> 0.0000000</td><td>-0.7693365</td><td>-0.18315796</td><td>1635</td></tr>\n",
       "\t<tr><th scope=row>4</th><td>-0.2048491</td><td>-0.7107373</td><td> 1.37317459</td><td> 2.1535064</td><td> 2.1732150</td><td> 0.3911854</td><td> 0.37257228</td><td> 3.16204944</td><td>-0.205464381</td><td> 0.36230482</td><td> 0.5945541</td><td> 1.5298536</td><td>-0.6767585</td><td>-1.3761895</td><td> 0.46611085</td><td>1969</td></tr>\n",
       "\t<tr><th scope=row>5</th><td> 0.1929983</td><td>-0.7107373</td><td> 1.37317459</td><td> 0.8075649</td><td> 0.7426673</td><td> 0.7376187</td><td> 0.06714965</td><td>-0.48900552</td><td>-0.691709391</td><td>-0.24783066</td><td>-1.6551781</td><td> 0.5453053</td><td>-0.5013026</td><td>-0.2503580</td><td>-0.74759413</td><td>1234</td></tr>\n",
       "\t<tr><th scope=row>8</th><td>-0.6026964</td><td> 1.3770536</td><td> 0.30050081</td><td> 1.0094561</td><td> 1.0287769</td><td>-0.4748980</td><td>-0.47582390</td><td> 0.35152511</td><td> 0.757300739</td><td>-0.91343301</td><td> 0.1209263</td><td>-0.5532434</td><td> 0.3007816</td><td>-0.3075336</td><td>-0.28208704</td><td>1555</td></tr>\n",
       "\t<tr><th scope=row>11</th><td>-1.1596827</td><td>-0.7107373</td><td>-0.05705712</td><td> 1.2113474</td><td> 1.2791227</td><td> 0.4654211</td><td>-0.57763144</td><td> 1.69112082</td><td> 0.047383024</td><td>-1.02436673</td><td> 0.1209263</td><td> 1.3640350</td><td>-0.6015632</td><td>-1.3585970</td><td> 2.11687605</td><td>1674</td></tr>\n",
       "\t<tr><th scope=row>16</th><td> 0.2725678</td><td> 1.3770536</td><td>-1.57667830</td><td>-0.1345942</td><td>-0.1156613</td><td>-1.5884338</td><td>-0.91698990</td><td>-0.09500679</td><td> 2.138236568</td><td> 1.13884089</td><td> 1.5418097</td><td>-1.0196084</td><td> 1.3284520</td><td> 0.2202412</td><td>-0.07038643</td><td> 946</td></tr>\n",
       "</tbody>\n",
       "</table>\n"
      ],
      "text/latex": [
       "A data.frame: 6 × 16\n",
       "\\begin{tabular}{r|llllllllllllllll}\n",
       "  & M & So & Ed & Po1 & Po2 & LF & M.F & Pop & NW & U1 & U2 & Wealth & Ineq & Prob & Time & Crime\\\\\n",
       "  & <dbl> & <dbl> & <dbl> & <dbl> & <dbl> & <dbl> & <dbl> & <dbl> & <dbl> & <dbl> & <dbl> & <dbl> & <dbl> & <dbl> & <dbl> & <int>\\\\\n",
       "\\hline\n",
       "\t2 &  0.3521372 & -0.7107373 &  0.65805874 &  0.6056737 &  0.5280852 &  0.5396568 &  0.98341752 & -0.62033844 &  0.008483424 &  0.02950365 &  0.2393332 &  0.3276683 &  0.0000000 & -0.7693365 & -0.18315796 & 1635\\\\\n",
       "\t4 & -0.2048491 & -0.7107373 &  1.37317459 &  2.1535064 &  2.1732150 &  0.3911854 &  0.37257228 &  3.16204944 & -0.205464381 &  0.36230482 &  0.5945541 &  1.5298536 & -0.6767585 & -1.3761895 &  0.46611085 & 1969\\\\\n",
       "\t5 &  0.1929983 & -0.7107373 &  1.37317459 &  0.8075649 &  0.7426673 &  0.7376187 &  0.06714965 & -0.48900552 & -0.691709391 & -0.24783066 & -1.6551781 &  0.5453053 & -0.5013026 & -0.2503580 & -0.74759413 & 1234\\\\\n",
       "\t8 & -0.6026964 &  1.3770536 &  0.30050081 &  1.0094561 &  1.0287769 & -0.4748980 & -0.47582390 &  0.35152511 &  0.757300739 & -0.91343301 &  0.1209263 & -0.5532434 &  0.3007816 & -0.3075336 & -0.28208704 & 1555\\\\\n",
       "\t11 & -1.1596827 & -0.7107373 & -0.05705712 &  1.2113474 &  1.2791227 &  0.4654211 & -0.57763144 &  1.69112082 &  0.047383024 & -1.02436673 &  0.1209263 &  1.3640350 & -0.6015632 & -1.3585970 &  2.11687605 & 1674\\\\\n",
       "\t16 &  0.2725678 &  1.3770536 & -1.57667830 & -0.1345942 & -0.1156613 & -1.5884338 & -0.91698990 & -0.09500679 &  2.138236568 &  1.13884089 &  1.5418097 & -1.0196084 &  1.3284520 &  0.2202412 & -0.07038643 &  946\\\\\n",
       "\\end{tabular}\n"
      ],
      "text/markdown": [
       "\n",
       "A data.frame: 6 × 16\n",
       "\n",
       "| <!--/--> | M &lt;dbl&gt; | So &lt;dbl&gt; | Ed &lt;dbl&gt; | Po1 &lt;dbl&gt; | Po2 &lt;dbl&gt; | LF &lt;dbl&gt; | M.F &lt;dbl&gt; | Pop &lt;dbl&gt; | NW &lt;dbl&gt; | U1 &lt;dbl&gt; | U2 &lt;dbl&gt; | Wealth &lt;dbl&gt; | Ineq &lt;dbl&gt; | Prob &lt;dbl&gt; | Time &lt;dbl&gt; | Crime &lt;int&gt; |\n",
       "|---|---|---|---|---|---|---|---|---|---|---|---|---|---|---|---|---|\n",
       "| 2 |  0.3521372 | -0.7107373 |  0.65805874 |  0.6056737 |  0.5280852 |  0.5396568 |  0.98341752 | -0.62033844 |  0.008483424 |  0.02950365 |  0.2393332 |  0.3276683 |  0.0000000 | -0.7693365 | -0.18315796 | 1635 |\n",
       "| 4 | -0.2048491 | -0.7107373 |  1.37317459 |  2.1535064 |  2.1732150 |  0.3911854 |  0.37257228 |  3.16204944 | -0.205464381 |  0.36230482 |  0.5945541 |  1.5298536 | -0.6767585 | -1.3761895 |  0.46611085 | 1969 |\n",
       "| 5 |  0.1929983 | -0.7107373 |  1.37317459 |  0.8075649 |  0.7426673 |  0.7376187 |  0.06714965 | -0.48900552 | -0.691709391 | -0.24783066 | -1.6551781 |  0.5453053 | -0.5013026 | -0.2503580 | -0.74759413 | 1234 |\n",
       "| 8 | -0.6026964 |  1.3770536 |  0.30050081 |  1.0094561 |  1.0287769 | -0.4748980 | -0.47582390 |  0.35152511 |  0.757300739 | -0.91343301 |  0.1209263 | -0.5532434 |  0.3007816 | -0.3075336 | -0.28208704 | 1555 |\n",
       "| 11 | -1.1596827 | -0.7107373 | -0.05705712 |  1.2113474 |  1.2791227 |  0.4654211 | -0.57763144 |  1.69112082 |  0.047383024 | -1.02436673 |  0.1209263 |  1.3640350 | -0.6015632 | -1.3585970 |  2.11687605 | 1674 |\n",
       "| 16 |  0.2725678 |  1.3770536 | -1.57667830 | -0.1345942 | -0.1156613 | -1.5884338 | -0.91698990 | -0.09500679 |  2.138236568 |  1.13884089 |  1.5418097 | -1.0196084 |  1.3284520 |  0.2202412 | -0.07038643 |  946 |\n",
       "\n"
      ],
      "text/plain": [
       "   M          So         Ed          Po1        Po2        LF        \n",
       "2   0.3521372 -0.7107373  0.65805874  0.6056737  0.5280852  0.5396568\n",
       "4  -0.2048491 -0.7107373  1.37317459  2.1535064  2.1732150  0.3911854\n",
       "5   0.1929983 -0.7107373  1.37317459  0.8075649  0.7426673  0.7376187\n",
       "8  -0.6026964  1.3770536  0.30050081  1.0094561  1.0287769 -0.4748980\n",
       "11 -1.1596827 -0.7107373 -0.05705712  1.2113474  1.2791227  0.4654211\n",
       "16  0.2725678  1.3770536 -1.57667830 -0.1345942 -0.1156613 -1.5884338\n",
       "   M.F         Pop         NW           U1          U2         Wealth    \n",
       "2   0.98341752 -0.62033844  0.008483424  0.02950365  0.2393332  0.3276683\n",
       "4   0.37257228  3.16204944 -0.205464381  0.36230482  0.5945541  1.5298536\n",
       "5   0.06714965 -0.48900552 -0.691709391 -0.24783066 -1.6551781  0.5453053\n",
       "8  -0.47582390  0.35152511  0.757300739 -0.91343301  0.1209263 -0.5532434\n",
       "11 -0.57763144  1.69112082  0.047383024 -1.02436673  0.1209263  1.3640350\n",
       "16 -0.91698990 -0.09500679  2.138236568  1.13884089  1.5418097 -1.0196084\n",
       "   Ineq       Prob       Time        Crime\n",
       "2   0.0000000 -0.7693365 -0.18315796 1635 \n",
       "4  -0.6767585 -1.3761895  0.46611085 1969 \n",
       "5  -0.5013026 -0.2503580 -0.74759413 1234 \n",
       "8   0.3007816 -0.3075336 -0.28208704 1555 \n",
       "11 -0.6015632 -1.3585970  2.11687605 1674 \n",
       "16  1.3284520  0.2202412 -0.07038643  946 "
      ]
     },
     "metadata": {},
     "output_type": "display_data"
    }
   ],
   "source": [
    "head(scale_test)"
   ]
  },
  {
   "cell_type": "code",
   "execution_count": 63,
   "id": "3173e777",
   "metadata": {},
   "outputs": [],
   "source": [
    "# Train Model using Unscaled Data\n",
    "model_scaled <- lm(Crime ~ M+So+Ed+Po1+Po2+LF+M.F+Pop+NW+U1+U2+Wealth+Ineq+Prob+Time, data=scale_train)"
   ]
  },
  {
   "cell_type": "code",
   "execution_count": 64,
   "id": "82ce9303",
   "metadata": {},
   "outputs": [
    {
     "data": {
      "text/plain": [
       "\n",
       "Call:\n",
       "lm(formula = Crime ~ M + So + Ed + Po1 + Po2 + LF + M.F + Pop + \n",
       "    NW + U1 + U2 + Wealth + Ineq + Prob + Time, data = scale_train)\n",
       "\n",
       "Coefficients:\n",
       "(Intercept)            M           So           Ed          Po1          Po2  \n",
       "     869.21       153.08        29.94       129.55       447.23      -202.06  \n",
       "         LF          M.F          Pop           NW           U1           U2  \n",
       "      57.67       -54.40       -77.78        69.74        26.90        57.96  \n",
       "     Wealth         Ineq         Prob         Time  \n",
       "      67.86       198.41      -112.73       -33.26  \n"
      ]
     },
     "metadata": {},
     "output_type": "display_data"
    }
   ],
   "source": [
    "model_scaled"
   ]
  },
  {
   "cell_type": "code",
   "execution_count": 65,
   "id": "1ea7cf5c",
   "metadata": {},
   "outputs": [
    {
     "data": {
      "text/plain": [
       "\n",
       "Call:\n",
       "lm(formula = Crime ~ M + So + Ed + Po1 + Po2 + LF + M.F + Pop + \n",
       "    NW + U1 + U2 + Wealth + Ineq + Prob + Time, data = scale_train)\n",
       "\n",
       "Residuals:\n",
       "     Min       1Q   Median       3Q      Max \n",
       "-287.128  -65.042   -4.796  103.893  298.405 \n",
       "\n",
       "Coefficients:\n",
       "            Estimate Std. Error t value Pr(>|t|)    \n",
       "(Intercept)   869.21      40.72  21.345  3.5e-13 ***\n",
       "M             153.08      73.54   2.082   0.0538 .  \n",
       "So             29.94      80.01   0.374   0.7131    \n",
       "Ed            129.55     101.34   1.278   0.2193    \n",
       "Po1           447.23     403.82   1.107   0.2845    \n",
       "Po2          -202.06     384.86  -0.525   0.6068    \n",
       "LF             57.67      94.80   0.608   0.5515    \n",
       "M.F           -54.40      83.91  -0.648   0.5260    \n",
       "Pop           -77.78      66.53  -1.169   0.2595    \n",
       "NW             69.74      82.93   0.841   0.4128    \n",
       "U1             26.90      95.53   0.282   0.7819    \n",
       "U2             57.96      88.86   0.652   0.5235    \n",
       "Wealth         67.86     125.39   0.541   0.5958    \n",
       "Ineq          198.41      96.08   2.065   0.0555 .  \n",
       "Prob         -112.73      56.47  -1.996   0.0632 .  \n",
       "Time          -33.26      59.71  -0.557   0.5852    \n",
       "---\n",
       "Signif. codes:  0 '***' 0.001 '**' 0.01 '*' 0.05 '.' 0.1 ' ' 1\n",
       "\n",
       "Residual standard error: 186.3 on 16 degrees of freedom\n",
       "Multiple R-squared:  0.6955,\tAdjusted R-squared:   0.41 \n",
       "F-statistic: 2.436 on 15 and 16 DF,  p-value: 0.04361\n"
      ]
     },
     "metadata": {},
     "output_type": "display_data"
    }
   ],
   "source": [
    "summary(model_scaled)"
   ]
  },
  {
   "cell_type": "code",
   "execution_count": 68,
   "id": "68bb7aec",
   "metadata": {},
   "outputs": [],
   "source": [
    "scale_pred <- predict(model_scaled, scale_test)"
   ]
  },
  {
   "cell_type": "code",
   "execution_count": 69,
   "id": "c8dca58f",
   "metadata": {},
   "outputs": [
    {
     "data": {
      "text/html": [
       "<style>\n",
       ".dl-inline {width: auto; margin:0; padding: 0}\n",
       ".dl-inline>dt, .dl-inline>dd {float: none; width: auto; display: inline-block}\n",
       ".dl-inline>dt::after {content: \":\\0020\"; padding-right: .5ex}\n",
       ".dl-inline>dt:not(:first-of-type) {padding-left: .5ex}\n",
       "</style><dl class=dl-inline><dt>2</dt><dd>1307.43637908046</dd><dt>4</dt><dd>1413.86347241967</dd><dt>5</dt><dd>1183.18623573892</dd><dt>8</dt><dd>1173.29695832952</dd><dt>11</dt><dd>911.744484497504</dd><dt>16</dt><dd>1117.75858148834</dd><dt>20</dt><dd>1077.31969386968</dd><dt>21</dt><dd>752.574620263441</dd><dt>22</dt><dd>832.685231909299</dd><dt>24</dt><dd>870.408783693821</dd><dt>26</dt><dd>1599.58579046693</dd><dt>31</dt><dd>439.772428077062</dd><dt>32</dt><dd>713.386250196495</dd><dt>34</dt><dd>817.194137524438</dd><dt>37</dt><dd>1364.52664269433</dd></dl>\n"
      ],
      "text/latex": [
       "\\begin{description*}\n",
       "\\item[2] 1307.43637908046\n",
       "\\item[4] 1413.86347241967\n",
       "\\item[5] 1183.18623573892\n",
       "\\item[8] 1173.29695832952\n",
       "\\item[11] 911.744484497504\n",
       "\\item[16] 1117.75858148834\n",
       "\\item[20] 1077.31969386968\n",
       "\\item[21] 752.574620263441\n",
       "\\item[22] 832.685231909299\n",
       "\\item[24] 870.408783693821\n",
       "\\item[26] 1599.58579046693\n",
       "\\item[31] 439.772428077062\n",
       "\\item[32] 713.386250196495\n",
       "\\item[34] 817.194137524438\n",
       "\\item[37] 1364.52664269433\n",
       "\\end{description*}\n"
      ],
      "text/markdown": [
       "2\n",
       ":   1307.436379080464\n",
       ":   1413.863472419675\n",
       ":   1183.186235738928\n",
       ":   1173.2969583295211\n",
       ":   911.74448449750416\n",
       ":   1117.7585814883420\n",
       ":   1077.3196938696821\n",
       ":   752.57462026344122\n",
       ":   832.68523190929924\n",
       ":   870.40878369382126\n",
       ":   1599.5857904669331\n",
       ":   439.77242807706232\n",
       ":   713.38625019649534\n",
       ":   817.19413752443837\n",
       ":   1364.52664269433\n",
       "\n"
      ],
      "text/plain": [
       "        2         4         5         8        11        16        20        21 \n",
       "1307.4364 1413.8635 1183.1862 1173.2970  911.7445 1117.7586 1077.3197  752.5746 \n",
       "       22        24        26        31        32        34        37 \n",
       " 832.6852  870.4088 1599.5858  439.7724  713.3863  817.1941 1364.5266 "
      ]
     },
     "metadata": {},
     "output_type": "display_data"
    }
   ],
   "source": [
    "scale_pred"
   ]
  },
  {
   "cell_type": "code",
   "execution_count": 67,
   "id": "b4a1d83d",
   "metadata": {},
   "outputs": [
    {
     "data": {
      "text/html": [
       "1817449.95771349"
      ],
      "text/latex": [
       "1817449.95771349"
      ],
      "text/markdown": [
       "1817449.95771349"
      ],
      "text/plain": [
       "[1] 1817450"
      ]
     },
     "metadata": {},
     "output_type": "display_data"
    }
   ],
   "source": [
    "# Calculate R Squared Error For Predictions\n",
    "sum((scale_pred-scale_test[,16])^2)"
   ]
  },
  {
   "cell_type": "code",
   "execution_count": 85,
   "id": "c94ebfb8",
   "metadata": {},
   "outputs": [
    {
     "data": {
      "text/html": [
       "348.085234553597"
      ],
      "text/latex": [
       "348.085234553597"
      ],
      "text/markdown": [
       "348.085234553597"
      ],
      "text/plain": [
       "[1] 348.0852"
      ]
     },
     "metadata": {},
     "output_type": "display_data"
    }
   ],
   "source": [
    "# Calculate Root Mean Squared Error For Predictions\n",
    "sqrt((sum((scale_pred-scale_test[,16])^2)/nrow(test)))"
   ]
  },
  {
   "cell_type": "markdown",
   "id": "a5444de2",
   "metadata": {},
   "source": [
    "The unscaled data also had a $RMSE$ score of 348.085234553597"
   ]
  },
  {
   "cell_type": "markdown",
   "id": "16035d9c",
   "metadata": {},
   "source": [
    "### 5. Predictions"
   ]
  },
  {
   "cell_type": "markdown",
   "id": "2ecf8ae3",
   "metadata": {},
   "source": [
    "M = 14.0 So = 0 Ed = 10.0 Po1 = 12.0 Po2 = 15.5 LF = 0.640 M.F = 94.0 Pop = 150 NW = 1.1 U1 = 0.120 U2 = 3.6 Wealth = 3200 Ineq = 20.1 Prob = 0.04 Time = 39.0"
   ]
  },
  {
   "cell_type": "code",
   "execution_count": 71,
   "id": "5fc23caa",
   "metadata": {},
   "outputs": [],
   "source": [
    "x <- c(14.0, 0, 10.0, 12.0, 15.5, 0.640, 94.0, 150, 1.1, 0.120, 3.6, 3200, 20.1, 0.04,39.0)"
   ]
  },
  {
   "cell_type": "code",
   "execution_count": 73,
   "id": "fac0e96a",
   "metadata": {},
   "outputs": [],
   "source": [
    "x<-list(\"M\" = 14.0, \"So\" = 0, \"Ed\" = 10.0, \"Po1\" = 12.0, \"Po2\" = 15.5, \"LF\" = 0.640, \"M.F\" = 94.0, \"Pop\" = 150, \"NW\" = 1.1, \"U1\" = 0.120, \"U2\" = 3.6, \"Wealth\" = 3200, \"Ineq\" = 20.1, \"Prob\" = 0.04, \"Time\" = 39.0)"
   ]
  },
  {
   "cell_type": "code",
   "execution_count": 76,
   "id": "7829d6c8",
   "metadata": {},
   "outputs": [],
   "source": [
    "crime_pred_scaled <- predict(model_scaled, x)"
   ]
  },
  {
   "cell_type": "code",
   "execution_count": 77,
   "id": "91317843",
   "metadata": {
    "scrolled": true
   },
   "outputs": [
    {
     "data": {
      "text/html": [
       "<strong>1:</strong> 209924.369411726"
      ],
      "text/latex": [
       "\\textbf{1:} 209924.369411726"
      ],
      "text/markdown": [
       "**1:** 209924.369411726"
      ],
      "text/plain": [
       "       1 \n",
       "209924.4 "
      ]
     },
     "metadata": {},
     "output_type": "display_data"
    }
   ],
   "source": [
    "crime_pred_scaled"
   ]
  },
  {
   "cell_type": "code",
   "execution_count": 78,
   "id": "7fe1c86c",
   "metadata": {},
   "outputs": [],
   "source": [
    "crime_pred<-predict(model,x)"
   ]
  },
  {
   "cell_type": "code",
   "execution_count": 79,
   "id": "de2d0f18",
   "metadata": {
    "scrolled": true
   },
   "outputs": [
    {
     "data": {
      "text/html": [
       "<strong>1:</strong> 603.326307807169"
      ],
      "text/latex": [
       "\\textbf{1:} 603.326307807169"
      ],
      "text/markdown": [
       "**1:** 603.326307807169"
      ],
      "text/plain": [
       "       1 \n",
       "603.3263 "
      ]
     },
     "metadata": {},
     "output_type": "display_data"
    }
   ],
   "source": [
    "crime_pred"
   ]
  },
  {
   "cell_type": "markdown",
   "id": "34c5ac61",
   "metadata": {},
   "source": [
    "---"
   ]
  },
  {
   "cell_type": "markdown",
   "id": "ecb7fa7d",
   "metadata": {},
   "source": [
    "#### The Model Coefficients"
   ]
  },
  {
   "cell_type": "code",
   "execution_count": 80,
   "id": "2f0cc3c8",
   "metadata": {},
   "outputs": [
    {
     "data": {
      "text/plain": [
       "\n",
       "Call:\n",
       "lm(formula = Crime ~ M + So + Ed + Po1 + Po2 + LF + M.F + Pop + \n",
       "    NW + U1 + U2 + Wealth + Ineq + Prob + Time, data = train)\n",
       "\n",
       "Coefficients:\n",
       "(Intercept)            M           So           Ed          Po1          Po2  \n",
       " -3.094e+03    1.218e+02    6.252e+01    1.158e+02    1.505e+02   -7.226e+01  \n",
       "         LF          M.F          Pop           NW           U1           U2  \n",
       "  1.427e+03   -1.846e+01   -2.043e+00    6.782e+00    1.492e+03    6.862e+01  \n",
       "     Wealth         Ineq         Prob         Time  \n",
       "  7.033e-02    4.973e+01   -4.958e+03   -4.693e+00  \n"
      ]
     },
     "metadata": {},
     "output_type": "display_data"
    }
   ],
   "source": [
    "model"
   ]
  },
  {
   "cell_type": "markdown",
   "id": "226a2246",
   "metadata": {},
   "source": [
    "#### Prediction of Crime Level\n",
    "\n",
    "I have to use the unscaled model to predict because the required input is unscaled.\n",
    "\n",
    "The predicted crime level is *603.326*."
   ]
  },
  {
   "cell_type": "markdown",
   "id": "3e0ecada",
   "metadata": {},
   "source": [
    "#### The Quality of Fit\n",
    "\n",
    "The $RMSE$ of the Model is 348.085234553597"
   ]
  },
  {
   "cell_type": "code",
   "execution_count": 82,
   "id": "7a96013a",
   "metadata": {},
   "outputs": [
    {
     "data": {
      "text/html": [
       "386.762697146186"
      ],
      "text/latex": [
       "386.762697146186"
      ],
      "text/markdown": [
       "386.762697146186"
      ],
      "text/plain": [
       "[1] 386.7627"
      ]
     },
     "metadata": {},
     "output_type": "display_data"
    }
   ],
   "source": [
    "sd(crime$Crime)"
   ]
  },
  {
   "cell_type": "code",
   "execution_count": 83,
   "id": "9e8b5d80",
   "metadata": {},
   "outputs": [
    {
     "data": {
      "text/plain": [
       "   Min. 1st Qu.  Median    Mean 3rd Qu.    Max. \n",
       "  342.0   658.5   831.0   905.1  1057.5  1993.0 "
      ]
     },
     "metadata": {},
     "output_type": "display_data"
    }
   ],
   "source": [
    "summary(crime$Crime)"
   ]
  },
  {
   "cell_type": "markdown",
   "id": "fb511eb7",
   "metadata": {},
   "source": [
    "The RMSE is similar to the data Standard Deviation, and the value of the RMSE is close to the minimum value of the data, which is a good sign.To make the fit better, I can also remove the coefficients with high P-Values."
   ]
  },
  {
   "cell_type": "markdown",
   "id": "e027c712",
   "metadata": {},
   "source": [
    "---"
   ]
  }
 ],
 "metadata": {
  "kernelspec": {
   "display_name": "R",
   "language": "R",
   "name": "ir"
  },
  "language_info": {
   "codemirror_mode": "r",
   "file_extension": ".r",
   "mimetype": "text/x-r-source",
   "name": "R",
   "pygments_lexer": "r",
   "version": "4.2.2"
  }
 },
 "nbformat": 4,
 "nbformat_minor": 5
}
