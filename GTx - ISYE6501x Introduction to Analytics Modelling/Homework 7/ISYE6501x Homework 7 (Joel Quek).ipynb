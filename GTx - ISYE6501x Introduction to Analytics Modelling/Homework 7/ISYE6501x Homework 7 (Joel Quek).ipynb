{
 "cells": [
  {
   "cell_type": "markdown",
   "id": "c01985eb",
   "metadata": {},
   "source": [
    "# ISYE6501x Homework 7\n",
    "\n",
    "Done By: Joel Quek"
   ]
  },
  {
   "cell_type": "markdown",
   "id": "fb22f71a",
   "metadata": {},
   "source": [
    "## Question 10.1\n",
    "\n",
    "Using the same crime data set uscrime.txt as in Questions 8.2 and 9.1, find the best model you can using\n",
    "\n",
    "(a) a regression tree model, and \n",
    "\n",
    "(b) a random forest model.\n",
    "\n",
    "In R, you can use the tree package or the rpart package, and the randomForest package. For each model,describe one or two qualitative takeaways you get from analyzing the results (i.e., don’t just stop when you have a good model, but interpret it too)."
   ]
  },
  {
   "cell_type": "markdown",
   "id": "c8b98f22",
   "metadata": {},
   "source": [
    "---"
   ]
  },
  {
   "cell_type": "markdown",
   "id": "53647f77",
   "metadata": {},
   "source": [
    "## Dataset and Libraries"
   ]
  },
  {
   "cell_type": "code",
   "execution_count": 1,
   "id": "d864db48",
   "metadata": {
    "collapsed": true
   },
   "outputs": [
    {
     "name": "stderr",
     "output_type": "stream",
     "text": [
      "Loading required package: tibble\n",
      "\n",
      "Loading required package: bitops\n",
      "\n",
      "Rattle: A free graphical interface for data science with R.\n",
      "Version 5.5.1 Copyright (c) 2006-2021 Togaware Pty Ltd.\n",
      "Type 'rattle()' to shake, rattle, and roll your data.\n",
      "\n",
      "Loading required package: ggplot2\n",
      "\n",
      "Loading required package: lattice\n",
      "\n",
      "randomForest 4.7-1.1\n",
      "\n",
      "Type rfNews() to see new features/changes/bug fixes.\n",
      "\n",
      "\n",
      "Attaching package: 'randomForest'\n",
      "\n",
      "\n",
      "The following object is masked from 'package:ggplot2':\n",
      "\n",
      "    margin\n",
      "\n",
      "\n",
      "The following object is masked from 'package:rattle':\n",
      "\n",
      "    importance\n",
      "\n",
      "\n"
     ]
    }
   ],
   "source": [
    "library(rpart)\n",
    "library(rpart.plot)\n",
    "library(tree)\n",
    "library(RColorBrewer)\n",
    "library(rattle)\n",
    "library(caret)\n",
    "library(randomForest)\n",
    "library(data.table)\n",
    "library(mltools)\n",
    "library(ggplot2)\n",
    "library(cowplot)"
   ]
  },
  {
   "cell_type": "code",
   "execution_count": 2,
   "id": "89570c5c",
   "metadata": {},
   "outputs": [],
   "source": [
    "crime <- read.table(\"uscrime.txt\", header=TRUE)"
   ]
  },
  {
   "cell_type": "code",
   "execution_count": 3,
   "id": "b72b5ddf",
   "metadata": {},
   "outputs": [
    {
     "data": {
      "text/html": [
       "<table class=\"dataframe\">\n",
       "<caption>A data.frame: 6 × 16</caption>\n",
       "<thead>\n",
       "\t<tr><th></th><th scope=col>M</th><th scope=col>So</th><th scope=col>Ed</th><th scope=col>Po1</th><th scope=col>Po2</th><th scope=col>LF</th><th scope=col>M.F</th><th scope=col>Pop</th><th scope=col>NW</th><th scope=col>U1</th><th scope=col>U2</th><th scope=col>Wealth</th><th scope=col>Ineq</th><th scope=col>Prob</th><th scope=col>Time</th><th scope=col>Crime</th></tr>\n",
       "\t<tr><th></th><th scope=col>&lt;dbl&gt;</th><th scope=col>&lt;int&gt;</th><th scope=col>&lt;dbl&gt;</th><th scope=col>&lt;dbl&gt;</th><th scope=col>&lt;dbl&gt;</th><th scope=col>&lt;dbl&gt;</th><th scope=col>&lt;dbl&gt;</th><th scope=col>&lt;int&gt;</th><th scope=col>&lt;dbl&gt;</th><th scope=col>&lt;dbl&gt;</th><th scope=col>&lt;dbl&gt;</th><th scope=col>&lt;int&gt;</th><th scope=col>&lt;dbl&gt;</th><th scope=col>&lt;dbl&gt;</th><th scope=col>&lt;dbl&gt;</th><th scope=col>&lt;int&gt;</th></tr>\n",
       "</thead>\n",
       "<tbody>\n",
       "\t<tr><th scope=row>1</th><td>15.1</td><td>1</td><td> 9.1</td><td> 5.8</td><td> 5.6</td><td>0.510</td><td> 95.0</td><td> 33</td><td>30.1</td><td>0.108</td><td>4.1</td><td>3940</td><td>26.1</td><td>0.084602</td><td>26.2011</td><td> 791</td></tr>\n",
       "\t<tr><th scope=row>2</th><td>14.3</td><td>0</td><td>11.3</td><td>10.3</td><td> 9.5</td><td>0.583</td><td>101.2</td><td> 13</td><td>10.2</td><td>0.096</td><td>3.6</td><td>5570</td><td>19.4</td><td>0.029599</td><td>25.2999</td><td>1635</td></tr>\n",
       "\t<tr><th scope=row>3</th><td>14.2</td><td>1</td><td> 8.9</td><td> 4.5</td><td> 4.4</td><td>0.533</td><td> 96.9</td><td> 18</td><td>21.9</td><td>0.094</td><td>3.3</td><td>3180</td><td>25.0</td><td>0.083401</td><td>24.3006</td><td> 578</td></tr>\n",
       "\t<tr><th scope=row>4</th><td>13.6</td><td>0</td><td>12.1</td><td>14.9</td><td>14.1</td><td>0.577</td><td> 99.4</td><td>157</td><td> 8.0</td><td>0.102</td><td>3.9</td><td>6730</td><td>16.7</td><td>0.015801</td><td>29.9012</td><td>1969</td></tr>\n",
       "\t<tr><th scope=row>5</th><td>14.1</td><td>0</td><td>12.1</td><td>10.9</td><td>10.1</td><td>0.591</td><td> 98.5</td><td> 18</td><td> 3.0</td><td>0.091</td><td>2.0</td><td>5780</td><td>17.4</td><td>0.041399</td><td>21.2998</td><td>1234</td></tr>\n",
       "\t<tr><th scope=row>6</th><td>12.1</td><td>0</td><td>11.0</td><td>11.8</td><td>11.5</td><td>0.547</td><td> 96.4</td><td> 25</td><td> 4.4</td><td>0.084</td><td>2.9</td><td>6890</td><td>12.6</td><td>0.034201</td><td>20.9995</td><td> 682</td></tr>\n",
       "</tbody>\n",
       "</table>\n"
      ],
      "text/latex": [
       "A data.frame: 6 × 16\n",
       "\\begin{tabular}{r|llllllllllllllll}\n",
       "  & M & So & Ed & Po1 & Po2 & LF & M.F & Pop & NW & U1 & U2 & Wealth & Ineq & Prob & Time & Crime\\\\\n",
       "  & <dbl> & <int> & <dbl> & <dbl> & <dbl> & <dbl> & <dbl> & <int> & <dbl> & <dbl> & <dbl> & <int> & <dbl> & <dbl> & <dbl> & <int>\\\\\n",
       "\\hline\n",
       "\t1 & 15.1 & 1 &  9.1 &  5.8 &  5.6 & 0.510 &  95.0 &  33 & 30.1 & 0.108 & 4.1 & 3940 & 26.1 & 0.084602 & 26.2011 &  791\\\\\n",
       "\t2 & 14.3 & 0 & 11.3 & 10.3 &  9.5 & 0.583 & 101.2 &  13 & 10.2 & 0.096 & 3.6 & 5570 & 19.4 & 0.029599 & 25.2999 & 1635\\\\\n",
       "\t3 & 14.2 & 1 &  8.9 &  4.5 &  4.4 & 0.533 &  96.9 &  18 & 21.9 & 0.094 & 3.3 & 3180 & 25.0 & 0.083401 & 24.3006 &  578\\\\\n",
       "\t4 & 13.6 & 0 & 12.1 & 14.9 & 14.1 & 0.577 &  99.4 & 157 &  8.0 & 0.102 & 3.9 & 6730 & 16.7 & 0.015801 & 29.9012 & 1969\\\\\n",
       "\t5 & 14.1 & 0 & 12.1 & 10.9 & 10.1 & 0.591 &  98.5 &  18 &  3.0 & 0.091 & 2.0 & 5780 & 17.4 & 0.041399 & 21.2998 & 1234\\\\\n",
       "\t6 & 12.1 & 0 & 11.0 & 11.8 & 11.5 & 0.547 &  96.4 &  25 &  4.4 & 0.084 & 2.9 & 6890 & 12.6 & 0.034201 & 20.9995 &  682\\\\\n",
       "\\end{tabular}\n"
      ],
      "text/markdown": [
       "\n",
       "A data.frame: 6 × 16\n",
       "\n",
       "| <!--/--> | M &lt;dbl&gt; | So &lt;int&gt; | Ed &lt;dbl&gt; | Po1 &lt;dbl&gt; | Po2 &lt;dbl&gt; | LF &lt;dbl&gt; | M.F &lt;dbl&gt; | Pop &lt;int&gt; | NW &lt;dbl&gt; | U1 &lt;dbl&gt; | U2 &lt;dbl&gt; | Wealth &lt;int&gt; | Ineq &lt;dbl&gt; | Prob &lt;dbl&gt; | Time &lt;dbl&gt; | Crime &lt;int&gt; |\n",
       "|---|---|---|---|---|---|---|---|---|---|---|---|---|---|---|---|---|\n",
       "| 1 | 15.1 | 1 |  9.1 |  5.8 |  5.6 | 0.510 |  95.0 |  33 | 30.1 | 0.108 | 4.1 | 3940 | 26.1 | 0.084602 | 26.2011 |  791 |\n",
       "| 2 | 14.3 | 0 | 11.3 | 10.3 |  9.5 | 0.583 | 101.2 |  13 | 10.2 | 0.096 | 3.6 | 5570 | 19.4 | 0.029599 | 25.2999 | 1635 |\n",
       "| 3 | 14.2 | 1 |  8.9 |  4.5 |  4.4 | 0.533 |  96.9 |  18 | 21.9 | 0.094 | 3.3 | 3180 | 25.0 | 0.083401 | 24.3006 |  578 |\n",
       "| 4 | 13.6 | 0 | 12.1 | 14.9 | 14.1 | 0.577 |  99.4 | 157 |  8.0 | 0.102 | 3.9 | 6730 | 16.7 | 0.015801 | 29.9012 | 1969 |\n",
       "| 5 | 14.1 | 0 | 12.1 | 10.9 | 10.1 | 0.591 |  98.5 |  18 |  3.0 | 0.091 | 2.0 | 5780 | 17.4 | 0.041399 | 21.2998 | 1234 |\n",
       "| 6 | 12.1 | 0 | 11.0 | 11.8 | 11.5 | 0.547 |  96.4 |  25 |  4.4 | 0.084 | 2.9 | 6890 | 12.6 | 0.034201 | 20.9995 |  682 |\n",
       "\n"
      ],
      "text/plain": [
       "  M    So Ed   Po1  Po2  LF    M.F   Pop NW   U1    U2  Wealth Ineq Prob    \n",
       "1 15.1 1   9.1  5.8  5.6 0.510  95.0  33 30.1 0.108 4.1 3940   26.1 0.084602\n",
       "2 14.3 0  11.3 10.3  9.5 0.583 101.2  13 10.2 0.096 3.6 5570   19.4 0.029599\n",
       "3 14.2 1   8.9  4.5  4.4 0.533  96.9  18 21.9 0.094 3.3 3180   25.0 0.083401\n",
       "4 13.6 0  12.1 14.9 14.1 0.577  99.4 157  8.0 0.102 3.9 6730   16.7 0.015801\n",
       "5 14.1 0  12.1 10.9 10.1 0.591  98.5  18  3.0 0.091 2.0 5780   17.4 0.041399\n",
       "6 12.1 0  11.0 11.8 11.5 0.547  96.4  25  4.4 0.084 2.9 6890   12.6 0.034201\n",
       "  Time    Crime\n",
       "1 26.2011  791 \n",
       "2 25.2999 1635 \n",
       "3 24.3006  578 \n",
       "4 29.9012 1969 \n",
       "5 21.2998 1234 \n",
       "6 20.9995  682 "
      ]
     },
     "metadata": {},
     "output_type": "display_data"
    }
   ],
   "source": [
    "head(crime)"
   ]
  },
  {
   "cell_type": "code",
   "execution_count": 4,
   "id": "4ec242ea",
   "metadata": {},
   "outputs": [
    {
     "data": {
      "text/plain": [
       "       M               So               Ed             Po1       \n",
       " Min.   :11.90   Min.   :0.0000   Min.   : 8.70   Min.   : 4.50  \n",
       " 1st Qu.:13.00   1st Qu.:0.0000   1st Qu.: 9.75   1st Qu.: 6.25  \n",
       " Median :13.60   Median :0.0000   Median :10.80   Median : 7.80  \n",
       " Mean   :13.86   Mean   :0.3404   Mean   :10.56   Mean   : 8.50  \n",
       " 3rd Qu.:14.60   3rd Qu.:1.0000   3rd Qu.:11.45   3rd Qu.:10.45  \n",
       " Max.   :17.70   Max.   :1.0000   Max.   :12.20   Max.   :16.60  \n",
       "      Po2               LF              M.F              Pop        \n",
       " Min.   : 4.100   Min.   :0.4800   Min.   : 93.40   Min.   :  3.00  \n",
       " 1st Qu.: 5.850   1st Qu.:0.5305   1st Qu.: 96.45   1st Qu.: 10.00  \n",
       " Median : 7.300   Median :0.5600   Median : 97.70   Median : 25.00  \n",
       " Mean   : 8.023   Mean   :0.5612   Mean   : 98.30   Mean   : 36.62  \n",
       " 3rd Qu.: 9.700   3rd Qu.:0.5930   3rd Qu.: 99.20   3rd Qu.: 41.50  \n",
       " Max.   :15.700   Max.   :0.6410   Max.   :107.10   Max.   :168.00  \n",
       "       NW              U1                U2            Wealth    \n",
       " Min.   : 0.20   Min.   :0.07000   Min.   :2.000   Min.   :2880  \n",
       " 1st Qu.: 2.40   1st Qu.:0.08050   1st Qu.:2.750   1st Qu.:4595  \n",
       " Median : 7.60   Median :0.09200   Median :3.400   Median :5370  \n",
       " Mean   :10.11   Mean   :0.09547   Mean   :3.398   Mean   :5254  \n",
       " 3rd Qu.:13.25   3rd Qu.:0.10400   3rd Qu.:3.850   3rd Qu.:5915  \n",
       " Max.   :42.30   Max.   :0.14200   Max.   :5.800   Max.   :6890  \n",
       "      Ineq            Prob              Time           Crime       \n",
       " Min.   :12.60   Min.   :0.00690   Min.   :12.20   Min.   : 342.0  \n",
       " 1st Qu.:16.55   1st Qu.:0.03270   1st Qu.:21.60   1st Qu.: 658.5  \n",
       " Median :17.60   Median :0.04210   Median :25.80   Median : 831.0  \n",
       " Mean   :19.40   Mean   :0.04709   Mean   :26.60   Mean   : 905.1  \n",
       " 3rd Qu.:22.75   3rd Qu.:0.05445   3rd Qu.:30.45   3rd Qu.:1057.5  \n",
       " Max.   :27.60   Max.   :0.11980   Max.   :44.00   Max.   :1993.0  "
      ]
     },
     "metadata": {},
     "output_type": "display_data"
    }
   ],
   "source": [
    "summary(crime)"
   ]
  },
  {
   "cell_type": "markdown",
   "id": "9faf6641",
   "metadata": {},
   "source": [
    "## Regression Tree\n",
    "\n",
    "Source: https://www.pluralsight.com/guides/explore-r-libraries:-rpart"
   ]
  },
  {
   "cell_type": "code",
   "execution_count": 5,
   "id": "0e1f4c08",
   "metadata": {
    "scrolled": false
   },
   "outputs": [
    {
     "name": "stdout",
     "output_type": "stream",
     "text": [
      "Call:\n",
      "rpart(formula = Crime ~ ., data = crime, method = \"anova\")\n",
      "  n= 47 \n",
      "\n",
      "          CP nsplit rel error    xerror      xstd\n",
      "1 0.36296293      0 1.0000000 1.0303899 0.2549076\n",
      "2 0.14814320      1 0.6370371 0.8900680 0.2149365\n",
      "3 0.05173165      2 0.4888939 0.9096979 0.2393384\n",
      "4 0.01000000      3 0.4371622 0.8893049 0.2346618\n",
      "\n",
      "Variable importance\n",
      "   Po1    Po2 Wealth   Ineq   Prob      M     NW    Pop   Time     Ed     LF \n",
      "    17     17     11     11     10     10      9      5      4      4      1 \n",
      "    So \n",
      "     1 \n",
      "\n",
      "Node number 1: 47 observations,    complexity param=0.3629629\n",
      "  mean=905.0851, MSE=146402.7 \n",
      "  left son=2 (23 obs) right son=3 (24 obs)\n",
      "  Primary splits:\n",
      "      Po1    < 7.65      to the left,  improve=0.3629629, (0 missing)\n",
      "      Po2    < 7.2       to the left,  improve=0.3629629, (0 missing)\n",
      "      Prob   < 0.0418485 to the right, improve=0.3217700, (0 missing)\n",
      "      NW     < 7.65      to the left,  improve=0.2356621, (0 missing)\n",
      "      Wealth < 6240      to the left,  improve=0.2002403, (0 missing)\n",
      "  Surrogate splits:\n",
      "      Po2    < 7.2       to the left,  agree=1.000, adj=1.000, (0 split)\n",
      "      Wealth < 5330      to the left,  agree=0.830, adj=0.652, (0 split)\n",
      "      Prob   < 0.043598  to the right, agree=0.809, adj=0.609, (0 split)\n",
      "      M      < 13.25     to the right, agree=0.745, adj=0.478, (0 split)\n",
      "      Ineq   < 17.15     to the right, agree=0.745, adj=0.478, (0 split)\n",
      "\n",
      "Node number 2: 23 observations,    complexity param=0.05173165\n",
      "  mean=669.6087, MSE=33880.15 \n",
      "  left son=4 (12 obs) right son=5 (11 obs)\n",
      "  Primary splits:\n",
      "      Pop < 22.5      to the left,  improve=0.4568043, (0 missing)\n",
      "      M   < 14.5      to the left,  improve=0.3931567, (0 missing)\n",
      "      NW  < 5.4       to the left,  improve=0.3184074, (0 missing)\n",
      "      Po1 < 5.75      to the left,  improve=0.2310098, (0 missing)\n",
      "      U1  < 0.093     to the right, improve=0.2119062, (0 missing)\n",
      "  Surrogate splits:\n",
      "      NW   < 5.4       to the left,  agree=0.826, adj=0.636, (0 split)\n",
      "      M    < 14.5      to the left,  agree=0.783, adj=0.545, (0 split)\n",
      "      Time < 22.30055  to the left,  agree=0.783, adj=0.545, (0 split)\n",
      "      So   < 0.5       to the left,  agree=0.739, adj=0.455, (0 split)\n",
      "      Ed   < 10.85     to the right, agree=0.739, adj=0.455, (0 split)\n",
      "\n",
      "Node number 3: 24 observations,    complexity param=0.1481432\n",
      "  mean=1130.75, MSE=150173.4 \n",
      "  left son=6 (10 obs) right son=7 (14 obs)\n",
      "  Primary splits:\n",
      "      NW   < 7.65      to the left,  improve=0.2828293, (0 missing)\n",
      "      M    < 13.05     to the left,  improve=0.2714159, (0 missing)\n",
      "      Time < 21.9001   to the left,  improve=0.2060170, (0 missing)\n",
      "      M.F  < 99.2      to the left,  improve=0.1703438, (0 missing)\n",
      "      Po1  < 10.75     to the left,  improve=0.1659433, (0 missing)\n",
      "  Surrogate splits:\n",
      "      Ed   < 11.45     to the right, agree=0.750, adj=0.4, (0 split)\n",
      "      Ineq < 16.25     to the left,  agree=0.750, adj=0.4, (0 split)\n",
      "      Time < 21.9001   to the left,  agree=0.750, adj=0.4, (0 split)\n",
      "      Pop  < 30        to the left,  agree=0.708, adj=0.3, (0 split)\n",
      "      LF   < 0.5885    to the right, agree=0.667, adj=0.2, (0 split)\n",
      "\n",
      "Node number 4: 12 observations\n",
      "  mean=550.5, MSE=20317.58 \n",
      "\n",
      "Node number 5: 11 observations\n",
      "  mean=799.5455, MSE=16315.52 \n",
      "\n",
      "Node number 6: 10 observations\n",
      "  mean=886.9, MSE=55757.49 \n",
      "\n",
      "Node number 7: 14 observations\n",
      "  mean=1304.929, MSE=144801.8 \n",
      "\n"
     ]
    }
   ],
   "source": [
    "set.seed(1)\n",
    "\n",
    "tree_model<- rpart(Crime~ ., data = crime,method=\"anova\" )\n",
    "\n",
    "summary(tree_model)"
   ]
  },
  {
   "cell_type": "markdown",
   "id": "4c9a4be9",
   "metadata": {},
   "source": [
    "### Regression Tree Plot\n",
    "\n",
    "Source: https://discuss.analyticsvidhya.com/t/what-are-the-packages-required-to-plot-a-fancy-rpart-plot-in-r/6776/2"
   ]
  },
  {
   "cell_type": "code",
   "execution_count": 6,
   "id": "f21a4493",
   "metadata": {},
   "outputs": [
    {
     "data": {
      "image/png": "[encoded data removed]",
      "text/plain": [
       "Plot with title \"\""
      ]
     },
     "metadata": {
      "image/png": {
       "height": 420,
       "width": 420
      }
     },
     "output_type": "display_data"
    }
   ],
   "source": [
    "fancyRpartPlot(tree_model)\n",
    "# rpart.plot(tree_model) also works"
   ]
  },
  {
   "cell_type": "markdown",
   "id": "facd3414",
   "metadata": {},
   "source": [
    "From the Regression Tree only three variables are used \n",
    "1. Po1\n",
    "2. Pop\n",
    "3. NW"
   ]
  },
  {
   "cell_type": "markdown",
   "id": "8734a17b",
   "metadata": {},
   "source": [
    "### Variable Importance"
   ]
  },
  {
   "cell_type": "code",
   "execution_count": 7,
   "id": "dd83eba2",
   "metadata": {},
   "outputs": [
    {
     "data": {
      "text/html": [
       "<style>\n",
       ".dl-inline {width: auto; margin:0; padding: 0}\n",
       ".dl-inline>dt, .dl-inline>dd {float: none; width: auto; display: inline-block}\n",
       ".dl-inline>dt::after {content: \":\\0020\"; padding-right: .5ex}\n",
       ".dl-inline>dt:not(:first-of-type) {padding-left: .5ex}\n",
       "</style><dl class=dl-inline><dt>Po1</dt><dd>2497521.6813136</dd><dt>Po2</dt><dd>2497521.6813136</dd><dt>Wealth</dt><dd>1628818.48781322</dd><dt>Ineq</dt><dd>1602211.95963445</dd><dt>Prob</dt><dd>1520230.58862567</dd><dt>M</dt><dd>1388627.84614747</dd><dt>NW</dt><dd>1245883.78569375</dd><dt>Pop</dt><dd>661770.552416714</dd><dt>Time</dt><dd>601906.02365587</dd><dt>Ed</dt><dd>569545.86447513</dd><dt>LF</dt><dd>203872.534285714</dd><dt>So</dt><dd>161800.795903701</dd></dl>\n"
      ],
      "text/latex": [
       "\\begin{description*}\n",
       "\\item[Po1] 2497521.6813136\n",
       "\\item[Po2] 2497521.6813136\n",
       "\\item[Wealth] 1628818.48781322\n",
       "\\item[Ineq] 1602211.95963445\n",
       "\\item[Prob] 1520230.58862567\n",
       "\\item[M] 1388627.84614747\n",
       "\\item[NW] 1245883.78569375\n",
       "\\item[Pop] 661770.552416714\n",
       "\\item[Time] 601906.02365587\n",
       "\\item[Ed] 569545.86447513\n",
       "\\item[LF] 203872.534285714\n",
       "\\item[So] 161800.795903701\n",
       "\\end{description*}\n"
      ],
      "text/markdown": [
       "Po1\n",
       ":   2497521.6813136Po2\n",
       ":   2497521.6813136Wealth\n",
       ":   1628818.48781322Ineq\n",
       ":   1602211.95963445Prob\n",
       ":   1520230.58862567M\n",
       ":   1388627.84614747NW\n",
       ":   1245883.78569375Pop\n",
       ":   661770.552416714Time\n",
       ":   601906.02365587Ed\n",
       ":   569545.86447513LF\n",
       ":   203872.534285714So\n",
       ":   161800.795903701\n",
       "\n"
      ],
      "text/plain": [
       "      Po1       Po2    Wealth      Ineq      Prob         M        NW       Pop \n",
       "2497521.7 2497521.7 1628818.5 1602212.0 1520230.6 1388627.8 1245883.8  661770.6 \n",
       "     Time        Ed        LF        So \n",
       " 601906.0  569545.9  203872.5  161800.8 "
      ]
     },
     "metadata": {},
     "output_type": "display_data"
    }
   ],
   "source": [
    "tree_model$variable.importance"
   ]
  },
  {
   "cell_type": "markdown",
   "id": "68547004",
   "metadata": {},
   "source": [
    "Variable importance is determined by calculating the relative influence of each variable: whether that variable was selected to split on during the tree building process, and how much the squared error (over all trees) improved (decreased) as a result.\n",
    "\n",
    "Source: https://h2o-release.s3.amazonaws.com/h2o/rel-yau/3/docs-website/h2o-docs/variable-importance.html#:~:text=Variable%20importance%20is%20determined%20by,(decreased)%20as%20a%20result."
   ]
  },
  {
   "cell_type": "markdown",
   "id": "7f9e525d",
   "metadata": {},
   "source": [
    "### Model Evaluation\n",
    "\n",
    "Source (Regression): https://medium.com/nerd-for-tech/implementing-decision-trees-in-r-regression-problem-using-rpart-c74cbd9e0b7b\n",
    "\n",
    "Source (Classification): https://www.pluralsight.com/guides/explore-r-libraries:-rpart"
   ]
  },
  {
   "cell_type": "code",
   "execution_count": 8,
   "id": "bf97b89d",
   "metadata": {},
   "outputs": [
    {
     "data": {
      "text/html": [
       "<style>\n",
       ".list-inline {list-style: none; margin:0; padding: 0}\n",
       ".list-inline>li {display: inline-block}\n",
       ".list-inline>li:not(:last-child)::after {content: \"\\00b7\"; padding: 0 .5ex}\n",
       "</style>\n",
       "<ol class=list-inline><li>35</li><li>16</li></ol>\n"
      ],
      "text/latex": [
       "\\begin{enumerate*}\n",
       "\\item 35\n",
       "\\item 16\n",
       "\\end{enumerate*}\n"
      ],
      "text/markdown": [
       "1. 35\n",
       "2. 16\n",
       "\n",
       "\n"
      ],
      "text/plain": [
       "[1] 35 16"
      ]
     },
     "metadata": {},
     "output_type": "display_data"
    },
    {
     "data": {
      "text/html": [
       "<style>\n",
       ".list-inline {list-style: none; margin:0; padding: 0}\n",
       ".list-inline>li {display: inline-block}\n",
       ".list-inline>li:not(:last-child)::after {content: \"\\00b7\"; padding: 0 .5ex}\n",
       "</style>\n",
       "<ol class=list-inline><li>12</li><li>16</li></ol>\n"
      ],
      "text/latex": [
       "\\begin{enumerate*}\n",
       "\\item 12\n",
       "\\item 16\n",
       "\\end{enumerate*}\n"
      ],
      "text/markdown": [
       "1. 12\n",
       "2. 16\n",
       "\n",
       "\n"
      ],
      "text/plain": [
       "[1] 12 16"
      ]
     },
     "metadata": {},
     "output_type": "display_data"
    }
   ],
   "source": [
    "set.seed(100)\n",
    "trainRowNumbers <- createDataPartition(crime$Crime, p=0.7, list=FALSE)\n",
    "train <- crime[trainRowNumbers,]\n",
    "test <- crime[-trainRowNumbers,]\n",
    "dim(train); dim(test) "
   ]
  },
  {
   "cell_type": "code",
   "execution_count": 9,
   "id": "e91ca100",
   "metadata": {},
   "outputs": [],
   "source": [
    "PredictCART_train = predict(tree_model, data = test, type=\"vector\")"
   ]
  },
  {
   "cell_type": "code",
   "execution_count": 10,
   "id": "6933879c",
   "metadata": {},
   "outputs": [
    {
     "name": "stderr",
     "output_type": "stream",
     "text": [
      "Warning message in actual - pred:\n",
      "\"longer object length is not a multiple of shorter object length\"\n"
     ]
    },
    {
     "data": {
      "text/html": [
       "356.986791931473"
      ],
      "text/latex": [
       "356.986791931473"
      ],
      "text/markdown": [
       "356.986791931473"
      ],
      "text/plain": [
       "[1] 356.9868"
      ]
     },
     "metadata": {},
     "output_type": "display_data"
    }
   ],
   "source": [
    "MAE <- function(actual,pred) {mean(abs(actual-pred))}\n",
    "\n",
    "MAE(test$Crime,PredictCART_train)"
   ]
  },
  {
   "cell_type": "code",
   "execution_count": 11,
   "id": "48d6a734",
   "metadata": {},
   "outputs": [
    {
     "data": {
      "text/html": [
       "65045.3652938944"
      ],
      "text/latex": [
       "65045.3652938944"
      ],
      "text/markdown": [
       "65045.3652938944"
      ],
      "text/plain": [
       "[1] 65045.37"
      ]
     },
     "metadata": {},
     "output_type": "display_data"
    }
   ],
   "source": [
    "y1 <- predict(tree_model, test)\n",
    "MSE1 <- mean((y1-test$Crime)^2)\n",
    "MSE1"
   ]
  },
  {
   "cell_type": "markdown",
   "id": "fa49e6bd",
   "metadata": {},
   "source": [
    "### Regression Tree Complexity Parameter"
   ]
  },
  {
   "cell_type": "code",
   "execution_count": 12,
   "id": "d79e9aad",
   "metadata": {},
   "outputs": [
    {
     "name": "stdout",
     "output_type": "stream",
     "text": [
      "\n",
      "Regression tree:\n",
      "rpart(formula = Crime ~ ., data = crime, method = \"anova\")\n",
      "\n",
      "Variables actually used in tree construction:\n",
      "[1] NW  Po1 Pop\n",
      "\n",
      "Root node error: 6880928/47 = 146403\n",
      "\n",
      "n= 47 \n",
      "\n",
      "        CP nsplit rel error  xerror    xstd\n",
      "1 0.362963      0   1.00000 1.03039 0.25491\n",
      "2 0.148143      1   0.63704 0.89007 0.21494\n",
      "3 0.051732      2   0.48889 0.90970 0.23934\n",
      "4 0.010000      3   0.43716 0.88930 0.23466\n"
     ]
    },
    {
     "data": {
      "image/png": "[encoded data removed]",
      "text/plain": [
       "plot without title"
      ]
     },
     "metadata": {
      "image/png": {
       "height": 420,
       "width": 420
      }
     },
     "output_type": "display_data"
    }
   ],
   "source": [
    "printcp(tree_model)\n",
    "\n",
    "plotcp(tree_model)"
   ]
  },
  {
   "cell_type": "markdown",
   "id": "8a2f5095",
   "metadata": {},
   "source": [
    "### Pruning the Tree"
   ]
  },
  {
   "cell_type": "code",
   "execution_count": 13,
   "id": "4d42f708",
   "metadata": {},
   "outputs": [
    {
     "data": {
      "image/png": "[encoded data removed]",
      "text/plain": [
       "plot without title"
      ]
     },
     "metadata": {
      "image/png": {
       "height": 420,
       "width": 420
      }
     },
     "output_type": "display_data"
    }
   ],
   "source": [
    "pruned_model <- prune.rpart(tree_model,cp=0.10) # adjust the cp parameter to get different models\n",
    "\n",
    "plot(pruned_model)\n",
    "\n",
    "text(pruned_model)\n",
    "\n",
    "#fancyRpartPlot(tree_model)"
   ]
  },
  {
   "cell_type": "markdown",
   "id": "37af25fa",
   "metadata": {},
   "source": [
    "### Test the Pruned Model"
   ]
  },
  {
   "cell_type": "code",
   "execution_count": 14,
   "id": "396752ea",
   "metadata": {},
   "outputs": [],
   "source": [
    "y2 <- predict(pruned_model, test)"
   ]
  },
  {
   "cell_type": "code",
   "execution_count": 15,
   "id": "90c5c83a",
   "metadata": {},
   "outputs": [
    {
     "data": {
      "image/png": "[encoded data removed]",
      "text/plain": [
       "plot without title"
      ]
     },
     "metadata": {
      "image/png": {
       "height": 420,
       "width": 420
      }
     },
     "output_type": "display_data"
    }
   ],
   "source": [
    "plot(y2, test$Crime)\n",
    "\n",
    "abline(0,1)"
   ]
  },
  {
   "cell_type": "code",
   "execution_count": 16,
   "id": "fa309d06",
   "metadata": {},
   "outputs": [
    {
     "data": {
      "text/html": [
       "72477.785708081"
      ],
      "text/latex": [
       "72477.785708081"
      ],
      "text/markdown": [
       "72477.785708081"
      ],
      "text/plain": [
       "[1] 72477.79"
      ]
     },
     "metadata": {},
     "output_type": "display_data"
    }
   ],
   "source": [
    "MSE2 <- mean((y2-test$Crime)^2)\n",
    "MSE2"
   ]
  },
  {
   "cell_type": "markdown",
   "id": "4fcece5a",
   "metadata": {},
   "source": [
    "The MSE is worse for the pruned tree"
   ]
  },
  {
   "cell_type": "markdown",
   "id": "37ab73a8",
   "metadata": {},
   "source": [
    "### Regression Equations at the Leaves"
   ]
  },
  {
   "cell_type": "code",
   "execution_count": 17,
   "id": "152d79b6",
   "metadata": {},
   "outputs": [
    {
     "data": {
      "text/html": [
       "<style>\n",
       ".list-inline {list-style: none; margin:0; padding: 0}\n",
       ".list-inline>li {display: inline-block}\n",
       ".list-inline>li:not(:last-child)::after {content: \"\\00b7\"; padding: 0 .5ex}\n",
       "</style>\n",
       "<ol class=list-inline><li>2</li><li>5</li><li>2</li><li>5</li><li>4</li><li>4</li><li>5</li><li>5</li><li>2</li><li>2</li><li>5</li><li>2</li><li>2</li><li>2</li><li>2</li><li>5</li><li>2</li><li>5</li><li>4</li><li>5</li><li>2</li><li>2</li><li>5</li><li>4</li><li>2</li><li>5</li><li>2</li><li>5</li><li>5</li><li>2</li><li>2</li><li>5</li><li>2</li><li>4</li><li>4</li><li>4</li><li>2</li><li>2</li><li>2</li><li>5</li><li>2</li><li>2</li><li>2</li><li>4</li><li>2</li><li>4</li><li>4</li></ol>\n"
      ],
      "text/latex": [
       "\\begin{enumerate*}\n",
       "\\item 2\n",
       "\\item 5\n",
       "\\item 2\n",
       "\\item 5\n",
       "\\item 4\n",
       "\\item 4\n",
       "\\item 5\n",
       "\\item 5\n",
       "\\item 2\n",
       "\\item 2\n",
       "\\item 5\n",
       "\\item 2\n",
       "\\item 2\n",
       "\\item 2\n",
       "\\item 2\n",
       "\\item 5\n",
       "\\item 2\n",
       "\\item 5\n",
       "\\item 4\n",
       "\\item 5\n",
       "\\item 2\n",
       "\\item 2\n",
       "\\item 5\n",
       "\\item 4\n",
       "\\item 2\n",
       "\\item 5\n",
       "\\item 2\n",
       "\\item 5\n",
       "\\item 5\n",
       "\\item 2\n",
       "\\item 2\n",
       "\\item 5\n",
       "\\item 2\n",
       "\\item 4\n",
       "\\item 4\n",
       "\\item 4\n",
       "\\item 2\n",
       "\\item 2\n",
       "\\item 2\n",
       "\\item 5\n",
       "\\item 2\n",
       "\\item 2\n",
       "\\item 2\n",
       "\\item 4\n",
       "\\item 2\n",
       "\\item 4\n",
       "\\item 4\n",
       "\\end{enumerate*}\n"
      ],
      "text/markdown": [
       "1. 2\n",
       "2. 5\n",
       "3. 2\n",
       "4. 5\n",
       "5. 4\n",
       "6. 4\n",
       "7. 5\n",
       "8. 5\n",
       "9. 2\n",
       "10. 2\n",
       "11. 5\n",
       "12. 2\n",
       "13. 2\n",
       "14. 2\n",
       "15. 2\n",
       "16. 5\n",
       "17. 2\n",
       "18. 5\n",
       "19. 4\n",
       "20. 5\n",
       "21. 2\n",
       "22. 2\n",
       "23. 5\n",
       "24. 4\n",
       "25. 2\n",
       "26. 5\n",
       "27. 2\n",
       "28. 5\n",
       "29. 5\n",
       "30. 2\n",
       "31. 2\n",
       "32. 5\n",
       "33. 2\n",
       "34. 4\n",
       "35. 4\n",
       "36. 4\n",
       "37. 2\n",
       "38. 2\n",
       "39. 2\n",
       "40. 5\n",
       "41. 2\n",
       "42. 2\n",
       "43. 2\n",
       "44. 4\n",
       "45. 2\n",
       "46. 4\n",
       "47. 4\n",
       "\n",
       "\n"
      ],
      "text/plain": [
       " [1] 2 5 2 5 4 4 5 5 2 2 5 2 2 2 2 5 2 5 4 5 2 2 5 4 2 5 2 5 5 2 2 5 2 4 4 4 2 2\n",
       "[39] 2 5 2 2 2 4 2 4 4"
      ]
     },
     "metadata": {},
     "output_type": "display_data"
    }
   ],
   "source": [
    "pruned_model$where"
   ]
  },
  {
   "cell_type": "code",
   "execution_count": 18,
   "id": "9d31a491",
   "metadata": {},
   "outputs": [],
   "source": [
    "leaf4 <-crime[which(pruned_model$where==4),]\n",
    "\n",
    "leaf5 <-crime[which(pruned_model$where==5),]\n",
    "\n",
    "leaf2 <-crime[which(pruned_model$where==2),]\n",
    "\n",
    "#leaf6 <-crime[which(pruned_model$where==6),]"
   ]
  },
  {
   "cell_type": "code",
   "execution_count": 19,
   "id": "9f74bc57",
   "metadata": {},
   "outputs": [
    {
     "data": {
      "text/plain": [
       "\n",
       "Call:\n",
       "lm(formula = Crime ~ ., data = leaf4)\n",
       "\n",
       "Coefficients:\n",
       "(Intercept)            M           So           Ed          Po1          Po2  \n",
       "   32527.85       258.27           NA       -46.38     -1168.92       612.42  \n",
       "         LF          M.F          Pop           NW           U1           U2  \n",
       "   16612.42      -384.45       -18.22       124.13      2064.68           NA  \n",
       "     Wealth         Ineq         Prob         Time  \n",
       "         NA           NA           NA           NA  \n"
      ]
     },
     "metadata": {},
     "output_type": "display_data"
    }
   ],
   "source": [
    "model_leaf4<-lm(Crime~., data=leaf4)\n",
    "model_leaf4\n",
    "#summary(leaf4)"
   ]
  },
  {
   "cell_type": "code",
   "execution_count": 20,
   "id": "71115cfd",
   "metadata": {},
   "outputs": [
    {
     "data": {
      "text/plain": [
       "\n",
       "Call:\n",
       "lm(formula = Crime ~ ., data = leaf5)\n",
       "\n",
       "Coefficients:\n",
       "(Intercept)            M           So           Ed          Po1          Po2  \n",
       " -1.381e+04    8.012e+01   -2.827e+02    2.663e+02   -2.943e+02    3.571e+02  \n",
       "         LF          M.F          Pop           NW           U1           U2  \n",
       " -1.648e+03    8.738e+01    1.154e+00    8.841e+00   -3.265e+04    5.783e+02  \n",
       "     Wealth         Ineq         Prob         Time  \n",
       "  2.416e-01    1.367e+02           NA           NA  \n"
      ]
     },
     "metadata": {},
     "output_type": "display_data"
    }
   ],
   "source": [
    "model_leaf5<-lm(Crime~., data=leaf5)\n",
    "model_leaf5\n",
    "#summary(leaf7)"
   ]
  },
  {
   "cell_type": "code",
   "execution_count": 21,
   "id": "73a4aad5",
   "metadata": {},
   "outputs": [
    {
     "data": {
      "text/plain": [
       "\n",
       "Call:\n",
       "lm(formula = Crime ~ ., data = leaf2)\n",
       "\n",
       "Coefficients:\n",
       "(Intercept)            M           So           Ed          Po1          Po2  \n",
       "   -48.5477      45.8622     380.4815     187.9074      -3.5138      44.6382  \n",
       "         LF          M.F          Pop           NW           U1           U2  \n",
       "  1059.3652     -22.5521      10.6413       0.1010    4878.2802      -5.5126  \n",
       "     Wealth         Ineq         Prob         Time  \n",
       "    -0.1022       4.7779   -7317.4407     -20.0603  \n"
      ]
     },
     "metadata": {},
     "output_type": "display_data"
    }
   ],
   "source": [
    "model_leaf2<-lm(Crime~., data=leaf2)\n",
    "model_leaf2\n",
    "#summary(leaf6)"
   ]
  },
  {
   "cell_type": "markdown",
   "id": "79ef2e3a",
   "metadata": {},
   "source": [
    "### Observations\n",
    "\n",
    "It appears that the R library produced the model with the lowest MSE."
   ]
  },
  {
   "cell_type": "markdown",
   "id": "d8335a9b",
   "metadata": {},
   "source": [
    "---"
   ]
  },
  {
   "cell_type": "markdown",
   "id": "0bf6e908",
   "metadata": {},
   "source": [
    "## Random Forest Model"
   ]
  },
  {
   "cell_type": "markdown",
   "id": "d68ec5d2",
   "metadata": {},
   "source": [
    "Source (Stat Quest): https://www.youtube.com/watch?v=6EXPYzbfLCE"
   ]
  },
  {
   "cell_type": "code",
   "execution_count": 22,
   "id": "e7b404b1",
   "metadata": {},
   "outputs": [
    {
     "name": "stdout",
     "output_type": "stream",
     "text": [
      "\n",
      "Call:\n",
      " randomForest(formula = Crime ~ ., data = crime, keep.forest = T,      importance = TRUE, class = ) \n",
      "               Type of random forest: regression\n",
      "                     Number of trees: 500\n",
      "No. of variables tried at each split: 5\n",
      "\n",
      "          Mean of squared residuals: 87407.26\n",
      "                    % Var explained: 40.3\n"
     ]
    }
   ],
   "source": [
    "set.seed(1)\n",
    "forest_model <- randomForest(Crime ~. , data=crime,keep.forest=T, importance=TRUE,class=)\n",
    "print(forest_model ) "
   ]
  },
  {
   "cell_type": "markdown",
   "id": "fac8628a",
   "metadata": {},
   "source": [
    "### Variable Importance"
   ]
  },
  {
   "cell_type": "code",
   "execution_count": 23,
   "id": "d3c71c50",
   "metadata": {},
   "outputs": [
    {
     "data": {
      "text/html": [
       "<table class=\"dataframe\">\n",
       "<caption>A matrix: 15 × 2 of type dbl</caption>\n",
       "<thead>\n",
       "\t<tr><th></th><th scope=col>%IncMSE</th><th scope=col>IncNodePurity</th></tr>\n",
       "</thead>\n",
       "<tbody>\n",
       "\t<tr><th scope=row>M</th><td> 2.3965203</td><td> 228719.50</td></tr>\n",
       "\t<tr><th scope=row>So</th><td> 2.6589225</td><td>  23456.11</td></tr>\n",
       "\t<tr><th scope=row>Ed</th><td> 3.7141435</td><td> 213283.48</td></tr>\n",
       "\t<tr><th scope=row>Po1</th><td>12.4862109</td><td>1095484.85</td></tr>\n",
       "\t<tr><th scope=row>Po2</th><td>11.0894307</td><td>1197840.76</td></tr>\n",
       "\t<tr><th scope=row>LF</th><td> 3.1325318</td><td> 270248.43</td></tr>\n",
       "\t<tr><th scope=row>M.F</th><td> 1.7951798</td><td> 232785.09</td></tr>\n",
       "\t<tr><th scope=row>Pop</th><td> 0.7784942</td><td> 343523.34</td></tr>\n",
       "\t<tr><th scope=row>NW</th><td> 9.5782376</td><td> 520590.05</td></tr>\n",
       "\t<tr><th scope=row>U1</th><td>-1.9438082</td><td> 133339.11</td></tr>\n",
       "\t<tr><th scope=row>U2</th><td> 1.9167880</td><td> 162803.16</td></tr>\n",
       "\t<tr><th scope=row>Wealth</th><td> 2.6613199</td><td> 654055.84</td></tr>\n",
       "\t<tr><th scope=row>Ineq</th><td> 1.6040415</td><td> 208959.89</td></tr>\n",
       "\t<tr><th scope=row>Prob</th><td> 8.3155853</td><td> 743181.12</td></tr>\n",
       "\t<tr><th scope=row>Time</th><td> 0.7126839</td><td> 231615.22</td></tr>\n",
       "</tbody>\n",
       "</table>\n"
      ],
      "text/latex": [
       "A matrix: 15 × 2 of type dbl\n",
       "\\begin{tabular}{r|ll}\n",
       "  & \\%IncMSE & IncNodePurity\\\\\n",
       "\\hline\n",
       "\tM &  2.3965203 &  228719.50\\\\\n",
       "\tSo &  2.6589225 &   23456.11\\\\\n",
       "\tEd &  3.7141435 &  213283.48\\\\\n",
       "\tPo1 & 12.4862109 & 1095484.85\\\\\n",
       "\tPo2 & 11.0894307 & 1197840.76\\\\\n",
       "\tLF &  3.1325318 &  270248.43\\\\\n",
       "\tM.F &  1.7951798 &  232785.09\\\\\n",
       "\tPop &  0.7784942 &  343523.34\\\\\n",
       "\tNW &  9.5782376 &  520590.05\\\\\n",
       "\tU1 & -1.9438082 &  133339.11\\\\\n",
       "\tU2 &  1.9167880 &  162803.16\\\\\n",
       "\tWealth &  2.6613199 &  654055.84\\\\\n",
       "\tIneq &  1.6040415 &  208959.89\\\\\n",
       "\tProb &  8.3155853 &  743181.12\\\\\n",
       "\tTime &  0.7126839 &  231615.22\\\\\n",
       "\\end{tabular}\n"
      ],
      "text/markdown": [
       "\n",
       "A matrix: 15 × 2 of type dbl\n",
       "\n",
       "| <!--/--> | %IncMSE | IncNodePurity |\n",
       "|---|---|---|\n",
       "| M |  2.3965203 |  228719.50 |\n",
       "| So |  2.6589225 |   23456.11 |\n",
       "| Ed |  3.7141435 |  213283.48 |\n",
       "| Po1 | 12.4862109 | 1095484.85 |\n",
       "| Po2 | 11.0894307 | 1197840.76 |\n",
       "| LF |  3.1325318 |  270248.43 |\n",
       "| M.F |  1.7951798 |  232785.09 |\n",
       "| Pop |  0.7784942 |  343523.34 |\n",
       "| NW |  9.5782376 |  520590.05 |\n",
       "| U1 | -1.9438082 |  133339.11 |\n",
       "| U2 |  1.9167880 |  162803.16 |\n",
       "| Wealth |  2.6613199 |  654055.84 |\n",
       "| Ineq |  1.6040415 |  208959.89 |\n",
       "| Prob |  8.3155853 |  743181.12 |\n",
       "| Time |  0.7126839 |  231615.22 |\n",
       "\n"
      ],
      "text/plain": [
       "       %IncMSE    IncNodePurity\n",
       "M       2.3965203  228719.50   \n",
       "So      2.6589225   23456.11   \n",
       "Ed      3.7141435  213283.48   \n",
       "Po1    12.4862109 1095484.85   \n",
       "Po2    11.0894307 1197840.76   \n",
       "LF      3.1325318  270248.43   \n",
       "M.F     1.7951798  232785.09   \n",
       "Pop     0.7784942  343523.34   \n",
       "NW      9.5782376  520590.05   \n",
       "U1     -1.9438082  133339.11   \n",
       "U2      1.9167880  162803.16   \n",
       "Wealth  2.6613199  654055.84   \n",
       "Ineq    1.6040415  208959.89   \n",
       "Prob    8.3155853  743181.12   \n",
       "Time    0.7126839  231615.22   "
      ]
     },
     "metadata": {},
     "output_type": "display_data"
    }
   ],
   "source": [
    "importance(forest_model )"
   ]
  },
  {
   "cell_type": "code",
   "execution_count": 24,
   "id": "a9844003",
   "metadata": {},
   "outputs": [
    {
     "data": {
      "image/png": "[encoded data removed]",
      "text/plain": [
       "plot without title"
      ]
     },
     "metadata": {
      "image/png": {
       "height": 420,
       "width": 420
      }
     },
     "output_type": "display_data"
    }
   ],
   "source": [
    "varImpPlot(forest_model )"
   ]
  },
  {
   "cell_type": "markdown",
   "id": "ee463a55",
   "metadata": {},
   "source": [
    "### Performance of Random Forest Model"
   ]
  },
  {
   "cell_type": "code",
   "execution_count": 25,
   "id": "89a9b831",
   "metadata": {},
   "outputs": [
    {
     "data": {
      "text/html": [
       "0.402966921582338"
      ],
      "text/latex": [
       "0.402966921582338"
      ],
      "text/markdown": [
       "0.402966921582338"
      ],
      "text/plain": [
       "[1] 0.4029669"
      ]
     },
     "metadata": {},
     "output_type": "display_data"
    }
   ],
   "source": [
    "forest_predict <- predict(forest_model)\n",
    "RSS <- sum((forest_predict-crime$Crime)^2)\n",
    "# the residual sum of squares\n",
    "TSS <- sum((mean(crime$Crime)-crime$Crime)^2)\n",
    "#the total sum of squares\n",
    "R_squared_forest<-1-(RSS/TSS) \n",
    "R_squared_forest"
   ]
  },
  {
   "cell_type": "code",
   "execution_count": 26,
   "id": "2e5b17d8",
   "metadata": {},
   "outputs": [
    {
     "data": {
      "image/png": "[encoded data removed]",
      "text/plain": [
       "Plot with title \"Random Forest: Residual vs. Fitted\""
      ]
     },
     "metadata": {
      "image/png": {
       "height": 420,
       "width": 420
      }
     },
     "output_type": "display_data"
    }
   ],
   "source": [
    "#residual analysis\n",
    "plot(crime$Crime, scale(forest_predict-crime$Crime), pch =19,main=\"Random Forest: Residual vs. Fitted\")\n",
    "abline(0,0)"
   ]
  },
  {
   "cell_type": "markdown",
   "id": "5e2a4a99",
   "metadata": {},
   "source": [
    "### Observations\n",
    "\n",
    "$R^2$ is 0.402966921582338 which is a good score"
   ]
  },
  {
   "cell_type": "markdown",
   "id": "ed29de78",
   "metadata": {},
   "source": [
    "---"
   ]
  },
  {
   "cell_type": "markdown",
   "id": "29d3815c",
   "metadata": {},
   "source": [
    "## Question 10.2\n",
    "\n",
    "Describe a situation or problem from your job, everyday life, current events, etc., for which a logistic regression model would be appropriate. List some (up to 5) predictors that you might use.\n"
   ]
  },
  {
   "cell_type": "markdown",
   "id": "39233667",
   "metadata": {},
   "source": [
    "As an educator, there are times when I need to decide if a student is suitable for an Arts or Science program. Although there are tests with numeric scores used to mesaure, there are other intangible factors that should also be taken into account for instance:\n",
    "\n",
    "1. Socio-economic factors\n",
    "2. Gender\n",
    "3. Race\n",
    "4. Next-of-kin aptitude in the subjects\n",
    "\n",
    "Such factors are categorical and would require logistic regression to model the response."
   ]
  },
  {
   "cell_type": "markdown",
   "id": "dd54962f",
   "metadata": {},
   "source": [
    "---"
   ]
  },
  {
   "cell_type": "markdown",
   "id": "a5b642ea",
   "metadata": {},
   "source": [
    "## Question 10.3\n",
    "\n",
    "1.\tUsing the GermanCredit data set germancredit.txt from http://archive.ics.uci.edu/ml/machine-learning-databases/statlog/german / (description at http://archive.ics.uci.edu/ml/datasets/Statlog+%28German+Credit+Data%29 ), use logistic regression to find a good predictive model for whether credit applicants are good credit risks or not.  Show your model (factors used and their coefficients), the software output, and the quality of fit.  You can use the glm function in R. To get a logistic regression (logit) model on data where the response is either zero or one, use family=binomial(link=”logit”) in your glm function call.\n",
    "\n",
    "2.\tBecause the model gives a result between 0 and 1, it requires setting a threshold probability to separate between “good” and “bad” answers.  In this data set, they estimate that incorrectly identifying a bad customer as good, is 5 times worse than incorrectly classifying a good customer as bad.  Determine a good threshold probability based on your model.\n"
   ]
  },
  {
   "cell_type": "markdown",
   "id": "6e3ab7a2",
   "metadata": {},
   "source": [
    "Source (Stat Quest): https://www.youtube.com/watch?v=C4N3_XJJ-jU"
   ]
  },
  {
   "cell_type": "code",
   "execution_count": 27,
   "id": "d47b811e",
   "metadata": {},
   "outputs": [],
   "source": [
    "credit <- read.table(\"germancredit.txt\",sep = \" \")"
   ]
  },
  {
   "cell_type": "code",
   "execution_count": 28,
   "id": "743df3cf",
   "metadata": {},
   "outputs": [
    {
     "data": {
      "text/html": [
       "<table class=\"dataframe\">\n",
       "<caption>A data.frame: 5 × 21</caption>\n",
       "<thead>\n",
       "\t<tr><th></th><th scope=col>V1</th><th scope=col>V2</th><th scope=col>V3</th><th scope=col>V4</th><th scope=col>V5</th><th scope=col>V6</th><th scope=col>V7</th><th scope=col>V8</th><th scope=col>V9</th><th scope=col>V10</th><th scope=col>⋯</th><th scope=col>V12</th><th scope=col>V13</th><th scope=col>V14</th><th scope=col>V15</th><th scope=col>V16</th><th scope=col>V17</th><th scope=col>V18</th><th scope=col>V19</th><th scope=col>V20</th><th scope=col>V21</th></tr>\n",
       "\t<tr><th></th><th scope=col>&lt;chr&gt;</th><th scope=col>&lt;int&gt;</th><th scope=col>&lt;chr&gt;</th><th scope=col>&lt;chr&gt;</th><th scope=col>&lt;int&gt;</th><th scope=col>&lt;chr&gt;</th><th scope=col>&lt;chr&gt;</th><th scope=col>&lt;int&gt;</th><th scope=col>&lt;chr&gt;</th><th scope=col>&lt;chr&gt;</th><th scope=col>⋯</th><th scope=col>&lt;chr&gt;</th><th scope=col>&lt;int&gt;</th><th scope=col>&lt;chr&gt;</th><th scope=col>&lt;chr&gt;</th><th scope=col>&lt;int&gt;</th><th scope=col>&lt;chr&gt;</th><th scope=col>&lt;int&gt;</th><th scope=col>&lt;chr&gt;</th><th scope=col>&lt;chr&gt;</th><th scope=col>&lt;int&gt;</th></tr>\n",
       "</thead>\n",
       "<tbody>\n",
       "\t<tr><th scope=row>1</th><td>A11</td><td> 6</td><td>A34</td><td>A43</td><td>1169</td><td>A65</td><td>A75</td><td>4</td><td>A93</td><td>A101</td><td>⋯</td><td>A121</td><td>67</td><td>A143</td><td>A152</td><td>2</td><td>A173</td><td>1</td><td>A192</td><td>A201</td><td>1</td></tr>\n",
       "\t<tr><th scope=row>2</th><td>A12</td><td>48</td><td>A32</td><td>A43</td><td>5951</td><td>A61</td><td>A73</td><td>2</td><td>A92</td><td>A101</td><td>⋯</td><td>A121</td><td>22</td><td>A143</td><td>A152</td><td>1</td><td>A173</td><td>1</td><td>A191</td><td>A201</td><td>2</td></tr>\n",
       "\t<tr><th scope=row>3</th><td>A14</td><td>12</td><td>A34</td><td>A46</td><td>2096</td><td>A61</td><td>A74</td><td>2</td><td>A93</td><td>A101</td><td>⋯</td><td>A121</td><td>49</td><td>A143</td><td>A152</td><td>1</td><td>A172</td><td>2</td><td>A191</td><td>A201</td><td>1</td></tr>\n",
       "\t<tr><th scope=row>4</th><td>A11</td><td>42</td><td>A32</td><td>A42</td><td>7882</td><td>A61</td><td>A74</td><td>2</td><td>A93</td><td>A103</td><td>⋯</td><td>A122</td><td>45</td><td>A143</td><td>A153</td><td>1</td><td>A173</td><td>2</td><td>A191</td><td>A201</td><td>1</td></tr>\n",
       "\t<tr><th scope=row>5</th><td>A11</td><td>24</td><td>A33</td><td>A40</td><td>4870</td><td>A61</td><td>A73</td><td>3</td><td>A93</td><td>A101</td><td>⋯</td><td>A124</td><td>53</td><td>A143</td><td>A153</td><td>2</td><td>A173</td><td>2</td><td>A191</td><td>A201</td><td>2</td></tr>\n",
       "</tbody>\n",
       "</table>\n"
      ],
      "text/latex": [
       "A data.frame: 5 × 21\n",
       "\\begin{tabular}{r|lllllllllllllllllllll}\n",
       "  & V1 & V2 & V3 & V4 & V5 & V6 & V7 & V8 & V9 & V10 & ⋯ & V12 & V13 & V14 & V15 & V16 & V17 & V18 & V19 & V20 & V21\\\\\n",
       "  & <chr> & <int> & <chr> & <chr> & <int> & <chr> & <chr> & <int> & <chr> & <chr> & ⋯ & <chr> & <int> & <chr> & <chr> & <int> & <chr> & <int> & <chr> & <chr> & <int>\\\\\n",
       "\\hline\n",
       "\t1 & A11 &  6 & A34 & A43 & 1169 & A65 & A75 & 4 & A93 & A101 & ⋯ & A121 & 67 & A143 & A152 & 2 & A173 & 1 & A192 & A201 & 1\\\\\n",
       "\t2 & A12 & 48 & A32 & A43 & 5951 & A61 & A73 & 2 & A92 & A101 & ⋯ & A121 & 22 & A143 & A152 & 1 & A173 & 1 & A191 & A201 & 2\\\\\n",
       "\t3 & A14 & 12 & A34 & A46 & 2096 & A61 & A74 & 2 & A93 & A101 & ⋯ & A121 & 49 & A143 & A152 & 1 & A172 & 2 & A191 & A201 & 1\\\\\n",
       "\t4 & A11 & 42 & A32 & A42 & 7882 & A61 & A74 & 2 & A93 & A103 & ⋯ & A122 & 45 & A143 & A153 & 1 & A173 & 2 & A191 & A201 & 1\\\\\n",
       "\t5 & A11 & 24 & A33 & A40 & 4870 & A61 & A73 & 3 & A93 & A101 & ⋯ & A124 & 53 & A143 & A153 & 2 & A173 & 2 & A191 & A201 & 2\\\\\n",
       "\\end{tabular}\n"
      ],
      "text/markdown": [
       "\n",
       "A data.frame: 5 × 21\n",
       "\n",
       "| <!--/--> | V1 &lt;chr&gt; | V2 &lt;int&gt; | V3 &lt;chr&gt; | V4 &lt;chr&gt; | V5 &lt;int&gt; | V6 &lt;chr&gt; | V7 &lt;chr&gt; | V8 &lt;int&gt; | V9 &lt;chr&gt; | V10 &lt;chr&gt; | ⋯ ⋯ | V12 &lt;chr&gt; | V13 &lt;int&gt; | V14 &lt;chr&gt; | V15 &lt;chr&gt; | V16 &lt;int&gt; | V17 &lt;chr&gt; | V18 &lt;int&gt; | V19 &lt;chr&gt; | V20 &lt;chr&gt; | V21 &lt;int&gt; |\n",
       "|---|---|---|---|---|---|---|---|---|---|---|---|---|---|---|---|---|---|---|---|---|---|\n",
       "| 1 | A11 |  6 | A34 | A43 | 1169 | A65 | A75 | 4 | A93 | A101 | ⋯ | A121 | 67 | A143 | A152 | 2 | A173 | 1 | A192 | A201 | 1 |\n",
       "| 2 | A12 | 48 | A32 | A43 | 5951 | A61 | A73 | 2 | A92 | A101 | ⋯ | A121 | 22 | A143 | A152 | 1 | A173 | 1 | A191 | A201 | 2 |\n",
       "| 3 | A14 | 12 | A34 | A46 | 2096 | A61 | A74 | 2 | A93 | A101 | ⋯ | A121 | 49 | A143 | A152 | 1 | A172 | 2 | A191 | A201 | 1 |\n",
       "| 4 | A11 | 42 | A32 | A42 | 7882 | A61 | A74 | 2 | A93 | A103 | ⋯ | A122 | 45 | A143 | A153 | 1 | A173 | 2 | A191 | A201 | 1 |\n",
       "| 5 | A11 | 24 | A33 | A40 | 4870 | A61 | A73 | 3 | A93 | A101 | ⋯ | A124 | 53 | A143 | A153 | 2 | A173 | 2 | A191 | A201 | 2 |\n",
       "\n"
      ],
      "text/plain": [
       "  V1  V2 V3  V4  V5   V6  V7  V8 V9  V10  ⋯ V12  V13 V14  V15  V16 V17  V18\n",
       "1 A11  6 A34 A43 1169 A65 A75 4  A93 A101 ⋯ A121 67  A143 A152 2   A173 1  \n",
       "2 A12 48 A32 A43 5951 A61 A73 2  A92 A101 ⋯ A121 22  A143 A152 1   A173 1  \n",
       "3 A14 12 A34 A46 2096 A61 A74 2  A93 A101 ⋯ A121 49  A143 A152 1   A172 2  \n",
       "4 A11 42 A32 A42 7882 A61 A74 2  A93 A103 ⋯ A122 45  A143 A153 1   A173 2  \n",
       "5 A11 24 A33 A40 4870 A61 A73 3  A93 A101 ⋯ A124 53  A143 A153 2   A173 2  \n",
       "  V19  V20  V21\n",
       "1 A192 A201 1  \n",
       "2 A191 A201 2  \n",
       "3 A191 A201 1  \n",
       "4 A191 A201 1  \n",
       "5 A191 A201 2  "
      ]
     },
     "metadata": {},
     "output_type": "display_data"
    }
   ],
   "source": [
    "head(credit,5)"
   ]
  },
  {
   "cell_type": "markdown",
   "id": "f1acd8f7",
   "metadata": {},
   "source": [
    "#### One-Hot Encode the Response Variable"
   ]
  },
  {
   "cell_type": "code",
   "execution_count": 33,
   "id": "d125b4f7",
   "metadata": {},
   "outputs": [],
   "source": [
    "set.seed(1)\n",
    "credit_onehot <- one_hot(as.data.table(credit))\n",
    "#one hot encoding the categorical variables"
   ]
  },
  {
   "cell_type": "code",
   "execution_count": 34,
   "id": "4bc540ae",
   "metadata": {},
   "outputs": [
    {
     "data": {
      "text/html": [
       "<table class=\"dataframe\">\n",
       "<caption>A data.table: 6 × 21</caption>\n",
       "<thead>\n",
       "\t<tr><th scope=col>V1</th><th scope=col>V2</th><th scope=col>V3</th><th scope=col>V4</th><th scope=col>V5</th><th scope=col>V6</th><th scope=col>V7</th><th scope=col>V8</th><th scope=col>V9</th><th scope=col>V10</th><th scope=col>⋯</th><th scope=col>V12</th><th scope=col>V13</th><th scope=col>V14</th><th scope=col>V15</th><th scope=col>V16</th><th scope=col>V17</th><th scope=col>V18</th><th scope=col>V19</th><th scope=col>V20</th><th scope=col>V21</th></tr>\n",
       "\t<tr><th scope=col>&lt;chr&gt;</th><th scope=col>&lt;int&gt;</th><th scope=col>&lt;chr&gt;</th><th scope=col>&lt;chr&gt;</th><th scope=col>&lt;int&gt;</th><th scope=col>&lt;chr&gt;</th><th scope=col>&lt;chr&gt;</th><th scope=col>&lt;int&gt;</th><th scope=col>&lt;chr&gt;</th><th scope=col>&lt;chr&gt;</th><th scope=col>⋯</th><th scope=col>&lt;chr&gt;</th><th scope=col>&lt;int&gt;</th><th scope=col>&lt;chr&gt;</th><th scope=col>&lt;chr&gt;</th><th scope=col>&lt;int&gt;</th><th scope=col>&lt;chr&gt;</th><th scope=col>&lt;int&gt;</th><th scope=col>&lt;chr&gt;</th><th scope=col>&lt;chr&gt;</th><th scope=col>&lt;int&gt;</th></tr>\n",
       "</thead>\n",
       "<tbody>\n",
       "\t<tr><td>A11</td><td> 6</td><td>A34</td><td>A43</td><td>1169</td><td>A65</td><td>A75</td><td>4</td><td>A93</td><td>A101</td><td>⋯</td><td>A121</td><td>67</td><td>A143</td><td>A152</td><td>2</td><td>A173</td><td>1</td><td>A192</td><td>A201</td><td>1</td></tr>\n",
       "\t<tr><td>A12</td><td>48</td><td>A32</td><td>A43</td><td>5951</td><td>A61</td><td>A73</td><td>2</td><td>A92</td><td>A101</td><td>⋯</td><td>A121</td><td>22</td><td>A143</td><td>A152</td><td>1</td><td>A173</td><td>1</td><td>A191</td><td>A201</td><td>2</td></tr>\n",
       "\t<tr><td>A14</td><td>12</td><td>A34</td><td>A46</td><td>2096</td><td>A61</td><td>A74</td><td>2</td><td>A93</td><td>A101</td><td>⋯</td><td>A121</td><td>49</td><td>A143</td><td>A152</td><td>1</td><td>A172</td><td>2</td><td>A191</td><td>A201</td><td>1</td></tr>\n",
       "\t<tr><td>A11</td><td>42</td><td>A32</td><td>A42</td><td>7882</td><td>A61</td><td>A74</td><td>2</td><td>A93</td><td>A103</td><td>⋯</td><td>A122</td><td>45</td><td>A143</td><td>A153</td><td>1</td><td>A173</td><td>2</td><td>A191</td><td>A201</td><td>1</td></tr>\n",
       "\t<tr><td>A11</td><td>24</td><td>A33</td><td>A40</td><td>4870</td><td>A61</td><td>A73</td><td>3</td><td>A93</td><td>A101</td><td>⋯</td><td>A124</td><td>53</td><td>A143</td><td>A153</td><td>2</td><td>A173</td><td>2</td><td>A191</td><td>A201</td><td>2</td></tr>\n",
       "\t<tr><td>A14</td><td>36</td><td>A32</td><td>A46</td><td>9055</td><td>A65</td><td>A73</td><td>2</td><td>A93</td><td>A101</td><td>⋯</td><td>A124</td><td>35</td><td>A143</td><td>A153</td><td>1</td><td>A172</td><td>2</td><td>A192</td><td>A201</td><td>1</td></tr>\n",
       "</tbody>\n",
       "</table>\n"
      ],
      "text/latex": [
       "A data.table: 6 × 21\n",
       "\\begin{tabular}{lllllllllllllllllllll}\n",
       " V1 & V2 & V3 & V4 & V5 & V6 & V7 & V8 & V9 & V10 & ⋯ & V12 & V13 & V14 & V15 & V16 & V17 & V18 & V19 & V20 & V21\\\\\n",
       " <chr> & <int> & <chr> & <chr> & <int> & <chr> & <chr> & <int> & <chr> & <chr> & ⋯ & <chr> & <int> & <chr> & <chr> & <int> & <chr> & <int> & <chr> & <chr> & <int>\\\\\n",
       "\\hline\n",
       "\t A11 &  6 & A34 & A43 & 1169 & A65 & A75 & 4 & A93 & A101 & ⋯ & A121 & 67 & A143 & A152 & 2 & A173 & 1 & A192 & A201 & 1\\\\\n",
       "\t A12 & 48 & A32 & A43 & 5951 & A61 & A73 & 2 & A92 & A101 & ⋯ & A121 & 22 & A143 & A152 & 1 & A173 & 1 & A191 & A201 & 2\\\\\n",
       "\t A14 & 12 & A34 & A46 & 2096 & A61 & A74 & 2 & A93 & A101 & ⋯ & A121 & 49 & A143 & A152 & 1 & A172 & 2 & A191 & A201 & 1\\\\\n",
       "\t A11 & 42 & A32 & A42 & 7882 & A61 & A74 & 2 & A93 & A103 & ⋯ & A122 & 45 & A143 & A153 & 1 & A173 & 2 & A191 & A201 & 1\\\\\n",
       "\t A11 & 24 & A33 & A40 & 4870 & A61 & A73 & 3 & A93 & A101 & ⋯ & A124 & 53 & A143 & A153 & 2 & A173 & 2 & A191 & A201 & 2\\\\\n",
       "\t A14 & 36 & A32 & A46 & 9055 & A65 & A73 & 2 & A93 & A101 & ⋯ & A124 & 35 & A143 & A153 & 1 & A172 & 2 & A192 & A201 & 1\\\\\n",
       "\\end{tabular}\n"
      ],
      "text/markdown": [
       "\n",
       "A data.table: 6 × 21\n",
       "\n",
       "| V1 &lt;chr&gt; | V2 &lt;int&gt; | V3 &lt;chr&gt; | V4 &lt;chr&gt; | V5 &lt;int&gt; | V6 &lt;chr&gt; | V7 &lt;chr&gt; | V8 &lt;int&gt; | V9 &lt;chr&gt; | V10 &lt;chr&gt; | ⋯ ⋯ | V12 &lt;chr&gt; | V13 &lt;int&gt; | V14 &lt;chr&gt; | V15 &lt;chr&gt; | V16 &lt;int&gt; | V17 &lt;chr&gt; | V18 &lt;int&gt; | V19 &lt;chr&gt; | V20 &lt;chr&gt; | V21 &lt;int&gt; |\n",
       "|---|---|---|---|---|---|---|---|---|---|---|---|---|---|---|---|---|---|---|---|---|\n",
       "| A11 |  6 | A34 | A43 | 1169 | A65 | A75 | 4 | A93 | A101 | ⋯ | A121 | 67 | A143 | A152 | 2 | A173 | 1 | A192 | A201 | 1 |\n",
       "| A12 | 48 | A32 | A43 | 5951 | A61 | A73 | 2 | A92 | A101 | ⋯ | A121 | 22 | A143 | A152 | 1 | A173 | 1 | A191 | A201 | 2 |\n",
       "| A14 | 12 | A34 | A46 | 2096 | A61 | A74 | 2 | A93 | A101 | ⋯ | A121 | 49 | A143 | A152 | 1 | A172 | 2 | A191 | A201 | 1 |\n",
       "| A11 | 42 | A32 | A42 | 7882 | A61 | A74 | 2 | A93 | A103 | ⋯ | A122 | 45 | A143 | A153 | 1 | A173 | 2 | A191 | A201 | 1 |\n",
       "| A11 | 24 | A33 | A40 | 4870 | A61 | A73 | 3 | A93 | A101 | ⋯ | A124 | 53 | A143 | A153 | 2 | A173 | 2 | A191 | A201 | 2 |\n",
       "| A14 | 36 | A32 | A46 | 9055 | A65 | A73 | 2 | A93 | A101 | ⋯ | A124 | 35 | A143 | A153 | 1 | A172 | 2 | A192 | A201 | 1 |\n",
       "\n"
      ],
      "text/plain": [
       "  V1  V2 V3  V4  V5   V6  V7  V8 V9  V10  ⋯ V12  V13 V14  V15  V16 V17  V18\n",
       "1 A11  6 A34 A43 1169 A65 A75 4  A93 A101 ⋯ A121 67  A143 A152 2   A173 1  \n",
       "2 A12 48 A32 A43 5951 A61 A73 2  A92 A101 ⋯ A121 22  A143 A152 1   A173 1  \n",
       "3 A14 12 A34 A46 2096 A61 A74 2  A93 A101 ⋯ A121 49  A143 A152 1   A172 2  \n",
       "4 A11 42 A32 A42 7882 A61 A74 2  A93 A103 ⋯ A122 45  A143 A153 1   A173 2  \n",
       "5 A11 24 A33 A40 4870 A61 A73 3  A93 A101 ⋯ A124 53  A143 A153 2   A173 2  \n",
       "6 A14 36 A32 A46 9055 A65 A73 2  A93 A101 ⋯ A124 35  A143 A153 1   A172 2  \n",
       "  V19  V20  V21\n",
       "1 A192 A201 1  \n",
       "2 A191 A201 2  \n",
       "3 A191 A201 1  \n",
       "4 A191 A201 1  \n",
       "5 A191 A201 2  \n",
       "6 A192 A201 1  "
      ]
     },
     "metadata": {},
     "output_type": "display_data"
    }
   ],
   "source": [
    "head(credit_onehot)"
   ]
  },
  {
   "cell_type": "code",
   "execution_count": 35,
   "id": "4a71dc81",
   "metadata": {},
   "outputs": [],
   "source": [
    "credit_onehot$V21[credit_onehot$V21==1]<-0\n",
    "credit_onehot$V21[credit_onehot$V21==2]<-1"
   ]
  },
  {
   "cell_type": "markdown",
   "id": "cf204764",
   "metadata": {},
   "source": [
    "In the data dictionary [http://archive.ics.uci.edu/ml/datasets/Statlog+%28German+Credit+Data%29] \n",
    "\n",
    "1 = Good, 2 = Bad\n",
    "\n",
    "Our one-hot encoding makes \n",
    "\n",
    "0 = Good and 1 = Bad"
   ]
  },
  {
   "cell_type": "code",
   "execution_count": 36,
   "id": "0372399e",
   "metadata": {},
   "outputs": [
    {
     "data": {
      "text/html": [
       "<table class=\"dataframe\">\n",
       "<caption>A data.table: 6 × 21</caption>\n",
       "<thead>\n",
       "\t<tr><th scope=col>V1</th><th scope=col>V2</th><th scope=col>V3</th><th scope=col>V4</th><th scope=col>V5</th><th scope=col>V6</th><th scope=col>V7</th><th scope=col>V8</th><th scope=col>V9</th><th scope=col>V10</th><th scope=col>⋯</th><th scope=col>V12</th><th scope=col>V13</th><th scope=col>V14</th><th scope=col>V15</th><th scope=col>V16</th><th scope=col>V17</th><th scope=col>V18</th><th scope=col>V19</th><th scope=col>V20</th><th scope=col>V21</th></tr>\n",
       "\t<tr><th scope=col>&lt;chr&gt;</th><th scope=col>&lt;int&gt;</th><th scope=col>&lt;chr&gt;</th><th scope=col>&lt;chr&gt;</th><th scope=col>&lt;int&gt;</th><th scope=col>&lt;chr&gt;</th><th scope=col>&lt;chr&gt;</th><th scope=col>&lt;int&gt;</th><th scope=col>&lt;chr&gt;</th><th scope=col>&lt;chr&gt;</th><th scope=col>⋯</th><th scope=col>&lt;chr&gt;</th><th scope=col>&lt;int&gt;</th><th scope=col>&lt;chr&gt;</th><th scope=col>&lt;chr&gt;</th><th scope=col>&lt;int&gt;</th><th scope=col>&lt;chr&gt;</th><th scope=col>&lt;int&gt;</th><th scope=col>&lt;chr&gt;</th><th scope=col>&lt;chr&gt;</th><th scope=col>&lt;dbl&gt;</th></tr>\n",
       "</thead>\n",
       "<tbody>\n",
       "\t<tr><td>A11</td><td> 6</td><td>A34</td><td>A43</td><td>1169</td><td>A65</td><td>A75</td><td>4</td><td>A93</td><td>A101</td><td>⋯</td><td>A121</td><td>67</td><td>A143</td><td>A152</td><td>2</td><td>A173</td><td>1</td><td>A192</td><td>A201</td><td>0</td></tr>\n",
       "\t<tr><td>A12</td><td>48</td><td>A32</td><td>A43</td><td>5951</td><td>A61</td><td>A73</td><td>2</td><td>A92</td><td>A101</td><td>⋯</td><td>A121</td><td>22</td><td>A143</td><td>A152</td><td>1</td><td>A173</td><td>1</td><td>A191</td><td>A201</td><td>1</td></tr>\n",
       "\t<tr><td>A14</td><td>12</td><td>A34</td><td>A46</td><td>2096</td><td>A61</td><td>A74</td><td>2</td><td>A93</td><td>A101</td><td>⋯</td><td>A121</td><td>49</td><td>A143</td><td>A152</td><td>1</td><td>A172</td><td>2</td><td>A191</td><td>A201</td><td>0</td></tr>\n",
       "\t<tr><td>A11</td><td>42</td><td>A32</td><td>A42</td><td>7882</td><td>A61</td><td>A74</td><td>2</td><td>A93</td><td>A103</td><td>⋯</td><td>A122</td><td>45</td><td>A143</td><td>A153</td><td>1</td><td>A173</td><td>2</td><td>A191</td><td>A201</td><td>0</td></tr>\n",
       "\t<tr><td>A11</td><td>24</td><td>A33</td><td>A40</td><td>4870</td><td>A61</td><td>A73</td><td>3</td><td>A93</td><td>A101</td><td>⋯</td><td>A124</td><td>53</td><td>A143</td><td>A153</td><td>2</td><td>A173</td><td>2</td><td>A191</td><td>A201</td><td>1</td></tr>\n",
       "\t<tr><td>A14</td><td>36</td><td>A32</td><td>A46</td><td>9055</td><td>A65</td><td>A73</td><td>2</td><td>A93</td><td>A101</td><td>⋯</td><td>A124</td><td>35</td><td>A143</td><td>A153</td><td>1</td><td>A172</td><td>2</td><td>A192</td><td>A201</td><td>0</td></tr>\n",
       "</tbody>\n",
       "</table>\n"
      ],
      "text/latex": [
       "A data.table: 6 × 21\n",
       "\\begin{tabular}{lllllllllllllllllllll}\n",
       " V1 & V2 & V3 & V4 & V5 & V6 & V7 & V8 & V9 & V10 & ⋯ & V12 & V13 & V14 & V15 & V16 & V17 & V18 & V19 & V20 & V21\\\\\n",
       " <chr> & <int> & <chr> & <chr> & <int> & <chr> & <chr> & <int> & <chr> & <chr> & ⋯ & <chr> & <int> & <chr> & <chr> & <int> & <chr> & <int> & <chr> & <chr> & <dbl>\\\\\n",
       "\\hline\n",
       "\t A11 &  6 & A34 & A43 & 1169 & A65 & A75 & 4 & A93 & A101 & ⋯ & A121 & 67 & A143 & A152 & 2 & A173 & 1 & A192 & A201 & 0\\\\\n",
       "\t A12 & 48 & A32 & A43 & 5951 & A61 & A73 & 2 & A92 & A101 & ⋯ & A121 & 22 & A143 & A152 & 1 & A173 & 1 & A191 & A201 & 1\\\\\n",
       "\t A14 & 12 & A34 & A46 & 2096 & A61 & A74 & 2 & A93 & A101 & ⋯ & A121 & 49 & A143 & A152 & 1 & A172 & 2 & A191 & A201 & 0\\\\\n",
       "\t A11 & 42 & A32 & A42 & 7882 & A61 & A74 & 2 & A93 & A103 & ⋯ & A122 & 45 & A143 & A153 & 1 & A173 & 2 & A191 & A201 & 0\\\\\n",
       "\t A11 & 24 & A33 & A40 & 4870 & A61 & A73 & 3 & A93 & A101 & ⋯ & A124 & 53 & A143 & A153 & 2 & A173 & 2 & A191 & A201 & 1\\\\\n",
       "\t A14 & 36 & A32 & A46 & 9055 & A65 & A73 & 2 & A93 & A101 & ⋯ & A124 & 35 & A143 & A153 & 1 & A172 & 2 & A192 & A201 & 0\\\\\n",
       "\\end{tabular}\n"
      ],
      "text/markdown": [
       "\n",
       "A data.table: 6 × 21\n",
       "\n",
       "| V1 &lt;chr&gt; | V2 &lt;int&gt; | V3 &lt;chr&gt; | V4 &lt;chr&gt; | V5 &lt;int&gt; | V6 &lt;chr&gt; | V7 &lt;chr&gt; | V8 &lt;int&gt; | V9 &lt;chr&gt; | V10 &lt;chr&gt; | ⋯ ⋯ | V12 &lt;chr&gt; | V13 &lt;int&gt; | V14 &lt;chr&gt; | V15 &lt;chr&gt; | V16 &lt;int&gt; | V17 &lt;chr&gt; | V18 &lt;int&gt; | V19 &lt;chr&gt; | V20 &lt;chr&gt; | V21 &lt;dbl&gt; |\n",
       "|---|---|---|---|---|---|---|---|---|---|---|---|---|---|---|---|---|---|---|---|---|\n",
       "| A11 |  6 | A34 | A43 | 1169 | A65 | A75 | 4 | A93 | A101 | ⋯ | A121 | 67 | A143 | A152 | 2 | A173 | 1 | A192 | A201 | 0 |\n",
       "| A12 | 48 | A32 | A43 | 5951 | A61 | A73 | 2 | A92 | A101 | ⋯ | A121 | 22 | A143 | A152 | 1 | A173 | 1 | A191 | A201 | 1 |\n",
       "| A14 | 12 | A34 | A46 | 2096 | A61 | A74 | 2 | A93 | A101 | ⋯ | A121 | 49 | A143 | A152 | 1 | A172 | 2 | A191 | A201 | 0 |\n",
       "| A11 | 42 | A32 | A42 | 7882 | A61 | A74 | 2 | A93 | A103 | ⋯ | A122 | 45 | A143 | A153 | 1 | A173 | 2 | A191 | A201 | 0 |\n",
       "| A11 | 24 | A33 | A40 | 4870 | A61 | A73 | 3 | A93 | A101 | ⋯ | A124 | 53 | A143 | A153 | 2 | A173 | 2 | A191 | A201 | 1 |\n",
       "| A14 | 36 | A32 | A46 | 9055 | A65 | A73 | 2 | A93 | A101 | ⋯ | A124 | 35 | A143 | A153 | 1 | A172 | 2 | A192 | A201 | 0 |\n",
       "\n"
      ],
      "text/plain": [
       "  V1  V2 V3  V4  V5   V6  V7  V8 V9  V10  ⋯ V12  V13 V14  V15  V16 V17  V18\n",
       "1 A11  6 A34 A43 1169 A65 A75 4  A93 A101 ⋯ A121 67  A143 A152 2   A173 1  \n",
       "2 A12 48 A32 A43 5951 A61 A73 2  A92 A101 ⋯ A121 22  A143 A152 1   A173 1  \n",
       "3 A14 12 A34 A46 2096 A61 A74 2  A93 A101 ⋯ A121 49  A143 A152 1   A172 2  \n",
       "4 A11 42 A32 A42 7882 A61 A74 2  A93 A103 ⋯ A122 45  A143 A153 1   A173 2  \n",
       "5 A11 24 A33 A40 4870 A61 A73 3  A93 A101 ⋯ A124 53  A143 A153 2   A173 2  \n",
       "6 A14 36 A32 A46 9055 A65 A73 2  A93 A101 ⋯ A124 35  A143 A153 1   A172 2  \n",
       "  V19  V20  V21\n",
       "1 A192 A201 0  \n",
       "2 A191 A201 1  \n",
       "3 A191 A201 0  \n",
       "4 A191 A201 0  \n",
       "5 A191 A201 1  \n",
       "6 A192 A201 0  "
      ]
     },
     "metadata": {},
     "output_type": "display_data"
    }
   ],
   "source": [
    "head(credit_onehot)"
   ]
  },
  {
   "cell_type": "code",
   "execution_count": 37,
   "id": "10912c3a",
   "metadata": {},
   "outputs": [],
   "source": [
    "logistic <- glm(V21~.,data=credit_onehot, family=\"binomial\")"
   ]
  },
  {
   "cell_type": "code",
   "execution_count": 39,
   "id": "879af1ac",
   "metadata": {},
   "outputs": [
    {
     "data": {
      "text/plain": [
       "\n",
       "Call:\n",
       "glm(formula = V21 ~ ., family = \"binomial\", data = credit_onehot)\n",
       "\n",
       "Deviance Residuals: \n",
       "    Min       1Q   Median       3Q      Max  \n",
       "-2.3410  -0.6994  -0.3752   0.7095   2.6116  \n",
       "\n",
       "Coefficients:\n",
       "              Estimate Std. Error z value Pr(>|z|)    \n",
       "(Intercept)  4.005e-01  1.084e+00   0.369 0.711869    \n",
       "V1A12       -3.749e-01  2.179e-01  -1.720 0.085400 .  \n",
       "V1A13       -9.657e-01  3.692e-01  -2.616 0.008905 ** \n",
       "V1A14       -1.712e+00  2.322e-01  -7.373 1.66e-13 ***\n",
       "V2           2.786e-02  9.296e-03   2.997 0.002724 ** \n",
       "V3A31        1.434e-01  5.489e-01   0.261 0.793921    \n",
       "V3A32       -5.861e-01  4.305e-01  -1.362 0.173348    \n",
       "V3A33       -8.532e-01  4.717e-01  -1.809 0.070470 .  \n",
       "V3A34       -1.436e+00  4.399e-01  -3.264 0.001099 ** \n",
       "V4A41       -1.666e+00  3.743e-01  -4.452 8.51e-06 ***\n",
       "V4A410      -1.489e+00  7.764e-01  -1.918 0.055163 .  \n",
       "V4A42       -7.916e-01  2.610e-01  -3.033 0.002421 ** \n",
       "V4A43       -8.916e-01  2.471e-01  -3.609 0.000308 ***\n",
       "V4A44       -5.228e-01  7.623e-01  -0.686 0.492831    \n",
       "V4A45       -2.164e-01  5.500e-01  -0.393 0.694000    \n",
       "V4A46        3.628e-02  3.965e-01   0.092 0.927082    \n",
       "V4A48       -2.059e+00  1.212e+00  -1.699 0.089297 .  \n",
       "V4A49       -7.401e-01  3.339e-01  -2.216 0.026668 *  \n",
       "V5           1.283e-04  4.444e-05   2.887 0.003894 ** \n",
       "V6A62       -3.577e-01  2.861e-01  -1.250 0.211130    \n",
       "V6A63       -3.761e-01  4.011e-01  -0.938 0.348476    \n",
       "V6A64       -1.339e+00  5.249e-01  -2.551 0.010729 *  \n",
       "V6A65       -9.467e-01  2.625e-01  -3.607 0.000310 ***\n",
       "V7A72       -6.691e-02  4.270e-01  -0.157 0.875475    \n",
       "V7A73       -1.828e-01  4.105e-01  -0.445 0.656049    \n",
       "V7A74       -8.310e-01  4.455e-01  -1.866 0.062110 .  \n",
       "V7A75       -2.766e-01  4.134e-01  -0.669 0.503410    \n",
       "V8           3.301e-01  8.828e-02   3.739 0.000185 ***\n",
       "V9A92       -2.755e-01  3.865e-01  -0.713 0.476040    \n",
       "V9A93       -8.161e-01  3.799e-01  -2.148 0.031718 *  \n",
       "V9A94       -3.671e-01  4.537e-01  -0.809 0.418448    \n",
       "V10A102      4.360e-01  4.101e-01   1.063 0.287700    \n",
       "V10A103     -9.786e-01  4.243e-01  -2.307 0.021072 *  \n",
       "V11          4.776e-03  8.641e-02   0.055 0.955920    \n",
       "V12A122      2.814e-01  2.534e-01   1.111 0.266630    \n",
       "V12A123      1.945e-01  2.360e-01   0.824 0.409743    \n",
       "V12A124      7.304e-01  4.245e-01   1.721 0.085308 .  \n",
       "V13         -1.454e-02  9.222e-03  -1.576 0.114982    \n",
       "V14A142     -1.232e-01  4.119e-01  -0.299 0.764878    \n",
       "V14A143     -6.463e-01  2.391e-01  -2.703 0.006871 ** \n",
       "V15A152     -4.436e-01  2.347e-01  -1.890 0.058715 .  \n",
       "V15A153     -6.839e-01  4.770e-01  -1.434 0.151657    \n",
       "V16          2.721e-01  1.895e-01   1.436 0.151109    \n",
       "V17A172      5.361e-01  6.796e-01   0.789 0.430160    \n",
       "V17A173      5.547e-01  6.549e-01   0.847 0.397015    \n",
       "V17A174      4.795e-01  6.623e-01   0.724 0.469086    \n",
       "V18          2.647e-01  2.492e-01   1.062 0.288249    \n",
       "V19A192     -3.000e-01  2.013e-01  -1.491 0.136060    \n",
       "V20A202     -1.392e+00  6.258e-01  -2.225 0.026095 *  \n",
       "---\n",
       "Signif. codes:  0 '***' 0.001 '**' 0.01 '*' 0.05 '.' 0.1 ' ' 1\n",
       "\n",
       "(Dispersion parameter for binomial family taken to be 1)\n",
       "\n",
       "    Null deviance: 1221.73  on 999  degrees of freedom\n",
       "Residual deviance:  895.82  on 951  degrees of freedom\n",
       "AIC: 993.82\n",
       "\n",
       "Number of Fisher Scoring iterations: 5\n"
      ]
     },
     "metadata": {},
     "output_type": "display_data"
    }
   ],
   "source": [
    "summary(logistic) # pay attention to the coefficients"
   ]
  },
  {
   "cell_type": "markdown",
   "id": "8137c4cd",
   "metadata": {},
   "source": [
    "For the factors whose p-values are below 0.05, the log(odds) and log(odds ratios) are both statistically significant."
   ]
  },
  {
   "cell_type": "markdown",
   "id": "45df05e3",
   "metadata": {},
   "source": [
    "AIC (Akaike Information Criterion) is 993.82 which in this context is just the Residual Deviance adjusted for the number of parameters in the model.\n",
    "\n",
    "AIC can be used to compare one model to another."
   ]
  },
  {
   "cell_type": "markdown",
   "id": "7afa92cc",
   "metadata": {},
   "source": [
    "#### Model Evaluation - Pseudo $R^2$\n",
    "\n",
    "Source (Stat Quest): https://www.youtube.com/watch?v=C4N3_XJJ-jU"
   ]
  },
  {
   "cell_type": "code",
   "execution_count": 40,
   "id": "6187f0cb",
   "metadata": {},
   "outputs": [
    {
     "data": {
      "text/html": [
       "0.266762043171136"
      ],
      "text/latex": [
       "0.266762043171136"
      ],
      "text/markdown": [
       "0.266762043171136"
      ],
      "text/plain": [
       "[1] 0.266762"
      ]
     },
     "metadata": {},
     "output_type": "display_data"
    }
   ],
   "source": [
    "ll.null<-logistic$null.deviance/-2\n",
    "ll.proposed<-logistic$deviance/-2\n",
    "(ll.null-ll.proposed)/ll.null"
   ]
  },
  {
   "cell_type": "markdown",
   "id": "6a3cfe9d",
   "metadata": {},
   "source": [
    "The Pseudo $R^2$ can be interpreted as the overall effect size"
   ]
  },
  {
   "cell_type": "code",
   "execution_count": 43,
   "id": "b673514b",
   "metadata": {},
   "outputs": [
    {
     "data": {
      "text/html": [
       "0"
      ],
      "text/latex": [
       "0"
      ],
      "text/markdown": [
       "0"
      ],
      "text/plain": [
       "[1] 0"
      ]
     },
     "metadata": {},
     "output_type": "display_data"
    }
   ],
   "source": [
    "1-pchisq(2*(ll.proposed-ll.null),df=(length(logistic$coefficients)-1))"
   ]
  },
  {
   "cell_type": "markdown",
   "id": "df6396d1",
   "metadata": {},
   "source": [
    "In this case the p-value is tiny, so the $R^2$ calue isn't due to randomness."
   ]
  },
  {
   "cell_type": "markdown",
   "id": "5955be0f",
   "metadata": {},
   "source": [
    "#### Logistic Curve"
   ]
  },
  {
   "cell_type": "code",
   "execution_count": 45,
   "id": "9cb249e7",
   "metadata": {},
   "outputs": [],
   "source": [
    "predicted.data<-data.frame(probability.of.credit=logistic$fitted.values,credit=credit_onehot$V21)"
   ]
  },
  {
   "cell_type": "code",
   "execution_count": 46,
   "id": "fd33fb92",
   "metadata": {},
   "outputs": [],
   "source": [
    "predicted.data<-predicted.data[order(predicted.data$probability.of.credit,decreasing=FALSE),]"
   ]
  },
  {
   "cell_type": "code",
   "execution_count": 47,
   "id": "9876fd9b",
   "metadata": {},
   "outputs": [],
   "source": [
    "predicted.data$rank<-1:nrow(predicted.data)"
   ]
  },
  {
   "cell_type": "code",
   "execution_count": 55,
   "id": "40d6f984",
   "metadata": {},
   "outputs": [
    {
     "data": {
      "image/png": "[encoded data removed]",
      "text/plain": [
       "plot without title"
      ]
     },
     "metadata": {
      "image/png": {
       "height": 420,
       "width": 420
      }
     },
     "output_type": "display_data"
    }
   ],
   "source": [
    "ggplot(data=predicted.data,aes(x=rank,y=probability.of.credit))+geom_point(aes(color=credit),alpha=1,shape=4,stroke=2)+xlab(\"Index\")+ylab(\"Predicted probability of credit score\")"
   ]
  },
  {
   "cell_type": "markdown",
   "id": "febe5ab6",
   "metadata": {},
   "source": [
    "#### Conclusions"
   ]
  },
  {
   "cell_type": "markdown",
   "id": "478194e6",
   "metadata": {},
   "source": [
    "We recall that 0 = Good and 1 = Bad.\n",
    ".\n",
    "It will cost more for the bank to give loans to individuals with bad credit. To ensure that, I will make the threshold for classification to be less than 0.50."
   ]
  },
  {
   "cell_type": "markdown",
   "id": "efc9fc86",
   "metadata": {},
   "source": [
    "---"
   ]
  }
 ],
 "metadata": {
  "kernelspec": {
   "display_name": "R",
   "language": "R",
   "name": "ir"
  },
  "language_info": {
   "codemirror_mode": "r",
   "file_extension": ".r",
   "mimetype": "text/x-r-source",
   "name": "R",
   "pygments_lexer": "r",
   "version": "4.2.2"
  }
 },
 "nbformat": 4,
 "nbformat_minor": 5
}
